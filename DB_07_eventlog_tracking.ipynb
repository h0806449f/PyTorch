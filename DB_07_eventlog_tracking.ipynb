{
  "nbformat": 4,
  "nbformat_minor": 0,
  "metadata": {
    "colab": {
      "provenance": [],
      "collapsed_sections": [
        "2vgfMyDxBypp",
        "N9uSdZuWDDqO",
        "Fh0qsvA8Dj-h",
        "I_-xasmaPGon",
        "5ON2OOzyQHYo",
        "96v_9jYkS7lR",
        "2VpG3bmOUEQS",
        "nvxuhDVdUJHT",
        "o5FoDNkdU9TR",
        "Z-guokqiXJNf"
      ],
      "toc_visible": true,
      "authorship_tag": "ABX9TyOn4cnZtx7YBLMM+Iz09StW",
      "include_colab_link": true
    },
    "kernelspec": {
      "name": "python3",
      "display_name": "Python 3"
    },
    "language_info": {
      "name": "python"
    }
  },
  "cells": [
    {
      "cell_type": "markdown",
      "metadata": {
        "id": "view-in-github",
        "colab_type": "text"
      },
      "source": [
        "<a href=\"https://colab.research.google.com/github/h0806449f/PyTorch/blob/main/DB_07_eventlog_tracking.ipynb\" target=\"_parent\"><img src=\"https://colab.research.google.com/assets/colab-badge.svg\" alt=\"Open In Colab\"/></a>"
      ]
    },
    {
      "cell_type": "markdown",
      "source": [
        "# **=== 0. 簡介 ===**\n",
        "1. Data, dataset, dataloader\n",
        "2. Customize pre-train model\n",
        "3. Train model and track result\n",
        "4. View result\n",
        "5. Set multiple model experiments\n",
        "6. Check multiple results at once\n",
        "7. Load best model and make prediction"
      ],
      "metadata": {
        "id": "8VCYZhZ9AiIk"
      }
    },
    {
      "cell_type": "markdown",
      "source": [
        "# **=== 1. Data, dataset, dataloader ===**\n"
      ],
      "metadata": {
        "id": "2vgfMyDxBypp"
      }
    },
    {
      "cell_type": "markdown",
      "source": [
        "## 1.1 Setups"
      ],
      "metadata": {
        "id": "N9uSdZuWDDqO"
      }
    },
    {
      "cell_type": "code",
      "execution_count": null,
      "metadata": {
        "id": "h4Ic28YoWayv"
      },
      "outputs": [],
      "source": [
        "!pip install torchinfo"
      ]
    },
    {
      "cell_type": "code",
      "source": [
        "import matplotlib.pyplot as plt\n",
        "\n",
        "import torch\n",
        "import torchvision\n",
        "\n",
        "from torch import nn\n",
        "from torchvision import transforms\n",
        "from torchinfo import summary"
      ],
      "metadata": {
        "id": "nihzeb09CZyT"
      },
      "execution_count": null,
      "outputs": []
    },
    {
      "cell_type": "markdown",
      "source": [
        "## 1.2 Raw data"
      ],
      "metadata": {
        "id": "Fh0qsvA8Dj-h"
      }
    },
    {
      "cell_type": "code",
      "source": [
        "import os\n",
        "import zipfile\n",
        "from pathlib import Path\n",
        "import requests\n",
        "\n",
        "data_path = Path(\"data/\")\n",
        "image_path = data_path / \"pizza_steak_sushi\"\n",
        "\n",
        "# Directory\n",
        "if image_path.is_dir():\n",
        "    print(f\"[INFO] {image_path} directory already esixts\")\n",
        "else:\n",
        "    print(f\"[INFO] {image_path} directory not found, creating ...\")\n",
        "    image_path.mkdir(parents = True, exist_ok = True)\n",
        "\n",
        "    # Download .zip file\n",
        "    with open(data_path / \"pizza_steak_sushi.zip\", \"wb\") as f: # 依照路徑, 創造檔案 -> 此時該檔案是空白檔案\n",
        "        request = requests.get(\"https://github.com/mrdbourke/pytorch-deep-learning/raw/main/data/pizza_steak_sushi.zip\")\n",
        "        print(f\"[INFO] downloading data\")\n",
        "        f.write(request.content) # 對空白檔案寫入 request 的內容\n",
        "\n",
        "    # Unzip file\n",
        "    with zipfile.ZipFile(data_path / \"pizza_steak_sushi.zip\", \"r\") as zip_f:\n",
        "        print(f\"[INFO] unziping data\")\n",
        "        zip_f.extractall(image_path)\n",
        "\n",
        "    # Remove .zip file\n",
        "    zip_file_path = data_path / \"pizza_steak_sushi.zip\"\n",
        "    if zip_file_path.exists():\n",
        "        print(f\"[INFO] removing .zip file\")\n",
        "        os.remove(zip_file_path)"
      ],
      "metadata": {
        "colab": {
          "base_uri": "https://localhost:8080/"
        },
        "id": "783XjPBzDlyl",
        "outputId": "acb00531-7fd7-411d-872c-76178f11c0f7"
      },
      "execution_count": null,
      "outputs": [
        {
          "output_type": "stream",
          "name": "stdout",
          "text": [
            "[INFO] data/pizza_steak_sushi directory not found, creating ...\n",
            "[INFO] downloading data\n",
            "[INFO] unziping data\n",
            "[INFO] removing .zip file\n"
          ]
        }
      ]
    },
    {
      "cell_type": "markdown",
      "source": [
        "## 1.3 Transforms"
      ],
      "metadata": {
        "id": "I_-xasmaPGon"
      }
    },
    {
      "cell_type": "code",
      "source": [
        "# Train & test directory path\n",
        "train_dir = image_path / \"train\"\n",
        "test_dir = image_path / \"test\"\n",
        "\n",
        "# Transfer model's transforms\n",
        "weights = torchvision.models.EfficientNet_B0_Weights.DEFAULT\n",
        "transform = weights.transforms()"
      ],
      "metadata": {
        "id": "4MnEaNlMOzXn"
      },
      "execution_count": 11,
      "outputs": []
    },
    {
      "cell_type": "markdown",
      "source": [
        "## 1.4 Dataset"
      ],
      "metadata": {
        "id": "5ON2OOzyQHYo"
      }
    },
    {
      "cell_type": "code",
      "source": [
        "from torchvision import datasets\n",
        "\n",
        "train_dataset = datasets.ImageFolder(root = train_dir, transform = transform)\n",
        "test_dataset = datasets.ImageFolder(root = test_dir, transform = transform)"
      ],
      "metadata": {
        "id": "xMtgwafNQI8D"
      },
      "execution_count": 14,
      "outputs": []
    },
    {
      "cell_type": "markdown",
      "source": [
        "## 1.5 Dataloader"
      ],
      "metadata": {
        "id": "z5EN3MDiRnLP"
      }
    },
    {
      "cell_type": "code",
      "source": [
        "from torch.utils.data import DataLoader\n",
        "\n",
        "train_dataloader = DataLoader(dataset = train_dataset, batch_size = 10, shuffle = True, drop_last = True)\n",
        "test_dataloader = DataLoader(dataset = test_dataset, batch_size = 10, shuffle = False, drop_last = True)"
      ],
      "metadata": {
        "id": "I8ZSzKa2RpMK"
      },
      "execution_count": 15,
      "outputs": []
    },
    {
      "cell_type": "markdown",
      "source": [
        "# **=== 2. Customize pretrained model ===**"
      ],
      "metadata": {
        "id": "96v_9jYkS7lR"
      }
    },
    {
      "cell_type": "markdown",
      "source": [
        "## 1.2 Get model"
      ],
      "metadata": {
        "id": "2VpG3bmOUEQS"
      }
    },
    {
      "cell_type": "code",
      "source": [
        "model_1 = torchvision.models.efficientnet_b0(weights = weights)"
      ],
      "metadata": {
        "id": "8APklfW_TGIQ"
      },
      "execution_count": 32,
      "outputs": []
    },
    {
      "cell_type": "markdown",
      "source": [
        "## 1.3 Freeze feature extraction layer"
      ],
      "metadata": {
        "id": "nvxuhDVdUJHT"
      }
    },
    {
      "cell_type": "code",
      "source": [
        "for param in model_1.features.parameters():\n",
        "    param.requires_grad = False"
      ],
      "metadata": {
        "id": "ITdV6mHqUOQo"
      },
      "execution_count": 36,
      "outputs": []
    },
    {
      "cell_type": "markdown",
      "source": [
        "## 1.4 Customize classifier layer"
      ],
      "metadata": {
        "id": "o5FoDNkdU9TR"
      }
    },
    {
      "cell_type": "code",
      "source": [
        "model_1.classifier = nn.Sequential(\n",
        "    nn.Dropout(p = 0.2, inplace = True),\n",
        "    nn.Linear(in_features = 1280, out_features = 1000, bias = True),\n",
        "    nn.ReLU(),\n",
        "    nn.Dropout(p = 0.2, inplace = True),\n",
        "    nn.Linear(in_features = 1000, out_features = 512, bias = True),\n",
        "    nn.ReLU(),\n",
        "    nn.Dropout(p = 0.2, inplace = True),\n",
        "    nn.Linear(in_features = 512, out_features = 128, bias = True),\n",
        "    nn.ReLU(),\n",
        "    nn.Dropout(p = 0.2, inplace = True),\n",
        "    nn.Linear(in_features = 128, out_features = 16, bias = True),\n",
        "    nn.ReLU(),\n",
        "    nn.Dropout(p = 0.2, inplace = True),\n",
        "    nn.Linear(in_features = 16, out_features = 3, bias = True)\n",
        ")"
      ],
      "metadata": {
        "id": "32Rx3NH2VHJN"
      },
      "execution_count": 37,
      "outputs": []
    },
    {
      "cell_type": "markdown",
      "source": [
        "## 1.5 Check model info"
      ],
      "metadata": {
        "id": "Z-guokqiXJNf"
      }
    },
    {
      "cell_type": "code",
      "source": [
        "summary(model_1,\n",
        "        input_size = (10, 3, 224, 224),\n",
        "        col_names = [\"output_size\", \"num_params\", \"trainable\"],\n",
        "        col_width = 15)"
      ],
      "metadata": {
        "colab": {
          "base_uri": "https://localhost:8080/"
        },
        "id": "CroL9DyZXL7N",
        "outputId": "21b0f7ca-5470-406d-999d-2df80ee65921"
      },
      "execution_count": 38,
      "outputs": [
        {
          "output_type": "execute_result",
          "data": {
            "text/plain": [
              "====================================================================================================\n",
              "Layer (type:depth-idx)                                  Output Shape    Param #         Trainable\n",
              "====================================================================================================\n",
              "EfficientNet                                            [10, 3]         --              Partial\n",
              "├─Sequential: 1-1                                       [10, 1280, 7, 7] --              False\n",
              "│    └─Conv2dNormActivation: 2-1                        [10, 32, 112, 112] --              False\n",
              "│    │    └─Conv2d: 3-1                                 [10, 32, 112, 112] (864)           False\n",
              "│    │    └─BatchNorm2d: 3-2                            [10, 32, 112, 112] (64)            False\n",
              "│    │    └─SiLU: 3-3                                   [10, 32, 112, 112] --              --\n",
              "│    └─Sequential: 2-2                                  [10, 16, 112, 112] --              False\n",
              "│    │    └─MBConv: 3-4                                 [10, 16, 112, 112] (1,448)         False\n",
              "│    └─Sequential: 2-3                                  [10, 24, 56, 56] --              False\n",
              "│    │    └─MBConv: 3-5                                 [10, 24, 56, 56] (6,004)         False\n",
              "│    │    └─MBConv: 3-6                                 [10, 24, 56, 56] (10,710)        False\n",
              "│    └─Sequential: 2-4                                  [10, 40, 28, 28] --              False\n",
              "│    │    └─MBConv: 3-7                                 [10, 40, 28, 28] (15,350)        False\n",
              "│    │    └─MBConv: 3-8                                 [10, 40, 28, 28] (31,290)        False\n",
              "│    └─Sequential: 2-5                                  [10, 80, 14, 14] --              False\n",
              "│    │    └─MBConv: 3-9                                 [10, 80, 14, 14] (37,130)        False\n",
              "│    │    └─MBConv: 3-10                                [10, 80, 14, 14] (102,900)       False\n",
              "│    │    └─MBConv: 3-11                                [10, 80, 14, 14] (102,900)       False\n",
              "│    └─Sequential: 2-6                                  [10, 112, 14, 14] --              False\n",
              "│    │    └─MBConv: 3-12                                [10, 112, 14, 14] (126,004)       False\n",
              "│    │    └─MBConv: 3-13                                [10, 112, 14, 14] (208,572)       False\n",
              "│    │    └─MBConv: 3-14                                [10, 112, 14, 14] (208,572)       False\n",
              "│    └─Sequential: 2-7                                  [10, 192, 7, 7] --              False\n",
              "│    │    └─MBConv: 3-15                                [10, 192, 7, 7] (262,492)       False\n",
              "│    │    └─MBConv: 3-16                                [10, 192, 7, 7] (587,952)       False\n",
              "│    │    └─MBConv: 3-17                                [10, 192, 7, 7] (587,952)       False\n",
              "│    │    └─MBConv: 3-18                                [10, 192, 7, 7] (587,952)       False\n",
              "│    └─Sequential: 2-8                                  [10, 320, 7, 7] --              False\n",
              "│    │    └─MBConv: 3-19                                [10, 320, 7, 7] (717,232)       False\n",
              "│    └─Conv2dNormActivation: 2-9                        [10, 1280, 7, 7] --              False\n",
              "│    │    └─Conv2d: 3-20                                [10, 1280, 7, 7] (409,600)       False\n",
              "│    │    └─BatchNorm2d: 3-21                           [10, 1280, 7, 7] (2,560)         False\n",
              "│    │    └─SiLU: 3-22                                  [10, 1280, 7, 7] --              --\n",
              "├─AdaptiveAvgPool2d: 1-2                                [10, 1280, 1, 1] --              --\n",
              "├─Sequential: 1-3                                       [10, 3]         --              True\n",
              "│    └─Dropout: 2-10                                    [10, 1280]      --              --\n",
              "│    └─Linear: 2-11                                     [10, 1000]      1,281,000       True\n",
              "│    └─ReLU: 2-12                                       [10, 1000]      --              --\n",
              "│    └─Dropout: 2-13                                    [10, 1000]      --              --\n",
              "│    └─Linear: 2-14                                     [10, 512]       512,512         True\n",
              "│    └─ReLU: 2-15                                       [10, 512]       --              --\n",
              "│    └─Dropout: 2-16                                    [10, 512]       --              --\n",
              "│    └─Linear: 2-17                                     [10, 128]       65,664          True\n",
              "│    └─ReLU: 2-18                                       [10, 128]       --              --\n",
              "│    └─Dropout: 2-19                                    [10, 128]       --              --\n",
              "│    └─Linear: 2-20                                     [10, 16]        2,064           True\n",
              "│    └─ReLU: 2-21                                       [10, 16]        --              --\n",
              "│    └─Dropout: 2-22                                    [10, 16]        --              --\n",
              "│    └─Linear: 2-23                                     [10, 3]         51              True\n",
              "====================================================================================================\n",
              "Total params: 5,868,839\n",
              "Trainable params: 1,861,291\n",
              "Non-trainable params: 4,007,548\n",
              "Total mult-adds (G): 3.86\n",
              "====================================================================================================\n",
              "Input size (MB): 6.02\n",
              "Forward/backward pass size (MB): 1078.91\n",
              "Params size (MB): 23.48\n",
              "Estimated Total Size (MB): 1108.41\n",
              "===================================================================================================="
            ]
          },
          "metadata": {},
          "execution_count": 38
        }
      ]
    },
    {
      "cell_type": "markdown",
      "source": [
        "# **=== 3. Train model & check results ===**"
      ],
      "metadata": {
        "id": "YrRz_sNQYI4_"
      }
    },
    {
      "cell_type": "markdown",
      "source": [
        "## 3.1 Functions for practice"
      ],
      "metadata": {
        "id": "B8TBh87GYmxu"
      }
    },
    {
      "cell_type": "code",
      "source": [
        "# return train_loss, train_acc\n",
        "def train(model, dataloader, loss_fn, optimizer, device):\n"
      ],
      "metadata": {
        "id": "5F21KVa7Ylgt"
      },
      "execution_count": null,
      "outputs": []
    }
  ]
}