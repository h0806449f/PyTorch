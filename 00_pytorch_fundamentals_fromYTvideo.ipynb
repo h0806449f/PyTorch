{
  "nbformat": 4,
  "nbformat_minor": 0,
  "metadata": {
    "colab": {
      "provenance": [],
      "authorship_tag": "ABX9TyOqtf4AACGOl/yM6Ozrcqae",
      "include_colab_link": true
    },
    "kernelspec": {
      "name": "python3",
      "display_name": "Python 3"
    },
    "language_info": {
      "name": "python"
    }
  },
  "cells": [
    {
      "cell_type": "markdown",
      "metadata": {
        "id": "view-in-github",
        "colab_type": "text"
      },
      "source": [
        "<a href=\"https://colab.research.google.com/github/h0806449f/Pytorch/blob/main/00_pytorch_fundamentals_fromYTvideo.ipynb\" target=\"_parent\"><img src=\"https://colab.research.google.com/assets/colab-badge.svg\" alt=\"Open In Colab\"/></a>"
      ]
    },
    {
      "cell_type": "markdown",
      "source": [
        "# Workflow\n",
        "1. Get data ready (資料預處理)\n",
        "2. Build model\n",
        "    1. Pick loss function & optimizer\n",
        "    2. Build training loop\n",
        "3. Fit data to model then make prediction\n",
        "4. Evaluate model\n",
        "5. Improve model\n",
        "6. Save model (For reuse)"
      ],
      "metadata": {
        "id": "RYooK6fEjtMp"
      }
    },
    {
      "cell_type": "code",
      "execution_count": null,
      "metadata": {
        "id": "bGeOfVrAf_YF"
      },
      "outputs": [],
      "source": []
    }
  ]
}