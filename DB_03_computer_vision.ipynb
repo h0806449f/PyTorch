{
  "nbformat": 4,
  "nbformat_minor": 0,
  "metadata": {
    "colab": {
      "provenance": [],
      "collapsed_sections": [
        "eXh6PVBN9MxY",
        "76H0upbKNAF1",
        "V6VT1BFIWX0v",
        "rbBY166xWgJb",
        "Nh23HPjlkvPy",
        "nMCgMixhrojH",
        "Nc_6CP7Rek4f",
        "VJqGq718kN0B",
        "jbMK3gRlnBvX",
        "Xmj2ltrn-Bez",
        "ZPoxZFUMNecF",
        "DxUoA-RUNlPK",
        "h8mpZe-icmWx",
        "_vtW-rDeNsck",
        "ijoJ-zPpKF3o",
        "qnjoKl8HLu6J"
      ],
      "gpuType": "T4",
      "authorship_tag": "ABX9TyP1qa8HAZ0+Q6QilWqx6ikq",
      "include_colab_link": true
    },
    "kernelspec": {
      "name": "python3",
      "display_name": "Python 3"
    },
    "language_info": {
      "name": "python"
    },
    "widgets": {
      "application/vnd.jupyter.widget-state+json": {
        "d38aa6fbfa764d3bb7da283b24ddd9dc": {
          "model_module": "@jupyter-widgets/controls",
          "model_name": "HBoxModel",
          "model_module_version": "1.5.0",
          "state": {
            "_dom_classes": [],
            "_model_module": "@jupyter-widgets/controls",
            "_model_module_version": "1.5.0",
            "_model_name": "HBoxModel",
            "_view_count": null,
            "_view_module": "@jupyter-widgets/controls",
            "_view_module_version": "1.5.0",
            "_view_name": "HBoxView",
            "box_style": "",
            "children": [
              "IPY_MODEL_56d02413c1f149e9a19437e25b5df36c",
              "IPY_MODEL_b056aca6c1994a15a1b08d9073f846ef",
              "IPY_MODEL_3db06a5bf5284e8da25cc2f1d0502c69"
            ],
            "layout": "IPY_MODEL_239503c9ffc24057b14d125d0c04ef0c"
          }
        },
        "56d02413c1f149e9a19437e25b5df36c": {
          "model_module": "@jupyter-widgets/controls",
          "model_name": "HTMLModel",
          "model_module_version": "1.5.0",
          "state": {
            "_dom_classes": [],
            "_model_module": "@jupyter-widgets/controls",
            "_model_module_version": "1.5.0",
            "_model_name": "HTMLModel",
            "_view_count": null,
            "_view_module": "@jupyter-widgets/controls",
            "_view_module_version": "1.5.0",
            "_view_name": "HTMLView",
            "description": "",
            "description_tooltip": null,
            "layout": "IPY_MODEL_e5a5880da92946f2b9cbd78f50d7d4b3",
            "placeholder": "​",
            "style": "IPY_MODEL_7bfb99e1fb1c4e7a80e664bc8e2a6431",
            "value": "100%"
          }
        },
        "b056aca6c1994a15a1b08d9073f846ef": {
          "model_module": "@jupyter-widgets/controls",
          "model_name": "FloatProgressModel",
          "model_module_version": "1.5.0",
          "state": {
            "_dom_classes": [],
            "_model_module": "@jupyter-widgets/controls",
            "_model_module_version": "1.5.0",
            "_model_name": "FloatProgressModel",
            "_view_count": null,
            "_view_module": "@jupyter-widgets/controls",
            "_view_module_version": "1.5.0",
            "_view_name": "ProgressView",
            "bar_style": "success",
            "description": "",
            "description_tooltip": null,
            "layout": "IPY_MODEL_a570088cdcfb41978c3ebe79685e1c3c",
            "max": 5,
            "min": 0,
            "orientation": "horizontal",
            "style": "IPY_MODEL_ad20e787e73a4464885f1f1d8eac526b",
            "value": 5
          }
        },
        "3db06a5bf5284e8da25cc2f1d0502c69": {
          "model_module": "@jupyter-widgets/controls",
          "model_name": "HTMLModel",
          "model_module_version": "1.5.0",
          "state": {
            "_dom_classes": [],
            "_model_module": "@jupyter-widgets/controls",
            "_model_module_version": "1.5.0",
            "_model_name": "HTMLModel",
            "_view_count": null,
            "_view_module": "@jupyter-widgets/controls",
            "_view_module_version": "1.5.0",
            "_view_name": "HTMLView",
            "description": "",
            "description_tooltip": null,
            "layout": "IPY_MODEL_90fdf680b1f14d28bf7506a5b8ae16d3",
            "placeholder": "​",
            "style": "IPY_MODEL_4b909473041f48ec8116092098347634",
            "value": " 5/5 [00:55&lt;00:00, 11.13s/it]"
          }
        },
        "239503c9ffc24057b14d125d0c04ef0c": {
          "model_module": "@jupyter-widgets/base",
          "model_name": "LayoutModel",
          "model_module_version": "1.2.0",
          "state": {
            "_model_module": "@jupyter-widgets/base",
            "_model_module_version": "1.2.0",
            "_model_name": "LayoutModel",
            "_view_count": null,
            "_view_module": "@jupyter-widgets/base",
            "_view_module_version": "1.2.0",
            "_view_name": "LayoutView",
            "align_content": null,
            "align_items": null,
            "align_self": null,
            "border": null,
            "bottom": null,
            "display": null,
            "flex": null,
            "flex_flow": null,
            "grid_area": null,
            "grid_auto_columns": null,
            "grid_auto_flow": null,
            "grid_auto_rows": null,
            "grid_column": null,
            "grid_gap": null,
            "grid_row": null,
            "grid_template_areas": null,
            "grid_template_columns": null,
            "grid_template_rows": null,
            "height": null,
            "justify_content": null,
            "justify_items": null,
            "left": null,
            "margin": null,
            "max_height": null,
            "max_width": null,
            "min_height": null,
            "min_width": null,
            "object_fit": null,
            "object_position": null,
            "order": null,
            "overflow": null,
            "overflow_x": null,
            "overflow_y": null,
            "padding": null,
            "right": null,
            "top": null,
            "visibility": null,
            "width": null
          }
        },
        "e5a5880da92946f2b9cbd78f50d7d4b3": {
          "model_module": "@jupyter-widgets/base",
          "model_name": "LayoutModel",
          "model_module_version": "1.2.0",
          "state": {
            "_model_module": "@jupyter-widgets/base",
            "_model_module_version": "1.2.0",
            "_model_name": "LayoutModel",
            "_view_count": null,
            "_view_module": "@jupyter-widgets/base",
            "_view_module_version": "1.2.0",
            "_view_name": "LayoutView",
            "align_content": null,
            "align_items": null,
            "align_self": null,
            "border": null,
            "bottom": null,
            "display": null,
            "flex": null,
            "flex_flow": null,
            "grid_area": null,
            "grid_auto_columns": null,
            "grid_auto_flow": null,
            "grid_auto_rows": null,
            "grid_column": null,
            "grid_gap": null,
            "grid_row": null,
            "grid_template_areas": null,
            "grid_template_columns": null,
            "grid_template_rows": null,
            "height": null,
            "justify_content": null,
            "justify_items": null,
            "left": null,
            "margin": null,
            "max_height": null,
            "max_width": null,
            "min_height": null,
            "min_width": null,
            "object_fit": null,
            "object_position": null,
            "order": null,
            "overflow": null,
            "overflow_x": null,
            "overflow_y": null,
            "padding": null,
            "right": null,
            "top": null,
            "visibility": null,
            "width": null
          }
        },
        "7bfb99e1fb1c4e7a80e664bc8e2a6431": {
          "model_module": "@jupyter-widgets/controls",
          "model_name": "DescriptionStyleModel",
          "model_module_version": "1.5.0",
          "state": {
            "_model_module": "@jupyter-widgets/controls",
            "_model_module_version": "1.5.0",
            "_model_name": "DescriptionStyleModel",
            "_view_count": null,
            "_view_module": "@jupyter-widgets/base",
            "_view_module_version": "1.2.0",
            "_view_name": "StyleView",
            "description_width": ""
          }
        },
        "a570088cdcfb41978c3ebe79685e1c3c": {
          "model_module": "@jupyter-widgets/base",
          "model_name": "LayoutModel",
          "model_module_version": "1.2.0",
          "state": {
            "_model_module": "@jupyter-widgets/base",
            "_model_module_version": "1.2.0",
            "_model_name": "LayoutModel",
            "_view_count": null,
            "_view_module": "@jupyter-widgets/base",
            "_view_module_version": "1.2.0",
            "_view_name": "LayoutView",
            "align_content": null,
            "align_items": null,
            "align_self": null,
            "border": null,
            "bottom": null,
            "display": null,
            "flex": null,
            "flex_flow": null,
            "grid_area": null,
            "grid_auto_columns": null,
            "grid_auto_flow": null,
            "grid_auto_rows": null,
            "grid_column": null,
            "grid_gap": null,
            "grid_row": null,
            "grid_template_areas": null,
            "grid_template_columns": null,
            "grid_template_rows": null,
            "height": null,
            "justify_content": null,
            "justify_items": null,
            "left": null,
            "margin": null,
            "max_height": null,
            "max_width": null,
            "min_height": null,
            "min_width": null,
            "object_fit": null,
            "object_position": null,
            "order": null,
            "overflow": null,
            "overflow_x": null,
            "overflow_y": null,
            "padding": null,
            "right": null,
            "top": null,
            "visibility": null,
            "width": null
          }
        },
        "ad20e787e73a4464885f1f1d8eac526b": {
          "model_module": "@jupyter-widgets/controls",
          "model_name": "ProgressStyleModel",
          "model_module_version": "1.5.0",
          "state": {
            "_model_module": "@jupyter-widgets/controls",
            "_model_module_version": "1.5.0",
            "_model_name": "ProgressStyleModel",
            "_view_count": null,
            "_view_module": "@jupyter-widgets/base",
            "_view_module_version": "1.2.0",
            "_view_name": "StyleView",
            "bar_color": null,
            "description_width": ""
          }
        },
        "90fdf680b1f14d28bf7506a5b8ae16d3": {
          "model_module": "@jupyter-widgets/base",
          "model_name": "LayoutModel",
          "model_module_version": "1.2.0",
          "state": {
            "_model_module": "@jupyter-widgets/base",
            "_model_module_version": "1.2.0",
            "_model_name": "LayoutModel",
            "_view_count": null,
            "_view_module": "@jupyter-widgets/base",
            "_view_module_version": "1.2.0",
            "_view_name": "LayoutView",
            "align_content": null,
            "align_items": null,
            "align_self": null,
            "border": null,
            "bottom": null,
            "display": null,
            "flex": null,
            "flex_flow": null,
            "grid_area": null,
            "grid_auto_columns": null,
            "grid_auto_flow": null,
            "grid_auto_rows": null,
            "grid_column": null,
            "grid_gap": null,
            "grid_row": null,
            "grid_template_areas": null,
            "grid_template_columns": null,
            "grid_template_rows": null,
            "height": null,
            "justify_content": null,
            "justify_items": null,
            "left": null,
            "margin": null,
            "max_height": null,
            "max_width": null,
            "min_height": null,
            "min_width": null,
            "object_fit": null,
            "object_position": null,
            "order": null,
            "overflow": null,
            "overflow_x": null,
            "overflow_y": null,
            "padding": null,
            "right": null,
            "top": null,
            "visibility": null,
            "width": null
          }
        },
        "4b909473041f48ec8116092098347634": {
          "model_module": "@jupyter-widgets/controls",
          "model_name": "DescriptionStyleModel",
          "model_module_version": "1.5.0",
          "state": {
            "_model_module": "@jupyter-widgets/controls",
            "_model_module_version": "1.5.0",
            "_model_name": "DescriptionStyleModel",
            "_view_count": null,
            "_view_module": "@jupyter-widgets/base",
            "_view_module_version": "1.2.0",
            "_view_name": "StyleView",
            "description_width": ""
          }
        },
        "e019dd73a3df46419c26712d58185ffa": {
          "model_module": "@jupyter-widgets/controls",
          "model_name": "HBoxModel",
          "model_module_version": "1.5.0",
          "state": {
            "_dom_classes": [],
            "_model_module": "@jupyter-widgets/controls",
            "_model_module_version": "1.5.0",
            "_model_name": "HBoxModel",
            "_view_count": null,
            "_view_module": "@jupyter-widgets/controls",
            "_view_module_version": "1.5.0",
            "_view_name": "HBoxView",
            "box_style": "",
            "children": [
              "IPY_MODEL_239d7f72eabe4bfd805ce9a0f38e4e4e",
              "IPY_MODEL_e34bd7002dc74c299d72ab9c9e780234",
              "IPY_MODEL_00e935cee62041f6b602921fd72db9ef"
            ],
            "layout": "IPY_MODEL_926bf3a6237245a6b6507de76b69a02d"
          }
        },
        "239d7f72eabe4bfd805ce9a0f38e4e4e": {
          "model_module": "@jupyter-widgets/controls",
          "model_name": "HTMLModel",
          "model_module_version": "1.5.0",
          "state": {
            "_dom_classes": [],
            "_model_module": "@jupyter-widgets/controls",
            "_model_module_version": "1.5.0",
            "_model_name": "HTMLModel",
            "_view_count": null,
            "_view_module": "@jupyter-widgets/controls",
            "_view_module_version": "1.5.0",
            "_view_name": "HTMLView",
            "description": "",
            "description_tooltip": null,
            "layout": "IPY_MODEL_7babec58aa0949fcaf1bda7cdc94077d",
            "placeholder": "​",
            "style": "IPY_MODEL_b9e8fe959ff142d1bd62d57b0db88a69",
            "value": "100%"
          }
        },
        "e34bd7002dc74c299d72ab9c9e780234": {
          "model_module": "@jupyter-widgets/controls",
          "model_name": "FloatProgressModel",
          "model_module_version": "1.5.0",
          "state": {
            "_dom_classes": [],
            "_model_module": "@jupyter-widgets/controls",
            "_model_module_version": "1.5.0",
            "_model_name": "FloatProgressModel",
            "_view_count": null,
            "_view_module": "@jupyter-widgets/controls",
            "_view_module_version": "1.5.0",
            "_view_name": "ProgressView",
            "bar_style": "success",
            "description": "",
            "description_tooltip": null,
            "layout": "IPY_MODEL_bbcb206dce5c4085aa30d0d8a5198f93",
            "max": 5,
            "min": 0,
            "orientation": "horizontal",
            "style": "IPY_MODEL_ef198c95d3524923b0011e4a45daf52a",
            "value": 5
          }
        },
        "00e935cee62041f6b602921fd72db9ef": {
          "model_module": "@jupyter-widgets/controls",
          "model_name": "HTMLModel",
          "model_module_version": "1.5.0",
          "state": {
            "_dom_classes": [],
            "_model_module": "@jupyter-widgets/controls",
            "_model_module_version": "1.5.0",
            "_model_name": "HTMLModel",
            "_view_count": null,
            "_view_module": "@jupyter-widgets/controls",
            "_view_module_version": "1.5.0",
            "_view_name": "HTMLView",
            "description": "",
            "description_tooltip": null,
            "layout": "IPY_MODEL_80d6c2d5ae87437eb97dcfe8fd996342",
            "placeholder": "​",
            "style": "IPY_MODEL_c5356b36a33d44b38bf8b75dfc0a70f1",
            "value": " 5/5 [01:09&lt;00:00, 14.06s/it]"
          }
        },
        "926bf3a6237245a6b6507de76b69a02d": {
          "model_module": "@jupyter-widgets/base",
          "model_name": "LayoutModel",
          "model_module_version": "1.2.0",
          "state": {
            "_model_module": "@jupyter-widgets/base",
            "_model_module_version": "1.2.0",
            "_model_name": "LayoutModel",
            "_view_count": null,
            "_view_module": "@jupyter-widgets/base",
            "_view_module_version": "1.2.0",
            "_view_name": "LayoutView",
            "align_content": null,
            "align_items": null,
            "align_self": null,
            "border": null,
            "bottom": null,
            "display": null,
            "flex": null,
            "flex_flow": null,
            "grid_area": null,
            "grid_auto_columns": null,
            "grid_auto_flow": null,
            "grid_auto_rows": null,
            "grid_column": null,
            "grid_gap": null,
            "grid_row": null,
            "grid_template_areas": null,
            "grid_template_columns": null,
            "grid_template_rows": null,
            "height": null,
            "justify_content": null,
            "justify_items": null,
            "left": null,
            "margin": null,
            "max_height": null,
            "max_width": null,
            "min_height": null,
            "min_width": null,
            "object_fit": null,
            "object_position": null,
            "order": null,
            "overflow": null,
            "overflow_x": null,
            "overflow_y": null,
            "padding": null,
            "right": null,
            "top": null,
            "visibility": null,
            "width": null
          }
        },
        "7babec58aa0949fcaf1bda7cdc94077d": {
          "model_module": "@jupyter-widgets/base",
          "model_name": "LayoutModel",
          "model_module_version": "1.2.0",
          "state": {
            "_model_module": "@jupyter-widgets/base",
            "_model_module_version": "1.2.0",
            "_model_name": "LayoutModel",
            "_view_count": null,
            "_view_module": "@jupyter-widgets/base",
            "_view_module_version": "1.2.0",
            "_view_name": "LayoutView",
            "align_content": null,
            "align_items": null,
            "align_self": null,
            "border": null,
            "bottom": null,
            "display": null,
            "flex": null,
            "flex_flow": null,
            "grid_area": null,
            "grid_auto_columns": null,
            "grid_auto_flow": null,
            "grid_auto_rows": null,
            "grid_column": null,
            "grid_gap": null,
            "grid_row": null,
            "grid_template_areas": null,
            "grid_template_columns": null,
            "grid_template_rows": null,
            "height": null,
            "justify_content": null,
            "justify_items": null,
            "left": null,
            "margin": null,
            "max_height": null,
            "max_width": null,
            "min_height": null,
            "min_width": null,
            "object_fit": null,
            "object_position": null,
            "order": null,
            "overflow": null,
            "overflow_x": null,
            "overflow_y": null,
            "padding": null,
            "right": null,
            "top": null,
            "visibility": null,
            "width": null
          }
        },
        "b9e8fe959ff142d1bd62d57b0db88a69": {
          "model_module": "@jupyter-widgets/controls",
          "model_name": "DescriptionStyleModel",
          "model_module_version": "1.5.0",
          "state": {
            "_model_module": "@jupyter-widgets/controls",
            "_model_module_version": "1.5.0",
            "_model_name": "DescriptionStyleModel",
            "_view_count": null,
            "_view_module": "@jupyter-widgets/base",
            "_view_module_version": "1.2.0",
            "_view_name": "StyleView",
            "description_width": ""
          }
        },
        "bbcb206dce5c4085aa30d0d8a5198f93": {
          "model_module": "@jupyter-widgets/base",
          "model_name": "LayoutModel",
          "model_module_version": "1.2.0",
          "state": {
            "_model_module": "@jupyter-widgets/base",
            "_model_module_version": "1.2.0",
            "_model_name": "LayoutModel",
            "_view_count": null,
            "_view_module": "@jupyter-widgets/base",
            "_view_module_version": "1.2.0",
            "_view_name": "LayoutView",
            "align_content": null,
            "align_items": null,
            "align_self": null,
            "border": null,
            "bottom": null,
            "display": null,
            "flex": null,
            "flex_flow": null,
            "grid_area": null,
            "grid_auto_columns": null,
            "grid_auto_flow": null,
            "grid_auto_rows": null,
            "grid_column": null,
            "grid_gap": null,
            "grid_row": null,
            "grid_template_areas": null,
            "grid_template_columns": null,
            "grid_template_rows": null,
            "height": null,
            "justify_content": null,
            "justify_items": null,
            "left": null,
            "margin": null,
            "max_height": null,
            "max_width": null,
            "min_height": null,
            "min_width": null,
            "object_fit": null,
            "object_position": null,
            "order": null,
            "overflow": null,
            "overflow_x": null,
            "overflow_y": null,
            "padding": null,
            "right": null,
            "top": null,
            "visibility": null,
            "width": null
          }
        },
        "ef198c95d3524923b0011e4a45daf52a": {
          "model_module": "@jupyter-widgets/controls",
          "model_name": "ProgressStyleModel",
          "model_module_version": "1.5.0",
          "state": {
            "_model_module": "@jupyter-widgets/controls",
            "_model_module_version": "1.5.0",
            "_model_name": "ProgressStyleModel",
            "_view_count": null,
            "_view_module": "@jupyter-widgets/base",
            "_view_module_version": "1.2.0",
            "_view_name": "StyleView",
            "bar_color": null,
            "description_width": ""
          }
        },
        "80d6c2d5ae87437eb97dcfe8fd996342": {
          "model_module": "@jupyter-widgets/base",
          "model_name": "LayoutModel",
          "model_module_version": "1.2.0",
          "state": {
            "_model_module": "@jupyter-widgets/base",
            "_model_module_version": "1.2.0",
            "_model_name": "LayoutModel",
            "_view_count": null,
            "_view_module": "@jupyter-widgets/base",
            "_view_module_version": "1.2.0",
            "_view_name": "LayoutView",
            "align_content": null,
            "align_items": null,
            "align_self": null,
            "border": null,
            "bottom": null,
            "display": null,
            "flex": null,
            "flex_flow": null,
            "grid_area": null,
            "grid_auto_columns": null,
            "grid_auto_flow": null,
            "grid_auto_rows": null,
            "grid_column": null,
            "grid_gap": null,
            "grid_row": null,
            "grid_template_areas": null,
            "grid_template_columns": null,
            "grid_template_rows": null,
            "height": null,
            "justify_content": null,
            "justify_items": null,
            "left": null,
            "margin": null,
            "max_height": null,
            "max_width": null,
            "min_height": null,
            "min_width": null,
            "object_fit": null,
            "object_position": null,
            "order": null,
            "overflow": null,
            "overflow_x": null,
            "overflow_y": null,
            "padding": null,
            "right": null,
            "top": null,
            "visibility": null,
            "width": null
          }
        },
        "c5356b36a33d44b38bf8b75dfc0a70f1": {
          "model_module": "@jupyter-widgets/controls",
          "model_name": "DescriptionStyleModel",
          "model_module_version": "1.5.0",
          "state": {
            "_model_module": "@jupyter-widgets/controls",
            "_model_module_version": "1.5.0",
            "_model_name": "DescriptionStyleModel",
            "_view_count": null,
            "_view_module": "@jupyter-widgets/base",
            "_view_module_version": "1.2.0",
            "_view_name": "StyleView",
            "description_width": ""
          }
        },
        "c2ea4be289084be5a26e31010a3b77cf": {
          "model_module": "@jupyter-widgets/controls",
          "model_name": "HBoxModel",
          "model_module_version": "1.5.0",
          "state": {
            "_dom_classes": [],
            "_model_module": "@jupyter-widgets/controls",
            "_model_module_version": "1.5.0",
            "_model_name": "HBoxModel",
            "_view_count": null,
            "_view_module": "@jupyter-widgets/controls",
            "_view_module_version": "1.5.0",
            "_view_name": "HBoxView",
            "box_style": "",
            "children": [
              "IPY_MODEL_abfa758ca2ce4f0882e0ca53cae7b70a",
              "IPY_MODEL_dc32c5f218e842e79daad50ac7d8fe3c",
              "IPY_MODEL_ab2609bc67824db0aac3ef93ce21469b"
            ],
            "layout": "IPY_MODEL_368cbd031ad5491c9e9d65538c36f3c5"
          }
        },
        "abfa758ca2ce4f0882e0ca53cae7b70a": {
          "model_module": "@jupyter-widgets/controls",
          "model_name": "HTMLModel",
          "model_module_version": "1.5.0",
          "state": {
            "_dom_classes": [],
            "_model_module": "@jupyter-widgets/controls",
            "_model_module_version": "1.5.0",
            "_model_name": "HTMLModel",
            "_view_count": null,
            "_view_module": "@jupyter-widgets/controls",
            "_view_module_version": "1.5.0",
            "_view_name": "HTMLView",
            "description": "",
            "description_tooltip": null,
            "layout": "IPY_MODEL_b5398ea985a646e5834d33d4f2a75432",
            "placeholder": "​",
            "style": "IPY_MODEL_dfcd45e50f68495bace975bd6dfc23c9",
            "value": "Making predictions: 100%"
          }
        },
        "dc32c5f218e842e79daad50ac7d8fe3c": {
          "model_module": "@jupyter-widgets/controls",
          "model_name": "FloatProgressModel",
          "model_module_version": "1.5.0",
          "state": {
            "_dom_classes": [],
            "_model_module": "@jupyter-widgets/controls",
            "_model_module_version": "1.5.0",
            "_model_name": "FloatProgressModel",
            "_view_count": null,
            "_view_module": "@jupyter-widgets/controls",
            "_view_module_version": "1.5.0",
            "_view_name": "ProgressView",
            "bar_style": "success",
            "description": "",
            "description_tooltip": null,
            "layout": "IPY_MODEL_920096c4f4854f499d92a899b95fd7d9",
            "max": 313,
            "min": 0,
            "orientation": "horizontal",
            "style": "IPY_MODEL_24539fbcf10d4c4f88b01820c03e6dbd",
            "value": 313
          }
        },
        "ab2609bc67824db0aac3ef93ce21469b": {
          "model_module": "@jupyter-widgets/controls",
          "model_name": "HTMLModel",
          "model_module_version": "1.5.0",
          "state": {
            "_dom_classes": [],
            "_model_module": "@jupyter-widgets/controls",
            "_model_module_version": "1.5.0",
            "_model_name": "HTMLModel",
            "_view_count": null,
            "_view_module": "@jupyter-widgets/controls",
            "_view_module_version": "1.5.0",
            "_view_name": "HTMLView",
            "description": "",
            "description_tooltip": null,
            "layout": "IPY_MODEL_5545c386395a4eb9b0e10ee760763a0f",
            "placeholder": "​",
            "style": "IPY_MODEL_3a7f8dbf57bd41c18f7e472173c82529",
            "value": " 313/313 [00:02&lt;00:00, 128.22it/s]"
          }
        },
        "368cbd031ad5491c9e9d65538c36f3c5": {
          "model_module": "@jupyter-widgets/base",
          "model_name": "LayoutModel",
          "model_module_version": "1.2.0",
          "state": {
            "_model_module": "@jupyter-widgets/base",
            "_model_module_version": "1.2.0",
            "_model_name": "LayoutModel",
            "_view_count": null,
            "_view_module": "@jupyter-widgets/base",
            "_view_module_version": "1.2.0",
            "_view_name": "LayoutView",
            "align_content": null,
            "align_items": null,
            "align_self": null,
            "border": null,
            "bottom": null,
            "display": null,
            "flex": null,
            "flex_flow": null,
            "grid_area": null,
            "grid_auto_columns": null,
            "grid_auto_flow": null,
            "grid_auto_rows": null,
            "grid_column": null,
            "grid_gap": null,
            "grid_row": null,
            "grid_template_areas": null,
            "grid_template_columns": null,
            "grid_template_rows": null,
            "height": null,
            "justify_content": null,
            "justify_items": null,
            "left": null,
            "margin": null,
            "max_height": null,
            "max_width": null,
            "min_height": null,
            "min_width": null,
            "object_fit": null,
            "object_position": null,
            "order": null,
            "overflow": null,
            "overflow_x": null,
            "overflow_y": null,
            "padding": null,
            "right": null,
            "top": null,
            "visibility": null,
            "width": null
          }
        },
        "b5398ea985a646e5834d33d4f2a75432": {
          "model_module": "@jupyter-widgets/base",
          "model_name": "LayoutModel",
          "model_module_version": "1.2.0",
          "state": {
            "_model_module": "@jupyter-widgets/base",
            "_model_module_version": "1.2.0",
            "_model_name": "LayoutModel",
            "_view_count": null,
            "_view_module": "@jupyter-widgets/base",
            "_view_module_version": "1.2.0",
            "_view_name": "LayoutView",
            "align_content": null,
            "align_items": null,
            "align_self": null,
            "border": null,
            "bottom": null,
            "display": null,
            "flex": null,
            "flex_flow": null,
            "grid_area": null,
            "grid_auto_columns": null,
            "grid_auto_flow": null,
            "grid_auto_rows": null,
            "grid_column": null,
            "grid_gap": null,
            "grid_row": null,
            "grid_template_areas": null,
            "grid_template_columns": null,
            "grid_template_rows": null,
            "height": null,
            "justify_content": null,
            "justify_items": null,
            "left": null,
            "margin": null,
            "max_height": null,
            "max_width": null,
            "min_height": null,
            "min_width": null,
            "object_fit": null,
            "object_position": null,
            "order": null,
            "overflow": null,
            "overflow_x": null,
            "overflow_y": null,
            "padding": null,
            "right": null,
            "top": null,
            "visibility": null,
            "width": null
          }
        },
        "dfcd45e50f68495bace975bd6dfc23c9": {
          "model_module": "@jupyter-widgets/controls",
          "model_name": "DescriptionStyleModel",
          "model_module_version": "1.5.0",
          "state": {
            "_model_module": "@jupyter-widgets/controls",
            "_model_module_version": "1.5.0",
            "_model_name": "DescriptionStyleModel",
            "_view_count": null,
            "_view_module": "@jupyter-widgets/base",
            "_view_module_version": "1.2.0",
            "_view_name": "StyleView",
            "description_width": ""
          }
        },
        "920096c4f4854f499d92a899b95fd7d9": {
          "model_module": "@jupyter-widgets/base",
          "model_name": "LayoutModel",
          "model_module_version": "1.2.0",
          "state": {
            "_model_module": "@jupyter-widgets/base",
            "_model_module_version": "1.2.0",
            "_model_name": "LayoutModel",
            "_view_count": null,
            "_view_module": "@jupyter-widgets/base",
            "_view_module_version": "1.2.0",
            "_view_name": "LayoutView",
            "align_content": null,
            "align_items": null,
            "align_self": null,
            "border": null,
            "bottom": null,
            "display": null,
            "flex": null,
            "flex_flow": null,
            "grid_area": null,
            "grid_auto_columns": null,
            "grid_auto_flow": null,
            "grid_auto_rows": null,
            "grid_column": null,
            "grid_gap": null,
            "grid_row": null,
            "grid_template_areas": null,
            "grid_template_columns": null,
            "grid_template_rows": null,
            "height": null,
            "justify_content": null,
            "justify_items": null,
            "left": null,
            "margin": null,
            "max_height": null,
            "max_width": null,
            "min_height": null,
            "min_width": null,
            "object_fit": null,
            "object_position": null,
            "order": null,
            "overflow": null,
            "overflow_x": null,
            "overflow_y": null,
            "padding": null,
            "right": null,
            "top": null,
            "visibility": null,
            "width": null
          }
        },
        "24539fbcf10d4c4f88b01820c03e6dbd": {
          "model_module": "@jupyter-widgets/controls",
          "model_name": "ProgressStyleModel",
          "model_module_version": "1.5.0",
          "state": {
            "_model_module": "@jupyter-widgets/controls",
            "_model_module_version": "1.5.0",
            "_model_name": "ProgressStyleModel",
            "_view_count": null,
            "_view_module": "@jupyter-widgets/base",
            "_view_module_version": "1.2.0",
            "_view_name": "StyleView",
            "bar_color": null,
            "description_width": ""
          }
        },
        "5545c386395a4eb9b0e10ee760763a0f": {
          "model_module": "@jupyter-widgets/base",
          "model_name": "LayoutModel",
          "model_module_version": "1.2.0",
          "state": {
            "_model_module": "@jupyter-widgets/base",
            "_model_module_version": "1.2.0",
            "_model_name": "LayoutModel",
            "_view_count": null,
            "_view_module": "@jupyter-widgets/base",
            "_view_module_version": "1.2.0",
            "_view_name": "LayoutView",
            "align_content": null,
            "align_items": null,
            "align_self": null,
            "border": null,
            "bottom": null,
            "display": null,
            "flex": null,
            "flex_flow": null,
            "grid_area": null,
            "grid_auto_columns": null,
            "grid_auto_flow": null,
            "grid_auto_rows": null,
            "grid_column": null,
            "grid_gap": null,
            "grid_row": null,
            "grid_template_areas": null,
            "grid_template_columns": null,
            "grid_template_rows": null,
            "height": null,
            "justify_content": null,
            "justify_items": null,
            "left": null,
            "margin": null,
            "max_height": null,
            "max_width": null,
            "min_height": null,
            "min_width": null,
            "object_fit": null,
            "object_position": null,
            "order": null,
            "overflow": null,
            "overflow_x": null,
            "overflow_y": null,
            "padding": null,
            "right": null,
            "top": null,
            "visibility": null,
            "width": null
          }
        },
        "3a7f8dbf57bd41c18f7e472173c82529": {
          "model_module": "@jupyter-widgets/controls",
          "model_name": "DescriptionStyleModel",
          "model_module_version": "1.5.0",
          "state": {
            "_model_module": "@jupyter-widgets/controls",
            "_model_module_version": "1.5.0",
            "_model_name": "DescriptionStyleModel",
            "_view_count": null,
            "_view_module": "@jupyter-widgets/base",
            "_view_module_version": "1.2.0",
            "_view_name": "StyleView",
            "description_width": ""
          }
        }
      }
    },
    "accelerator": "GPU"
  },
  "cells": [
    {
      "cell_type": "markdown",
      "metadata": {
        "id": "view-in-github",
        "colab_type": "text"
      },
      "source": [
        "<a href=\"https://colab.research.google.com/github/h0806449f/PyTorch/blob/main/DB_03_computer_vision.ipynb\" target=\"_parent\"><img src=\"https://colab.research.google.com/assets/colab-badge.svg\" alt=\"Open In Colab\"/></a>"
      ]
    },
    {
      "cell_type": "markdown",
      "source": [
        "# **=== 0. Computer vision libaries in Pytorch ===**\n",
        "1. `torchvision.datasets` - Get datasets and loading functions\n",
        "2. `torchvision.models` - Get pretrained model\n",
        "3. `torchvision.transforms` - Functions for manipulating data\n",
        "4. `torch.utils.data.Dataset` - Base dataset class for pytorch\n",
        "5. `torch.utils.data.Dataload` - Creates a python iterable over a dataset"
      ],
      "metadata": {
        "id": "eXh6PVBN9MxY"
      }
    },
    {
      "cell_type": "code",
      "execution_count": 1,
      "metadata": {
        "id": "zXE5AKqAjLLF",
        "colab": {
          "base_uri": "https://localhost:8080/"
        },
        "outputId": "52dd3f96-4ae7-4cbe-c25b-29ecec27bbe2"
      },
      "outputs": [
        {
          "output_type": "stream",
          "name": "stdout",
          "text": [
            "2.0.1+cu118\n",
            "0.15.2+cu118\n"
          ]
        }
      ],
      "source": [
        "# Import PyTorch\n",
        "import torch\n",
        "from torch import nn\n",
        "\n",
        "# Import torchvisiob\n",
        "import torchvision\n",
        "from torchvision import datasets, transforms\n",
        "# ToTensor (https://pytorch.org/vision/stable/transforms.html)\n",
        "from torchvision.transforms import ToTensor\n",
        "\n",
        "# Import matplotlib\n",
        "import matplotlib.pyplot as plt\n",
        "\n",
        "# Check version\n",
        "print(torch.__version__)\n",
        "print(torchvision.__version__)"
      ]
    },
    {
      "cell_type": "markdown",
      "source": [
        "# **=== 1. Get dataset (Fashion MNIST) ===**"
      ],
      "metadata": {
        "id": "76H0upbKNAF1"
      }
    },
    {
      "cell_type": "code",
      "source": [
        "# Setup training data\n",
        "from torchvision import datasets\n",
        "\n",
        "train_data = datasets.FashionMNIST(\n",
        "    root=\"data\",   # 資料儲存的路徑\n",
        "    train=True,   # 下載 “訓練” 資料集\n",
        "    download=True,   # 是否從網路上下載\n",
        "    transform=ToTensor(), # 將下載資料轉為 Tensor 型態\n",
        "    target_transform=None   # 對 Label 是否進行任何處理\n",
        ")\n",
        "\n",
        "test_data = datasets.FashionMNIST(\n",
        "    root=\"data\",\n",
        "    train=False,   # 下載 “測試” 資料集\n",
        "    download=True,\n",
        "    transform=ToTensor(),\n",
        "    target_transform=None\n",
        ")"
      ],
      "metadata": {
        "id": "LJEaVhwcM_mB",
        "colab": {
          "base_uri": "https://localhost:8080/"
        },
        "outputId": "afef73e1-88e5-47fb-8a53-88bcffee072a"
      },
      "execution_count": 2,
      "outputs": [
        {
          "output_type": "stream",
          "name": "stdout",
          "text": [
            "Downloading http://fashion-mnist.s3-website.eu-central-1.amazonaws.com/train-images-idx3-ubyte.gz\n",
            "Downloading http://fashion-mnist.s3-website.eu-central-1.amazonaws.com/train-images-idx3-ubyte.gz to data/FashionMNIST/raw/train-images-idx3-ubyte.gz\n"
          ]
        },
        {
          "output_type": "stream",
          "name": "stderr",
          "text": [
            "100%|██████████| 26421880/26421880 [00:02<00:00, 12631993.03it/s]\n"
          ]
        },
        {
          "output_type": "stream",
          "name": "stdout",
          "text": [
            "Extracting data/FashionMNIST/raw/train-images-idx3-ubyte.gz to data/FashionMNIST/raw\n",
            "\n",
            "Downloading http://fashion-mnist.s3-website.eu-central-1.amazonaws.com/train-labels-idx1-ubyte.gz\n",
            "Downloading http://fashion-mnist.s3-website.eu-central-1.amazonaws.com/train-labels-idx1-ubyte.gz to data/FashionMNIST/raw/train-labels-idx1-ubyte.gz\n"
          ]
        },
        {
          "output_type": "stream",
          "name": "stderr",
          "text": [
            "100%|██████████| 29515/29515 [00:00<00:00, 214688.35it/s]\n"
          ]
        },
        {
          "output_type": "stream",
          "name": "stdout",
          "text": [
            "Extracting data/FashionMNIST/raw/train-labels-idx1-ubyte.gz to data/FashionMNIST/raw\n",
            "\n",
            "Downloading http://fashion-mnist.s3-website.eu-central-1.amazonaws.com/t10k-images-idx3-ubyte.gz\n",
            "Downloading http://fashion-mnist.s3-website.eu-central-1.amazonaws.com/t10k-images-idx3-ubyte.gz to data/FashionMNIST/raw/t10k-images-idx3-ubyte.gz\n"
          ]
        },
        {
          "output_type": "stream",
          "name": "stderr",
          "text": [
            "100%|██████████| 4422102/4422102 [00:01<00:00, 3959708.76it/s]\n"
          ]
        },
        {
          "output_type": "stream",
          "name": "stdout",
          "text": [
            "Extracting data/FashionMNIST/raw/t10k-images-idx3-ubyte.gz to data/FashionMNIST/raw\n",
            "\n",
            "Downloading http://fashion-mnist.s3-website.eu-central-1.amazonaws.com/t10k-labels-idx1-ubyte.gz\n",
            "Downloading http://fashion-mnist.s3-website.eu-central-1.amazonaws.com/t10k-labels-idx1-ubyte.gz to data/FashionMNIST/raw/t10k-labels-idx1-ubyte.gz\n"
          ]
        },
        {
          "output_type": "stream",
          "name": "stderr",
          "text": [
            "100%|██████████| 5148/5148 [00:00<00:00, 17526198.86it/s]"
          ]
        },
        {
          "output_type": "stream",
          "name": "stdout",
          "text": [
            "Extracting data/FashionMNIST/raw/t10k-labels-idx1-ubyte.gz to data/FashionMNIST/raw\n",
            "\n"
          ]
        },
        {
          "output_type": "stream",
          "name": "stderr",
          "text": [
            "\n"
          ]
        }
      ]
    },
    {
      "cell_type": "code",
      "source": [
        "# 檢視資料集大小\n",
        "len(train_data), len(test_data)"
      ],
      "metadata": {
        "colab": {
          "base_uri": "https://localhost:8080/"
        },
        "id": "xRwvouofRJUl",
        "outputId": "10c3c544-b865-48fe-ffe4-c67ca71aa244"
      },
      "execution_count": 3,
      "outputs": [
        {
          "output_type": "execute_result",
          "data": {
            "text/plain": [
              "(60000, 10000)"
            ]
          },
          "metadata": {},
          "execution_count": 3
        }
      ]
    },
    {
      "cell_type": "code",
      "source": [
        "# Label 數量與類別\n",
        "class_names = train_data.classes\n",
        "len(class_names), class_names"
      ],
      "metadata": {
        "colab": {
          "base_uri": "https://localhost:8080/"
        },
        "id": "Dm_xFi-MVYDG",
        "outputId": "9d6e1349-0141-45fe-9e17-8760a1ec3e57"
      },
      "execution_count": 4,
      "outputs": [
        {
          "output_type": "execute_result",
          "data": {
            "text/plain": [
              "(10,\n",
              " ['T-shirt/top',\n",
              "  'Trouser',\n",
              "  'Pullover',\n",
              "  'Dress',\n",
              "  'Coat',\n",
              "  'Sandal',\n",
              "  'Shirt',\n",
              "  'Sneaker',\n",
              "  'Bag',\n",
              "  'Ankle boot'])"
            ]
          },
          "metadata": {},
          "execution_count": 4
        }
      ]
    },
    {
      "cell_type": "code",
      "source": [
        "# 轉換為 dict\n",
        "class_to_idx = train_data.class_to_idx\n",
        "class_to_idx"
      ],
      "metadata": {
        "colab": {
          "base_uri": "https://localhost:8080/"
        },
        "id": "rROTBJQGUfck",
        "outputId": "8b823d3e-b527-458e-f584-24461b7b57b8"
      },
      "execution_count": 5,
      "outputs": [
        {
          "output_type": "execute_result",
          "data": {
            "text/plain": [
              "{'T-shirt/top': 0,\n",
              " 'Trouser': 1,\n",
              " 'Pullover': 2,\n",
              " 'Dress': 3,\n",
              " 'Coat': 4,\n",
              " 'Sandal': 5,\n",
              " 'Shirt': 6,\n",
              " 'Sneaker': 7,\n",
              " 'Bag': 8,\n",
              " 'Ankle boot': 9}"
            ]
          },
          "metadata": {},
          "execution_count": 5
        }
      ]
    },
    {
      "cell_type": "code",
      "source": [
        "image, label = train_data[0]\n",
        "\n",
        "type(image), label"
      ],
      "metadata": {
        "colab": {
          "base_uri": "https://localhost:8080/"
        },
        "id": "1bHm6l4ARYqQ",
        "outputId": "87cda786-bd6b-49f0-d92d-72ca6c83a405"
      },
      "execution_count": 6,
      "outputs": [
        {
          "output_type": "execute_result",
          "data": {
            "text/plain": [
              "(torch.Tensor, 9)"
            ]
          },
          "metadata": {},
          "execution_count": 6
        }
      ]
    },
    {
      "cell_type": "markdown",
      "source": [
        "# 1.1 Check input and output shapes of data"
      ],
      "metadata": {
        "id": "V6VT1BFIWX0v"
      }
    },
    {
      "cell_type": "code",
      "source": [
        "# Check the shape of image\n",
        "\n",
        "print(f\"Image shape: {image.shape} -> [color_channels, height, width]\")\n",
        "print(f\"Image label: {class_names[label]}\")"
      ],
      "metadata": {
        "colab": {
          "base_uri": "https://localhost:8080/"
        },
        "id": "Y5rE247YSTGS",
        "outputId": "e985776a-69f5-4331-a63a-c8c76b61f4a7"
      },
      "execution_count": 7,
      "outputs": [
        {
          "output_type": "stream",
          "name": "stdout",
          "text": [
            "Image shape: torch.Size([1, 28, 28]) -> [color_channels, height, width]\n",
            "Image label: Ankle boot\n"
          ]
        }
      ]
    },
    {
      "cell_type": "markdown",
      "source": [
        "# 1.2 Visualizing our data"
      ],
      "metadata": {
        "id": "rbBY166xWgJb"
      }
    },
    {
      "cell_type": "code",
      "source": [
        "image, label = train_data[0]\n",
        "\n",
        "# 每筆資料包含 : image tensor & label\n",
        "# 如果直接 plt.imshow(image) 會產生error (shape)\n",
        "# TypeError: Invalid shape (1, 28, 28) for image data\n",
        "\n",
        "plt.imshow(image.squeeze(), cmap=\"gray\")\n",
        "plt.title(class_names[label])\n",
        "plt.axis(\"off\")"
      ],
      "metadata": {
        "colab": {
          "base_uri": "https://localhost:8080/",
          "height": 445
        },
        "id": "OpCNMJ4CV6xJ",
        "outputId": "d748e9dd-78dd-4256-96e9-d60299e63d43"
      },
      "execution_count": 8,
      "outputs": [
        {
          "output_type": "execute_result",
          "data": {
            "text/plain": [
              "(-0.5, 27.5, 27.5, -0.5)"
            ]
          },
          "metadata": {},
          "execution_count": 8
        },
        {
          "output_type": "display_data",
          "data": {
            "text/plain": [
              "<Figure size 640x480 with 1 Axes>"
            ],
            "image/png": "[encoded data removed]"
          },
          "metadata": {}
        }
      ]
    },
    {
      "cell_type": "code",
      "source": [
        "# Plot more images\n",
        "torch.manual_seed(42)\n",
        "\n",
        "fig = plt.figure(figsize=(9, 9))\n",
        "rows, cols = 4, 4\n",
        "\n",
        "for i in range(1, rows*cols+1):\n",
        "    # 下限 0 / 上限 len(train_data)\n",
        "    # size=[1] 生成size為1的 tensor\n",
        "    # .item() 適用於取出 tensor 中的值 (只可以用於tensor中只有一個值的時候)\n",
        "    random_idx = torch.randint(0, len(train_data), size=[1]).item()\n",
        "\n",
        "    # 從資料集中 取出隨機index 的圖片\n",
        "    img, label = train_data[random_idx]\n",
        "\n",
        "    # Subplot\n",
        "    fig.add_subplot(rows, cols, i)\n",
        "\n",
        "    plt.imshow(img.squeeze(), cmap=\"gray\")\n",
        "    plt.title(class_names[label])\n",
        "    plt.axis(\"off\")"
      ],
      "metadata": {
        "colab": {
          "base_uri": "https://localhost:8080/",
          "height": 708
        },
        "id": "kNlkzGGQXkDJ",
        "outputId": "61b736a3-1767-4800-e587-99e716e44007"
      },
      "execution_count": 9,
      "outputs": [
        {
          "output_type": "display_data",
          "data": {
            "text/plain": [
              "<Figure size 900x900 with 16 Axes>"
            ],
            "image/png": "[encoded data removed]"
          },
          "metadata": {}
        }
      ]
    },
    {
      "cell_type": "markdown",
      "source": [
        "# **=== 2. Prepare dataloader ===**\n",
        "1. 下載後的資料型態 : Pytorch Datasets\n",
        "2. `DataLoader` will turn Pytorch Datasets into **Python iterable**\n",
        "    (可以將所有資料轉為 batches -> batches -> ...)\n",
        "3. 目的 :\n",
        "    1. 節省 RAM\n",
        "    2. CNN 有更多機會更新參數"
      ],
      "metadata": {
        "id": "Nh23HPjlkvPy"
      }
    },
    {
      "cell_type": "code",
      "source": [
        "# 從 MNIST 下載的資料\n",
        "print(train_data)\n",
        "print(test_data)"
      ],
      "metadata": {
        "colab": {
          "base_uri": "https://localhost:8080/"
        },
        "id": "KFLRafjBjrVp",
        "outputId": "27e1a153-69b8-4a6f-f8b0-bc074d60a034"
      },
      "execution_count": 10,
      "outputs": [
        {
          "output_type": "stream",
          "name": "stdout",
          "text": [
            "Dataset FashionMNIST\n",
            "    Number of datapoints: 60000\n",
            "    Root location: data\n",
            "    Split: Train\n",
            "    StandardTransform\n",
            "Transform: ToTensor()\n",
            "Dataset FashionMNIST\n",
            "    Number of datapoints: 10000\n",
            "    Root location: data\n",
            "    Split: Test\n",
            "    StandardTransform\n",
            "Transform: ToTensor()\n"
          ]
        }
      ]
    },
    {
      "cell_type": "code",
      "source": [
        "from torch.utils.data import DataLoader\n",
        "# 建議參考 : https://pytorch.org/docs/stable/data.html\n",
        "\n",
        "# Setup the batch size (希望之後一次分析32張圖片)\n",
        "BATCH_SIZE = 32\n",
        "\n",
        "# Turn datasets into iterable (batches)\n",
        "# shuffle 避免同類資料 連續出現\n",
        "train_dataloader = DataLoader(dataset=train_data,\n",
        "                              batch_size=BATCH_SIZE,\n",
        "                              shuffle=True)\n",
        "\n",
        "test_dataloader = DataLoader(dataset=test_data,\n",
        "                             batch_size=BATCH_SIZE,\n",
        "                             shuffle=False)\n",
        "\n",
        "print(type(train_dataloader), len(train_dataloader))  # 60000 / 32 = 1875\n",
        "print(type(test_dataloader), len(test_dataloader))"
      ],
      "metadata": {
        "colab": {
          "base_uri": "https://localhost:8080/"
        },
        "id": "uFRwmQB4k-FT",
        "outputId": "c682a004-dd27-4642-f5fb-7ebad908f506"
      },
      "execution_count": 11,
      "outputs": [
        {
          "output_type": "stream",
          "name": "stdout",
          "text": [
            "<class 'torch.utils.data.dataloader.DataLoader'> 1875\n",
            "<class 'torch.utils.data.dataloader.DataLoader'> 313\n"
          ]
        }
      ]
    },
    {
      "cell_type": "code",
      "source": [
        "# 確認 train_dataloader 有無問題\n",
        "# Check info of  train_dataloader\n",
        "train_features_batch, train_labels_batch = next(iter(train_dataloader))\n",
        "\n",
        "# 一個 batch 32張 28*28的 灰階圖片\n",
        "train_features_batch.shape, train_labels_batch.shape"
      ],
      "metadata": {
        "colab": {
          "base_uri": "https://localhost:8080/"
        },
        "id": "2rIGtq57pDzM",
        "outputId": "46ba186b-7631-4e60-eda1-6b3c39ca2854"
      },
      "execution_count": 12,
      "outputs": [
        {
          "output_type": "execute_result",
          "data": {
            "text/plain": [
              "(torch.Size([32, 1, 28, 28]), torch.Size([32]))"
            ]
          },
          "metadata": {},
          "execution_count": 12
        }
      ]
    },
    {
      "cell_type": "code",
      "source": [
        "# 從隨機的 batch 裏面 隨機挑選照片 出來檢查\n",
        "torch.manual_seed(42)\n",
        "random_idx = torch.randint(0, len(train_features_batch), size=[1]).item()\n",
        "\n",
        "img, label = train_features_batch[random_idx], train_labels_batch[random_idx]\n",
        "\n",
        "# show image\n",
        "plt.imshow(img.squeeze(), cmap=\"gray\")\n",
        "plt.title(class_names[label])\n",
        "plt.axis(\"off\")"
      ],
      "metadata": {
        "colab": {
          "base_uri": "https://localhost:8080/",
          "height": 445
        },
        "id": "pfxu9EwKoUCR",
        "outputId": "02726c9f-beee-4703-ea3c-1cfd5b96d7f2"
      },
      "execution_count": 13,
      "outputs": [
        {
          "output_type": "execute_result",
          "data": {
            "text/plain": [
              "(-0.5, 27.5, 27.5, -0.5)"
            ]
          },
          "metadata": {},
          "execution_count": 13
        },
        {
          "output_type": "display_data",
          "data": {
            "text/plain": [
              "<Figure size 640x480 with 1 Axes>"
            ],
            "image/png": "[encoded data removed]"
          },
          "metadata": {}
        }
      ]
    },
    {
      "cell_type": "markdown",
      "source": [
        "# **=== 3. Build a baseline model ===**\n",
        "\n",
        "建立基礎模型 -> 再逐漸增加模型複雜程度"
      ],
      "metadata": {
        "id": "nMCgMixhrojH"
      }
    },
    {
      "cell_type": "code",
      "source": [
        "# Setup device\n",
        "device = \"cuda\" if torch.cuda.is_available() else \"cpu\"\n",
        "\n",
        "# Create a flatten layer (一維化)\n",
        "flatten_model = nn.Flatten()\n",
        "\n",
        "# Get single sample\n",
        "x = train_features_batch[0]   # 取出batch中的第一個\n",
        "\n",
        "# Flatten the sample\n",
        "output = flatten_model(x) # perform forward pass\n",
        "\n",
        "# Print out process\n",
        "print(f\"Shape before flattening: {x.shape}\")\n",
        "print(f\"Shape after flattening: {output.shape}\")\n",
        "\n",
        "# 這邊轉換成一維 因為等等的模型將使用 nn.Linear 去建構\n",
        "# 而 nn.Linear 無法處理 多維資訊"
      ],
      "metadata": {
        "colab": {
          "base_uri": "https://localhost:8080/"
        },
        "id": "lX6FUj3przCc",
        "outputId": "73a66c3c-575f-49b6-f119-24e506021ef0"
      },
      "execution_count": 14,
      "outputs": [
        {
          "output_type": "stream",
          "name": "stdout",
          "text": [
            "Shape before flattening: torch.Size([1, 28, 28])\n",
            "Shape after flattening: torch.Size([1, 784])\n"
          ]
        }
      ]
    },
    {
      "cell_type": "code",
      "source": [
        "from torch import nn\n",
        "\n",
        "# Subclass\n",
        "class FashionMNISTModelV0(nn.Module):\n",
        "    # Inherit\n",
        "    def __init__(self, input_shape: int, hidden_units: int, output_shape: int):\n",
        "        super().__init__()\n",
        "\n",
        "        # layers\n",
        "        self.layer_stack = nn.Sequential(\n",
        "            nn.Flatten(),\n",
        "            nn.Linear(in_features=input_shape, out_features=hidden_units),\n",
        "            nn.Linear(in_features=hidden_units, out_features=hidden_units),\n",
        "            nn.Linear(in_features=hidden_units, out_features=output_shape)\n",
        "        )\n",
        "    # forward\n",
        "    def forward(self, x):\n",
        "        return self.layer_stack(x)"
      ],
      "metadata": {
        "id": "uwUpHQlnUSkI"
      },
      "execution_count": 15,
      "outputs": []
    },
    {
      "cell_type": "code",
      "source": [
        "torch.manual_seed(42)\n",
        "\n",
        "# Setup model with input parameters\n",
        "model_0 = FashionMNISTModelV0(\n",
        "    input_shape=784,   # Flatten from 28 * 28\n",
        "    hidden_units=10,   # how many units in the hidden layer\n",
        "    output_shape=len(class_names)\n",
        ").to(device)\n",
        "\n",
        "model_0"
      ],
      "metadata": {
        "colab": {
          "base_uri": "https://localhost:8080/"
        },
        "id": "y2Cdk1Ktaodn",
        "outputId": "d0bf81f5-702b-455b-ac60-58ad73586d7d"
      },
      "execution_count": 16,
      "outputs": [
        {
          "output_type": "execute_result",
          "data": {
            "text/plain": [
              "FashionMNISTModelV0(\n",
              "  (layer_stack): Sequential(\n",
              "    (0): Flatten(start_dim=1, end_dim=-1)\n",
              "    (1): Linear(in_features=784, out_features=10, bias=True)\n",
              "    (2): Linear(in_features=10, out_features=10, bias=True)\n",
              "    (3): Linear(in_features=10, out_features=10, bias=True)\n",
              "  )\n",
              ")"
            ]
          },
          "metadata": {},
          "execution_count": 16
        }
      ]
    },
    {
      "cell_type": "markdown",
      "source": [
        "# 3.1 Setup loss function, optimizer and evaluation metrics\n",
        "\n",
        "1. Loss function - `nn.CrossEntropyLoss` since we are working with multi-class data\n",
        "2. Optimizer - `torch.optim.SDG()` or `torch.optim.Adam` both will work\n",
        "3. Evaluation metric - `accuracy`"
      ],
      "metadata": {
        "id": "Nc_6CP7Rek4f"
      }
    },
    {
      "cell_type": "code",
      "source": [
        "# 下載作者預先建立好的 functions\n",
        "import requests\n",
        "from pathlib import Path\n",
        "\n",
        "# Download helper functions from Learn PyTorch repo (if not already downloaded)\n",
        "if Path(\"helper_functions.py\").is_file():\n",
        "  print(\"helper_functions.py already exists, skipping download\")\n",
        "else:\n",
        "  print(\"Downloading helper_functions.py\")\n",
        "  # Note: you need the \"raw\" GitHub URL for this to work\n",
        "  request = requests.get(\"https://raw.githubusercontent.com/mrdbourke/pytorch-deep-learning/main/helper_functions.py\")\n",
        "  with open(\"helper_functions.py\", \"wb\") as f:\n",
        "    f.write(request.content)\n",
        "\n",
        "# Import 課程作者寫好的功能\n",
        "from helper_functions import accuracy_fn"
      ],
      "metadata": {
        "colab": {
          "base_uri": "https://localhost:8080/"
        },
        "id": "2WxbbffBaKSD",
        "outputId": "a2c07211-96a5-41f0-fa9d-c935b15616a3"
      },
      "execution_count": 17,
      "outputs": [
        {
          "output_type": "stream",
          "name": "stdout",
          "text": [
            "Downloading helper_functions.py\n"
          ]
        }
      ]
    },
    {
      "cell_type": "code",
      "source": [
        "# Set loss function\n",
        "loss_fn = nn.CrossEntropyLoss()"
      ],
      "metadata": {
        "id": "pFWnIih_biY2"
      },
      "execution_count": 18,
      "outputs": []
    },
    {
      "cell_type": "code",
      "source": [
        "# Set optimizer\n",
        "optimizer = torch.optim.SGD(params=model_0.parameters(),\n",
        "                             lr=0.1)"
      ],
      "metadata": {
        "id": "7HKEL0OeiOP0"
      },
      "execution_count": 19,
      "outputs": []
    },
    {
      "cell_type": "markdown",
      "source": [
        "# 3.2 額外: Creating a function to time the experiments\n",
        "https://docs.python.org/zh-cn/3/library/timeit.html"
      ],
      "metadata": {
        "id": "VJqGq718kN0B"
      }
    },
    {
      "cell_type": "code",
      "source": [
        "from timeit import default_timer as timer\n",
        "\n",
        "def print_train_time(start: float,\n",
        "                     end: float,\n",
        "                     device: torch.device = None):\n",
        "    \"\"\" 計算時間 \"\"\"\n",
        "    total_time = end - start\n",
        "    print(f\"Train time on {device}: {total_time:.3f} seconds\")\n",
        "    return total_time"
      ],
      "metadata": {
        "id": "BnntX4PQbiVQ"
      },
      "execution_count": 20,
      "outputs": []
    },
    {
      "cell_type": "markdown",
      "source": [
        "# 3.3 Creating training loop and training a model on batches of data\n",
        "\n",
        "1. Loop through epochs\n",
        "2. Loop through training batches, perform training steps and calculate the train loss `per batch`\n",
        "3. 模型每一個 batch 就會調整一次參數 (梯度下降)\n",
        "4. Loop through testing batches, perform testing steps and calculate the test loss `per batch\n",
        "5. Print out process\n",
        "6. Time it all *(optional)*\n",
        "\n",
        "\n",
        "\n"
      ],
      "metadata": {
        "id": "jbMK3gRlnBvX"
      }
    },
    {
      "cell_type": "code",
      "source": [
        "# Practice\n",
        "from tqdm.auto import tqdm\n",
        "\n",
        "# to device \"cpu\"\n",
        "device = \"cpu\"\n",
        "model_0 = model_0.to(device)\n",
        "\n",
        "torch.manual_seed(42)\n",
        "start_time = timer()\n",
        "\n",
        "epochs = 5\n",
        "\n",
        "for epoch in tqdm(range(epochs)):\n",
        "    print(f\"Epoch: {epoch}\\n\", \"=\"*20)\n",
        "\n",
        "    ### Training\n",
        "    train_loss = 0\n",
        "\n",
        "    # Batch the data\n",
        "    for batch, (X_train, y_train) in enumerate(train_dataloader):\n",
        "        # to device \"cpu\"\n",
        "        X_train, y_train = X_train.to(device), y_train.to(device)\n",
        "\n",
        "        # Train mode\n",
        "        model_0.train()\n",
        "\n",
        "        # 1. Forward pass\n",
        "        y_pred = model_0(X_train)\n",
        "\n",
        "        # 2. Calculate the loss (per batch)\n",
        "        loss = loss_fn(y_pred, y_train)\n",
        "        train_loss = train_loss + loss  # accumulate train loss\n",
        "\n",
        "        # 3. Optimizer zero grad  (使各個batch之間的參數不互相影響)\n",
        "        optimizer.zero_grad()\n",
        "\n",
        "        # 4. Loss backward\n",
        "        loss.backward()\n",
        "\n",
        "        # 5. Optimizer step\n",
        "        optimizer.step()\n",
        "\n",
        "        # Print process\n",
        "        if batch % 1000 == 0:\n",
        "            print(f\"Looked at {batch * len(X_train)} / {len(train_dataloader.dataset)} samples.\")\n",
        "\n",
        "    # Batch 結束後, 隨 epoch 計算 batch 平均的loss值\n",
        "    train_loss = train_loss / len(train_dataloader)\n",
        "\n",
        "    ### Testing\n",
        "    test_loss, test_acc = 0, 0\n",
        "\n",
        "    # Eval mode\n",
        "    model_0.eval()\n",
        "\n",
        "    #\n",
        "    with torch.inference_mode():\n",
        "        for X_test, y_test in test_dataloader:\n",
        "            # to device \"cpu\"\n",
        "            X_test, y_test = X_test.to(device), y_test.to(device)\n",
        "\n",
        "            # 1. Forward pass\n",
        "            test_pred = model_0(X_test)\n",
        "\n",
        "            # 2. Calculate the loss (accumulative)\n",
        "            test_loss = test_loss + loss_fn(test_pred, y_test)\n",
        "\n",
        "            # 3. Calculate the accuracy\n",
        "            test_acc = test_acc + accuracy_fn(y_true = y_test,\n",
        "                                              y_pred = test_pred.argmax(dim=1))\n",
        "                                              # test_pred 為 model_0 產出的 logits, 須經argmax 處理\n",
        "\n",
        "        # Calculate the test loss average per batch\n",
        "        test_loss = test_loss / len(test_dataloader)\n",
        "\n",
        "        # Calculate the test accuracy average per batch\n",
        "        test_acc = test_acc / len(test_dataloader)\n",
        "\n",
        "    # Print out process\n",
        "    print(f\"\\nTrain loss: {train_loss:.4f}\")\n",
        "    print(f\"Test loss: {test_loss:.4f} | Test_acc: {test_acc:.4f}\")\n",
        "\n",
        "#\n",
        "end_time = timer()\n",
        "model_0_time = end_time - start_time"
      ],
      "metadata": {
        "colab": {
          "base_uri": "https://localhost:8080/",
          "height": 0,
          "referenced_widgets": [
            "d38aa6fbfa764d3bb7da283b24ddd9dc",
            "56d02413c1f149e9a19437e25b5df36c",
            "b056aca6c1994a15a1b08d9073f846ef",
            "3db06a5bf5284e8da25cc2f1d0502c69",
            "239503c9ffc24057b14d125d0c04ef0c",
            "e5a5880da92946f2b9cbd78f50d7d4b3",
            "7bfb99e1fb1c4e7a80e664bc8e2a6431",
            "a570088cdcfb41978c3ebe79685e1c3c",
            "ad20e787e73a4464885f1f1d8eac526b",
            "90fdf680b1f14d28bf7506a5b8ae16d3",
            "4b909473041f48ec8116092098347634"
          ]
        },
        "id": "O4rvv4Pj-5AX",
        "outputId": "83a38786-796c-4ebe-9678-fb2ec09fe808"
      },
      "execution_count": 21,
      "outputs": [
        {
          "output_type": "display_data",
          "data": {
            "text/plain": [
              "  0%|          | 0/5 [00:00<?, ?it/s]"
            ],
            "application/vnd.jupyter.widget-view+json": {
              "version_major": 2,
              "version_minor": 0,
              "model_id": "d38aa6fbfa764d3bb7da283b24ddd9dc"
            }
          },
          "metadata": {}
        },
        {
          "output_type": "stream",
          "name": "stdout",
          "text": [
            "Epoch: 0\n",
            " ====================\n",
            "Looked at 0 / 60000 samples.\n",
            "Looked at 32000 / 60000 samples.\n",
            "\n",
            "Train loss: 0.6355\n",
            "Test loss: 0.5304 | Test_acc: 80.7907\n",
            "Epoch: 1\n",
            " ====================\n",
            "Looked at 0 / 60000 samples.\n",
            "Looked at 32000 / 60000 samples.\n",
            "\n",
            "Train loss: 0.4999\n",
            "Test loss: 0.4911 | Test_acc: 82.6278\n",
            "Epoch: 2\n",
            " ====================\n",
            "Looked at 0 / 60000 samples.\n",
            "Looked at 32000 / 60000 samples.\n",
            "\n",
            "Train loss: 0.4741\n",
            "Test loss: 0.4989 | Test_acc: 82.8574\n",
            "Epoch: 3\n",
            " ====================\n",
            "Looked at 0 / 60000 samples.\n",
            "Looked at 32000 / 60000 samples.\n",
            "\n",
            "Train loss: 0.4599\n",
            "Test loss: 0.4795 | Test_acc: 83.1270\n",
            "Epoch: 4\n",
            " ====================\n",
            "Looked at 0 / 60000 samples.\n",
            "Looked at 32000 / 60000 samples.\n",
            "\n",
            "Train loss: 0.4527\n",
            "Test loss: 0.4798 | Test_acc: 82.9872\n"
          ]
        }
      ]
    },
    {
      "cell_type": "markdown",
      "source": [
        "# **=== 4. Make prediction and get Model_0 result ===**\n",
        "1. def eval_model function"
      ],
      "metadata": {
        "id": "Xmj2ltrn-Bez"
      }
    },
    {
      "cell_type": "code",
      "source": [
        "def eval_model(model: torch.nn.Module,\n",
        "               data_loader: torch.utils.data.DataLoader,\n",
        "               loss_fn: torch.nn.Module,\n",
        "               accuracy_fn):\n",
        "    \"\"\"\n",
        "    returns a dict containing the result of model prediction on data_loader\n",
        "    \"\"\"\n",
        "\n",
        "    loss, acc = 0, 0\n",
        "\n",
        "    model.eval()\n",
        "    with torch.inference_mode():\n",
        "        for X, y in data_loader:\n",
        "            # Make prediction\n",
        "            y_pred = model(X)\n",
        "\n",
        "            # Accumulate the loss and acc values per batch\n",
        "            loss = loss + loss_fn(y_pred, y)\n",
        "            acc = acc + accuracy_fn(y_true=y,\n",
        "                                    y_pred=y_pred.argmax(dim=1))\n",
        "\n",
        "        # Scale loss and acc and find average loss/acc per batch\n",
        "        loss = loss / len(data_loader)\n",
        "        acc = acc / len(data_loader)\n",
        "\n",
        "    #\n",
        "    return {\"model_name\": model.__class__.__name__,\n",
        "            # 僅適用 model was created with a class\n",
        "\n",
        "            \"model_loss\": loss.item(),\n",
        "            \"model_acc\": acc}"
      ],
      "metadata": {
        "id": "YD6a70fh1He0"
      },
      "execution_count": 22,
      "outputs": []
    },
    {
      "cell_type": "code",
      "source": [
        "# 對 model_0 使用 上面建立的 eval_model\n",
        "torch.manual_seed(42)\n",
        "\n",
        "model_0_results = eval_model(model = model_0,\n",
        "                             data_loader = test_dataloader,\n",
        "                             loss_fn = loss_fn,\n",
        "                             accuracy_fn = accuracy_fn)\n",
        "\n",
        "model_0_results, model_0_time"
      ],
      "metadata": {
        "colab": {
          "base_uri": "https://localhost:8080/"
        },
        "id": "p_KsK5j4WIWK",
        "outputId": "58928f03-c918-4924-80b7-0e480674f11e"
      },
      "execution_count": 23,
      "outputs": [
        {
          "output_type": "execute_result",
          "data": {
            "text/plain": [
              "({'model_name': 'FashionMNISTModelV0',\n",
              "  'model_loss': 0.4798120856285095,\n",
              "  'model_acc': 82.98722044728434},\n",
              " 55.58744008200003)"
            ]
          },
          "metadata": {},
          "execution_count": 23
        }
      ]
    },
    {
      "cell_type": "markdown",
      "source": [
        "# **=== 5. Model_1 run on GPU ===**"
      ],
      "metadata": {
        "id": "ztRuvJP8DaQw"
      }
    },
    {
      "cell_type": "markdown",
      "source": [
        "# 5.1 Device"
      ],
      "metadata": {
        "id": "ZPoxZFUMNecF"
      }
    },
    {
      "cell_type": "code",
      "source": [
        "# Setup device\n",
        "device = \"cuda\" if torch.cuda.is_available() else \"cpu\"\n",
        "device"
      ],
      "metadata": {
        "colab": {
          "base_uri": "https://localhost:8080/",
          "height": 0
        },
        "id": "yl8YOQ_a1HbF",
        "outputId": "075968fc-f938-4179-ae44-2b08043f2fa7"
      },
      "execution_count": 24,
      "outputs": [
        {
          "output_type": "execute_result",
          "data": {
            "text/plain": [
              "'cuda'"
            ],
            "application/vnd.google.colaboratory.intrinsic+json": {
              "type": "string"
            }
          },
          "metadata": {},
          "execution_count": 24
        }
      ]
    },
    {
      "cell_type": "markdown",
      "source": [
        "# 5.2 Model_1\n",
        "1. nn.Linear\n",
        "2. non-linearlity -> ReLU()"
      ],
      "metadata": {
        "id": "DxUoA-RUNlPK"
      }
    },
    {
      "cell_type": "code",
      "source": [
        "# Subclass\n",
        "class FashionMNISTModelV1(nn.Module):\n",
        "    def __init__(self, input_shape: int, hidden_units: int, output_shape: int):\n",
        "        super().__init__()\n",
        "\n",
        "        self.layer_stack = nn.Sequential(\n",
        "            nn.Flatten(),\n",
        "            nn.Linear(in_features=input_shape, out_features=hidden_units),\n",
        "            nn.ReLU(),\n",
        "            nn.Linear(in_features=hidden_units, out_features=output_shape),\n",
        "            nn.ReLU()\n",
        "        )\n",
        "\n",
        "    def forward(self, x: torch.Tensor):\n",
        "        return self.layer_stack(x)"
      ],
      "metadata": {
        "id": "q4BKR8OBcxig"
      },
      "execution_count": 25,
      "outputs": []
    },
    {
      "cell_type": "code",
      "source": [
        "# 建立模型\n",
        "torch.manual_seed(42)\n",
        "\n",
        "model_1 = FashionMNISTModelV1(input_shape=784,\n",
        "                              hidden_units=10,\n",
        "                              output_shape=len(class_names)).to(device)\n",
        "\n",
        "# 檢查模型的參數 是否都到同一個設備上\n",
        "next(model_1.parameters()).device"
      ],
      "metadata": {
        "colab": {
          "base_uri": "https://localhost:8080/"
        },
        "id": "72MLPQCzjMMv",
        "outputId": "cd87c389-43cd-495e-e158-c36fa4ae8c92"
      },
      "execution_count": 26,
      "outputs": [
        {
          "output_type": "execute_result",
          "data": {
            "text/plain": [
              "device(type='cuda', index=0)"
            ]
          },
          "metadata": {},
          "execution_count": 26
        }
      ]
    },
    {
      "cell_type": "code",
      "source": [
        "# 指定 Loss function (計算 loss 值)\n",
        "loss_fn = nn.CrossEntropyLoss()"
      ],
      "metadata": {
        "id": "fRn8sqYgi8NA"
      },
      "execution_count": 27,
      "outputs": []
    },
    {
      "cell_type": "code",
      "source": [
        "# 指定 Optimizer (優化參數 -> 減少 loss 值 -> 梯度下降)\n",
        "optimizer = torch.optim.SGD(params=model_1.parameters(),\n",
        "                            lr=0.1)"
      ],
      "metadata": {
        "id": "xeyiel-Gd-yI"
      },
      "execution_count": 28,
      "outputs": []
    },
    {
      "cell_type": "markdown",
      "source": [
        "# 5.2.1 Functions\n",
        "1. 作者的 helper_function\n",
        "2. timer"
      ],
      "metadata": {
        "id": "h8mpZe-icmWx"
      }
    },
    {
      "cell_type": "code",
      "source": [
        "import requests\n",
        "from pathlib import Path\n",
        "\n",
        "if Path(\"helper_functions.py\").is_file():\n",
        "  print(\"helper_functions.py already exists, skipping download\")\n",
        "else:\n",
        "  print(\"Downloading helper_functions.py\")\n",
        "  request = requests.get(\"https://raw.githubusercontent.com/mrdbourke/pytorch-deep-learning/main/helper_functions.py\")\n",
        "\n",
        "  with open(\"helper_functions.py\", \"wb\") as f:\n",
        "    f.write(request.content)\n",
        "\n",
        "from helper_functions import accuracy_fn"
      ],
      "metadata": {
        "colab": {
          "base_uri": "https://localhost:8080/"
        },
        "id": "KWU25dijD9fQ",
        "outputId": "f4244cd9-eb75-47c4-c224-e178536af97d"
      },
      "execution_count": 29,
      "outputs": [
        {
          "output_type": "stream",
          "name": "stdout",
          "text": [
            "helper_functions.py already exists, skipping download\n"
          ]
        }
      ]
    },
    {
      "cell_type": "code",
      "source": [
        "from timeit import default_timer as timer\n",
        "\n",
        "def print_train_time(start: float,\n",
        "            end: float,\n",
        "            device: torch.device = None):\n",
        "    \"\"\" 計算時間 \"\"\"\n",
        "    total_time = end - start\n",
        "    print(f\"Train time on {device}: {total_time:.2f} seconds\")\n",
        "    return total_time"
      ],
      "metadata": {
        "id": "m4zO-4ySEN5X"
      },
      "execution_count": 30,
      "outputs": []
    },
    {
      "cell_type": "markdown",
      "source": [
        "# 5.3 Functionizing training and evaluation / test loop\n",
        "額外創造兩個functions\n",
        "1. training loop - `train_step()`\n",
        "    *思考順序: 這個 function 需要哪一些參數*\n",
        "    *也可以帶入其他 function / device ...*\n",
        "2. test loop - `test_step()`\n"
      ],
      "metadata": {
        "id": "_vtW-rDeNsck"
      }
    },
    {
      "cell_type": "code",
      "source": [
        "def train_step(model: torch.nn.Module,\n",
        "               data_loader: torch.utils.data.DataLoader,\n",
        "               loss_fn: torch.nn.Module,\n",
        "               optimizer: torch.optim.Optimizer,\n",
        "               accuracy_fn,\n",
        "               device: torch.device = device):\n",
        "    train_loss, train_acc = 0, 0\n",
        "\n",
        "    model.to(device)\n",
        "\n",
        "    for batch, (X, y) in enumerate(data_loader):\n",
        "        # Send data to GPU\n",
        "        X, y = X.to(device), y.to(device)\n",
        "\n",
        "        # 1. Forward pass\n",
        "        y_pred = model(X)\n",
        "\n",
        "        # 2. Calculate loss\n",
        "        loss = loss_fn(y_pred, y)\n",
        "        train_loss += loss\n",
        "        train_acc += accuracy_fn(y_true=y,\n",
        "                                 y_pred=y_pred.argmax(dim=1)) # Go from logits -> pred labels\n",
        "\n",
        "        # 3. Optimizer zero grad\n",
        "        optimizer.zero_grad()\n",
        "\n",
        "        # 4. Loss backward\n",
        "        loss.backward()\n",
        "\n",
        "        # 5. Optimizer step\n",
        "        optimizer.step()\n",
        "\n",
        "    # Calculate loss and accuracy per epoch and print out what's happening\n",
        "    train_loss /= len(data_loader)\n",
        "    train_acc /= len(data_loader)\n",
        "    print(f\"Train loss: {train_loss:.5f} | Train accuracy: {train_acc:.2f}%\")\n"
      ],
      "metadata": {
        "id": "fxcwUHuJmKyi"
      },
      "execution_count": 31,
      "outputs": []
    },
    {
      "cell_type": "code",
      "source": [
        "def test_step(data_loader: torch.utils.data.DataLoader,\n",
        "              model: torch.nn.Module,\n",
        "              loss_fn: torch.nn.Module,\n",
        "              accuracy_fn,\n",
        "              device: torch.device = device):\n",
        "    test_loss, test_acc = 0, 0\n",
        "\n",
        "    model.to(device)\n",
        "    model.eval() # put model in eval mode\n",
        "\n",
        "    # Turn on inference context manager\n",
        "    with torch.inference_mode():\n",
        "        for X, y in data_loader:\n",
        "            # Send data to GPU\n",
        "            X, y = X.to(device), y.to(device)\n",
        "\n",
        "            # 1. Forward pass\n",
        "            test_pred = model(X)\n",
        "\n",
        "            # 2. Calculate loss and accuracy\n",
        "            test_loss += loss_fn(test_pred, y)\n",
        "            test_acc += accuracy_fn(y_true=y,\n",
        "                y_pred=test_pred.argmax(dim=1) # Go from logits -> pred labels\n",
        "            )\n",
        "\n",
        "        # Adjust metrics and print out\n",
        "        test_loss /= len(data_loader)\n",
        "        test_acc /= len(data_loader)\n",
        "        print(f\"Test loss: {test_loss:.5f} | Test accuracy: {test_acc:.2f}%\\n\")"
      ],
      "metadata": {
        "id": "O8oUKG7CjSK_"
      },
      "execution_count": 32,
      "outputs": []
    },
    {
      "cell_type": "code",
      "source": [
        "# 使用上面兩個 functions\n",
        "torch.manual_seed(42)\n",
        "\n",
        "# Start time\n",
        "from timeit import default_timer as timer\n",
        "start_time = timer()\n",
        "\n",
        "# Set epochs\n",
        "epochs = 5\n",
        "\n",
        "# Create optimization and evaluation loop\n",
        "for epoch in tqdm(range(epochs)):\n",
        "    print(f\"Epoch: {epoch}\\n==========\")\n",
        "\n",
        "    # train_step\n",
        "    train_step(data_loader = train_dataloader,\n",
        "               model = model_1,\n",
        "               loss_fn = loss_fn,\n",
        "               optimizer = optimizer,\n",
        "               accuracy_fn = accuracy_fn)\n",
        "\n",
        "    # test_step\n",
        "    test_step(data_loader = test_dataloader,\n",
        "              model = model_1,\n",
        "              loss_fn = loss_fn,\n",
        "              accuracy_fn = accuracy_fn)\n",
        "\n",
        "end_time = timer()\n",
        "model_1_time = end_time - start_time"
      ],
      "metadata": {
        "colab": {
          "base_uri": "https://localhost:8080/",
          "height": 0,
          "referenced_widgets": [
            "e019dd73a3df46419c26712d58185ffa",
            "239d7f72eabe4bfd805ce9a0f38e4e4e",
            "e34bd7002dc74c299d72ab9c9e780234",
            "00e935cee62041f6b602921fd72db9ef",
            "926bf3a6237245a6b6507de76b69a02d",
            "7babec58aa0949fcaf1bda7cdc94077d",
            "b9e8fe959ff142d1bd62d57b0db88a69",
            "bbcb206dce5c4085aa30d0d8a5198f93",
            "ef198c95d3524923b0011e4a45daf52a",
            "80d6c2d5ae87437eb97dcfe8fd996342",
            "c5356b36a33d44b38bf8b75dfc0a70f1"
          ]
        },
        "id": "Ieb4TtnoJf2Y",
        "outputId": "77b114ba-a794-45f9-de44-d843c7a6eabc"
      },
      "execution_count": 33,
      "outputs": [
        {
          "output_type": "display_data",
          "data": {
            "text/plain": [
              "  0%|          | 0/5 [00:00<?, ?it/s]"
            ],
            "application/vnd.jupyter.widget-view+json": {
              "version_major": 2,
              "version_minor": 0,
              "model_id": "e019dd73a3df46419c26712d58185ffa"
            }
          },
          "metadata": {}
        },
        {
          "output_type": "stream",
          "name": "stdout",
          "text": [
            "Epoch: 0\n",
            "==========\n",
            "Train loss: 1.09199 | Train accuracy: 61.34%\n",
            "Test loss: 0.95636 | Test accuracy: 65.00%\n",
            "\n",
            "Epoch: 1\n",
            "==========\n",
            "Train loss: 0.78101 | Train accuracy: 71.93%\n",
            "Test loss: 0.72227 | Test accuracy: 73.91%\n",
            "\n",
            "Epoch: 2\n",
            "==========\n",
            "Train loss: 0.67027 | Train accuracy: 75.94%\n",
            "Test loss: 0.68500 | Test accuracy: 75.02%\n",
            "\n",
            "Epoch: 3\n",
            "==========\n",
            "Train loss: 0.64384 | Train accuracy: 76.52%\n",
            "Test loss: 0.65079 | Test accuracy: 76.13%\n",
            "\n",
            "Epoch: 4\n",
            "==========\n",
            "Train loss: 0.62892 | Train accuracy: 77.00%\n",
            "Test loss: 0.65277 | Test accuracy: 75.95%\n",
            "\n"
          ]
        }
      ]
    },
    {
      "cell_type": "code",
      "source": [
        "def eval_model(model: torch.nn.Module,\n",
        "               data_loader: torch.utils.data.DataLoader,\n",
        "               loss_fn: torch.nn.Module,\n",
        "               accuracy_fn):\n",
        "    \"\"\"\n",
        "    returns a dict containing the result of model prediction on data_loader\n",
        "    \"\"\"\n",
        "\n",
        "    loss, acc = 0, 0\n",
        "\n",
        "    model.eval()\n",
        "    with torch.inference_mode():\n",
        "        for X, y in data_loader:\n",
        "            # put data to GPU\n",
        "            X, y = X.to(device), y.to(device)\n",
        "\n",
        "            # Make prediction\n",
        "            y_pred = model(X)\n",
        "\n",
        "            # Accumulate the loss and acc values per batch\n",
        "            loss = loss + loss_fn(y_pred, y)\n",
        "            acc = acc + accuracy_fn(y_true=y,\n",
        "                                    y_pred=y_pred.argmax(dim=1))\n",
        "\n",
        "        # Scale loss and acc and find average loss/acc per batch\n",
        "        loss = loss / len(data_loader)\n",
        "        acc = acc / len(data_loader)\n",
        "\n",
        "    #\n",
        "    return {\"model_name\": model.__class__.__name__,\n",
        "            # 僅適用 model was created with a class\n",
        "\n",
        "            \"model_loss\": loss.item(),\n",
        "            \"model_acc\": acc}"
      ],
      "metadata": {
        "id": "Jvm5LgxvlZ9Y"
      },
      "execution_count": 34,
      "outputs": []
    },
    {
      "cell_type": "code",
      "source": [
        "# compare with each other\n",
        "model_1_results = eval_model(model = model_1,\n",
        "                             data_loader = test_dataloader,\n",
        "                             loss_fn = loss_fn,\n",
        "                             accuracy_fn = accuracy_fn)"
      ],
      "metadata": {
        "id": "37jbrj7AkRmp"
      },
      "execution_count": 35,
      "outputs": []
    },
    {
      "cell_type": "markdown",
      "source": [
        "# **=== Recap ===**\n",
        "model_0 vs model_1\n",
        "1. 都使用了 nn.Flatten()\n",
        "1. model_1 多加了 nn.ReLU()\n",
        "2. model_1 改使用 GPU\n",
        "3. 但, **兩模型成效差不多**"
      ],
      "metadata": {
        "id": "THLlK8gZmno_"
      }
    },
    {
      "cell_type": "code",
      "source": [
        "model_0_results, \"=\"*25, model_1_results"
      ],
      "metadata": {
        "colab": {
          "base_uri": "https://localhost:8080/"
        },
        "id": "7PJlel1gY7rw",
        "outputId": "500ba42b-9215-444f-a317-3baf5deed0f6"
      },
      "execution_count": 36,
      "outputs": [
        {
          "output_type": "execute_result",
          "data": {
            "text/plain": [
              "({'model_name': 'FashionMNISTModelV0',\n",
              "  'model_loss': 0.4798120856285095,\n",
              "  'model_acc': 82.98722044728434},\n",
              " '=========================',\n",
              " {'model_name': 'FashionMNISTModelV1',\n",
              "  'model_loss': 0.6527653932571411,\n",
              "  'model_acc': 75.94848242811501})"
            ]
          },
          "metadata": {},
          "execution_count": 36
        }
      ]
    },
    {
      "cell_type": "markdown",
      "source": [
        "# **=== 6. Build a CNN ===**\n",
        "1. nn.Faltten() VS. nn.Conv2d()\n",
        "    一維化 VS. 特徵擷取\n",
        "2. 簡單介紹\n",
        "    https://poloclub.github.io/cnn-explainer/"
      ],
      "metadata": {
        "id": "Vx1Zlnh_89Br"
      }
    },
    {
      "cell_type": "code",
      "source": [
        "# model_2 設置簡單的CNN\n",
        "\n",
        "# Subclass\n",
        "class FashionMNISTModelV2(nn.Module):\n",
        "    def __init__(self,\n",
        "                 input_shape: int,\n",
        "                 hidden_units: int,\n",
        "                 output_shape: int):\n",
        "        # Inherit\n",
        "        super().__init__()\n",
        "\n",
        "        # 卷積層\n",
        "        # Blocks (layer + layer ...)\n",
        "        self.conv_block_1 = nn.Sequential(\n",
        "            nn.Conv2d(in_channels = input_shape,\n",
        "                      out_channels = hidden_units,\n",
        "                      kernel_size = (3,3),\n",
        "                      stride = 1,\n",
        "                      padding = 1),\n",
        "            nn.ReLU(),\n",
        "            nn.Conv2d(in_channels = hidden_units,\n",
        "                      out_channels = hidden_units,\n",
        "                      kernel_size = (3,3),\n",
        "                      stride = 1,\n",
        "                      padding = 1),\n",
        "            nn.ReLU(),\n",
        "            nn.MaxPool2d(kernel_size = (2,2))\n",
        "        )\n",
        "\n",
        "        self.conv_block_2 = nn.Sequential(\n",
        "            nn.Conv2d(in_channels = hidden_units,\n",
        "                      out_channels = hidden_units,\n",
        "                      kernel_size = (3,3),\n",
        "                      stride = 1,\n",
        "                      padding = 1),\n",
        "            nn.ReLU(),\n",
        "            nn.Conv2d(in_channels = hidden_units,\n",
        "                      out_channels = hidden_units,\n",
        "                      kernel_size = (3,3),\n",
        "                      stride = 1,\n",
        "                      padding = 1),\n",
        "            nn.ReLU(),\n",
        "            nn.MaxPool2d(kernel_size = (2,2))\n",
        "        )\n",
        "\n",
        "        # 分類層\n",
        "        # Classifier\n",
        "        self.classifier = nn.Sequential(\n",
        "            nn.Flatten(),\n",
        "            nn.Linear(in_features = hidden_units*7*7,\n",
        "                      out_features = output_shape)\n",
        "        )\n",
        "\n",
        "    # Forward pass\n",
        "    def forward(self, x):\n",
        "        x = self.conv_block_1(x)\n",
        "        # print(\"After block_1: \", x.shape)\n",
        "        x = self.conv_block_2(x)\n",
        "        # print(\"After block_2: \", x.shape)\n",
        "        x = self.classifier(x)\n",
        "        return x"
      ],
      "metadata": {
        "id": "eWt0coiq9C4d"
      },
      "execution_count": 37,
      "outputs": []
    },
    {
      "cell_type": "code",
      "source": [
        "# 建立 CNN\n",
        "torch.manual_seed(42)\n",
        "\n",
        "model_2 = FashionMNISTModelV2(input_shape=1,  # FashionMNIST 為黑白圖片\n",
        "                              hidden_units=10,\n",
        "                              output_shape=len(class_names)).to(device)"
      ],
      "metadata": {
        "id": "dWN7bmeKr4Yo"
      },
      "execution_count": 38,
      "outputs": []
    },
    {
      "cell_type": "markdown",
      "source": [
        "# 6.1 CNN explain\n",
        "\n",
        "1. `Conv2d()`\n",
        "    1. 擷取特徵 (in -> out)\n",
        "    2. 卷積核 大小\n",
        "    3. 步長\n",
        "    4. 擴增原圖\n",
        "2. `MaxPool2d()` & `AveragePool2d()`\n",
        "    減少空間特徵\n",
        "    1. 取最大值 -> 擷取邊緣\n",
        "    2. 取平均值 -> 模糊化"
      ],
      "metadata": {
        "id": "ZVEv00uTuGwM"
      }
    },
    {
      "cell_type": "code",
      "source": [
        "# Create a batch of image (注意shape)\n",
        "images = torch.randn(size = (32, 3, 64, 64))  # 32張 彩色 64*64圖片\n",
        "\n",
        "# 取一\n",
        "test_image = images[0]\n",
        "\n",
        "# 檢查shape\n",
        "print(f\"Batch shape: {images.shape}\")\n",
        "print(f\"image shape: {test_image.shape}\")"
      ],
      "metadata": {
        "colab": {
          "base_uri": "https://localhost:8080/"
        },
        "id": "jIaJ7QXFubHp",
        "outputId": "a3a36a63-efa1-4c86-ac3e-e4c2247b2ddd"
      },
      "execution_count": 39,
      "outputs": [
        {
          "output_type": "stream",
          "name": "stdout",
          "text": [
            "Batch shape: torch.Size([32, 3, 64, 64])\n",
            "image shape: torch.Size([3, 64, 64])\n"
          ]
        }
      ]
    },
    {
      "cell_type": "code",
      "source": [
        "# Creata a single Conv2d layer\n",
        "temp_conv2d = nn.Conv2d(in_channels = 3,\n",
        "                        out_channels = 10,\n",
        "                        kernel_size = (3, 3),\n",
        "                        stride = 1,\n",
        "                        padding = 1)\n",
        "\n",
        "# Pass the data through \"temp_conv2d\"\n",
        "conv2d_output = temp_conv2d(test_image)\n",
        "\n",
        "# Check shape\n",
        "print(f\"shape 'Before' conv2d: {test_image.shape}\")\n",
        "print(f\"shape 'After' conv2d: {conv2d_output.shape}\")"
      ],
      "metadata": {
        "colab": {
          "base_uri": "https://localhost:8080/"
        },
        "id": "VH3Fn7Qcvx2r",
        "outputId": "cc4dbfb7-04f1-449a-e125-221e77eb1288"
      },
      "execution_count": 40,
      "outputs": [
        {
          "output_type": "stream",
          "name": "stdout",
          "text": [
            "shape 'Before' conv2d: torch.Size([3, 64, 64])\n",
            "shape 'After' conv2d: torch.Size([10, 64, 64])\n"
          ]
        }
      ]
    },
    {
      "cell_type": "code",
      "source": [
        "# Create a single Maxpool2d layer\n",
        "temp_maxpool = nn.MaxPool2d(kernel_size = (2, 2))\n",
        "\n",
        "# Pass the \"conv2d_output\" through \"temp_maxpool\"\n",
        "maxpool_output = temp_maxpool(conv2d_output)\n",
        "\n",
        "# Check shape\n",
        "print(f\"shape 'Before' maxpool: {conv2d_output.shape}\")\n",
        "print(f\"shape 'Before' maxpool: {maxpool_output.shape}\")"
      ],
      "metadata": {
        "colab": {
          "base_uri": "https://localhost:8080/"
        },
        "id": "g0P_VTDlgtKr",
        "outputId": "1058aeb4-6f38-487b-b4b1-247b114f6085"
      },
      "execution_count": 41,
      "outputs": [
        {
          "output_type": "stream",
          "name": "stdout",
          "text": [
            "shape 'Before' maxpool: torch.Size([10, 64, 64])\n",
            "shape 'Before' maxpool: torch.Size([10, 32, 32])\n"
          ]
        }
      ]
    },
    {
      "cell_type": "markdown",
      "source": [
        "# 6.2 FashionMNIST 通過 model_2卷積層\n",
        "圖片通過 model_2 卷積層 (尚未訓練)\n"
      ],
      "metadata": {
        "id": "ArQvynRno972"
      }
    },
    {
      "cell_type": "code",
      "source": [
        "# FashionMNIST 第一張圖 -> image\n",
        "# plt.imshow(image.squeeze(), cmap=\"gray\")\n",
        "\n",
        "# 設置 device\n",
        "# image = image.unsqueeze(dim=0).to(device)\n",
        "\n",
        "# 通過 model_2\n",
        "# model_2(image)"
      ],
      "metadata": {
        "id": "CoFPpLx_k1rk"
      },
      "execution_count": 42,
      "outputs": []
    },
    {
      "cell_type": "code",
      "source": [
        "# 上面錯誤, 源自於 model_2 的\"分類層\"\n",
        "# nn.Flatten(),\n",
        "# nn.Linear(in_features = hidden_units ..."
      ],
      "metadata": {
        "id": "PIY9_R-9mceN"
      },
      "execution_count": 43,
      "outputs": []
    },
    {
      "cell_type": "code",
      "source": [
        "# 硬 更正模型\n",
        "        # self.classifier = nn.Sequential(\n",
        "        #     nn.Flatten(),\n",
        "#!!!    #     nn.Linear(in_features = hidden_units*7*7,\n",
        "        #               out_features = output_shape)\n",
        "        # )"
      ],
      "metadata": {
        "id": "b61B4bt4npwc"
      },
      "execution_count": 44,
      "outputs": []
    },
    {
      "cell_type": "code",
      "source": [
        "# 設置 device\n",
        "image = image.unsqueeze(dim=0).to(device)\n",
        "\n",
        "# 通過 model_2\n",
        "model_2(image)"
      ],
      "metadata": {
        "colab": {
          "base_uri": "https://localhost:8080/"
        },
        "id": "yQg-eJtpn-Wp",
        "outputId": "a72a503e-9b0d-4e3d-8b6a-38e3d4d199f7"
      },
      "execution_count": 45,
      "outputs": [
        {
          "output_type": "execute_result",
          "data": {
            "text/plain": [
              "tensor([[ 0.0246, -0.0644,  0.0551, -0.0360, -0.0139,  0.0113, -0.0014, -0.0075,\n",
              "          0.0213,  0.0076]], device='cuda:0', grad_fn=<AddmmBackward0>)"
            ]
          },
          "metadata": {},
          "execution_count": 45
        }
      ]
    },
    {
      "cell_type": "markdown",
      "source": [
        "# 6.3 完善 model_2\n",
        "1. Loss\n",
        "2. Optimizer\n",
        "3. Train function\n",
        "4. Test function\n",
        "5. Eval function"
      ],
      "metadata": {
        "id": "Q3xhlFMZqmLz"
      }
    },
    {
      "cell_type": "code",
      "source": [
        "# 設置 Loss\n",
        "loss_fn = nn.CrossEntropyLoss()"
      ],
      "metadata": {
        "id": "bIDhMifApdIj"
      },
      "execution_count": 46,
      "outputs": []
    },
    {
      "cell_type": "code",
      "source": [
        "# 設置 Optimizer\n",
        "optimizer = torch.optim.SGD(params = model_2.parameters(),\n",
        "                            lr = 0.1)"
      ],
      "metadata": {
        "id": "Hm1t2XYpp3IL"
      },
      "execution_count": 47,
      "outputs": []
    },
    {
      "cell_type": "code",
      "source": [
        "torch.manual_seed(42)\n",
        "\n",
        "start_time = timer()\n",
        "\n",
        "epochs = 3\n",
        "for epoch in range(epochs):\n",
        "    print(f\"Epoch: {epoch}\\n==========\")\n",
        "\n",
        "    train_step(model = model_2,\n",
        "               data_loader = train_dataloader,\n",
        "               loss_fn = loss_fn,\n",
        "               optimizer = optimizer,\n",
        "               accuracy_fn = accuracy_fn,\n",
        "               device = device)\n",
        "\n",
        "    test_step(model = model_2,\n",
        "              data_loader = test_dataloader,\n",
        "              loss_fn = loss_fn,\n",
        "              accuracy_fn = accuracy_fn,\n",
        "              device = device)\n",
        "\n",
        "end_time = timer()\n",
        "model_2_time = end_time - start_time"
      ],
      "metadata": {
        "colab": {
          "base_uri": "https://localhost:8080/"
        },
        "id": "owUfzJiOqccZ",
        "outputId": "ea9635c2-b775-4276-c8fa-96b5f588ed64"
      },
      "execution_count": 48,
      "outputs": [
        {
          "output_type": "stream",
          "name": "stdout",
          "text": [
            "Epoch: 0\n",
            "==========\n",
            "Train loss: 0.59534 | Train accuracy: 78.23%\n",
            "Test loss: 0.39143 | Test accuracy: 86.00%\n",
            "\n",
            "Epoch: 1\n",
            "==========\n",
            "Train loss: 0.35917 | Train accuracy: 87.06%\n",
            "Test loss: 0.34865 | Test accuracy: 87.36%\n",
            "\n",
            "Epoch: 2\n",
            "==========\n",
            "Train loss: 0.31868 | Train accuracy: 88.28%\n",
            "Test loss: 0.33221 | Test accuracy: 88.05%\n",
            "\n"
          ]
        }
      ]
    },
    {
      "cell_type": "code",
      "source": [
        "model_2_results = eval_model(model = model_2,\n",
        "                             data_loader = test_dataloader,\n",
        "                             loss_fn = loss_fn,\n",
        "                             accuracy_fn = accuracy_fn)"
      ],
      "metadata": {
        "id": "NyfDrBIQs949"
      },
      "execution_count": 49,
      "outputs": []
    },
    {
      "cell_type": "markdown",
      "source": [
        "# **=== Recap ===**\n",
        "model_0, model_1, model_2"
      ],
      "metadata": {
        "id": "YMUEe8aQtl60"
      }
    },
    {
      "cell_type": "code",
      "source": [
        "model_0_results, \"=\"*25, model_1_results, \"=\"*25, model_2_results"
      ],
      "metadata": {
        "colab": {
          "base_uri": "https://localhost:8080/"
        },
        "id": "5mPbKvg8tMoz",
        "outputId": "c36c500b-8d95-4ee5-d958-88830dd3df3c"
      },
      "execution_count": 50,
      "outputs": [
        {
          "output_type": "execute_result",
          "data": {
            "text/plain": [
              "({'model_name': 'FashionMNISTModelV0',\n",
              "  'model_loss': 0.4798120856285095,\n",
              "  'model_acc': 82.98722044728434},\n",
              " '=========================',\n",
              " {'model_name': 'FashionMNISTModelV1',\n",
              "  'model_loss': 0.6527653932571411,\n",
              "  'model_acc': 75.94848242811501},\n",
              " '=========================',\n",
              " {'model_name': 'FashionMNISTModelV2',\n",
              "  'model_loss': 0.33221176266670227,\n",
              "  'model_acc': 88.0491214057508})"
            ]
          },
          "metadata": {},
          "execution_count": 50
        }
      ]
    },
    {
      "cell_type": "markdown",
      "source": [
        "# 6.3 Function of checking model info"
      ],
      "metadata": {
        "id": "ijoJ-zPpKF3o"
      }
    },
    {
      "cell_type": "code",
      "source": [
        "# 檢查方式一\n",
        "import torchsummary\n",
        "\n",
        "torchsummary.summary(model_2, (1, 28, 28))"
      ],
      "metadata": {
        "id": "3_TnHapyUJTb",
        "colab": {
          "base_uri": "https://localhost:8080/"
        },
        "outputId": "51a90944-9325-493d-c06e-df9b819216c0"
      },
      "execution_count": 51,
      "outputs": [
        {
          "output_type": "stream",
          "name": "stdout",
          "text": [
            "----------------------------------------------------------------\n",
            "        Layer (type)               Output Shape         Param #\n",
            "================================================================\n",
            "            Conv2d-1           [-1, 10, 28, 28]             100\n",
            "              ReLU-2           [-1, 10, 28, 28]               0\n",
            "            Conv2d-3           [-1, 10, 28, 28]             910\n",
            "              ReLU-4           [-1, 10, 28, 28]               0\n",
            "         MaxPool2d-5           [-1, 10, 14, 14]               0\n",
            "            Conv2d-6           [-1, 10, 14, 14]             910\n",
            "              ReLU-7           [-1, 10, 14, 14]               0\n",
            "            Conv2d-8           [-1, 10, 14, 14]             910\n",
            "              ReLU-9           [-1, 10, 14, 14]               0\n",
            "        MaxPool2d-10             [-1, 10, 7, 7]               0\n",
            "          Flatten-11                  [-1, 490]               0\n",
            "           Linear-12                   [-1, 10]           4,910\n",
            "================================================================\n",
            "Total params: 7,740\n",
            "Trainable params: 7,740\n",
            "Non-trainable params: 0\n",
            "----------------------------------------------------------------\n",
            "Input size (MB): 0.00\n",
            "Forward/backward pass size (MB): 0.32\n",
            "Params size (MB): 0.03\n",
            "Estimated Total Size (MB): 0.35\n",
            "----------------------------------------------------------------\n"
          ]
        }
      ]
    },
    {
      "cell_type": "code",
      "source": [
        "# 檢查方式二\n",
        "!pip install torchinfo\n",
        "import torchinfo\n",
        "\n",
        "torchinfo.summary(model_2, (10, 1, 28, 28))"
      ],
      "metadata": {
        "id": "Vco_fJMZUNi9",
        "colab": {
          "base_uri": "https://localhost:8080/"
        },
        "outputId": "83dbd57c-908b-45ed-9046-961e00349070"
      },
      "execution_count": 52,
      "outputs": [
        {
          "output_type": "stream",
          "name": "stdout",
          "text": [
            "Looking in indexes: https://pypi.org/simple, https://us-python.pkg.dev/colab-wheels/public/simple/\n",
            "Collecting torchinfo\n",
            "  Downloading torchinfo-1.8.0-py3-none-any.whl (23 kB)\n",
            "Installing collected packages: torchinfo\n",
            "Successfully installed torchinfo-1.8.0\n"
          ]
        },
        {
          "output_type": "execute_result",
          "data": {
            "text/plain": [
              "==========================================================================================\n",
              "Layer (type:depth-idx)                   Output Shape              Param #\n",
              "==========================================================================================\n",
              "FashionMNISTModelV2                      [10, 10]                  --\n",
              "├─Sequential: 1-1                        [10, 10, 14, 14]          --\n",
              "│    └─Conv2d: 2-1                       [10, 10, 28, 28]          100\n",
              "│    └─ReLU: 2-2                         [10, 10, 28, 28]          --\n",
              "│    └─Conv2d: 2-3                       [10, 10, 28, 28]          910\n",
              "│    └─ReLU: 2-4                         [10, 10, 28, 28]          --\n",
              "│    └─MaxPool2d: 2-5                    [10, 10, 14, 14]          --\n",
              "├─Sequential: 1-2                        [10, 10, 7, 7]            --\n",
              "│    └─Conv2d: 2-6                       [10, 10, 14, 14]          910\n",
              "│    └─ReLU: 2-7                         [10, 10, 14, 14]          --\n",
              "│    └─Conv2d: 2-8                       [10, 10, 14, 14]          910\n",
              "│    └─ReLU: 2-9                         [10, 10, 14, 14]          --\n",
              "│    └─MaxPool2d: 2-10                   [10, 10, 7, 7]            --\n",
              "├─Sequential: 1-3                        [10, 10]                  --\n",
              "│    └─Flatten: 2-11                     [10, 490]                 --\n",
              "│    └─Linear: 2-12                      [10, 10]                  4,910\n",
              "==========================================================================================\n",
              "Total params: 7,740\n",
              "Trainable params: 7,740\n",
              "Non-trainable params: 0\n",
              "Total mult-adds (M): 11.53\n",
              "==========================================================================================\n",
              "Input size (MB): 0.03\n",
              "Forward/backward pass size (MB): 1.57\n",
              "Params size (MB): 0.03\n",
              "Estimated Total Size (MB): 1.63\n",
              "=========================================================================================="
            ]
          },
          "metadata": {},
          "execution_count": 52
        }
      ]
    },
    {
      "cell_type": "markdown",
      "source": [
        "# **=== 7. 比較以上三種模型 ===**\n",
        "1. DataFrame\n",
        "2. Visualize"
      ],
      "metadata": {
        "id": "V6xCCfDaXIlV"
      }
    },
    {
      "cell_type": "code",
      "source": [
        "import pandas as pd\n",
        "\n",
        "compare_results = pd.DataFrame([model_0_results,\n",
        "                                model_1_results,\n",
        "                                model_2_results])\n",
        "\n",
        "compare_results"
      ],
      "metadata": {
        "id": "np1KqI5RW1rs",
        "colab": {
          "base_uri": "https://localhost:8080/",
          "height": 0
        },
        "outputId": "31b8431d-0322-49da-a06f-5b589f23ccf6"
      },
      "execution_count": 53,
      "outputs": [
        {
          "output_type": "execute_result",
          "data": {
            "text/plain": [
              "            model_name  model_loss  model_acc\n",
              "0  FashionMNISTModelV0    0.479812  82.987220\n",
              "1  FashionMNISTModelV1    0.652765  75.948482\n",
              "2  FashionMNISTModelV2    0.332212  88.049121"
            ],
            "text/html": [
              "\n",
              "  <div id=\"df-f403934a-41f3-4baa-9290-d2445901d133\">\n",
              "    <div class=\"colab-df-container\">\n",
              "      <div>\n",
              "<style scoped>\n",
              "    .dataframe tbody tr th:only-of-type {\n",
              "        vertical-align: middle;\n",
              "    }\n",
              "\n",
              "    .dataframe tbody tr th {\n",
              "        vertical-align: top;\n",
              "    }\n",
              "\n",
              "    .dataframe thead th {\n",
              "        text-align: right;\n",
              "    }\n",
              "</style>\n",
              "<table border=\"1\" class=\"dataframe\">\n",
              "  <thead>\n",
              "    <tr style=\"text-align: right;\">\n",
              "      <th></th>\n",
              "      <th>model_name</th>\n",
              "      <th>model_loss</th>\n",
              "      <th>model_acc</th>\n",
              "    </tr>\n",
              "  </thead>\n",
              "  <tbody>\n",
              "    <tr>\n",
              "      <th>0</th>\n",
              "      <td>FashionMNISTModelV0</td>\n",
              "      <td>0.479812</td>\n",
              "      <td>82.987220</td>\n",
              "    </tr>\n",
              "    <tr>\n",
              "      <th>1</th>\n",
              "      <td>FashionMNISTModelV1</td>\n",
              "      <td>0.652765</td>\n",
              "      <td>75.948482</td>\n",
              "    </tr>\n",
              "    <tr>\n",
              "      <th>2</th>\n",
              "      <td>FashionMNISTModelV2</td>\n",
              "      <td>0.332212</td>\n",
              "      <td>88.049121</td>\n",
              "    </tr>\n",
              "  </tbody>\n",
              "</table>\n",
              "</div>\n",
              "      <button class=\"colab-df-convert\" onclick=\"convertToInteractive('df-f403934a-41f3-4baa-9290-d2445901d133')\"\n",
              "              title=\"Convert this dataframe to an interactive table.\"\n",
              "              style=\"display:none;\">\n",
              "        \n",
              "  <svg xmlns=\"http://www.w3.org/2000/svg\" height=\"24px\"viewBox=\"0 0 24 24\"\n",
              "       width=\"24px\">\n",
              "    <path d=\"M0 0h24v24H0V0z\" fill=\"none\"/>\n",
              "    <path d=\"M18.56 5.44l.94 2.06.94-2.06 2.06-.94-2.06-.94-.94-2.06-.94 2.06-2.06.94zm-11 1L8.5 8.5l.94-2.06 2.06-.94-2.06-.94L8.5 2.5l-.94 2.06-2.06.94zm10 10l.94 2.06.94-2.06 2.06-.94-2.06-.94-.94-2.06-.94 2.06-2.06.94z\"/><path d=\"M17.41 7.96l-1.37-1.37c-.4-.4-.92-.59-1.43-.59-.52 0-1.04.2-1.43.59L10.3 9.45l-7.72 7.72c-.78.78-.78 2.05 0 2.83L4 21.41c.39.39.9.59 1.41.59.51 0 1.02-.2 1.41-.59l7.78-7.78 2.81-2.81c.8-.78.8-2.07 0-2.86zM5.41 20L4 18.59l7.72-7.72 1.47 1.35L5.41 20z\"/>\n",
              "  </svg>\n",
              "      </button>\n",
              "      \n",
              "  <style>\n",
              "    .colab-df-container {\n",
              "      display:flex;\n",
              "      flex-wrap:wrap;\n",
              "      gap: 12px;\n",
              "    }\n",
              "\n",
              "    .colab-df-convert {\n",
              "      background-color: #E8F0FE;\n",
              "      border: none;\n",
              "      border-radius: 50%;\n",
              "      cursor: pointer;\n",
              "      display: none;\n",
              "      fill: #1967D2;\n",
              "      height: 32px;\n",
              "      padding: 0 0 0 0;\n",
              "      width: 32px;\n",
              "    }\n",
              "\n",
              "    .colab-df-convert:hover {\n",
              "      background-color: #E2EBFA;\n",
              "      box-shadow: 0px 1px 2px rgba(60, 64, 67, 0.3), 0px 1px 3px 1px rgba(60, 64, 67, 0.15);\n",
              "      fill: #174EA6;\n",
              "    }\n",
              "\n",
              "    [theme=dark] .colab-df-convert {\n",
              "      background-color: #3B4455;\n",
              "      fill: #D2E3FC;\n",
              "    }\n",
              "\n",
              "    [theme=dark] .colab-df-convert:hover {\n",
              "      background-color: #434B5C;\n",
              "      box-shadow: 0px 1px 3px 1px rgba(0, 0, 0, 0.15);\n",
              "      filter: drop-shadow(0px 1px 2px rgba(0, 0, 0, 0.3));\n",
              "      fill: #FFFFFF;\n",
              "    }\n",
              "  </style>\n",
              "\n",
              "      <script>\n",
              "        const buttonEl =\n",
              "          document.querySelector('#df-f403934a-41f3-4baa-9290-d2445901d133 button.colab-df-convert');\n",
              "        buttonEl.style.display =\n",
              "          google.colab.kernel.accessAllowed ? 'block' : 'none';\n",
              "\n",
              "        async function convertToInteractive(key) {\n",
              "          const element = document.querySelector('#df-f403934a-41f3-4baa-9290-d2445901d133');\n",
              "          const dataTable =\n",
              "            await google.colab.kernel.invokeFunction('convertToInteractive',\n",
              "                                                     [key], {});\n",
              "          if (!dataTable) return;\n",
              "\n",
              "          const docLinkHtml = 'Like what you see? Visit the ' +\n",
              "            '<a target=\"_blank\" href=https://colab.research.google.com/notebooks/data_table.ipynb>data table notebook</a>'\n",
              "            + ' to learn more about interactive tables.';\n",
              "          element.innerHTML = '';\n",
              "          dataTable['output_type'] = 'display_data';\n",
              "          await google.colab.output.renderOutput(dataTable, element);\n",
              "          const docLink = document.createElement('div');\n",
              "          docLink.innerHTML = docLinkHtml;\n",
              "          element.appendChild(docLink);\n",
              "        }\n",
              "      </script>\n",
              "    </div>\n",
              "  </div>\n",
              "  "
            ]
          },
          "metadata": {},
          "execution_count": 53
        }
      ]
    },
    {
      "cell_type": "code",
      "source": [
        "# Add training time to result comparison\n",
        "compare_results[\"training_time\"] = [model_0_time,\n",
        "                                    model_1_time,\n",
        "                                    model_2_time]\n",
        "\n",
        "compare_results"
      ],
      "metadata": {
        "id": "p5EAO5gwcglj",
        "colab": {
          "base_uri": "https://localhost:8080/",
          "height": 0
        },
        "outputId": "6d9c8ae7-cf14-4450-e6d9-e632cef26293"
      },
      "execution_count": 54,
      "outputs": [
        {
          "output_type": "execute_result",
          "data": {
            "text/plain": [
              "            model_name  model_loss  model_acc  training_time\n",
              "0  FashionMNISTModelV0    0.479812  82.987220      55.587440\n",
              "1  FashionMNISTModelV1    0.652765  75.948482      69.556915\n",
              "2  FashionMNISTModelV2    0.332212  88.049121      41.752316"
            ],
            "text/html": [
              "\n",
              "  <div id=\"df-6aecd39d-5ca6-45ee-8a30-44ac1a21b3ba\">\n",
              "    <div class=\"colab-df-container\">\n",
              "      <div>\n",
              "<style scoped>\n",
              "    .dataframe tbody tr th:only-of-type {\n",
              "        vertical-align: middle;\n",
              "    }\n",
              "\n",
              "    .dataframe tbody tr th {\n",
              "        vertical-align: top;\n",
              "    }\n",
              "\n",
              "    .dataframe thead th {\n",
              "        text-align: right;\n",
              "    }\n",
              "</style>\n",
              "<table border=\"1\" class=\"dataframe\">\n",
              "  <thead>\n",
              "    <tr style=\"text-align: right;\">\n",
              "      <th></th>\n",
              "      <th>model_name</th>\n",
              "      <th>model_loss</th>\n",
              "      <th>model_acc</th>\n",
              "      <th>training_time</th>\n",
              "    </tr>\n",
              "  </thead>\n",
              "  <tbody>\n",
              "    <tr>\n",
              "      <th>0</th>\n",
              "      <td>FashionMNISTModelV0</td>\n",
              "      <td>0.479812</td>\n",
              "      <td>82.987220</td>\n",
              "      <td>55.587440</td>\n",
              "    </tr>\n",
              "    <tr>\n",
              "      <th>1</th>\n",
              "      <td>FashionMNISTModelV1</td>\n",
              "      <td>0.652765</td>\n",
              "      <td>75.948482</td>\n",
              "      <td>69.556915</td>\n",
              "    </tr>\n",
              "    <tr>\n",
              "      <th>2</th>\n",
              "      <td>FashionMNISTModelV2</td>\n",
              "      <td>0.332212</td>\n",
              "      <td>88.049121</td>\n",
              "      <td>41.752316</td>\n",
              "    </tr>\n",
              "  </tbody>\n",
              "</table>\n",
              "</div>\n",
              "      <button class=\"colab-df-convert\" onclick=\"convertToInteractive('df-6aecd39d-5ca6-45ee-8a30-44ac1a21b3ba')\"\n",
              "              title=\"Convert this dataframe to an interactive table.\"\n",
              "              style=\"display:none;\">\n",
              "        \n",
              "  <svg xmlns=\"http://www.w3.org/2000/svg\" height=\"24px\"viewBox=\"0 0 24 24\"\n",
              "       width=\"24px\">\n",
              "    <path d=\"M0 0h24v24H0V0z\" fill=\"none\"/>\n",
              "    <path d=\"M18.56 5.44l.94 2.06.94-2.06 2.06-.94-2.06-.94-.94-2.06-.94 2.06-2.06.94zm-11 1L8.5 8.5l.94-2.06 2.06-.94-2.06-.94L8.5 2.5l-.94 2.06-2.06.94zm10 10l.94 2.06.94-2.06 2.06-.94-2.06-.94-.94-2.06-.94 2.06-2.06.94z\"/><path d=\"M17.41 7.96l-1.37-1.37c-.4-.4-.92-.59-1.43-.59-.52 0-1.04.2-1.43.59L10.3 9.45l-7.72 7.72c-.78.78-.78 2.05 0 2.83L4 21.41c.39.39.9.59 1.41.59.51 0 1.02-.2 1.41-.59l7.78-7.78 2.81-2.81c.8-.78.8-2.07 0-2.86zM5.41 20L4 18.59l7.72-7.72 1.47 1.35L5.41 20z\"/>\n",
              "  </svg>\n",
              "      </button>\n",
              "      \n",
              "  <style>\n",
              "    .colab-df-container {\n",
              "      display:flex;\n",
              "      flex-wrap:wrap;\n",
              "      gap: 12px;\n",
              "    }\n",
              "\n",
              "    .colab-df-convert {\n",
              "      background-color: #E8F0FE;\n",
              "      border: none;\n",
              "      border-radius: 50%;\n",
              "      cursor: pointer;\n",
              "      display: none;\n",
              "      fill: #1967D2;\n",
              "      height: 32px;\n",
              "      padding: 0 0 0 0;\n",
              "      width: 32px;\n",
              "    }\n",
              "\n",
              "    .colab-df-convert:hover {\n",
              "      background-color: #E2EBFA;\n",
              "      box-shadow: 0px 1px 2px rgba(60, 64, 67, 0.3), 0px 1px 3px 1px rgba(60, 64, 67, 0.15);\n",
              "      fill: #174EA6;\n",
              "    }\n",
              "\n",
              "    [theme=dark] .colab-df-convert {\n",
              "      background-color: #3B4455;\n",
              "      fill: #D2E3FC;\n",
              "    }\n",
              "\n",
              "    [theme=dark] .colab-df-convert:hover {\n",
              "      background-color: #434B5C;\n",
              "      box-shadow: 0px 1px 3px 1px rgba(0, 0, 0, 0.15);\n",
              "      filter: drop-shadow(0px 1px 2px rgba(0, 0, 0, 0.3));\n",
              "      fill: #FFFFFF;\n",
              "    }\n",
              "  </style>\n",
              "\n",
              "      <script>\n",
              "        const buttonEl =\n",
              "          document.querySelector('#df-6aecd39d-5ca6-45ee-8a30-44ac1a21b3ba button.colab-df-convert');\n",
              "        buttonEl.style.display =\n",
              "          google.colab.kernel.accessAllowed ? 'block' : 'none';\n",
              "\n",
              "        async function convertToInteractive(key) {\n",
              "          const element = document.querySelector('#df-6aecd39d-5ca6-45ee-8a30-44ac1a21b3ba');\n",
              "          const dataTable =\n",
              "            await google.colab.kernel.invokeFunction('convertToInteractive',\n",
              "                                                     [key], {});\n",
              "          if (!dataTable) return;\n",
              "\n",
              "          const docLinkHtml = 'Like what you see? Visit the ' +\n",
              "            '<a target=\"_blank\" href=https://colab.research.google.com/notebooks/data_table.ipynb>data table notebook</a>'\n",
              "            + ' to learn more about interactive tables.';\n",
              "          element.innerHTML = '';\n",
              "          dataTable['output_type'] = 'display_data';\n",
              "          await google.colab.output.renderOutput(dataTable, element);\n",
              "          const docLink = document.createElement('div');\n",
              "          docLink.innerHTML = docLinkHtml;\n",
              "          element.appendChild(docLink);\n",
              "        }\n",
              "      </script>\n",
              "    </div>\n",
              "  </div>\n",
              "  "
            ]
          },
          "metadata": {},
          "execution_count": 54
        }
      ]
    },
    {
      "cell_type": "code",
      "source": [
        "# Visualize our model results\n",
        "compare_results.set_index(\"model_name\")[\"model_acc\"].plot(kind=\"barh\")\n",
        "plt.xlabel(\"accuracy (%)\")\n",
        "plt.ylabel(\"model\")"
      ],
      "metadata": {
        "id": "iEKedB1NdUF9",
        "colab": {
          "base_uri": "https://localhost:8080/",
          "height": 0
        },
        "outputId": "76610bcb-4c67-48ee-fc9f-0fa83c66184d"
      },
      "execution_count": 55,
      "outputs": [
        {
          "output_type": "execute_result",
          "data": {
            "text/plain": [
              "Text(0, 0.5, 'model')"
            ]
          },
          "metadata": {},
          "execution_count": 55
        },
        {
          "output_type": "display_data",
          "data": {
            "text/plain": [
              "<Figure size 640x480 with 1 Axes>"
            ],
            "image/png": "[encoded data removed]"
          },
          "metadata": {}
        }
      ]
    },
    {
      "cell_type": "markdown",
      "source": [
        "# **=== 8. Random predictions ===**"
      ],
      "metadata": {
        "id": "26eynCOweqmh"
      }
    },
    {
      "cell_type": "code",
      "source": [
        "device = \"cuda\" if torch.cuda.is_available() else \"cpu\""
      ],
      "metadata": {
        "id": "4DtHQcwXzlUW"
      },
      "execution_count": 56,
      "outputs": []
    },
    {
      "cell_type": "code",
      "source": [
        "def make_predictions(model: torch.nn.Module,\n",
        "                     data: list,\n",
        "                     device: torch.device = device):\n",
        "\n",
        "    pred_probs = []\n",
        "\n",
        "    # Set model to device\n",
        "    model.to(device)\n",
        "\n",
        "    # eval mode\n",
        "    model.eval()\n",
        "\n",
        "    with torch.inference_mode():\n",
        "        for sample in data:\n",
        "            # Prepare the sample (add a batch dimension and pass to target device)\n",
        "            sample = torch.unsqueeze(sample, dim=0).to(device)\n",
        "\n",
        "            # Forward pass (model outputs raw logits)\n",
        "            pred_logit = model(sample)\n",
        "\n",
        "            # Get prediction probability (logit -> prediction probability)\n",
        "            pred_prob = torch.softmax(pred_logit.squeeze(), dim=0)\n",
        "\n",
        "            # Get pred_prob off the GPU ( matplotlib無法在GPU上運作 )\n",
        "            pred_probs.append(pred_prob.cpu())\n",
        "\n",
        "    # Stack the pred_probs to turn list into a tensor\n",
        "    return torch.stack(pred_probs)"
      ],
      "metadata": {
        "id": "88_95ZNUeKfU"
      },
      "execution_count": 57,
      "outputs": []
    },
    {
      "cell_type": "code",
      "source": [
        "import random\n",
        "\n",
        "random.seed(42)\n",
        "\n",
        "test_samples = []\n",
        "test_labels = []\n",
        "\n",
        "# 隨機從 test_data 挑選9個\n",
        "for sample, label in random.sample(list(test_data), k=9):\n",
        "    test_samples.append(sample)\n",
        "    test_labels.append(label)\n",
        "\n",
        "# View the first sample shape\n",
        "test_samples[0].shape"
      ],
      "metadata": {
        "id": "MEkGUjWCgPeN",
        "colab": {
          "base_uri": "https://localhost:8080/"
        },
        "outputId": "6e0db71a-66aa-4914-ca48-41d9021399c7"
      },
      "execution_count": 58,
      "outputs": [
        {
          "output_type": "execute_result",
          "data": {
            "text/plain": [
              "torch.Size([1, 28, 28])"
            ]
          },
          "metadata": {},
          "execution_count": 58
        }
      ]
    },
    {
      "cell_type": "code",
      "source": [
        "# 檢查 test_samples & test_labels 有無正確資料\n",
        "plt.imshow(test_samples[0].squeeze(), cmap=\"gray\")\n",
        "plt.title(class_names[test_labels[0]])"
      ],
      "metadata": {
        "id": "85gnQC8dgPzS",
        "colab": {
          "base_uri": "https://localhost:8080/",
          "height": 469
        },
        "outputId": "aee6cae9-50be-46f8-ec62-666320429fc3"
      },
      "execution_count": 59,
      "outputs": [
        {
          "output_type": "execute_result",
          "data": {
            "text/plain": [
              "Text(0.5, 1.0, 'Sandal')"
            ]
          },
          "metadata": {},
          "execution_count": 59
        },
        {
          "output_type": "display_data",
          "data": {
            "text/plain": [
              "<Figure size 640x480 with 1 Axes>"
            ],
            "image/png": "[encoded data removed]"
          },
          "metadata": {}
        }
      ]
    },
    {
      "cell_type": "code",
      "source": [
        "# Make predictions\n",
        "pred_probs = make_predictions(model = model_2,\n",
        "                              data = test_samples)\n",
        "\n",
        "# View first two predictions (這邊只取兩個看一下機率)\n",
        "pred_probs[:2]"
      ],
      "metadata": {
        "id": "DBezJ57yjE1o",
        "colab": {
          "base_uri": "https://localhost:8080/"
        },
        "outputId": "301e2b8e-00cd-413a-e4a9-30639f5da2e4"
      },
      "execution_count": 60,
      "outputs": [
        {
          "output_type": "execute_result",
          "data": {
            "text/plain": [
              "tensor([[1.1689e-07, 4.1025e-08, 6.6779e-08, 5.4774e-06, 5.5253e-09, 9.9993e-01,\n",
              "         9.0486e-07, 2.8700e-06, 1.4694e-05, 4.4193e-05],\n",
              "        [4.6592e-02, 3.7810e-01, 1.3046e-02, 2.2001e-01, 2.2308e-01, 3.0645e-04,\n",
              "         1.1678e-01, 4.4556e-04, 5.1218e-04, 1.1305e-03]])"
            ]
          },
          "metadata": {},
          "execution_count": 60
        }
      ]
    },
    {
      "cell_type": "code",
      "source": [
        "# Convert prediction probabilities to labels\n",
        "pred_classes = pred_probs.argmax(dim=1)\n",
        "pred_classes"
      ],
      "metadata": {
        "id": "A5flPZUJjEvn",
        "colab": {
          "base_uri": "https://localhost:8080/"
        },
        "outputId": "6c697fe9-0ec8-4518-e097-8eb3b781899c"
      },
      "execution_count": 61,
      "outputs": [
        {
          "output_type": "execute_result",
          "data": {
            "text/plain": [
              "tensor([5, 1, 7, 4, 3, 0, 4, 7, 1])"
            ]
          },
          "metadata": {},
          "execution_count": 61
        }
      ]
    },
    {
      "cell_type": "code",
      "source": [
        "# Plot predictions\n",
        "plt.figure(figsize=(9,9))\n",
        "\n",
        "nrows = 3\n",
        "ncols = 3\n",
        "\n",
        "for i, sample in enumerate(test_samples):\n",
        "    # Create subplot\n",
        "    plt.subplot(nrows, ncols, i+1)   # subplot 無法從0開始\n",
        "\n",
        "    # Plot the target image\n",
        "    plt.imshow(sample.squeeze(), cmap=\"gray\")\n",
        "\n",
        "    # Find the prediction (in text form, e.g \"Sandal\")\n",
        "    pred_label = class_names[pred_classes[i]]\n",
        "\n",
        "    # Get the truth label (in text form)\n",
        "    truth_label = class_names[test_labels[i]]\n",
        "\n",
        "    # Create a title for the plot\n",
        "    title_text = f\"Pred: {pred_label} | Truth: {truth_label}\"\n",
        "\n",
        "    # Check equality between pred and truth and change the text color\n",
        "    # 如正確 字體為綠色\n",
        "    if pred_label == truth_label:\n",
        "        plt.title(title_text, fontsize=10, c=\"b\")\n",
        "    else:\n",
        "        plt.title(title_text, fontsize=10, c=\"r\")\n",
        "\n",
        "    plt.axis(\"off\")"
      ],
      "metadata": {
        "id": "SVkkFYvskgca",
        "colab": {
          "base_uri": "https://localhost:8080/",
          "height": 689
        },
        "outputId": "038ef272-fb87-44b4-eb12-e1542fc2ed82"
      },
      "execution_count": 62,
      "outputs": [
        {
          "output_type": "display_data",
          "data": {
            "text/plain": [
              "<Figure size 900x900 with 9 Axes>"
            ],
            "image/png": "[encoded data removed]"
          },
          "metadata": {}
        }
      ]
    },
    {
      "cell_type": "markdown",
      "source": [
        "# **=== 9. Confusion matrix ===**\n",
        "1. Make prediction with trained model on test datatset\n",
        "2. Make confusion matrix `torchmetrics.ConfusionMatrix`\n",
        "3. Plt the confusion matrix using `mlxtend.plotting.plot_confusion_matrix()`\n",
        "4. Info\n",
        "    https://torchmetrics.readthedocs.io/en/stable/classification/confusion_matrix.html"
      ],
      "metadata": {
        "id": "ieMpFuHjpZnJ"
      }
    },
    {
      "cell_type": "code",
      "source": [
        "# 將會用到的工具\n",
        "# See if torchmetrics exists, if not, install it\n",
        "try:\n",
        "    import torchmetrics, mlxtend\n",
        "    print(f\"mlxtend version: {mlxtend.__version__}\")\n",
        "    assert int(mlxtend.__version__.split(\".\")[1]) >= 19, \"mlxtend verison should be 0.19.0 or higher\"\n",
        "except:\n",
        "    !pip install -q torchmetrics -U mlxtend\n",
        "    import torchmetrics, mlxtend\n",
        "    print(f\"mlxtend version: {mlxtend.__version__}\")"
      ],
      "metadata": {
        "id": "5F9jWdPhrDlX",
        "colab": {
          "base_uri": "https://localhost:8080/"
        },
        "outputId": "c77c6270-deb5-45f7-9300-4b99056c7b37"
      },
      "execution_count": 63,
      "outputs": [
        {
          "output_type": "stream",
          "name": "stdout",
          "text": [
            "\u001b[2K     \u001b[90m━━━━━━━━━━━━━━━━━━━━━━━━━━━━━━━━━━━━━━\u001b[0m \u001b[32m519.2/519.2 kB\u001b[0m \u001b[31m16.0 MB/s\u001b[0m eta \u001b[36m0:00:00\u001b[0m\n",
            "\u001b[2K     \u001b[90m━━━━━━━━━━━━━━━━━━━━━━━━━━━━━━━━━━━━━━━━\u001b[0m \u001b[32m1.4/1.4 MB\u001b[0m \u001b[31m65.2 MB/s\u001b[0m eta \u001b[36m0:00:00\u001b[0m\n",
            "\u001b[?25hmlxtend version: 0.22.0\n"
          ]
        }
      ]
    },
    {
      "cell_type": "code",
      "source": [
        "# Import tqdm for progress bar\n",
        "from tqdm.auto import tqdm\n",
        "\n",
        "# 1. Make predictions with trained model\n",
        "y_preds = []\n",
        "\n",
        "model_2.eval()\n",
        "with torch.inference_mode():\n",
        "  for X, y in tqdm(test_dataloader, desc=\"Making predictions\"):\n",
        "    # Send data and targets to target device\n",
        "    X, y = X.to(device), y.to(device)\n",
        "\n",
        "    # Do the forward pass\n",
        "    y_logit = model_2(X)\n",
        "\n",
        "    # Turn predictions from logits -> prediction probabilities -> predictions labels\n",
        "    y_pred = torch.softmax(y_logit, dim=1).argmax(dim=1)\n",
        "\n",
        "    # Put predictions on CPU for evaluation (for matplotlib)\n",
        "    y_preds.append(y_pred.cpu())\n",
        "\n",
        "# Concatenate list of predictions into a tensor\n",
        "y_pred_tensor = torch.cat(y_preds)"
      ],
      "metadata": {
        "id": "zqrZoYUQpgKw",
        "colab": {
          "base_uri": "https://localhost:8080/",
          "height": 77,
          "referenced_widgets": [
            "c2ea4be289084be5a26e31010a3b77cf",
            "abfa758ca2ce4f0882e0ca53cae7b70a",
            "dc32c5f218e842e79daad50ac7d8fe3c",
            "ab2609bc67824db0aac3ef93ce21469b",
            "368cbd031ad5491c9e9d65538c36f3c5",
            "b5398ea985a646e5834d33d4f2a75432",
            "dfcd45e50f68495bace975bd6dfc23c9",
            "920096c4f4854f499d92a899b95fd7d9",
            "24539fbcf10d4c4f88b01820c03e6dbd",
            "5545c386395a4eb9b0e10ee760763a0f",
            "3a7f8dbf57bd41c18f7e472173c82529"
          ]
        },
        "outputId": "b8916e18-8f9b-46b8-cba3-0f75c05a947d"
      },
      "execution_count": 64,
      "outputs": [
        {
          "output_type": "display_data",
          "data": {
            "text/plain": [
              "Making predictions:   0%|          | 0/313 [00:00<?, ?it/s]"
            ],
            "application/vnd.jupyter.widget-view+json": {
              "version_major": 2,
              "version_minor": 0,
              "model_id": "c2ea4be289084be5a26e31010a3b77cf"
            }
          },
          "metadata": {}
        }
      ]
    },
    {
      "cell_type": "code",
      "source": [
        "from torchmetrics import ConfusionMatrix\n",
        "from mlxtend.plotting import plot_confusion_matrix\n",
        "\n",
        "# 2. Setup confusion instance and compare predictions to targets\n",
        "confmat = ConfusionMatrix(num_classes=len(class_names), task='multiclass')\n",
        "\n",
        "confmat_tensor = confmat(preds=y_pred_tensor,\n",
        "                         target=test_data.targets)\n",
        "\n",
        "# 3. Plot the confusion matrix\n",
        "fig, ax = plot_confusion_matrix(conf_mat = confmat_tensor.numpy(),   # matplotlib prefer numpy\n",
        "                                class_names=class_names,\n",
        "                                figsize=(10, 7)\n",
        "                                )"
      ],
      "metadata": {
        "id": "hwpikDMbxDqu",
        "colab": {
          "base_uri": "https://localhost:8080/",
          "height": 667
        },
        "outputId": "c91f2250-a6cc-452e-d4c9-7368129d72c3"
      },
      "execution_count": 72,
      "outputs": [
        {
          "output_type": "display_data",
          "data": {
            "text/plain": [
              "<Figure size 1000x700 with 1 Axes>"
            ],
            "image/png": "[encoded data removed]"
          },
          "metadata": {}
        }
      ]
    },
    {
      "cell_type": "markdown",
      "source": [
        "# **=== 10. Save and load trained model ===**"
      ],
      "metadata": {
        "id": "axQWpHGw093B"
      }
    },
    {
      "cell_type": "code",
      "source": [
        "from pathlib import Path\n",
        "\n",
        "# Create model dictory path\n",
        "MODEL_PATH = Path(\"models\")   # 會創造一個名為models的資料夾\n",
        "MODEL_PATH.mkdir(parents=True,\n",
        "                 exist_ok=True)\n",
        "\n",
        "# Create model save\n",
        "MODEL_NAME = \"DB_03_computer_vision_model_2.pth\"\n",
        "MODEL_SAVE_PATH = MODEL_PATH / MODEL_NAME\n",
        "\n",
        "# Save the model state dict\n",
        "print(f\"Saving model to : {MODEL_SAVE_PATH}\")\n",
        "torch.save(obj=model_2.state_dict(),\n",
        "           f=MODEL_SAVE_PATH)   # 這邊只儲存了 state dict"
      ],
      "metadata": {
        "colab": {
          "base_uri": "https://localhost:8080/"
        },
        "id": "PMfWOxIA0Olz",
        "outputId": "664d7b58-16f4-428e-c452-707bfbdcb53f"
      },
      "execution_count": 73,
      "outputs": [
        {
          "output_type": "stream",
          "name": "stdout",
          "text": [
            "Saving model to : models/DB_03_computer_vision_model_2.pth\n"
          ]
        }
      ]
    },
    {
      "cell_type": "code",
      "source": [
        "# Create a new instance\n",
        "torch.manual_seed(42)\n",
        "\n",
        "loaded_model_2 = FashionMNISTModelV2(input_shape=1,\n",
        "                                     hidden_units=10,\n",
        "                                     output_shape=len(class_names))\n",
        "\n",
        "# Load in the saved state_dict()\n",
        "loaded_model_2.load_state_dict(torch.load(f=MODEL_SAVE_PATH))\n",
        "\n",
        "# Send the model to the target device\n",
        "loaded_model_2.to(device)"
      ],
      "metadata": {
        "id": "JcEXNzHw3oQU",
        "colab": {
          "base_uri": "https://localhost:8080/"
        },
        "outputId": "6b74c756-d31c-436a-9ae2-8f63b30f2652"
      },
      "execution_count": 74,
      "outputs": [
        {
          "output_type": "execute_result",
          "data": {
            "text/plain": [
              "FashionMNISTModelV2(\n",
              "  (conv_block_1): Sequential(\n",
              "    (0): Conv2d(1, 10, kernel_size=(3, 3), stride=(1, 1), padding=(1, 1))\n",
              "    (1): ReLU()\n",
              "    (2): Conv2d(10, 10, kernel_size=(3, 3), stride=(1, 1), padding=(1, 1))\n",
              "    (3): ReLU()\n",
              "    (4): MaxPool2d(kernel_size=(2, 2), stride=(2, 2), padding=0, dilation=1, ceil_mode=False)\n",
              "  )\n",
              "  (conv_block_2): Sequential(\n",
              "    (0): Conv2d(10, 10, kernel_size=(3, 3), stride=(1, 1), padding=(1, 1))\n",
              "    (1): ReLU()\n",
              "    (2): Conv2d(10, 10, kernel_size=(3, 3), stride=(1, 1), padding=(1, 1))\n",
              "    (3): ReLU()\n",
              "    (4): MaxPool2d(kernel_size=(2, 2), stride=(2, 2), padding=0, dilation=1, ceil_mode=False)\n",
              "  )\n",
              "  (classifier): Sequential(\n",
              "    (0): Flatten(start_dim=1, end_dim=-1)\n",
              "    (1): Linear(in_features=490, out_features=10, bias=True)\n",
              "  )\n",
              ")"
            ]
          },
          "metadata": {},
          "execution_count": 74
        }
      ]
    },
    {
      "cell_type": "code",
      "source": [
        "# check model_2 result again\n",
        "# 等等用作比較\n",
        "model_2_results"
      ],
      "metadata": {
        "id": "IR0h80FC5MXf",
        "colab": {
          "base_uri": "https://localhost:8080/"
        },
        "outputId": "e165a2db-8fdf-4c6a-9a8b-9fcf432013a4"
      },
      "execution_count": 75,
      "outputs": [
        {
          "output_type": "execute_result",
          "data": {
            "text/plain": [
              "{'model_name': 'FashionMNISTModelV2',\n",
              " 'model_loss': 0.33221176266670227,\n",
              " 'model_acc': 88.0491214057508}"
            ]
          },
          "metadata": {},
          "execution_count": 75
        }
      ]
    },
    {
      "cell_type": "code",
      "source": [
        "# Evaluate loaded model (result 應該與之前訓練時 一模一樣)\n",
        "torch.manual_seed(42)\n",
        "\n",
        "loaded_model_2_results = eval_model(model = loaded_model_2,\n",
        "                                    data_loader = test_dataloader,\n",
        "                                    loss_fn = loss_fn,\n",
        "                                    accuracy_fn = accuracy_fn)\n",
        "\n",
        "loaded_model_2_results"
      ],
      "metadata": {
        "id": "hl73Uqn35Cbi",
        "colab": {
          "base_uri": "https://localhost:8080/"
        },
        "outputId": "15c99def-3138-415f-ddde-1e6753ae6657"
      },
      "execution_count": 76,
      "outputs": [
        {
          "output_type": "execute_result",
          "data": {
            "text/plain": [
              "{'model_name': 'FashionMNISTModelV2',\n",
              " 'model_loss': 0.33221176266670227,\n",
              " 'model_acc': 88.0491214057508}"
            ]
          },
          "metadata": {},
          "execution_count": 76
        }
      ]
    },
    {
      "cell_type": "code",
      "source": [
        "# Check if model result are close to each other\n",
        "torch.isclose(torch.tensor(model_2_results[\"model_loss\"]),\n",
        "              torch.tensor(loaded_model_2_results[\"model_loss\"]),\n",
        "              atol=1e-02   # 可以指定容忍的不同程度\n",
        "              )"
      ],
      "metadata": {
        "id": "WLuvo_Q57JiF",
        "colab": {
          "base_uri": "https://localhost:8080/"
        },
        "outputId": "a0df457b-38ee-4f45-a368-4c6bbbbb6af1"
      },
      "execution_count": 81,
      "outputs": [
        {
          "output_type": "execute_result",
          "data": {
            "text/plain": [
              "tensor(True)"
            ]
          },
          "metadata": {},
          "execution_count": 81
        }
      ]
    }
  ]
}