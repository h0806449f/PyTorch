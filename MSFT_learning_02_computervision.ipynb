{
  "nbformat": 4,
  "nbformat_minor": 0,
  "metadata": {
    "colab": {
      "provenance": [],
      "collapsed_sections": [
        "lhQ6KqcRtAQd"
      ],
      "authorship_tag": "ABX9TyNFlPAInsiIH0oyvPF1PN/T",
      "include_colab_link": true
    },
    "kernelspec": {
      "name": "python3",
      "display_name": "Python 3"
    },
    "language_info": {
      "name": "python"
    }
  },
  "cells": [
    {
      "cell_type": "markdown",
      "metadata": {
        "id": "view-in-github",
        "colab_type": "text"
      },
      "source": [
        "<a href=\"https://colab.research.google.com/github/h0806449f/PyTorch/blob/main/MSFT_learning_02_computervision.ipynb\" target=\"_parent\"><img src=\"https://colab.research.google.com/assets/colab-badge.svg\" alt=\"Open In Colab\"/></a>"
      ]
    },
    {
      "cell_type": "markdown",
      "source": [
        "# **下載與檢視 資料集**\n",
        "1. dataset, dataloader\n",
        "2. 檢視相關資訊"
      ],
      "metadata": {
        "id": "lhQ6KqcRtAQd"
      }
    },
    {
      "cell_type": "code",
      "execution_count": 4,
      "metadata": {
        "id": "1T6Oz9Hufmu-"
      },
      "outputs": [],
      "source": [
        "import numpy as np\n",
        "import matplotlib.pyplot as plt\n",
        "\n",
        "import torch\n",
        "import torchvision\n",
        "from torchvision.transforms import ToTensor\n",
        "from torch.utils.data import DataLoader"
      ]
    },
    {
      "cell_type": "code",
      "source": [
        "# datasets\n",
        "train_dataset = torchvision.datasets.MNIST(\n",
        "    root = \"data\",\n",
        "    train = True,\n",
        "    download = True,\n",
        "    transform = ToTensor()\n",
        ")\n",
        "\n",
        "test_dataset = torchvision.datasets.MNIST(\n",
        "    root = \"data\",\n",
        "    train = False,\n",
        "    download = True,\n",
        "    transform = ToTensor()\n",
        ")"
      ],
      "metadata": {
        "id": "x8SaKGB1pC0S"
      },
      "execution_count": null,
      "outputs": []
    },
    {
      "cell_type": "code",
      "source": [
        "# dataloader\n",
        "train_dataloader = DataLoader(dataset = train_dataset,\n",
        "                              batch_size = 64,\n",
        "                              shuffle = True)\n",
        "\n",
        "test_dataloader = DataLoader(dataset = test_dataset,\n",
        "                             batch_size = 64,\n",
        "                             shuffle = True)"
      ],
      "metadata": {
        "id": "ITPLqjolzGZq"
      },
      "execution_count": null,
      "outputs": []
    },
    {
      "cell_type": "code",
      "source": [
        "# 隨機檢視圖片\n",
        "train_dataset[0]\n",
        "\n",
        "figure = plt.figure(figsize=(5, 5))\n",
        "cols, rows = 3, 3\n",
        "\n",
        "for i in range(9):\n",
        "    figure.add_subplot(cols, rows, i+1)\n",
        "    plt.imshow(train_dataset[i][0].squeeze(), cmap=\"gray\")\n",
        "    plt.title(train_dataset[i][1])\n",
        "    plt.axis(\"off\")"
      ],
      "metadata": {
        "colab": {
          "base_uri": "https://localhost:8080/",
          "height": 444
        },
        "id": "RCTVTO5mp1k1",
        "outputId": "d75b79ae-3af2-46e5-a631-8724ff42b6a9"
      },
      "execution_count": 6,
      "outputs": [
        {
          "output_type": "display_data",
          "data": {
            "text/plain": [
              "<Figure size 500x500 with 9 Axes>"
            ],
            "image/png": "[encoded data removed]"
          },
          "metadata": {}
        }
      ]
    },
    {
      "cell_type": "code",
      "source": [
        "# 檢視資料資訊\n",
        "print(f\"訓練資料數量: {len(train_dataset)}\")\n",
        "print(f\"測試資料數量: {len(test_dataset)}\\n\")\n",
        "print(f\"圖片資料: {train_dataset[0][0].size()}\")"
      ],
      "metadata": {
        "colab": {
          "base_uri": "https://localhost:8080/"
        },
        "id": "Yjr17PwtrUZU",
        "outputId": "b77c83e9-88d4-462f-e5e5-e7c60cf2668f"
      },
      "execution_count": 7,
      "outputs": [
        {
          "output_type": "stream",
          "name": "stdout",
          "text": [
            "訓練資料數量: 60000\n",
            "測試資料數量: 10000\n",
            "\n",
            "圖片資料: torch.Size([1, 28, 28])\n"
          ]
        }
      ]
    },
    {
      "cell_type": "markdown",
      "source": [
        "# **Model & functions**\n",
        "1. Model_1\n",
        "2. Func : train, test, training loop ..."
      ],
      "metadata": {
        "id": "jSiE2NoHtFa5"
      }
    },
    {
      "cell_type": "code",
      "source": [
        "!pip install torchinfo"
      ],
      "metadata": {
        "colab": {
          "base_uri": "https://localhost:8080/"
        },
        "id": "xbXCnGwGtXG6",
        "outputId": "3807a1fb-2770-4a87-a926-4bd030fad445"
      },
      "execution_count": 8,
      "outputs": [
        {
          "output_type": "stream",
          "name": "stdout",
          "text": [
            "Collecting torchinfo\n",
            "  Downloading torchinfo-1.8.0-py3-none-any.whl (23 kB)\n",
            "Installing collected packages: torchinfo\n",
            "Successfully installed torchinfo-1.8.0\n"
          ]
        }
      ]
    },
    {
      "cell_type": "code",
      "source": [
        "import matplotlib.pyplot as plt\n",
        "\n",
        "import torch\n",
        "import torch.nn as nn\n",
        "import torchvision\n",
        "import torch.optim as optim\n",
        "from torch.utils.data import DataLoader\n",
        "from torchinfo import summary"
      ],
      "metadata": {
        "id": "HMt_TDcktUd5"
      },
      "execution_count": 9,
      "outputs": []
    },
    {
      "cell_type": "markdown",
      "source": [
        "## Model_1"
      ],
      "metadata": {
        "id": "fPmQvjJ5jFFf"
      }
    },
    {
      "cell_type": "code",
      "source": [
        "# Model structure & build model\n",
        "device = \"cuda\" if torch.cuda.is_available() else \"cpu\"\n",
        "\n",
        "class simpleNET(nn.Module):\n",
        "    def __init__(self):\n",
        "        super(simpleNET, self).__init__()\n",
        "\n",
        "        self.layer_1 = nn.Sequential(\n",
        "            nn.Flatten(),\n",
        "            nn.Linear(28*28, 10),\n",
        "            nn.LogSoftmax(dim=1)\n",
        "        )\n",
        "\n",
        "    def forward(self, x):\n",
        "        probs = self.layer_1(x)\n",
        "        return probs\n",
        "\n",
        "model_1 = simpleNET().to(device)\n",
        "summary(model_1)"
      ],
      "metadata": {
        "colab": {
          "base_uri": "https://localhost:8080/"
        },
        "id": "akM_Kbpevwai",
        "outputId": "a8c22509-9b83-4264-e767-305b7dde0996"
      },
      "execution_count": 10,
      "outputs": [
        {
          "output_type": "execute_result",
          "data": {
            "text/plain": [
              "=================================================================\n",
              "Layer (type:depth-idx)                   Param #\n",
              "=================================================================\n",
              "simpleNET                                --\n",
              "├─Sequential: 1-1                        --\n",
              "│    └─Flatten: 2-1                      --\n",
              "│    └─Linear: 2-2                       7,850\n",
              "│    └─LogSoftmax: 2-3                   --\n",
              "=================================================================\n",
              "Total params: 7,850\n",
              "Trainable params: 7,850\n",
              "Non-trainable params: 0\n",
              "================================================================="
            ]
          },
          "metadata": {},
          "execution_count": 10
        }
      ]
    },
    {
      "cell_type": "markdown",
      "source": [
        "## Train function"
      ],
      "metadata": {
        "id": "NB9sN-K-jHEj"
      }
    },
    {
      "cell_type": "code",
      "source": [
        "# Train function\n",
        "def train(model, dataloader, loss_fn, optimizer):\n",
        "    model.train()\n",
        "\n",
        "    total_loss, acc, count = 0, 0, 0\n",
        "\n",
        "    for features, labels in dataloader:\n",
        "        probs = model(features)\n",
        "        loss = loss_fn(probs, labels)\n",
        "\n",
        "        optimizer.zero_grad()\n",
        "        loss.backward()\n",
        "        optimizer.step()\n",
        "\n",
        "        total_loss = total_loss + loss\n",
        "        _, predicted = torch.max(probs, 1) # 找出probs 第一維度的最大值 -> 第一變數, 最大值是哪一個(較不重要, 所以使用_) / 第二變數, 最大值所在index (label)\n",
        "        acc = acc + (predicted == labels).sum() # 僅計算, 預測label = True label\n",
        "        count = count + len(labels)\n",
        "\n",
        "        return total_loss.item()/count, acc.item()/count"
      ],
      "metadata": {
        "id": "ARQApmOZz8Gp"
      },
      "execution_count": 34,
      "outputs": []
    },
    {
      "cell_type": "code",
      "source": [
        "#\n",
        "print(\"Only for further understanding\")\n",
        "print(torch.max(model_1(next(iter(train_dataloader))[0]),1))"
      ],
      "metadata": {
        "colab": {
          "base_uri": "https://localhost:8080/"
        },
        "id": "IVGQkZaffWiH",
        "outputId": "529afeac-67fe-4bb0-f238-188e04dd01e7"
      },
      "execution_count": 35,
      "outputs": [
        {
          "output_type": "stream",
          "name": "stdout",
          "text": [
            "Only for further understanding\n",
            "torch.return_types.max(\n",
            "values=tensor([-1.5985, -1.3259, -0.8960, -0.8645, -1.0487, -1.8610, -1.4488, -1.1015,\n",
            "        -0.3052, -1.4449, -1.8417, -0.9527, -1.5541, -0.5971, -0.8803, -1.4513,\n",
            "        -1.6579, -0.8984, -1.5640, -1.1666, -1.4690, -0.3421, -1.2943, -1.7894,\n",
            "        -1.1848, -0.6853, -1.4123, -1.6020, -1.6896, -1.5970, -1.1804, -1.6528,\n",
            "        -1.1497, -1.3375, -1.3761, -1.7840, -1.5867, -1.4009, -1.2470, -0.7232,\n",
            "        -0.9723, -1.4827, -1.3256, -1.6368, -1.3187, -0.6105, -1.1456, -1.2787,\n",
            "        -1.0568, -1.5128, -1.9893, -2.0257, -1.3504, -1.2123, -1.7871, -1.0545,\n",
            "        -1.6553, -1.5937, -1.0417, -0.8436, -1.2802, -1.5795, -1.7927, -1.6946],\n",
            "       grad_fn=<MaxBackward0>),\n",
            "indices=tensor([0, 0, 7, 5, 0, 7, 3, 0, 0, 0, 0, 0, 5, 0, 0, 7, 5, 0, 5, 3, 3, 0, 7, 6,\n",
            "        3, 0, 0, 7, 5, 0, 0, 0, 0, 5, 0, 1, 5, 5, 5, 5, 5, 1, 5, 0, 5, 0, 0, 7,\n",
            "        5, 1, 3, 5, 7, 0, 7, 0, 7, 1, 5, 0, 0, 5, 4, 1]))\n"
          ]
        }
      ]
    },
    {
      "cell_type": "code",
      "source": [
        "# 測試 train function\n",
        "loss_fn = nn.CrossEntropyLoss()\n",
        "optimizer = torch.optim.Adam(params = model_1.parameters(),\n",
        "                            lr=0.01)\n",
        "\n",
        "loss, acc = train(model = model_1,\n",
        "                  dataloader = train_dataloader,\n",
        "                  loss_fn = loss_fn,\n",
        "                  optimizer = optimizer)\n",
        "\n",
        "print(f\"Train -> Loss: {loss} | Accuracy: {acc}\")"
      ],
      "metadata": {
        "colab": {
          "base_uri": "https://localhost:8080/"
        },
        "id": "MsUj94vZ21og",
        "outputId": "9e10c360-e467-4b9d-8498-854802b8b1ae"
      },
      "execution_count": 39,
      "outputs": [
        {
          "output_type": "stream",
          "name": "stdout",
          "text": [
            "Train -> Loss: 0.024189934134483337 | Accuracy: 0.53125\n"
          ]
        }
      ]
    },
    {
      "cell_type": "markdown",
      "source": [
        "## Test function"
      ],
      "metadata": {
        "id": "FC59tWpKjJRL"
      }
    },
    {
      "cell_type": "code",
      "source": [
        "# Test function\n",
        "def test(model, dataloader, loss_fn):\n",
        "    model.eval()\n",
        "\n",
        "    total_loss, acc, count = 0, 0, 0\n",
        "    with torch.inference_mode():\n",
        "        for features, labels in dataloader:\n",
        "            probs = model(features)\n",
        "            loss = loss_fn(probs, labels)\n",
        "            # accumulate total_loss\n",
        "            total_loss = total_loss + loss\n",
        "            _, predicted = torch.max(probs, 1)\n",
        "            # accumulate accuracy predict\n",
        "            acc = acc + (predicted == labels).sum() # 僅計算, 預測label = True label\n",
        "            count = count + len(labels)\n",
        "    return total_loss.item()/count, acc.item()/count"
      ],
      "metadata": {
        "id": "y671u2WQhzDW"
      },
      "execution_count": 37,
      "outputs": []
    },
    {
      "cell_type": "code",
      "source": [
        "# 測試 test function\n",
        "loss_fn = nn.CrossEntropyLoss()\n",
        "\n",
        "loss, acc = test(model = model_1,\n",
        "                 dataloader = test_dataloader,\n",
        "                 loss_fn = loss_fn)\n",
        "\n",
        "print(f\"Test -> Loss: {loss} | Accuracy: {acc}\")"
      ],
      "metadata": {
        "colab": {
          "base_uri": "https://localhost:8080/"
        },
        "id": "_6LVadERlIUx",
        "outputId": "536f7b05-dbf7-444e-91ac-8b47e8614d84"
      },
      "execution_count": 40,
      "outputs": [
        {
          "output_type": "stream",
          "name": "stdout",
          "text": [
            "Test -> Loss: 0.021957235717773436 | Accuracy: 0.6407\n"
          ]
        }
      ]
    },
    {
      "cell_type": "markdown",
      "source": [
        "## Training loop function"
      ],
      "metadata": {
        "id": "i9jPhZXol3s7"
      }
    }
  ]
}