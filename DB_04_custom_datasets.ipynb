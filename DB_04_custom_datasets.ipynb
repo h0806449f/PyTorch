{
  "nbformat": 4,
  "nbformat_minor": 0,
  "metadata": {
    "colab": {
      "provenance": [],
      "gpuType": "T4",
      "authorship_tag": "ABX9TyPG3f8d1nr4O5AinIupBcio",
      "include_colab_link": true
    },
    "kernelspec": {
      "name": "python3",
      "display_name": "Python 3"
    },
    "language_info": {
      "name": "python"
    },
    "accelerator": "GPU",
    "gpuClass": "standard"
  },
  "cells": [
    {
      "cell_type": "markdown",
      "metadata": {
        "id": "view-in-github",
        "colab_type": "text"
      },
      "source": [
        "<a href=\"https://colab.research.google.com/github/h0806449f/PyTorch/blob/main/DB_04_custom_datasets.ipynb\" target=\"_parent\"><img src=\"https://colab.research.google.com/assets/colab-badge.svg\" alt=\"Open In Colab\"/></a>"
      ]
    },
    {
      "cell_type": "markdown",
      "source": [
        "# **=== 0. Pytorch Domain Libraries ===**\n",
        "1. Info\n",
        "    https://pytorch.org/blog/new-library-updates-in-pytorch-2.0/\n",
        "2. To do list\n",
        "    1. torch vision : https://pytorch.org/vision/stable/\n",
        "    2. torch audio : https://pytorch.org/audio/stable/\n",
        "    3. torch rec : https://pytorch.org/torchrec/"
      ],
      "metadata": {
        "id": "b-4B6nr5cLEm"
      }
    },
    {
      "cell_type": "code",
      "execution_count": 1,
      "metadata": {
        "id": "x62nYLIF8y1W",
        "colab": {
          "base_uri": "https://localhost:8080/",
          "height": 35
        },
        "outputId": "f0cd6fb7-52e5-4b15-f9ef-1cc5352418c8"
      },
      "outputs": [
        {
          "output_type": "execute_result",
          "data": {
            "text/plain": [
              "'2.0.1+cu118'"
            ],
            "application/vnd.google.colaboratory.intrinsic+json": {
              "type": "string"
            }
          },
          "metadata": {},
          "execution_count": 1
        }
      ],
      "source": [
        "import torch\n",
        "from torch import nn\n",
        "\n",
        "torch.__version__"
      ]
    },
    {
      "cell_type": "code",
      "source": [
        "device = \"cuda\" if torch.cuda.is_available() else \"cpu\"\n",
        "device"
      ],
      "metadata": {
        "colab": {
          "base_uri": "https://localhost:8080/",
          "height": 35
        },
        "id": "6dFUoFmJgjAd",
        "outputId": "e384dd6a-ea38-437b-f100-de7457d473ed"
      },
      "execution_count": 2,
      "outputs": [
        {
          "output_type": "execute_result",
          "data": {
            "text/plain": [
              "'cuda'"
            ],
            "application/vnd.google.colaboratory.intrinsic+json": {
              "type": "string"
            }
          },
          "metadata": {},
          "execution_count": 2
        }
      ]
    },
    {
      "cell_type": "markdown",
      "source": [
        "# **=== 1. Get data ===**\n",
        "1. 原資料集 : Food 101\n",
        "    1. 101 classes\n",
        "    2. 1000 images\n",
        "2. 截取部分資料及內容 :\n",
        "    1. https://github.com/mrdbourke/pytorch-deep-learning/blob/main/extras/04_custom_data_creation.ipynb\n",
        "    2. 3 classes\n",
        "    3. 10% - 20% images of food 101"
      ],
      "metadata": {
        "id": "NAwXh7oEhGWu"
      }
    },
    {
      "cell_type": "code",
      "source": [
        "import requests\n",
        "import zipfile\n",
        "from pathlib import Path\n",
        "\n",
        "# 設置資料路徑\n",
        "data_path = Path(\"data/\")\n",
        "image_path = data_path / \"pizza_steak_sushi\"\n",
        "\n",
        "# 判斷資料夾存在與否\n",
        "if image_path.is_dir():\n",
        "    print(f\"{image_path} directory already exist, skipping download\")\n",
        "else:\n",
        "    print(f\"{image_path} doesn't exist, creating\")\n",
        "    image_path.mkdir(parents=True, exist_ok=True)\n",
        "\n",
        "# 下載壓縮檔\n",
        "with open(data_path / \"pizza_steak_sushi.zip\", \"wb\") as f:\n",
        "    request = requests.get(\"https://github.com/mrdbourke/pytorch-deep-learning/raw/main/data/pizza_steak_sushi.zip\")\n",
        "    f.write(request.content)\n",
        "\n",
        "# 解壓縮\n",
        "with zipfile.ZipFile(data_path / \"pizza_steak_sushi.zip\", \"r\") as zip_ref:\n",
        "    print(\"Unzipping the file\")\n",
        "    zip_ref.extractall(image_path)"
      ],
      "metadata": {
        "id": "JWzLckOwg9Rk",
        "colab": {
          "base_uri": "https://localhost:8080/"
        },
        "outputId": "e295027e-2a96-42cf-c1a4-54230aa30f80"
      },
      "execution_count": 3,
      "outputs": [
        {
          "output_type": "stream",
          "name": "stdout",
          "text": [
            "data/pizza_steak_sushi doesn't exist, creating\n",
            "Unzipping the file\n"
          ]
        }
      ]
    },
    {
      "cell_type": "markdown",
      "source": [
        "# 1.1 檢視資料結構\n",
        "1. 注意資料夾與資料結構\n",
        "2. train\n",
        "    3 floders of different type images\n",
        "3. test\n",
        "    3 floders of different type images"
      ],
      "metadata": {
        "id": "xJeXIoeHTTIw"
      }
    },
    {
      "cell_type": "code",
      "source": [
        "# Walk function\n",
        "import os\n",
        "\n",
        "def walk_through_dir(dir_path):\n",
        "    \"\"\"Walk through dir_path, returning the content in it\"\"\"\n",
        "\n",
        "    for dirpath, dirnames, filenames in os.walk(dir_path):\n",
        "        print(f\"There are {len(dirnames)} dirs and {len(filenames)} images in {dirpath}.\")"
      ],
      "metadata": {
        "id": "sg2GakOdaG42"
      },
      "execution_count": 9,
      "outputs": []
    },
    {
      "cell_type": "code",
      "source": [
        "# 資料結構\n",
        "walk_through_dir(image_path)"
      ],
      "metadata": {
        "colab": {
          "base_uri": "https://localhost:8080/"
        },
        "id": "LqLjnDjkVBaw",
        "outputId": "50db91a1-dddd-4e87-b682-ae7b5c838079"
      },
      "execution_count": 15,
      "outputs": [
        {
          "output_type": "stream",
          "name": "stdout",
          "text": [
            "There are 2 dirs and 0 images in data/pizza_steak_sushi.\n",
            "There are 3 dirs and 0 images in data/pizza_steak_sushi/train.\n",
            "There are 0 dirs and 72 images in data/pizza_steak_sushi/train/sushi.\n",
            "There are 0 dirs and 75 images in data/pizza_steak_sushi/train/steak.\n",
            "There are 0 dirs and 78 images in data/pizza_steak_sushi/train/pizza.\n",
            "There are 3 dirs and 0 images in data/pizza_steak_sushi/test.\n",
            "There are 0 dirs and 31 images in data/pizza_steak_sushi/test/sushi.\n",
            "There are 0 dirs and 19 images in data/pizza_steak_sushi/test/steak.\n",
            "There are 0 dirs and 25 images in data/pizza_steak_sushi/test/pizza.\n"
          ]
        }
      ]
    },
    {
      "cell_type": "code",
      "source": [
        "# 圖片位置\n",
        "print(image_path)"
      ],
      "metadata": {
        "colab": {
          "base_uri": "https://localhost:8080/"
        },
        "id": "6CaZhDuNVG2J",
        "outputId": "6b69afa9-ffcf-4b4f-d8c7-3c2491ea2f53"
      },
      "execution_count": 14,
      "outputs": [
        {
          "output_type": "stream",
          "name": "stdout",
          "text": [
            "data/pizza_steak_sushi\n"
          ]
        }
      ]
    },
    {
      "cell_type": "code",
      "source": [
        "# Setup training and testing paths\n",
        "\n",
        "train_dir = image_path / \"train\"\n",
        "test_dir = image_path / \"test\"\n",
        "\n",
        "print(f\"train 路徑: {train_dir}\")\n",
        "print(f\"test 路徑: {test_dir}\")"
      ],
      "metadata": {
        "colab": {
          "base_uri": "https://localhost:8080/"
        },
        "id": "nKvA6bwwiNCC",
        "outputId": "2b05f5f7-6b9c-4402-efe9-44bc195cd9d9"
      },
      "execution_count": 16,
      "outputs": [
        {
          "output_type": "stream",
          "name": "stdout",
          "text": [
            "train 路徑: data/pizza_steak_sushi/train\n",
            "test 路徑: data/pizza_steak_sushi/test\n"
          ]
        }
      ]
    },
    {
      "cell_type": "markdown",
      "source": [
        "# 1.2 檢視圖片\n",
        "\n",
        "1. Get all of the image paths\n",
        "2. Pick random image path  (`random.choice()`)\n",
        "3. Get image class name  (`pathlib.Path.parent.stem`)\n",
        "4. Open image  (`PIL`)\n",
        "5. Show image and print metadata"
      ],
      "metadata": {
        "id": "EJvDUzfdkLk8"
      }
    },
    {
      "cell_type": "code",
      "source": [],
      "metadata": {
        "id": "XG_d3jauUQNk"
      },
      "execution_count": null,
      "outputs": []
    },
    {
      "cell_type": "markdown",
      "source": [
        "# **=== 2. 資料預處理 ===**\n",
        "\n",
        "PyTorch 需要的資料型態 **tensor**\n",
        "1. Trun target data into tensors\n",
        "2. Trun it into a `torch.utils.data.Dataset` and subsequently a `torch.utils.data.DataLoader`\n",
        "  in short `Dataset` and `DataLoader`."
      ],
      "metadata": {
        "id": "SYccvWhQwLLS"
      }
    }
  ]
}