{
  "nbformat": 4,
  "nbformat_minor": 0,
  "metadata": {
    "colab": {
      "provenance": [],
      "collapsed_sections": [
        "LmeMFXFXvFCB",
        "n5I6TOc8yRMP",
        "O_H3OJOE0AxB",
        "e5UeslIJ1-Cg",
        "Drf4_OXRTsUU",
        "WB7PvOlnUt4s"
      ],
      "toc_visible": true,
      "authorship_tag": "ABX9TyNDJ5eVqCS+ReLgVIjhhL+L",
      "include_colab_link": true
    },
    "kernelspec": {
      "name": "python3",
      "display_name": "Python 3"
    },
    "language_info": {
      "name": "python"
    }
  },
  "cells": [
    {
      "cell_type": "markdown",
      "metadata": {
        "id": "view-in-github",
        "colab_type": "text"
      },
      "source": [
        "<a href=\"https://colab.research.google.com/github/h0806449f/PyTorch/blob/main/DB_05_to_modular.ipynb\" target=\"_parent\"><img src=\"https://colab.research.google.com/assets/colab-badge.svg\" alt=\"Open In Colab\"/></a>"
      ]
    },
    {
      "cell_type": "markdown",
      "source": [
        "# **=== 0. 簡介 ===**\n",
        "1. Run from command line\n",
        "2. Final target structure\n"
      ],
      "metadata": {
        "id": "LmeMFXFXvFCB"
      }
    },
    {
      "cell_type": "markdown",
      "source": [
        "## 0.1 Example for run python from command line\n",
        "\n",
        "\n"
      ],
      "metadata": {
        "id": "n5I6TOc8yRMP"
      }
    },
    {
      "cell_type": "code",
      "source": [
        "# python train.py --model MODEL_NAME --batch_size BATCH_SIZE --lr LEARNING_RATE --num_epochs NUM_EPOCHS"
      ],
      "metadata": {
        "id": "O-jo3Vnk01Xe"
      },
      "execution_count": 1,
      "outputs": []
    },
    {
      "cell_type": "code",
      "source": [
        "# python train.py --model model_1 --batch_size 100 --lr 0.001 --num_epochs 50"
      ],
      "metadata": {
        "id": "wE0sYgZJ06Lz"
      },
      "execution_count": 2,
      "outputs": []
    },
    {
      "cell_type": "markdown",
      "source": [
        "## 0.2 Final target structure"
      ],
      "metadata": {
        "id": "O_H3OJOE0AxB"
      }
    },
    {
      "cell_type": "code",
      "source": [
        "# going_modular/\n",
        "# ├── going_modular/\n",
        "# │   ├── data_setup.py\n",
        "# │   ├── engine.py\n",
        "# │   ├── model_builder.py\n",
        "# │   ├── train.py\n",
        "# │   └── utils.py\n",
        "# ├── models/\n",
        "# │   ├── 05_going_modular_cell_mode_tinyvgg_model.pth\n",
        "# │   └── 05_going_modular_script_mode_tinyvgg_model.pth\n",
        "# └── data/\n",
        "#     └── pizza_steak_sushi/\n",
        "#         ├── train/\n",
        "#         │   ├── pizza/\n",
        "#         │   │   ├── image01.jpeg\n",
        "#         │   │   └── ...\n",
        "#         │   ├── steak/\n",
        "#         │   └── sushi/\n",
        "#         └── test/\n",
        "#             ├── pizza/\n",
        "#             ├── steak/\n",
        "#             └── sushi/"
      ],
      "metadata": {
        "id": "rr4evJWTz-Gw"
      },
      "execution_count": 3,
      "outputs": []
    },
    {
      "cell_type": "markdown",
      "source": [
        "# **=== 1. Python files ===**\n",
        "1. Get data (download data)\n",
        "2. Data_setup.py"
      ],
      "metadata": {
        "id": "yxpsd5yi0Hw-"
      }
    },
    {
      "cell_type": "markdown",
      "source": [
        "## 1.1 Get data (download data)\n",
        "Download the data and set into specific data dtructure"
      ],
      "metadata": {
        "id": "e5UeslIJ1-Cg"
      }
    },
    {
      "cell_type": "code",
      "source": [
        "# Import\n",
        "import requests             # HTTP request\n",
        "import zipfile              # zip & unzip\n",
        "import os                   #\n",
        "from pathlib import Path    #\n",
        "\n",
        "# 設置 data path 變數\n",
        "data_folder = Path(\"Data/\")\n",
        "image_folder = data_folder / \"Pizze_Steak_Sushi\"\n",
        "\n",
        "# 判斷是否已有資料夾 -> 無: 創造 / 有: 可重複接受\n",
        "if image_folder.is_dir():\n",
        "    print(f\"{image_folder} 資料夾已存在\")\n",
        "else:\n",
        "    print(f\"{image_folder} 未發現資料夾, 創造 ...\")\n",
        "    image_folder.mkdir(parents = True, exist_ok = True) # 無上層資料夾, 也會創造 image_folder 資料夾 / 已有資料夾, 不返回error\n",
        "\n",
        "# 下載\n",
        "with open(image_folder / \"pizza_steak_sushi.zip\", \"wb\") as f: # 名稱需一致 (pizza_steak_sushi.zip)\n",
        "    request = requests.get(\"https://github.com/mrdbourke/pytorch-deep-learning/raw/main/data/pizza_steak_sushi.zip\")\n",
        "    print(\"downloading ...\")\n",
        "    f.write(request.content)\n",
        "\n",
        "# 解壓縮\n",
        "with zipfile.ZipFile (image_folder / \"pizza_steak_sushi.zip\", \"r\") as zip_f:\n",
        "    print(\"unziping ...\")\n",
        "    zip_f.extractall(image_folder)\n",
        "\n",
        "# 移除 壓縮檔\n",
        "os.remove(image_folder / \"pizza_steak_sushi.zip\")"
      ],
      "metadata": {
        "colab": {
          "base_uri": "https://localhost:8080/"
        },
        "id": "PCFXGWiR0Ixg",
        "outputId": "b303823b-3bcb-432d-88ca-b6ad66ad73a6"
      },
      "execution_count": 4,
      "outputs": [
        {
          "output_type": "stream",
          "name": "stdout",
          "text": [
            "Data/Pizze_Steak_Sushi 未發現資料夾, 創造 ...\n",
            "downloading ...\n",
            "unziping ...\n"
          ]
        }
      ]
    },
    {
      "cell_type": "markdown",
      "source": [
        "## 1.2 Data_setup.py\n",
        "1. Wrtie -> functions in **Data_setup.py**\n",
        "2. Test\n",
        "3. Import"
      ],
      "metadata": {
        "id": "B8SDlCXAC_tl"
      }
    },
    {
      "cell_type": "markdown",
      "source": [
        "### 1.2.1 Wrtie -> functions in **Data_setup.py**"
      ],
      "metadata": {
        "id": "miiWraMQVgAf"
      }
    },
    {
      "cell_type": "code",
      "source": [
        "# writefile 將以下內容, 寫入指定檔案中 (須去除前置# writefile 才會正常運作)\n",
        "#%%writefile going_modular/Data_setup.py\n",
        "\"\"\"將創造 Pytorch DataLoader 用於影像分類\"\"\"\n",
        "\n",
        "# Import\n",
        "import os\n",
        "from torchvision import datasets, transforms\n",
        "from torch.utils.data import DataLoader\n",
        "\n",
        "# Create function - create_dataloader()\n",
        "# 預先設置參數的資料型態: 日後易維護, IDE可能偵錯\n",
        "\n",
        "NUM_WORKERS = os.cpu_count()\n",
        "\n",
        "def create_dataloader(\n",
        "    train_dir: str,\n",
        "    test_dir: str,\n",
        "    transform: transforms.Compose,\n",
        "    batch_size: int,\n",
        "    num_workers: int=None):\n",
        "    # 解說\n",
        "    \"\"\"\n",
        "    創造:\n",
        "        train_dataloader, test_dataloader\n",
        "\n",
        "    變數:\n",
        "        train_dir: 訓練資料路徑\n",
        "        test_dir: 測試資料路徑\n",
        "        transform: Pytorch torchvision transforms\n",
        "        batch_size: 每批次資料數量\n",
        "        num_workers: workers per DataLoader\n",
        "\n",
        "    返還:\n",
        "        tuple(train_dataloader, test_dataloader, class_names)\n",
        "        class_names 為list 包含訓練資料的 classes\n",
        "\n",
        "    範例:\n",
        "        train_dataloader, test_dataloader, class_names = create_dataloaders(train_dir=path/to/train_dir,\n",
        "                                                                            test_dir=path/to/test_dir,\n",
        "                                                                            transform=some_transform,\n",
        "                                                                            batch_size=32,\n",
        "                                                                            num_workers=4)\n",
        "    \"\"\"\n",
        "\n",
        "    # NUM_WORKERS\n",
        "    if num_workers is None:\n",
        "        num_workers = NUM_WORKERS\n",
        "\n",
        "    # ImageFolder -> datasset\n",
        "    train_dataset = datasets.ImageFolder(train_dir, transform=transform)\n",
        "    test_dataset = datasets.ImageFolder(test_dir, transform=transform)\n",
        "\n",
        "    # Get train_dataset class\n",
        "    class_name = train_dataset.classes\n",
        "\n",
        "    # Dataset -> dataloader\n",
        "    train_dataloader = DataLoader(train_dataset,\n",
        "                                  batch_size=batch_size,\n",
        "                                  shuffle=True,\n",
        "                                  num_workers=num_workers,\n",
        "                                  pin_memory=True) # pin_memory 使用GPU時 可加快處理速度\n",
        "\n",
        "    test_dataloader = DataLoader(test_dataset,\n",
        "                                 batch_size=batch_size,\n",
        "                                 shuffle=False,\n",
        "                                 num_workers=num_workers,\n",
        "                                 pin_memory=True)\n",
        "\n",
        "    return train_dataloader, test_dataloader, class_name"
      ],
      "metadata": {
        "id": "mNYg_o-LDHK7"
      },
      "execution_count": 28,
      "outputs": []
    },
    {
      "cell_type": "markdown",
      "source": [
        "### 1.2.1 Test"
      ],
      "metadata": {
        "id": "Drf4_OXRTsUU"
      }
    },
    {
      "cell_type": "code",
      "source": [
        "import torch\n",
        "from torchvision import transforms\n",
        "from torchvision.transforms import ToTensor\n",
        "\n",
        "train_path = \"/content/Data/Pizze_Steak_Sushi/train\"\n",
        "test_path = \"/content/Data/Pizze_Steak_Sushi/test\"\n",
        "\n",
        "transform = transforms.Compose([\n",
        "    ToTensor()\n",
        "])\n",
        "\n",
        "create_dataloader(train_dir=train_path,\n",
        "                  test_dir=test_path,\n",
        "                  transform=transform,\n",
        "                  batch_size=100)"
      ],
      "metadata": {
        "colab": {
          "base_uri": "https://localhost:8080/"
        },
        "id": "2qSZz1VXP28s",
        "outputId": "7cee3fbf-50ff-48cf-9f41-430ba24b4f1a"
      },
      "execution_count": 34,
      "outputs": [
        {
          "output_type": "execute_result",
          "data": {
            "text/plain": [
              "(<torch.utils.data.dataloader.DataLoader at 0x7f1708dc70d0>,\n",
              " <torch.utils.data.dataloader.DataLoader at 0x7f1641f752d0>,\n",
              " ['pizza', 'steak', 'sushi'])"
            ]
          },
          "metadata": {},
          "execution_count": 34
        }
      ]
    },
    {
      "cell_type": "markdown",
      "source": [
        "### 1.2.2 Import"
      ],
      "metadata": {
        "id": "WB7PvOlnUt4s"
      }
    },
    {
      "cell_type": "code",
      "source": [
        "from going_modular import Data_setup\n",
        "\n",
        "create_dataloader(train_dir=train_path,\n",
        "                  test_dir=test_path,\n",
        "                  transform=transform,\n",
        "                  batch_size=100)"
      ],
      "metadata": {
        "colab": {
          "base_uri": "https://localhost:8080/"
        },
        "id": "O4pqu8yzUx3Z",
        "outputId": "c05094bd-fc99-4c55-8f4a-38f12c748fa6"
      },
      "execution_count": 35,
      "outputs": [
        {
          "output_type": "execute_result",
          "data": {
            "text/plain": [
              "(<torch.utils.data.dataloader.DataLoader at 0x7f1641f75900>,\n",
              " <torch.utils.data.dataloader.DataLoader at 0x7f1641f76800>,\n",
              " ['pizza', 'steak', 'sushi'])"
            ]
          },
          "metadata": {},
          "execution_count": 35
        }
      ]
    },
    {
      "cell_type": "markdown",
      "source": [
        "## 1.3 Model.py\n",
        "1. Write -> functions in Model.py\n",
        "2. Test\n",
        "3. Import"
      ],
      "metadata": {
        "id": "jiktJGZTVN_X"
      }
    },
    {
      "cell_type": "markdown",
      "source": [
        "### 1.3.1 Write -> functions in Model.py"
      ],
      "metadata": {
        "id": "OVtGBAqpVr-H"
      }
    },
    {
      "cell_type": "code",
      "source": [
        "# writefile 將以下內容, 寫入指定檔案中 (須去除前置# writefile 才會正常運作)\n",
        "# %%writefile going_modular/Model.py\n",
        "\"\"\"將創造 tinyVGG 模型\"\"\"\n",
        "\n",
        "# Import\n",
        "import torch\n",
        "from torch import nn"
      ],
      "metadata": {
        "id": "QMn9RQohW1iu"
      },
      "execution_count": 38,
      "outputs": []
    },
    {
      "cell_type": "markdown",
      "source": [
        "### 1.3.2 Test"
      ],
      "metadata": {
        "id": "KqZKDgBRWgl1"
      }
    },
    {
      "cell_type": "markdown",
      "source": [
        "### 1.3.3 Import"
      ],
      "metadata": {
        "id": "vlQbm-6mWh5Z"
      }
    }
  ]
}