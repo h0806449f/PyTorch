{
  "nbformat": 4,
  "nbformat_minor": 0,
  "metadata": {
    "colab": {
      "provenance": [],
      "collapsed_sections": [
        "NQYLrAbDnZdP",
        "WZoKKiLdnrPf",
        "UBYkorvdwhEv",
        "qG6_1e0fwkus",
        "qvH_9mf65Sg7",
        "tpHtu2re7HGc"
      ],
      "authorship_tag": "ABX9TyP2HLC5Ncgr/5iGt7yyOUWw",
      "include_colab_link": true
    },
    "kernelspec": {
      "name": "python3",
      "display_name": "Python 3"
    },
    "language_info": {
      "name": "python"
    }
  },
  "cells": [
    {
      "cell_type": "markdown",
      "metadata": {
        "id": "view-in-github",
        "colab_type": "text"
      },
      "source": [
        "<a href=\"https://colab.research.google.com/github/h0806449f/PyTorch/blob/main/MSFT_learning_01.ipynb\" target=\"_parent\"><img src=\"https://colab.research.google.com/assets/colab-badge.svg\" alt=\"Open In Colab\"/></a>"
      ]
    },
    {
      "cell_type": "markdown",
      "source": [
        "# **基本操作**"
      ],
      "metadata": {
        "id": "NQYLrAbDnZdP"
      }
    },
    {
      "cell_type": "code",
      "source": [
        "import torch\n",
        "import numpy as np\n",
        "import matplotlib.pyplot as plt"
      ],
      "metadata": {
        "id": "jT6LTWPcpJIj"
      },
      "execution_count": 62,
      "outputs": []
    },
    {
      "cell_type": "code",
      "execution_count": 63,
      "metadata": {
        "colab": {
          "base_uri": "https://localhost:8080/"
        },
        "id": "z3nxwixwXsY0",
        "outputId": "5aa7b748-e89b-4655-8e40-5fd01abc3f52"
      },
      "outputs": [
        {
          "output_type": "stream",
          "name": "stdout",
          "text": [
            "Type: <class 'list'>\n",
            "[[1, 2], [3, 4]]\n",
            "\n",
            "List to tensor\n",
            "Type: <class 'torch.Tensor'>\n",
            "tensor([[1, 2],\n",
            "        [3, 4]])\n",
            "\n",
            "List to array\n",
            "Type: <class 'numpy.ndarray'>\n",
            "[[1 2]\n",
            " [3 4]]\n",
            "\n",
            "Array to tensor\n",
            "Type: <class 'torch.Tensor'>\n",
            "tensor([[1, 2],\n",
            "        [3, 4]])\n"
          ]
        }
      ],
      "source": [
        "# 資料型態轉換\n",
        "list_data = [ [1, 2], [3, 4] ]\n",
        "\n",
        "# from list to tensor\n",
        "data_to_tensor = torch.tensor(list_data)\n",
        "\n",
        "# from list to np_array\n",
        "data_to_array = np.array(list_data)\n",
        "\n",
        "# from np_array to tensor\n",
        "array_to_tensor = torch.from_numpy(data_to_array)\n",
        "\n",
        "#\n",
        "print(f\"Type: {type(list_data)}\\n{list_data}\")\n",
        "print(\"\\nList to tensor\")\n",
        "print(f\"Type: {type(data_to_tensor)}\\n{data_to_tensor}\")\n",
        "print(\"\\nList to array\")\n",
        "print(f\"Type: {type(data_to_array)}\\n{data_to_array}\")\n",
        "print(\"\\nArray to tensor\")\n",
        "print(f\"Type: {type(array_to_tensor)}\\n{array_to_tensor}\")"
      ]
    },
    {
      "cell_type": "code",
      "source": [
        "# 複製已存在的 tensor shape\n",
        "torch.ones_like(array_to_tensor), torch.zeros_like(array_to_tensor)"
      ],
      "metadata": {
        "colab": {
          "base_uri": "https://localhost:8080/"
        },
        "id": "AsT4R_pVbWuF",
        "outputId": "327efbf2-9755-468a-9ccf-d716bff04faf"
      },
      "execution_count": 64,
      "outputs": [
        {
          "output_type": "execute_result",
          "data": {
            "text/plain": [
              "(tensor([[1, 1],\n",
              "         [1, 1]]),\n",
              " tensor([[0, 0],\n",
              "         [0, 0]]))"
            ]
          },
          "metadata": {},
          "execution_count": 64
        }
      ]
    },
    {
      "cell_type": "code",
      "source": [
        "# 指定 tensor shape, random data\n",
        "SHAPE = (2, 3)\n",
        "\n",
        "rand_tensor = torch.rand(SHAPE)\n",
        "rand_tensor"
      ],
      "metadata": {
        "colab": {
          "base_uri": "https://localhost:8080/"
        },
        "id": "1nESmLcdb0U0",
        "outputId": "8bbf7079-5ba8-44c3-9913-f5d61e70acc2"
      },
      "execution_count": 65,
      "outputs": [
        {
          "output_type": "execute_result",
          "data": {
            "text/plain": [
              "tensor([[0.2566, 0.7936, 0.9408],\n",
              "        [0.1332, 0.9346, 0.5936]])"
            ]
          },
          "metadata": {},
          "execution_count": 65
        }
      ]
    },
    {
      "cell_type": "code",
      "source": [
        "# 檢視 tensor 相關資訊\n",
        "print(rand_tensor.shape)\n",
        "print(rand_tensor.dtype)\n",
        "print(rand_tensor.device)"
      ],
      "metadata": {
        "colab": {
          "base_uri": "https://localhost:8080/"
        },
        "id": "vKbz3CxpdYd2",
        "outputId": "15794d03-1444-42b5-e511-c71dc27b3857"
      },
      "execution_count": 66,
      "outputs": [
        {
          "output_type": "stream",
          "name": "stdout",
          "text": [
            "torch.Size([2, 3])\n",
            "torch.float32\n",
            "cpu\n"
          ]
        }
      ]
    },
    {
      "cell_type": "code",
      "source": [
        "# 設置 tensor 運作於何種裝置上\n",
        "device = \"cude\" if torch.cuda.is_available() else \"cpu\""
      ],
      "metadata": {
        "id": "AOTSjqiMe7_V"
      },
      "execution_count": 67,
      "outputs": []
    },
    {
      "cell_type": "code",
      "source": [
        "# 基本 tensor 操作_1\n",
        "list_1 = [ [1, 2, 3, 4], [5, 6, 7, 8], [9, 10, 11, 12], [13, 14, 15, 16] ]\n",
        "tensor_1 = torch.tensor(list_1)\n",
        "\n",
        "print(tensor_1)\n",
        "print(f\"First row:\\n{tensor_1[0]}\\n\")\n",
        "print(f\"First column:\\n{tensor_1[:, 0]}\\n\")\n",
        "print(f\"Last column:\\n{tensor_1[..., -1]}\")"
      ],
      "metadata": {
        "colab": {
          "base_uri": "https://localhost:8080/"
        },
        "id": "N9ipCZ7IfsNp",
        "outputId": "e8c2d19e-0afe-45e3-d36a-41e44738426a"
      },
      "execution_count": 68,
      "outputs": [
        {
          "output_type": "stream",
          "name": "stdout",
          "text": [
            "tensor([[ 1,  2,  3,  4],\n",
            "        [ 5,  6,  7,  8],\n",
            "        [ 9, 10, 11, 12],\n",
            "        [13, 14, 15, 16]])\n",
            "First row:\n",
            "tensor([1, 2, 3, 4])\n",
            "\n",
            "First column:\n",
            "tensor([ 1,  5,  9, 13])\n",
            "\n",
            "Last column:\n",
            "tensor([ 4,  8, 12, 16])\n"
          ]
        }
      ]
    },
    {
      "cell_type": "code",
      "source": [
        "# 基本 tensor 操作_2\n",
        "tensor_2 = torch.rand((2, 3))\n",
        "\n",
        "# 水平整合\n",
        "h = torch.cat([tensor_2, tensor_2, tensor_2], dim=1)\n",
        "h\n",
        "\n",
        "# 垂直整合\n",
        "v = torch.cat([tensor_2, tensor_2, tensor_2], dim=0)\n",
        "v"
      ],
      "metadata": {
        "colab": {
          "base_uri": "https://localhost:8080/"
        },
        "id": "MGOuXmKOhHts",
        "outputId": "94edcfc8-9521-4c66-9438-17d4d76a900e"
      },
      "execution_count": 69,
      "outputs": [
        {
          "output_type": "execute_result",
          "data": {
            "text/plain": [
              "tensor([[0.8694, 0.5677, 0.7411],\n",
              "        [0.4294, 0.8854, 0.5739],\n",
              "        [0.8694, 0.5677, 0.7411],\n",
              "        [0.4294, 0.8854, 0.5739],\n",
              "        [0.8694, 0.5677, 0.7411],\n",
              "        [0.4294, 0.8854, 0.5739]])"
            ]
          },
          "metadata": {},
          "execution_count": 69
        }
      ]
    },
    {
      "cell_type": "code",
      "source": [
        "# 基本 tensor 操作_3 (乘除, 注意shape)\n",
        "torch.manual_seed(42)\n",
        "tensor_3 = torch.rand((2, 3))\n",
        "\n",
        "result_1 = tensor_3 @ tensor_3.T\n",
        "\n",
        "result_2 = torch.matmul(tensor_3, tensor_3.T)\n",
        "result_2"
      ],
      "metadata": {
        "colab": {
          "base_uri": "https://localhost:8080/"
        },
        "id": "ZdxHbt-WlBMP",
        "outputId": "b586739c-9351-4d92-af2d-949cdebac023"
      },
      "execution_count": 70,
      "outputs": [
        {
          "output_type": "execute_result",
          "data": {
            "text/plain": [
              "tensor([[1.7622, 1.4337],\n",
              "        [1.4337, 1.4338]])"
            ]
          },
          "metadata": {},
          "execution_count": 70
        }
      ]
    },
    {
      "cell_type": "markdown",
      "source": [
        "# **Dataset & Dataloader**\n",
        "1. **Dataset**: data, label\n",
        "2. **Dataloader**: iterable\n",
        "3. **Fashion-MNIST** as example\n"
      ],
      "metadata": {
        "id": "WZoKKiLdnrPf"
      }
    },
    {
      "cell_type": "code",
      "source": [
        "import matplotlib.pyplot as plt\n",
        "\n",
        "from torch.utils.data import Dataset, DataLoader\n",
        "from torchvision import datasets\n",
        "from torchvision.transforms import ToTensor, Lambda"
      ],
      "metadata": {
        "id": "JTQXL3fvo8th"
      },
      "execution_count": 71,
      "outputs": []
    },
    {
      "cell_type": "markdown",
      "source": [
        "## Dataset\n",
        "1. Dataset\n",
        "2. Show image from Dataset"
      ],
      "metadata": {
        "id": "UBYkorvdwhEv"
      }
    },
    {
      "cell_type": "code",
      "source": [
        "# 訓練資料集, 測試資料集\n",
        "train_dataset = datasets.FashionMNIST(\n",
        "    root=\"data\",\n",
        "    train=True,\n",
        "    download=True,\n",
        "    transform=ToTensor()) # 將每個圖像轉換成tensor形式, 並將數值轉換至 0 - 1 之間\n",
        "\n",
        "test_dataset = datasets.FashionMNIST(\n",
        "    root=\"data\",\n",
        "    train=False,\n",
        "    download=True,\n",
        "    transform=ToTensor())"
      ],
      "metadata": {
        "id": "1N3lpyrGn-bp"
      },
      "execution_count": 78,
      "outputs": []
    },
    {
      "cell_type": "code",
      "source": [
        "# 了解 Dataset 資料結構\n",
        "# 每組資料 -> (image, label)\n",
        "train_dataset[0]\n",
        "\n",
        "labels_map = {\n",
        "    0: \"T-Shirt\",\n",
        "    1: \"Trouser\",\n",
        "    2: \"Pullover\",\n",
        "    3: \"Dress\",\n",
        "    4: \"Coat\",\n",
        "    5: \"Sandal\",\n",
        "    6: \"Shirt\",\n",
        "    7: \"Sneaker\",\n",
        "    8: \"Bag\",\n",
        "    9: \"Ankle Boot\",\n",
        "}\n"
      ],
      "metadata": {
        "id": "-AdAuMd3qnCa"
      },
      "execution_count": 91,
      "outputs": []
    },
    {
      "cell_type": "code",
      "source": [
        "# 從dataset 中, 隨機顯示10張圖片\n",
        "\n",
        "figure = plt.figure(figsize=(6,6))\n",
        "cols, rows = 3, 3\n",
        "\n",
        "for i in range(1, 10):\n",
        "    # 隨機取train_dataset長度的數字，size一維化, item()轉為Python整數\n",
        "    sample_index = torch.randint(len(train_dataset), size=(1,)).item()\n",
        "    image, label = train_dataset[sample_index]\n",
        "\n",
        "    figure.add_subplot(cols, rows, i)\n",
        "    plt.title(labels_map[label])\n",
        "    plt.imshow(image.squeeze(), cmap=\"gray\")\n",
        "    plt.axis(\"off\")"
      ],
      "metadata": {
        "colab": {
          "base_uri": "https://localhost:8080/",
          "height": 521
        },
        "id": "o9f6gGseyPjQ",
        "outputId": "b7dd991d-6569-4e0e-b08e-8f4a8bc8c5c6"
      },
      "execution_count": 90,
      "outputs": [
        {
          "output_type": "display_data",
          "data": {
            "text/plain": [
              "<Figure size 600x600 with 9 Axes>"
            ],
            "image/png": "[encoded data removed]"
          },
          "metadata": {}
        }
      ]
    },
    {
      "cell_type": "code",
      "source": [
        "# # 同效果\n",
        "# plt.figure(figsize=(6,6))\n",
        "# cols, rows = 3, 3\n",
        "\n",
        "# for i in range(1, 10):\n",
        "#     # 隨機取train_dataset長度的數字，size一維化, item()轉為Python整數\n",
        "#     sample_index = torch.randint(len(train_dataset), size=(1,)).item()\n",
        "#     image, label = train_dataset[sample_index]\n",
        "\n",
        "#     plt.subplot(cols, rows, i)\n",
        "#     plt.title(labels_map[label])\n",
        "#     plt.imshow(image.squeeze(), cmap=\"gray\")\n",
        "#     plt.axis(\"off\")"
      ],
      "metadata": {
        "id": "RIgyMjjHwJ2i"
      },
      "execution_count": 87,
      "outputs": []
    },
    {
      "cell_type": "markdown",
      "source": [
        "## DataLader\n",
        "1. DataLoader\n",
        "2. Show image from DataLoader"
      ],
      "metadata": {
        "id": "qG6_1e0fwkus"
      }
    },
    {
      "cell_type": "code",
      "source": [
        "# DataLoader\n",
        "train_dataloader = DataLoader(\n",
        "    dataset = train_dataset,\n",
        "    batch_size = 64,\n",
        "    shuffle = True # 每個 \"epoch\" 都會對數據 洗牌\n",
        ")\n",
        "\n",
        "test_dataloader = DataLoader(\n",
        "    dataset = test_dataset,\n",
        "    batch_size = 64,\n",
        "    shuffle = True\n",
        ")"
      ],
      "metadata": {
        "id": "P0C0Chfbwl_l"
      },
      "execution_count": 88,
      "outputs": []
    },
    {
      "cell_type": "code",
      "source": [
        "image, label = next(iter(train_dataloader))\n",
        "\n",
        "print(image.size(), \"-> batch_size, 灰階圖, height, width\")\n",
        "print(label.size())"
      ],
      "metadata": {
        "colab": {
          "base_uri": "https://localhost:8080/"
        },
        "id": "55uggjvlyqem",
        "outputId": "a1d16770-fec8-46a4-de2a-a3ad917fc74b"
      },
      "execution_count": 104,
      "outputs": [
        {
          "output_type": "stream",
          "name": "stdout",
          "text": [
            "torch.Size([64, 1, 28, 28]) -> batch_size, 灰階圖, height, width\n",
            "torch.Size([64])\n"
          ]
        }
      ]
    },
    {
      "cell_type": "code",
      "source": [
        "plt.imshow(image[0].squeeze(), cmap=\"gray\")\n",
        "plt.title(labels_map[label[0].item()])\n",
        "plt.axis(\"off\")"
      ],
      "metadata": {
        "colab": {
          "base_uri": "https://localhost:8080/",
          "height": 446
        },
        "id": "qX31kmiK0IBW",
        "outputId": "eea5c93c-a053-4172-f703-083e23bfb1c7"
      },
      "execution_count": 110,
      "outputs": [
        {
          "output_type": "execute_result",
          "data": {
            "text/plain": [
              "(-0.5, 27.5, 27.5, -0.5)"
            ]
          },
          "metadata": {},
          "execution_count": 110
        },
        {
          "output_type": "display_data",
          "data": {
            "text/plain": [
              "<Figure size 640x480 with 1 Axes>"
            ],
            "image/png": "[encoded data removed]"
          },
          "metadata": {}
        }
      ]
    },
    {
      "cell_type": "markdown",
      "source": [
        "## One-hot encoding"
      ],
      "metadata": {
        "id": "qvH_9mf65Sg7"
      }
    },
    {
      "cell_type": "code",
      "source": [
        "# transform -> lambda 解釋\n",
        "# 創造zeros tensor\n",
        "# scatter_ -> 0:\"T-shirt\" 將index 0 的數值, 轉換為1 [1, 0, 0, 0, ...] 達成 one-hot encoding 效果\n",
        "\n",
        "lambda y :torch.zeros(10, dtype=torch.float).scatter_(dim=0, index=torch.tensor(y), value=1)"
      ],
      "metadata": {
        "colab": {
          "base_uri": "https://localhost:8080/"
        },
        "id": "8CB0PiJk3A8E",
        "outputId": "c8580878-59a7-4567-9fab-8b159b48cb57"
      },
      "execution_count": 114,
      "outputs": [
        {
          "output_type": "execute_result",
          "data": {
            "text/plain": [
              "<function __main__.<lambda>(y)>"
            ]
          },
          "metadata": {},
          "execution_count": 114
        }
      ]
    },
    {
      "cell_type": "code",
      "source": [
        "# train_datasets and test_dataset\n",
        "train_dataset = datasets.FashionMNIST(\n",
        "    root = \"data\",\n",
        "    train = True,\n",
        "    download = True,\n",
        "    transform = ToTensor(),\n",
        "    target_transform = Lambda(lambda y :torch.zeros(10, dtype=torch.float).scatter_(dim=0, index=torch.tensor(y), value=1))\n",
        ")\n",
        "\n",
        "test_dataset = datasets.FashionMNIST(\n",
        "    root = \"data\",\n",
        "    train = False,\n",
        "    download = True,\n",
        "    transform = ToTensor(),\n",
        "    target_transform = Lambda(lambda y :torch.zeros(10, dtype=torch.float).scatter_(dim=0, index=torch.tensor(y), value=1))\n",
        ")"
      ],
      "metadata": {
        "id": "49qfuPuC4iXr"
      },
      "execution_count": 115,
      "outputs": []
    },
    {
      "cell_type": "code",
      "source": [
        "# check\n",
        "train_dataset[0][1], test_dataset[0][1]"
      ],
      "metadata": {
        "colab": {
          "base_uri": "https://localhost:8080/"
        },
        "id": "WQZ5igHs6ThK",
        "outputId": "8d9377d8-000f-4da9-fa06-275316765156"
      },
      "execution_count": 121,
      "outputs": [
        {
          "output_type": "execute_result",
          "data": {
            "text/plain": [
              "(tensor([0., 0., 0., 0., 0., 0., 0., 0., 0., 1.]),\n",
              " tensor([0., 0., 0., 0., 0., 0., 0., 0., 0., 1.]))"
            ]
          },
          "metadata": {},
          "execution_count": 121
        }
      ]
    },
    {
      "cell_type": "markdown",
      "source": [
        "# **Model**\n",
        "1. model_1 **without** training"
      ],
      "metadata": {
        "id": "tpHtu2re7HGc"
      }
    },
    {
      "cell_type": "code",
      "source": [
        "import os\n",
        "\n",
        "import torch\n",
        "from torch import nn\n",
        "from torch.utils.data import DataLoader\n",
        "\n",
        "from torchvision import datasets, transforms"
      ],
      "metadata": {
        "id": "otZ_07K_7n_3"
      },
      "execution_count": 122,
      "outputs": []
    },
    {
      "cell_type": "code",
      "source": [
        "# device\n",
        "device = \"cuda\" if torch.cuda.is_available() else \"cpu\"\n",
        "device"
      ],
      "metadata": {
        "colab": {
          "base_uri": "https://localhost:8080/",
          "height": 35
        },
        "id": "777B3NT_8XZM",
        "outputId": "1b290cd1-ddcd-4a5c-dfe7-97c89a5ca7f8"
      },
      "execution_count": 124,
      "outputs": [
        {
          "output_type": "execute_result",
          "data": {
            "text/plain": [
              "'cpu'"
            ],
            "application/vnd.google.colaboratory.intrinsic+json": {
              "type": "string"
            }
          },
          "metadata": {},
          "execution_count": 124
        }
      ]
    },
    {
      "cell_type": "code",
      "source": [
        "# Module class (建立架構)\n",
        "\n",
        "class CNN_1(nn.Module):\n",
        "    def __init__(self):\n",
        "        super(CNN_1, self).__init__()\n",
        "\n",
        "        self.flatten = nn.Flatten()\n",
        "\n",
        "        self.linear_stack = nn.Sequential(\n",
        "            nn.Linear(28*28, 256),\n",
        "            nn.ReLU(),\n",
        "            nn.Linear(256, 64),\n",
        "            nn.ReLU(),\n",
        "            nn.Linear(64, 10),\n",
        "            nn.ReLU())\n",
        "\n",
        "    def forward(self, x):\n",
        "        x = self.flatten(x)\n",
        "        logits = self.linear_stack(x)\n",
        "        return logits"
      ],
      "metadata": {
        "id": "Vg6hYZNV8h5d"
      },
      "execution_count": 127,
      "outputs": []
    },
    {
      "cell_type": "code",
      "source": [
        "# 依架構 建立模型\n",
        "model_1 = CNN_1().to(device)\n",
        "model_1"
      ],
      "metadata": {
        "colab": {
          "base_uri": "https://localhost:8080/"
        },
        "id": "lRMeJs77_JC9",
        "outputId": "290dbd6d-679a-48b2-ea1e-3aa73989a9d4"
      },
      "execution_count": 128,
      "outputs": [
        {
          "output_type": "execute_result",
          "data": {
            "text/plain": [
              "CNN_1(\n",
              "  (flatten): Flatten(start_dim=1, end_dim=-1)\n",
              "  (linear_stack): Sequential(\n",
              "    (0): Linear(in_features=784, out_features=256, bias=True)\n",
              "    (1): ReLU()\n",
              "    (2): Linear(in_features=256, out_features=64, bias=True)\n",
              "    (3): ReLU()\n",
              "    (4): Linear(in_features=64, out_features=10, bias=True)\n",
              "    (5): ReLU()\n",
              "  )\n",
              ")"
            ]
          },
          "metadata": {},
          "execution_count": 128
        }
      ]
    },
    {
      "cell_type": "code",
      "source": [
        "# 創造隨機資料, 通過模型\n",
        "# 隨機資料\n",
        "X = torch.rand(1, 28, 28).to(device)\n",
        "\n",
        "# 通過模型 -> logits\n",
        "logits = model_1(X)\n",
        "\n",
        "# 轉換成 \"加總為一\" 的機率\n",
        "pred_probility = nn.Softmax(dim=1)(logits)\n",
        "\n",
        "# 取機率中的最大值\n",
        "train_pred = pred_probility.argmax(dim=1)\n",
        "\n",
        "#\n",
        "print(f\"預測為: {labels_map[train_pred.item()]}\")"
      ],
      "metadata": {
        "colab": {
          "base_uri": "https://localhost:8080/"
        },
        "id": "huiQKT9F_3Xu",
        "outputId": "29e03dac-5364-4d08-d9b6-001a89adde03"
      },
      "execution_count": 134,
      "outputs": [
        {
          "output_type": "stream",
          "name": "stdout",
          "text": [
            "預測為: Shirt\n"
          ]
        }
      ]
    },
    {
      "cell_type": "code",
      "source": [
        "# 取模型中 特定層輸出\n",
        "specific_weight = model_1.linear_stack[0].weight\n",
        "\n",
        "specific_bias = model_1.linear_stack[0].bias"
      ],
      "metadata": {
        "id": "hEXoHLc7Cb6w"
      },
      "execution_count": 138,
      "outputs": []
    },
    {
      "cell_type": "markdown",
      "source": [
        "# **Loss_fn, Optimizer, training_loop and testing_loop**\n"
      ],
      "metadata": {
        "id": "P0EbQROmESUg"
      }
    },
    {
      "cell_type": "code",
      "source": [
        "import torch\n",
        "from torch import nn\n",
        "from torch.utils.data import DataLoader\n",
        "from torchvision import datasets\n",
        "from torchvision.transforms import ToTensor, Lambda\n",
        "import torch.optim as optim"
      ],
      "metadata": {
        "id": "vEMCeinFEoWS"
      },
      "execution_count": 150,
      "outputs": []
    },
    {
      "cell_type": "code",
      "source": [
        "# Dataset\n",
        "train_dataset = datasets.FashionMNIST(\n",
        "    root = \"data\",\n",
        "    train = True,\n",
        "    download = True,\n",
        "    transform = ToTensor())\n",
        "\n",
        "test_dataset = datasets.FashionMNIST(\n",
        "    root = \"data\",\n",
        "    train = False,\n",
        "    download = True,\n",
        "    transform = ToTensor())"
      ],
      "metadata": {
        "id": "LovLtVp5J5OP"
      },
      "execution_count": 141,
      "outputs": []
    },
    {
      "cell_type": "code",
      "source": [
        "# DataLoader\n",
        "train_dataloader = DataLoader(\n",
        "    dataset = train_dataset,\n",
        "    batch_size = 64,\n",
        "    shuffle = True)\n",
        "\n",
        "test_dataloader = DataLoader(\n",
        "    dataset = test_dataset,\n",
        "    batch_size = 64,\n",
        "    shuffle = True)"
      ],
      "metadata": {
        "id": "QWHX-5lUKir5"
      },
      "execution_count": 142,
      "outputs": []
    },
    {
      "cell_type": "code",
      "source": [
        "# Model structure\n",
        "class CNN_2(nn.Module):\n",
        "    def __init__(self):\n",
        "        super(CNN_2, self).__init__()\n",
        "\n",
        "        self.flatten = nn.Flatten()\n",
        "        self.linear_stack = nn.Sequential(\n",
        "            nn.Linear(28*28, 256),\n",
        "            nn.ReLU(),\n",
        "            nn.Linear(256, 64),\n",
        "            nn.ReLU(),\n",
        "            nn.Linear(64, 10),\n",
        "            nn.ReLU(),\n",
        "        )\n",
        "\n",
        "    def dorward(self, x):\n",
        "        x = self.flatten(x)\n",
        "        ligits = self.linear_stack(x)\n",
        "        return logits"
      ],
      "metadata": {
        "id": "kdPAHFz-K2oK"
      },
      "execution_count": 143,
      "outputs": []
    },
    {
      "cell_type": "code",
      "source": [
        "# Build model and check info\n",
        "model_2 = CNN_2().to(device)\n",
        "model_2"
      ],
      "metadata": {
        "colab": {
          "base_uri": "https://localhost:8080/"
        },
        "id": "1Ewe2KxVL4OK",
        "outputId": "04641a6e-8716-489e-c606-c1f51bc30c3e"
      },
      "execution_count": 146,
      "outputs": [
        {
          "output_type": "execute_result",
          "data": {
            "text/plain": [
              "CNN_2(\n",
              "  (flatten): Flatten(start_dim=1, end_dim=-1)\n",
              "  (linear_stack): Sequential(\n",
              "    (0): Linear(in_features=784, out_features=256, bias=True)\n",
              "    (1): ReLU()\n",
              "    (2): Linear(in_features=256, out_features=64, bias=True)\n",
              "    (3): ReLU()\n",
              "    (4): Linear(in_features=64, out_features=10, bias=True)\n",
              "    (5): ReLU()\n",
              "  )\n",
              ")"
            ]
          },
          "metadata": {},
          "execution_count": 146
        }
      ]
    },
    {
      "cell_type": "code",
      "source": [
        "# Loss_fn, optimizer\n",
        "loss_fn = nn.CrossEntropyLoss()\n",
        "optimizer = torch.optim.SGD(params = model_2.parameters(),\n",
        "                            lr = 0.01)"
      ],
      "metadata": {
        "id": "IN_fgeJUMNRn"
      },
      "execution_count": 153,
      "outputs": []
    },
    {
      "cell_type": "code",
      "source": [
        "# training loop & testing loop\n"
      ],
      "metadata": {
        "id": "FCAO1GUfMTe_"
      },
      "execution_count": null,
      "outputs": []
    }
  ]
}