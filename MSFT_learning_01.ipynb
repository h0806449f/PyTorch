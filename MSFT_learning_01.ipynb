{
  "nbformat": 4,
  "nbformat_minor": 0,
  "metadata": {
    "colab": {
      "provenance": [],
      "collapsed_sections": [
        "NQYLrAbDnZdP",
        "UBYkorvdwhEv",
        "qG6_1e0fwkus"
      ],
      "authorship_tag": "ABX9TyPy3eC3WANV2wk6bS5oHD4e",
      "include_colab_link": true
    },
    "kernelspec": {
      "name": "python3",
      "display_name": "Python 3"
    },
    "language_info": {
      "name": "python"
    }
  },
  "cells": [
    {
      "cell_type": "markdown",
      "metadata": {
        "id": "view-in-github",
        "colab_type": "text"
      },
      "source": [
        "<a href=\"https://colab.research.google.com/github/h0806449f/PyTorch/blob/main/MSFT_learning_01.ipynb\" target=\"_parent\"><img src=\"https://colab.research.google.com/assets/colab-badge.svg\" alt=\"Open In Colab\"/></a>"
      ]
    },
    {
      "cell_type": "markdown",
      "source": [
        "# **基本操作**"
      ],
      "metadata": {
        "id": "NQYLrAbDnZdP"
      }
    },
    {
      "cell_type": "code",
      "source": [
        "import torch\n",
        "import numpy as np\n",
        "import matplotlib.pyplot as plt"
      ],
      "metadata": {
        "id": "jT6LTWPcpJIj"
      },
      "execution_count": 1,
      "outputs": []
    },
    {
      "cell_type": "code",
      "execution_count": 2,
      "metadata": {
        "colab": {
          "base_uri": "https://localhost:8080/"
        },
        "id": "z3nxwixwXsY0",
        "outputId": "01a8b851-ecff-4537-f00b-efbcc2e75987"
      },
      "outputs": [
        {
          "output_type": "stream",
          "name": "stdout",
          "text": [
            "Type: <class 'list'>\n",
            "[[1, 2], [3, 4]]\n",
            "\n",
            "List to tensor\n",
            "Type: <class 'torch.Tensor'>\n",
            "tensor([[1, 2],\n",
            "        [3, 4]])\n",
            "\n",
            "List to array\n",
            "Type: <class 'numpy.ndarray'>\n",
            "[[1 2]\n",
            " [3 4]]\n",
            "\n",
            "Array to tensor\n",
            "Type: <class 'torch.Tensor'>\n",
            "tensor([[1, 2],\n",
            "        [3, 4]])\n"
          ]
        }
      ],
      "source": [
        "# 資料型態轉換\n",
        "list_data = [ [1, 2], [3, 4] ]\n",
        "\n",
        "# from list to tensor\n",
        "data_to_tensor = torch.tensor(list_data)\n",
        "\n",
        "# from list to np_array\n",
        "data_to_array = np.array(list_data)\n",
        "\n",
        "# from np_array to tensor\n",
        "array_to_tensor = torch.from_numpy(data_to_array)\n",
        "\n",
        "#\n",
        "print(f\"Type: {type(list_data)}\\n{list_data}\")\n",
        "print(\"\\nList to tensor\")\n",
        "print(f\"Type: {type(data_to_tensor)}\\n{data_to_tensor}\")\n",
        "print(\"\\nList to array\")\n",
        "print(f\"Type: {type(data_to_array)}\\n{data_to_array}\")\n",
        "print(\"\\nArray to tensor\")\n",
        "print(f\"Type: {type(array_to_tensor)}\\n{array_to_tensor}\")"
      ]
    },
    {
      "cell_type": "code",
      "source": [
        "# 複製已存在的 tensor shape\n",
        "torch.ones_like(array_to_tensor), torch.zeros_like(array_to_tensor)"
      ],
      "metadata": {
        "colab": {
          "base_uri": "https://localhost:8080/"
        },
        "id": "AsT4R_pVbWuF",
        "outputId": "ddd2d85f-b910-40bc-c619-1964db5454db"
      },
      "execution_count": 3,
      "outputs": [
        {
          "output_type": "execute_result",
          "data": {
            "text/plain": [
              "(tensor([[1, 1],\n",
              "         [1, 1]]),\n",
              " tensor([[0, 0],\n",
              "         [0, 0]]))"
            ]
          },
          "metadata": {},
          "execution_count": 3
        }
      ]
    },
    {
      "cell_type": "code",
      "source": [
        "# 指定 tensor shape, random data\n",
        "SHAPE = (2, 3)\n",
        "\n",
        "rand_tensor = torch.rand(SHAPE)\n",
        "rand_tensor"
      ],
      "metadata": {
        "colab": {
          "base_uri": "https://localhost:8080/"
        },
        "id": "1nESmLcdb0U0",
        "outputId": "f8323cb3-6e26-403f-d7d3-e0f0de14debc"
      },
      "execution_count": 4,
      "outputs": [
        {
          "output_type": "execute_result",
          "data": {
            "text/plain": [
              "tensor([[0.0731, 0.6113, 0.2498],\n",
              "        [0.0284, 0.0238, 0.5699]])"
            ]
          },
          "metadata": {},
          "execution_count": 4
        }
      ]
    },
    {
      "cell_type": "code",
      "source": [
        "# 檢視 tensor 相關資訊\n",
        "print(rand_tensor.shape)\n",
        "print(rand_tensor.dtype)\n",
        "print(rand_tensor.device)"
      ],
      "metadata": {
        "colab": {
          "base_uri": "https://localhost:8080/"
        },
        "id": "vKbz3CxpdYd2",
        "outputId": "2f6e1540-50d1-46a0-9d87-c06f44075158"
      },
      "execution_count": 5,
      "outputs": [
        {
          "output_type": "stream",
          "name": "stdout",
          "text": [
            "torch.Size([2, 3])\n",
            "torch.float32\n",
            "cpu\n"
          ]
        }
      ]
    },
    {
      "cell_type": "code",
      "source": [
        "# 設置 tensor 運作於何種裝置上\n",
        "device = \"cude\" if torch.cuda.is_available() else \"cpu\""
      ],
      "metadata": {
        "id": "AOTSjqiMe7_V"
      },
      "execution_count": 6,
      "outputs": []
    },
    {
      "cell_type": "code",
      "source": [
        "# 基本 tensor 操作_1\n",
        "list_1 = [ [1, 2, 3, 4], [5, 6, 7, 8], [9, 10, 11, 12], [13, 14, 15, 16] ]\n",
        "tensor_1 = torch.tensor(list_1)\n",
        "\n",
        "print(tensor_1)\n",
        "print(f\"First row:\\n{tensor_1[0]}\\n\")\n",
        "print(f\"First column:\\n{tensor_1[:, 0]}\\n\")\n",
        "print(f\"Last column:\\n{tensor_1[..., -1]}\")"
      ],
      "metadata": {
        "colab": {
          "base_uri": "https://localhost:8080/"
        },
        "id": "N9ipCZ7IfsNp",
        "outputId": "7bc9e2d4-cb33-4498-9cba-874039037ac2"
      },
      "execution_count": 7,
      "outputs": [
        {
          "output_type": "stream",
          "name": "stdout",
          "text": [
            "tensor([[ 1,  2,  3,  4],\n",
            "        [ 5,  6,  7,  8],\n",
            "        [ 9, 10, 11, 12],\n",
            "        [13, 14, 15, 16]])\n",
            "First row:\n",
            "tensor([1, 2, 3, 4])\n",
            "\n",
            "First column:\n",
            "tensor([ 1,  5,  9, 13])\n",
            "\n",
            "Last column:\n",
            "tensor([ 4,  8, 12, 16])\n"
          ]
        }
      ]
    },
    {
      "cell_type": "code",
      "source": [
        "# 基本 tensor 操作_2\n",
        "tensor_2 = torch.rand((2, 3))\n",
        "\n",
        "# 水平整合\n",
        "h = torch.cat([tensor_2, tensor_2, tensor_2], dim=1)\n",
        "h\n",
        "\n",
        "# 垂直整合\n",
        "v = torch.cat([tensor_2, tensor_2, tensor_2], dim=0)\n",
        "v"
      ],
      "metadata": {
        "colab": {
          "base_uri": "https://localhost:8080/"
        },
        "id": "MGOuXmKOhHts",
        "outputId": "a1201d28-6c6f-4341-9cb7-73307101e75b"
      },
      "execution_count": 8,
      "outputs": [
        {
          "output_type": "execute_result",
          "data": {
            "text/plain": [
              "tensor([[0.9883, 0.1873, 0.5952],\n",
              "        [0.3067, 0.8213, 0.9153],\n",
              "        [0.9883, 0.1873, 0.5952],\n",
              "        [0.3067, 0.8213, 0.9153],\n",
              "        [0.9883, 0.1873, 0.5952],\n",
              "        [0.3067, 0.8213, 0.9153]])"
            ]
          },
          "metadata": {},
          "execution_count": 8
        }
      ]
    },
    {
      "cell_type": "code",
      "source": [
        "# 基本 tensor 操作_3 (乘除, 注意shape)\n",
        "torch.manual_seed(42)\n",
        "tensor_3 = torch.rand((2, 3))\n",
        "\n",
        "result_1 = tensor_3 @ tensor_3.T\n",
        "\n",
        "result_2 = torch.matmul(tensor_3, tensor_3.T)\n",
        "result_2"
      ],
      "metadata": {
        "colab": {
          "base_uri": "https://localhost:8080/"
        },
        "id": "ZdxHbt-WlBMP",
        "outputId": "7824f296-7b0c-435b-d158-c355b1aca6a9"
      },
      "execution_count": 9,
      "outputs": [
        {
          "output_type": "execute_result",
          "data": {
            "text/plain": [
              "tensor([[1.7622, 1.4337],\n",
              "        [1.4337, 1.4338]])"
            ]
          },
          "metadata": {},
          "execution_count": 9
        }
      ]
    },
    {
      "cell_type": "markdown",
      "source": [
        "# **Dataset & Dataloader**\n",
        "1. **Dataset**: data, label\n",
        "2. **Dataloader**: iterable\n",
        "3. **Fashion-MNIST** as example\n"
      ],
      "metadata": {
        "id": "WZoKKiLdnrPf"
      }
    },
    {
      "cell_type": "code",
      "source": [
        "import matplotlib.pyplot as plt\n",
        "\n",
        "from torch.utils.data import Dataset, DataLoader\n",
        "from torchvision import datasets\n",
        "from torchvision.transforms import ToTensor, Lambda"
      ],
      "metadata": {
        "id": "JTQXL3fvo8th"
      },
      "execution_count": 10,
      "outputs": []
    },
    {
      "cell_type": "markdown",
      "source": [
        "## Dataset\n",
        "1. Dataset\n",
        "2. Show image from Dataset"
      ],
      "metadata": {
        "id": "UBYkorvdwhEv"
      }
    },
    {
      "cell_type": "code",
      "source": [
        "# 訓練資料集, 測試資料集\n",
        "train_dataset = datasets.FashionMNIST(\n",
        "    root=\"data\",\n",
        "    train=True,\n",
        "    download=True,\n",
        "    transform=ToTensor()) # 將每個圖像轉換成tensor形式, 並將數值轉換至 0 - 1 之間\n",
        "\n",
        "test_dataset = datasets.FashionMNIST(\n",
        "    root=\"data\",\n",
        "    train=False,\n",
        "    download=True,\n",
        "    transform=ToTensor())"
      ],
      "metadata": {
        "colab": {
          "base_uri": "https://localhost:8080/"
        },
        "id": "1N3lpyrGn-bp",
        "outputId": "83df1347-8364-4393-e42b-2175d1aea4fb"
      },
      "execution_count": 11,
      "outputs": [
        {
          "output_type": "stream",
          "name": "stdout",
          "text": [
            "Downloading http://fashion-mnist.s3-website.eu-central-1.amazonaws.com/train-images-idx3-ubyte.gz\n",
            "Downloading http://fashion-mnist.s3-website.eu-central-1.amazonaws.com/train-images-idx3-ubyte.gz to data/FashionMNIST/raw/train-images-idx3-ubyte.gz\n"
          ]
        },
        {
          "output_type": "stream",
          "name": "stderr",
          "text": [
            "100%|██████████| 26421880/26421880 [00:01<00:00, 16409646.21it/s]\n"
          ]
        },
        {
          "output_type": "stream",
          "name": "stdout",
          "text": [
            "Extracting data/FashionMNIST/raw/train-images-idx3-ubyte.gz to data/FashionMNIST/raw\n",
            "\n",
            "Downloading http://fashion-mnist.s3-website.eu-central-1.amazonaws.com/train-labels-idx1-ubyte.gz\n",
            "Downloading http://fashion-mnist.s3-website.eu-central-1.amazonaws.com/train-labels-idx1-ubyte.gz to data/FashionMNIST/raw/train-labels-idx1-ubyte.gz\n"
          ]
        },
        {
          "output_type": "stream",
          "name": "stderr",
          "text": [
            "100%|██████████| 29515/29515 [00:00<00:00, 323634.91it/s]\n"
          ]
        },
        {
          "output_type": "stream",
          "name": "stdout",
          "text": [
            "Extracting data/FashionMNIST/raw/train-labels-idx1-ubyte.gz to data/FashionMNIST/raw\n",
            "\n",
            "Downloading http://fashion-mnist.s3-website.eu-central-1.amazonaws.com/t10k-images-idx3-ubyte.gz\n",
            "Downloading http://fashion-mnist.s3-website.eu-central-1.amazonaws.com/t10k-images-idx3-ubyte.gz to data/FashionMNIST/raw/t10k-images-idx3-ubyte.gz\n"
          ]
        },
        {
          "output_type": "stream",
          "name": "stderr",
          "text": [
            "100%|██████████| 4422102/4422102 [00:00<00:00, 5538303.54it/s]\n"
          ]
        },
        {
          "output_type": "stream",
          "name": "stdout",
          "text": [
            "Extracting data/FashionMNIST/raw/t10k-images-idx3-ubyte.gz to data/FashionMNIST/raw\n",
            "\n",
            "Downloading http://fashion-mnist.s3-website.eu-central-1.amazonaws.com/t10k-labels-idx1-ubyte.gz\n",
            "Downloading http://fashion-mnist.s3-website.eu-central-1.amazonaws.com/t10k-labels-idx1-ubyte.gz to data/FashionMNIST/raw/t10k-labels-idx1-ubyte.gz\n"
          ]
        },
        {
          "output_type": "stream",
          "name": "stderr",
          "text": [
            "100%|██████████| 5148/5148 [00:00<00:00, 20524978.13it/s]"
          ]
        },
        {
          "output_type": "stream",
          "name": "stdout",
          "text": [
            "Extracting data/FashionMNIST/raw/t10k-labels-idx1-ubyte.gz to data/FashionMNIST/raw\n",
            "\n"
          ]
        },
        {
          "output_type": "stream",
          "name": "stderr",
          "text": [
            "\n"
          ]
        }
      ]
    },
    {
      "cell_type": "code",
      "source": [
        "# 了解 Dataset 資料結構\n",
        "# 每組資料 -> (image, label)\n",
        "train_dataset[0]\n",
        "\n",
        "labels_map = {\n",
        "    0: \"T-Shirt\",\n",
        "    1: \"Trouser\",\n",
        "    2: \"Pullover\",\n",
        "    3: \"Dress\",\n",
        "    4: \"Coat\",\n",
        "    5: \"Sandal\",\n",
        "    6: \"Shirt\",\n",
        "    7: \"Sneaker\",\n",
        "    8: \"Bag\",\n",
        "    9: \"Ankle Boot\",\n",
        "}\n"
      ],
      "metadata": {
        "id": "-AdAuMd3qnCa"
      },
      "execution_count": 12,
      "outputs": []
    },
    {
      "cell_type": "code",
      "source": [
        "# 從dataset 中, 隨機顯示10張圖片\n",
        "\n",
        "figure = plt.figure(figsize=(6,6))\n",
        "cols, rows = 3, 3\n",
        "\n",
        "for i in range(1, 10):\n",
        "    # 隨機取train_dataset長度的數字，size一維化, item()轉為Python整數\n",
        "    sample_index = torch.randint(len(train_dataset), size=(1,)).item()\n",
        "    image, label = train_dataset[sample_index]\n",
        "\n",
        "    figure.add_subplot(cols, rows, i)\n",
        "    plt.title(labels_map[label])\n",
        "    plt.imshow(image.squeeze(), cmap=\"gray\")\n",
        "    plt.axis(\"off\")"
      ],
      "metadata": {
        "colab": {
          "base_uri": "https://localhost:8080/",
          "height": 0
        },
        "id": "o9f6gGseyPjQ",
        "outputId": "23df8991-2f75-4233-897f-bddcc6262769"
      },
      "execution_count": 13,
      "outputs": [
        {
          "output_type": "display_data",
          "data": {
            "text/plain": [
              "<Figure size 600x600 with 9 Axes>"
            ],
            "image/png": "[encoded data removed]"
          },
          "metadata": {}
        }
      ]
    },
    {
      "cell_type": "code",
      "source": [
        "# # 同效果\n",
        "# plt.figure(figsize=(6,6))\n",
        "# cols, rows = 3, 3\n",
        "\n",
        "# for i in range(1, 10):\n",
        "#     # 隨機取train_dataset長度的數字，size一維化, item()轉為Python整數\n",
        "#     sample_index = torch.randint(len(train_dataset), size=(1,)).item()\n",
        "#     image, label = train_dataset[sample_index]\n",
        "\n",
        "#     plt.subplot(cols, rows, i)\n",
        "#     plt.title(labels_map[label])\n",
        "#     plt.imshow(image.squeeze(), cmap=\"gray\")\n",
        "#     plt.axis(\"off\")"
      ],
      "metadata": {
        "id": "RIgyMjjHwJ2i"
      },
      "execution_count": 14,
      "outputs": []
    },
    {
      "cell_type": "markdown",
      "source": [
        "## DataLader\n",
        "1. DataLoader\n",
        "2. Show image from DataLoader"
      ],
      "metadata": {
        "id": "qG6_1e0fwkus"
      }
    },
    {
      "cell_type": "code",
      "source": [
        "# DataLoader\n",
        "train_dataloader = DataLoader(\n",
        "    dataset = train_dataset,\n",
        "    batch_size = 64,\n",
        "    shuffle = True # 每個 \"epoch\" 都會對數據 洗牌\n",
        ")\n",
        "\n",
        "test_dataloader = DataLoader(\n",
        "    dataset = test_dataset,\n",
        "    batch_size = 64,\n",
        "    shuffle = True\n",
        ")"
      ],
      "metadata": {
        "id": "P0C0Chfbwl_l"
      },
      "execution_count": 15,
      "outputs": []
    },
    {
      "cell_type": "code",
      "source": [
        "image, label = next(iter(train_dataloader))\n",
        "\n",
        "print(image.size(), \"-> batch_size, 灰階圖, height, width\")\n",
        "print(label.size())"
      ],
      "metadata": {
        "colab": {
          "base_uri": "https://localhost:8080/"
        },
        "id": "55uggjvlyqem",
        "outputId": "f5cb72db-6618-4755-dba4-f19434540668"
      },
      "execution_count": 16,
      "outputs": [
        {
          "output_type": "stream",
          "name": "stdout",
          "text": [
            "torch.Size([64, 1, 28, 28]) -> batch_size, 灰階圖, height, width\n",
            "torch.Size([64])\n"
          ]
        }
      ]
    },
    {
      "cell_type": "code",
      "source": [
        "plt.imshow(image[0].squeeze(), cmap=\"gray\")\n",
        "plt.title(labels_map[label[0].item()])\n",
        "plt.axis(\"off\")"
      ],
      "metadata": {
        "colab": {
          "base_uri": "https://localhost:8080/",
          "height": 0
        },
        "id": "qX31kmiK0IBW",
        "outputId": "7bf77230-d6b6-4ba9-f74a-2e030525abb0"
      },
      "execution_count": 17,
      "outputs": [
        {
          "output_type": "execute_result",
          "data": {
            "text/plain": [
              "(-0.5, 27.5, 27.5, -0.5)"
            ]
          },
          "metadata": {},
          "execution_count": 17
        },
        {
          "output_type": "display_data",
          "data": {
            "text/plain": [
              "<Figure size 640x480 with 1 Axes>"
            ],
            "image/png": "[encoded data removed]"
          },
          "metadata": {}
        }
      ]
    },
    {
      "cell_type": "markdown",
      "source": [
        "## One-hot encoding"
      ],
      "metadata": {
        "id": "qvH_9mf65Sg7"
      }
    },
    {
      "cell_type": "code",
      "source": [
        "# transform -> lambda 解釋\n",
        "# 創造zeros tensor\n",
        "# scatter_ -> 0:\"T-shirt\" 將index 0 的數值, 轉換為1 [1, 0, 0, 0, ...] 達成 one-hot encoding 效果\n",
        "\n",
        "lambda y :torch.zeros(10, dtype=torch.float).scatter_(dim=0, index=torch.tensor(y), value=1)"
      ],
      "metadata": {
        "colab": {
          "base_uri": "https://localhost:8080/"
        },
        "id": "8CB0PiJk3A8E",
        "outputId": "24707b8d-10de-46e2-ef49-ca2bf63a62e0"
      },
      "execution_count": 18,
      "outputs": [
        {
          "output_type": "execute_result",
          "data": {
            "text/plain": [
              "<function __main__.<lambda>(y)>"
            ]
          },
          "metadata": {},
          "execution_count": 18
        }
      ]
    },
    {
      "cell_type": "code",
      "source": [
        "# train_datasets and test_dataset\n",
        "train_dataset = datasets.FashionMNIST(\n",
        "    root = \"data\",\n",
        "    train = True,\n",
        "    download = True,\n",
        "    transform = ToTensor(),\n",
        "    target_transform = Lambda(lambda y :torch.zeros(10, dtype=torch.float).scatter_(dim=0, index=torch.tensor(y), value=1))\n",
        ")\n",
        "\n",
        "test_dataset = datasets.FashionMNIST(\n",
        "    root = \"data\",\n",
        "    train = False,\n",
        "    download = True,\n",
        "    transform = ToTensor(),\n",
        "    target_transform = Lambda(lambda y :torch.zeros(10, dtype=torch.float).scatter_(dim=0, index=torch.tensor(y), value=1))\n",
        ")"
      ],
      "metadata": {
        "id": "49qfuPuC4iXr"
      },
      "execution_count": 19,
      "outputs": []
    },
    {
      "cell_type": "code",
      "source": [
        "# check\n",
        "train_dataset[0][1], test_dataset[0][1]"
      ],
      "metadata": {
        "colab": {
          "base_uri": "https://localhost:8080/"
        },
        "id": "WQZ5igHs6ThK",
        "outputId": "48f587b4-b767-4f09-cd7e-02e4fba561e5"
      },
      "execution_count": 20,
      "outputs": [
        {
          "output_type": "execute_result",
          "data": {
            "text/plain": [
              "(tensor([0., 0., 0., 0., 0., 0., 0., 0., 0., 1.]),\n",
              " tensor([0., 0., 0., 0., 0., 0., 0., 0., 0., 1.]))"
            ]
          },
          "metadata": {},
          "execution_count": 20
        }
      ]
    },
    {
      "cell_type": "markdown",
      "source": [
        "# **Model**\n",
        "1. model_1 **without** training"
      ],
      "metadata": {
        "id": "tpHtu2re7HGc"
      }
    },
    {
      "cell_type": "code",
      "source": [
        "import os\n",
        "\n",
        "import torch\n",
        "from torch import nn\n",
        "from torch.utils.data import DataLoader\n",
        "\n",
        "from torchvision import datasets, transforms"
      ],
      "metadata": {
        "id": "otZ_07K_7n_3"
      },
      "execution_count": 21,
      "outputs": []
    },
    {
      "cell_type": "code",
      "source": [
        "# device\n",
        "device = \"cuda\" if torch.cuda.is_available() else \"cpu\"\n",
        "device"
      ],
      "metadata": {
        "colab": {
          "base_uri": "https://localhost:8080/",
          "height": 35
        },
        "id": "777B3NT_8XZM",
        "outputId": "0fbe4441-c1c1-4037-bc6b-d412c2e57307"
      },
      "execution_count": 22,
      "outputs": [
        {
          "output_type": "execute_result",
          "data": {
            "text/plain": [
              "'cpu'"
            ],
            "application/vnd.google.colaboratory.intrinsic+json": {
              "type": "string"
            }
          },
          "metadata": {},
          "execution_count": 22
        }
      ]
    },
    {
      "cell_type": "code",
      "source": [
        "# Module class (建立架構)\n",
        "\n",
        "class CNN_1(nn.Module):\n",
        "    def __init__(self):\n",
        "        super(CNN_1, self).__init__()\n",
        "\n",
        "        self.flatten = nn.Flatten()\n",
        "\n",
        "        self.linear_stack = nn.Sequential(\n",
        "            nn.Linear(28*28, 256),\n",
        "            nn.ReLU(),\n",
        "            nn.Linear(256, 64),\n",
        "            nn.ReLU(),\n",
        "            nn.Linear(64, 10),\n",
        "            nn.ReLU())\n",
        "\n",
        "    def forward(self, x):\n",
        "        x = self.flatten(x)\n",
        "        logits = self.linear_stack(x)\n",
        "        return logits"
      ],
      "metadata": {
        "id": "Vg6hYZNV8h5d"
      },
      "execution_count": 23,
      "outputs": []
    },
    {
      "cell_type": "code",
      "source": [
        "# 依架構 建立模型\n",
        "model_1 = CNN_1().to(device)\n",
        "model_1"
      ],
      "metadata": {
        "colab": {
          "base_uri": "https://localhost:8080/"
        },
        "id": "lRMeJs77_JC9",
        "outputId": "206e60dd-8d3c-493d-fb10-66187bc52ab7"
      },
      "execution_count": 24,
      "outputs": [
        {
          "output_type": "execute_result",
          "data": {
            "text/plain": [
              "CNN_1(\n",
              "  (flatten): Flatten(start_dim=1, end_dim=-1)\n",
              "  (linear_stack): Sequential(\n",
              "    (0): Linear(in_features=784, out_features=256, bias=True)\n",
              "    (1): ReLU()\n",
              "    (2): Linear(in_features=256, out_features=64, bias=True)\n",
              "    (3): ReLU()\n",
              "    (4): Linear(in_features=64, out_features=10, bias=True)\n",
              "    (5): ReLU()\n",
              "  )\n",
              ")"
            ]
          },
          "metadata": {},
          "execution_count": 24
        }
      ]
    },
    {
      "cell_type": "code",
      "source": [
        "# 創造隨機資料, 通過模型\n",
        "# 隨機資料\n",
        "X = torch.rand(1, 28, 28).to(device)\n",
        "\n",
        "# 通過模型 -> logits\n",
        "logits = model_1(X)\n",
        "\n",
        "# 轉換成 \"加總為一\" 的機率\n",
        "pred_probility = nn.Softmax(dim=1)(logits)\n",
        "\n",
        "# 取機率中的最大值\n",
        "train_pred = pred_probility.argmax(dim=1)\n",
        "\n",
        "#\n",
        "print(f\"預測為: {labels_map[train_pred.item()]}\")"
      ],
      "metadata": {
        "colab": {
          "base_uri": "https://localhost:8080/"
        },
        "id": "huiQKT9F_3Xu",
        "outputId": "00f462cd-b1ed-42bc-d929-65d9a02f0b09"
      },
      "execution_count": 25,
      "outputs": [
        {
          "output_type": "stream",
          "name": "stdout",
          "text": [
            "預測為: Pullover\n"
          ]
        }
      ]
    },
    {
      "cell_type": "code",
      "source": [
        "# 取模型中 特定層輸出\n",
        "specific_weight = model_1.linear_stack[0].weight\n",
        "\n",
        "specific_bias = model_1.linear_stack[0].bias"
      ],
      "metadata": {
        "id": "hEXoHLc7Cb6w"
      },
      "execution_count": 26,
      "outputs": []
    },
    {
      "cell_type": "markdown",
      "source": [
        "# **Loss_fn, Optimizer, training_loop and testing_loop**\n",
        "1. Model_2 training -> prediction\n",
        "2. Save model_2\n",
        "3. Use saved model\n"
      ],
      "metadata": {
        "id": "P0EbQROmESUg"
      }
    },
    {
      "cell_type": "code",
      "source": [
        "import torch\n",
        "from torch import nn\n",
        "from torch.utils.data import DataLoader\n",
        "from torchvision import datasets\n",
        "from torchvision.transforms import ToTensor, Lambda\n",
        "import torch.optim as optim"
      ],
      "metadata": {
        "id": "vEMCeinFEoWS"
      },
      "execution_count": 35,
      "outputs": []
    },
    {
      "cell_type": "code",
      "source": [
        "# Dataset\n",
        "train_dataset = datasets.FashionMNIST(\n",
        "    root = \"data\",\n",
        "    train = True,\n",
        "    download = True,\n",
        "    transform = ToTensor())\n",
        "\n",
        "test_dataset = datasets.FashionMNIST(\n",
        "    root = \"data\",\n",
        "    train = False,\n",
        "    download = True,\n",
        "    transform = ToTensor())"
      ],
      "metadata": {
        "id": "LovLtVp5J5OP"
      },
      "execution_count": 36,
      "outputs": []
    },
    {
      "cell_type": "code",
      "source": [
        "# DataLoader\n",
        "train_dataloader = DataLoader(\n",
        "    dataset = train_dataset,\n",
        "    batch_size = 64,\n",
        "    shuffle = True)\n",
        "\n",
        "test_dataloader = DataLoader(\n",
        "    dataset = test_dataset,\n",
        "    batch_size = 64,\n",
        "    shuffle = True)"
      ],
      "metadata": {
        "id": "QWHX-5lUKir5"
      },
      "execution_count": 37,
      "outputs": []
    },
    {
      "cell_type": "code",
      "source": [
        "# Model structure\n",
        "class CNN_2(nn.Module):\n",
        "    def __init__(self):\n",
        "        super(CNN_2, self).__init__()\n",
        "\n",
        "        self.flatten = nn.Flatten()\n",
        "        self.linear_stack = nn.Sequential(\n",
        "            nn.Linear(28*28, 256),\n",
        "            nn.ReLU(),\n",
        "            nn.Linear(256, 64),\n",
        "            nn.ReLU(),\n",
        "            nn.Linear(64, 10),\n",
        "            nn.ReLU(),\n",
        "        )\n",
        "\n",
        "    def forward(self, x):\n",
        "        x = self.flatten(x)\n",
        "        logits = self.linear_stack(x)\n",
        "        return logits"
      ],
      "metadata": {
        "id": "kdPAHFz-K2oK"
      },
      "execution_count": 38,
      "outputs": []
    },
    {
      "cell_type": "code",
      "source": [
        "# Build model and check info\n",
        "model_2 = CNN_2().to(device)\n",
        "model_2"
      ],
      "metadata": {
        "colab": {
          "base_uri": "https://localhost:8080/"
        },
        "id": "1Ewe2KxVL4OK",
        "outputId": "2cdac6ce-1c8c-468b-bbd7-44c3a1efa96e"
      },
      "execution_count": 39,
      "outputs": [
        {
          "output_type": "execute_result",
          "data": {
            "text/plain": [
              "CNN_2(\n",
              "  (flatten): Flatten(start_dim=1, end_dim=-1)\n",
              "  (linear_stack): Sequential(\n",
              "    (0): Linear(in_features=784, out_features=256, bias=True)\n",
              "    (1): ReLU()\n",
              "    (2): Linear(in_features=256, out_features=64, bias=True)\n",
              "    (3): ReLU()\n",
              "    (4): Linear(in_features=64, out_features=10, bias=True)\n",
              "    (5): ReLU()\n",
              "  )\n",
              ")"
            ]
          },
          "metadata": {},
          "execution_count": 39
        }
      ]
    },
    {
      "cell_type": "code",
      "source": [
        "# Loss_fn, optimizer\n",
        "loss_fn = nn.CrossEntropyLoss()\n",
        "optimizer = torch.optim.SGD(params = model_2.parameters(),\n",
        "                            lr = 0.01)"
      ],
      "metadata": {
        "id": "IN_fgeJUMNRn"
      },
      "execution_count": 40,
      "outputs": []
    },
    {
      "cell_type": "code",
      "source": [
        "# Define -> training loop & testing loop\n",
        "def train_loop(dataloader, model, loss_fn, optimizer):\n",
        "    size = len(dataloader.dataset)\n",
        "\n",
        "    for batch, (X_train, y_train) in enumerate(dataloader):\n",
        "        # forward pass\n",
        "        train_pred = model(X_train)\n",
        "        loss = loss_fn(train_pred, y_train)\n",
        "\n",
        "        # backeard pass\n",
        "        optimizer.zero_grad()\n",
        "        loss.backward()\n",
        "        optimizer.step()\n",
        "\n",
        "        # process\n",
        "        if batch % 500 == 0:\n",
        "            loss, current = loss.item(), batch*len(X_train)\n",
        "            print(f\"Train loss: {loss:.3f} [{current:.3f} / {size:.3f}]\")\n",
        "\n",
        "\n",
        "def test_loop(dataloader, model, loss_fn):\n",
        "    size = len(dataloader.dataset)\n",
        "    test_loss, correct = 0, 0\n",
        "\n",
        "    with torch.inference_mode():\n",
        "        for X_test, y_test in dataloader:\n",
        "            test_prd = model(X_test)\n",
        "            test_loss = test_loss + loss_fn(test_prd, y_test).item()\n",
        "            correct = correct + (test_prd.argmax(1) == y_test).type(torch.float).sum().item()\n",
        "\n",
        "    test_loss = test_loss / size\n",
        "    correct = correct / size\n",
        "\n",
        "    print(f\"Test result\\n Avg loss:{test_loss:.5f} | Accuracy:{(100*correct):.5f}%\")"
      ],
      "metadata": {
        "id": "FCAO1GUfMTe_"
      },
      "execution_count": 41,
      "outputs": []
    },
    {
      "cell_type": "code",
      "source": [
        "# Actual train and test\n",
        "epochs = 10\n",
        "\n",
        "for epoch in range(epochs):\n",
        "    print(f\"Epoch: {epoch+1}\\n============================\")\n",
        "    train_loop(train_dataloader, model_2, loss_fn = loss_fn, optimizer = optimizer)\n",
        "    test_loop(test_dataloader, model_2, loss_fn = loss_fn)"
      ],
      "metadata": {
        "colab": {
          "base_uri": "https://localhost:8080/"
        },
        "id": "8f6XtEQESj9_",
        "outputId": "ba681564-be33-494b-ad24-38b9f7e76aa4"
      },
      "execution_count": 42,
      "outputs": [
        {
          "output_type": "stream",
          "name": "stdout",
          "text": [
            "Epoch: 1\n",
            "============================\n",
            "Train loss: 2.291 [0.000 / 60000.000]\n",
            "Train loss: 1.552 [32000.000 / 60000.000]\n",
            "Test result\n",
            " Avg loss:0.01785 | Accuracy:61.62000%\n",
            "Epoch: 2\n",
            "============================\n",
            "Train loss: 1.073 [0.000 / 60000.000]\n",
            "Train loss: 0.705 [32000.000 / 60000.000]\n",
            "Test result\n",
            " Avg loss:0.01439 | Accuracy:68.50000%\n",
            "Epoch: 3\n",
            "============================\n",
            "Train loss: 0.904 [0.000 / 60000.000]\n",
            "Train loss: 0.917 [32000.000 / 60000.000]\n",
            "Test result\n",
            " Avg loss:0.01326 | Accuracy:69.55000%\n",
            "Epoch: 4\n",
            "============================\n",
            "Train loss: 0.806 [0.000 / 60000.000]\n",
            "Train loss: 0.569 [32000.000 / 60000.000]\n",
            "Test result\n",
            " Avg loss:0.01234 | Accuracy:72.21000%\n",
            "Epoch: 5\n",
            "============================\n",
            "Train loss: 0.887 [0.000 / 60000.000]\n",
            "Train loss: 0.839 [32000.000 / 60000.000]\n",
            "Test result\n",
            " Avg loss:0.01178 | Accuracy:72.92000%\n",
            "Epoch: 6\n",
            "============================\n",
            "Train loss: 0.653 [0.000 / 60000.000]\n",
            "Train loss: 0.613 [32000.000 / 60000.000]\n",
            "Test result\n",
            " Avg loss:0.01154 | Accuracy:73.74000%\n",
            "Epoch: 7\n",
            "============================\n",
            "Train loss: 0.553 [0.000 / 60000.000]\n",
            "Train loss: 0.793 [32000.000 / 60000.000]\n",
            "Test result\n",
            " Avg loss:0.01120 | Accuracy:74.31000%\n",
            "Epoch: 8\n",
            "============================\n",
            "Train loss: 0.523 [0.000 / 60000.000]\n",
            "Train loss: 0.687 [32000.000 / 60000.000]\n",
            "Test result\n",
            " Avg loss:0.01105 | Accuracy:74.44000%\n",
            "Epoch: 9\n",
            "============================\n",
            "Train loss: 0.748 [0.000 / 60000.000]\n",
            "Train loss: 0.746 [32000.000 / 60000.000]\n",
            "Test result\n",
            " Avg loss:0.01088 | Accuracy:74.78000%\n",
            "Epoch: 10\n",
            "============================\n",
            "Train loss: 0.689 [0.000 / 60000.000]\n",
            "Train loss: 0.926 [32000.000 / 60000.000]\n",
            "Test result\n",
            " Avg loss:0.01075 | Accuracy:75.00000%\n"
          ]
        }
      ]
    },
    {
      "cell_type": "code",
      "source": [
        "# Save model_2\n",
        "torch.save(model_2.state_dict(), \"data/model_2.pth\")"
      ],
      "metadata": {
        "id": "vRUty24wcCBN"
      },
      "execution_count": 43,
      "outputs": []
    },
    {
      "cell_type": "code",
      "source": [
        "# 模型3 直接套用模型2 並預測\n",
        "model_3 = CNN_2()\n",
        "model_3.load_state_dict(torch.load(\"data/model_2.pth\"))\n",
        "\n",
        "model_3.eval()\n",
        "X, y = test_dataset[1][0], test_dataset[1][1]\n",
        "\n",
        "with torch.inference_mode():\n",
        "    logits = model_3(X)\n",
        "    probs = nn.Softmax(dim=1)(logits)\n",
        "    pred = probs.argmax(dim=1)\n",
        "    print(f\"預測: {labels_map[pred.item()]}\")\n",
        "    print(f\"真實: {labels_map[y]}\")"
      ],
      "metadata": {
        "colab": {
          "base_uri": "https://localhost:8080/"
        },
        "id": "Nu2EoWmLdH1U",
        "outputId": "82539157-767b-420c-eca3-85713b2e5ede"
      },
      "execution_count": 51,
      "outputs": [
        {
          "output_type": "stream",
          "name": "stdout",
          "text": [
            "預測: Pullover\n",
            "真實: Pullover\n"
          ]
        }
      ]
    }
  ]
}