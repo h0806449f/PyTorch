{
  "nbformat": 4,
  "nbformat_minor": 0,
  "metadata": {
    "colab": {
      "provenance": [],
      "collapsed_sections": [
        "yNcQ2FK1PITe",
        "AKNrFxSeU2TH",
        "ya9dD3VkcMhD",
        "zucnBnK3b-NL",
        "YuTjXlSOaaNK",
        "TxFIuIfspDP1",
        "Lqv7zJZ4pI9t",
        "MT33V53Bp3Qa"
      ],
      "toc_visible": true,
      "authorship_tag": "ABX9TyPV8tRcKN7GCQ++kIcFDUQL",
      "include_colab_link": true
    },
    "kernelspec": {
      "name": "python3",
      "display_name": "Python 3"
    },
    "language_info": {
      "name": "python"
    }
  },
  "cells": [
    {
      "cell_type": "markdown",
      "metadata": {
        "id": "view-in-github",
        "colab_type": "text"
      },
      "source": [
        "<a href=\"https://colab.research.google.com/github/h0806449f/PyTorch/blob/main/DB_06_transfer_learning.ipynb\" target=\"_parent\"><img src=\"https://colab.research.google.com/assets/colab-badge.svg\" alt=\"Open In Colab\"/></a>"
      ]
    },
    {
      "cell_type": "markdown",
      "source": [
        "# **=== 0. 簡介 ===**\n",
        "1. Get data\n",
        "2. Create dataset and dataloader\n",
        "3. Get pre-train model and customize it\n",
        "4. Train model\n",
        "5. Evaluate model\n",
        "6. Make prediction"
      ],
      "metadata": {
        "id": "Virmbqb_OGgT"
      }
    },
    {
      "cell_type": "markdown",
      "source": [
        "# **=== 1. Get data ===**"
      ],
      "metadata": {
        "id": "yNcQ2FK1PITe"
      }
    },
    {
      "cell_type": "code",
      "execution_count": 78,
      "metadata": {
        "colab": {
          "base_uri": "https://localhost:8080/"
        },
        "id": "gn2ef3NsH3L-",
        "outputId": "95f488af-29cd-4486-a781-e8ce9bf40f40"
      },
      "outputs": [
        {
          "output_type": "stream",
          "name": "stdout",
          "text": [
            "Folder data/pizza_steak_sushi already exists.\n",
            "Downloading data ...\n",
            "Unziping data ...\n"
          ]
        }
      ],
      "source": [
        "# Import\n",
        "import requests\n",
        "import zipfile\n",
        "import os\n",
        "from pathlib import Path\n",
        "\n",
        "# Set path\n",
        "data_path = Path(\"data/\")\n",
        "image_path = data_path / \"pizza_steak_sushi\"\n",
        "\n",
        "# 判斷有無資料夾, 無則創立\n",
        "if image_path.is_dir():\n",
        "    print(f\"Folder {image_path} already exists.\")\n",
        "else:\n",
        "    print(f\"Foldr {image_path} not exist, creating ...\")\n",
        "    image_path.mkdir(parents = True, exist_ok = True)\n",
        "\n",
        "# 下載壓縮檔\n",
        "with open(data_path / \"pizza_steak_sushi.zip\", \"wb\") as f:\n",
        "    request = requests.get(\"https://github.com/mrdbourke/pytorch-deep-learning/raw/main/data/pizza_steak_sushi.zip\")\n",
        "    print(\"Downloading data ...\")\n",
        "    f.write(request.content)\n",
        "\n",
        "# 解壓縮\n",
        "with zipfile.ZipFile(data_path / \"pizza_steak_sushi.zip\", \"r\") as zip_f:\n",
        "    print(\"Unziping data ...\")\n",
        "    zip_f.extractall(image_path)\n",
        "\n",
        "# 刪除壓縮檔\n",
        "os.remove(data_path / \"pizza_steak_sushi.zip\")"
      ]
    },
    {
      "cell_type": "markdown",
      "source": [
        "# **=== 2. Dataset & dataloader ===**\n",
        "1. 可 import 之前的 code, 這邊維持練習\n",
        "2. **資料預處理的 transform 也需一起遷移學習**"
      ],
      "metadata": {
        "id": "AKNrFxSeU2TH"
      }
    },
    {
      "cell_type": "markdown",
      "source": [
        "## 2.1 練習"
      ],
      "metadata": {
        "id": "ya9dD3VkcMhD"
      }
    },
    {
      "cell_type": "code",
      "source": [
        "# Directory path\n",
        "train_dir = image_path / \"train\"\n",
        "test_dir = image_path / \"test\""
      ],
      "metadata": {
        "id": "IFgh5iejVA3e"
      },
      "execution_count": 79,
      "outputs": []
    },
    {
      "cell_type": "code",
      "source": [
        "# Transforms (此次遷移學習目標為 efficientnet_b0, transform 也需參照)\n",
        "# 手動練習\n",
        "from torchvision import transforms\n",
        "\n",
        "transform = transforms.Compose([\n",
        "    transforms.Resize((224, 224)),\n",
        "    transforms.ToTensor(),\n",
        "    transforms.Normalize(mean = [0.485, 0.456, 0.406],\n",
        "                         std = [0.229, 0.224, 0.225])\n",
        "])\n",
        "transform"
      ],
      "metadata": {
        "colab": {
          "base_uri": "https://localhost:8080/"
        },
        "id": "CnPR90yXVgmo",
        "outputId": "685403ba-4bf8-4a61-dc0c-1c0b39822028"
      },
      "execution_count": 80,
      "outputs": [
        {
          "output_type": "execute_result",
          "data": {
            "text/plain": [
              "Compose(\n",
              "    Resize(size=(224, 224), interpolation=bilinear, max_size=None, antialias=warn)\n",
              "    ToTensor()\n",
              "    Normalize(mean=[0.485, 0.456, 0.406], std=[0.229, 0.224, 0.225])\n",
              ")"
            ]
          },
          "metadata": {},
          "execution_count": 80
        }
      ]
    },
    {
      "cell_type": "code",
      "source": [
        "# Dataset\n",
        "from torchvision import datasets\n",
        "\n",
        "train_dataset = datasets.ImageFolder(root = train_dir, transform = transform)\n",
        "test_dataset = datasets.ImageFolder(root = test_dir, transform = transform)"
      ],
      "metadata": {
        "id": "vnqAAseEY8NA"
      },
      "execution_count": 81,
      "outputs": []
    },
    {
      "cell_type": "code",
      "source": [
        "# Dataloader\n",
        "from torch.utils.data import DataLoader\n",
        "\n",
        "train_dataloader = DataLoader(train_dataset, batch_size = 2, shuffle = True)\n",
        "test_dataloader = DataLoader(test_dataset, batch_size = 2, shuffle = False)"
      ],
      "metadata": {
        "id": "aoG55uBTZ3Wb"
      },
      "execution_count": 82,
      "outputs": []
    },
    {
      "cell_type": "markdown",
      "source": [
        "## 2.1 遷移: **transform -> dataset -> dataloader**"
      ],
      "metadata": {
        "id": "zucnBnK3b-NL"
      }
    },
    {
      "cell_type": "code",
      "source": [
        "# Weights\n",
        "import torchvision\n",
        "\n",
        "weights = torchvision.models.EfficientNet_B0_Weights.DEFAULT\n",
        "weights"
      ],
      "metadata": {
        "colab": {
          "base_uri": "https://localhost:8080/"
        },
        "id": "JY0aNIILcKdz",
        "outputId": "d2eecd55-c847-4040-96bb-29700aa66569"
      },
      "execution_count": 83,
      "outputs": [
        {
          "output_type": "execute_result",
          "data": {
            "text/plain": [
              "EfficientNet_B0_Weights.IMAGENET1K_V1"
            ]
          },
          "metadata": {},
          "execution_count": 83
        }
      ]
    },
    {
      "cell_type": "code",
      "source": [
        "# Transform\n",
        "from torchvision import transforms\n",
        "\n",
        "transform = weights.transforms()\n",
        "transform"
      ],
      "metadata": {
        "colab": {
          "base_uri": "https://localhost:8080/"
        },
        "id": "7QAnmxACf1CM",
        "outputId": "ea199f0d-3698-4a56-fa71-09763e146da4"
      },
      "execution_count": 84,
      "outputs": [
        {
          "output_type": "execute_result",
          "data": {
            "text/plain": [
              "ImageClassification(\n",
              "    crop_size=[224]\n",
              "    resize_size=[256]\n",
              "    mean=[0.485, 0.456, 0.406]\n",
              "    std=[0.229, 0.224, 0.225]\n",
              "    interpolation=InterpolationMode.BICUBIC\n",
              ")"
            ]
          },
          "metadata": {},
          "execution_count": 84
        }
      ]
    },
    {
      "cell_type": "code",
      "source": [
        "# Dataset\n",
        "from torchvision import datasets\n",
        "\n",
        "train_dataset = datasets.ImageFolder(root = train_dir, transform = transform)\n",
        "test_dataset = datasets.ImageFolder(root = test_dir, transform = transform)"
      ],
      "metadata": {
        "id": "AWjZu0iUgOF1"
      },
      "execution_count": 85,
      "outputs": []
    },
    {
      "cell_type": "code",
      "source": [
        "# Dataloader\n",
        "from torch.utils.data import DataLoader\n",
        "\n",
        "train_dataloader = DataLoader(train_dataset, batch_size = 2, shuffle = True)\n",
        "test_dataloader = DataLoader(test_dataset, batch_size = 2, shuffle = False)"
      ],
      "metadata": {
        "id": "WWWzuWrIgPTN"
      },
      "execution_count": 86,
      "outputs": []
    },
    {
      "cell_type": "markdown",
      "source": [
        "# **=== 3. Customize pre-trained model ===**\n",
        "1. Get pre-trained model and check info\n",
        "2. **Freeze** features layer\n",
        "3. **Customize** classifier layer"
      ],
      "metadata": {
        "id": "YuTjXlSOaaNK"
      }
    },
    {
      "cell_type": "markdown",
      "source": [
        "## 3.1 Get pre-trained model"
      ],
      "metadata": {
        "id": "TxFIuIfspDP1"
      }
    },
    {
      "cell_type": "code",
      "source": [
        "!pip install torchinfo\n",
        "from torchinfo import summary"
      ],
      "metadata": {
        "colab": {
          "base_uri": "https://localhost:8080/"
        },
        "id": "c-5SJ4Juj_GA",
        "outputId": "33711cd4-928c-4501-db76-4f0ac70ac038"
      },
      "execution_count": 87,
      "outputs": [
        {
          "output_type": "stream",
          "name": "stdout",
          "text": [
            "Requirement already satisfied: torchinfo in /usr/local/lib/python3.10/dist-packages (1.8.0)\n"
          ]
        }
      ]
    },
    {
      "cell_type": "code",
      "source": [
        "weights = torchvision.models.EfficientNet_B0_Weights.DEFAULT\n",
        "model_1 = torchvision.models.efficientnet_b0(weights = weights,\n",
        "                                             progress = False)\n",
        "\n",
        "summary(model_1,\n",
        "        input_size = (1, 3, 224, 224),\n",
        "        col_names=[\"output_size\", \"num_params\", \"trainable\"],\n",
        "        col_width=15)"
      ],
      "metadata": {
        "colab": {
          "base_uri": "https://localhost:8080/"
        },
        "id": "sdzMXKd-aj4V",
        "outputId": "e8bd8f14-8b53-45ff-aa71-1a2a20ae1f56"
      },
      "execution_count": 88,
      "outputs": [
        {
          "output_type": "execute_result",
          "data": {
            "text/plain": [
              "====================================================================================================\n",
              "Layer (type:depth-idx)                                  Output Shape    Param #         Trainable\n",
              "====================================================================================================\n",
              "EfficientNet                                            [1, 1000]       --              True\n",
              "├─Sequential: 1-1                                       [1, 1280, 7, 7] --              True\n",
              "│    └─Conv2dNormActivation: 2-1                        [1, 32, 112, 112] --              True\n",
              "│    │    └─Conv2d: 3-1                                 [1, 32, 112, 112] 864             True\n",
              "│    │    └─BatchNorm2d: 3-2                            [1, 32, 112, 112] 64              True\n",
              "│    │    └─SiLU: 3-3                                   [1, 32, 112, 112] --              --\n",
              "│    └─Sequential: 2-2                                  [1, 16, 112, 112] --              True\n",
              "│    │    └─MBConv: 3-4                                 [1, 16, 112, 112] 1,448           True\n",
              "│    └─Sequential: 2-3                                  [1, 24, 56, 56] --              True\n",
              "│    │    └─MBConv: 3-5                                 [1, 24, 56, 56] 6,004           True\n",
              "│    │    └─MBConv: 3-6                                 [1, 24, 56, 56] 10,710          True\n",
              "│    └─Sequential: 2-4                                  [1, 40, 28, 28] --              True\n",
              "│    │    └─MBConv: 3-7                                 [1, 40, 28, 28] 15,350          True\n",
              "│    │    └─MBConv: 3-8                                 [1, 40, 28, 28] 31,290          True\n",
              "│    └─Sequential: 2-5                                  [1, 80, 14, 14] --              True\n",
              "│    │    └─MBConv: 3-9                                 [1, 80, 14, 14] 37,130          True\n",
              "│    │    └─MBConv: 3-10                                [1, 80, 14, 14] 102,900         True\n",
              "│    │    └─MBConv: 3-11                                [1, 80, 14, 14] 102,900         True\n",
              "│    └─Sequential: 2-6                                  [1, 112, 14, 14] --              True\n",
              "│    │    └─MBConv: 3-12                                [1, 112, 14, 14] 126,004         True\n",
              "│    │    └─MBConv: 3-13                                [1, 112, 14, 14] 208,572         True\n",
              "│    │    └─MBConv: 3-14                                [1, 112, 14, 14] 208,572         True\n",
              "│    └─Sequential: 2-7                                  [1, 192, 7, 7]  --              True\n",
              "│    │    └─MBConv: 3-15                                [1, 192, 7, 7]  262,492         True\n",
              "│    │    └─MBConv: 3-16                                [1, 192, 7, 7]  587,952         True\n",
              "│    │    └─MBConv: 3-17                                [1, 192, 7, 7]  587,952         True\n",
              "│    │    └─MBConv: 3-18                                [1, 192, 7, 7]  587,952         True\n",
              "│    └─Sequential: 2-8                                  [1, 320, 7, 7]  --              True\n",
              "│    │    └─MBConv: 3-19                                [1, 320, 7, 7]  717,232         True\n",
              "│    └─Conv2dNormActivation: 2-9                        [1, 1280, 7, 7] --              True\n",
              "│    │    └─Conv2d: 3-20                                [1, 1280, 7, 7] 409,600         True\n",
              "│    │    └─BatchNorm2d: 3-21                           [1, 1280, 7, 7] 2,560           True\n",
              "│    │    └─SiLU: 3-22                                  [1, 1280, 7, 7] --              --\n",
              "├─AdaptiveAvgPool2d: 1-2                                [1, 1280, 1, 1] --              --\n",
              "├─Sequential: 1-3                                       [1, 1000]       --              True\n",
              "│    └─Dropout: 2-10                                    [1, 1280]       --              --\n",
              "│    └─Linear: 2-11                                     [1, 1000]       1,281,000       True\n",
              "====================================================================================================\n",
              "Total params: 5,288,548\n",
              "Trainable params: 5,288,548\n",
              "Non-trainable params: 0\n",
              "Total mult-adds (M): 385.87\n",
              "====================================================================================================\n",
              "Input size (MB): 0.60\n",
              "Forward/backward pass size (MB): 107.89\n",
              "Params size (MB): 21.15\n",
              "Estimated Total Size (MB): 129.64\n",
              "===================================================================================================="
            ]
          },
          "metadata": {},
          "execution_count": 88
        }
      ]
    },
    {
      "cell_type": "markdown",
      "source": [
        "## 3.2 Freeze feature layers\n",
        "model_1 概括架構 : model_1.features /  model_1.avgpool / model_1.classifier"
      ],
      "metadata": {
        "id": "Lqv7zJZ4pI9t"
      }
    },
    {
      "cell_type": "code",
      "source": [
        "for param in model_1.parameters():\n",
        "    param.requires_grad = False"
      ],
      "metadata": {
        "id": "guB4AiUFn2M7"
      },
      "execution_count": 89,
      "outputs": []
    },
    {
      "cell_type": "code",
      "source": [
        "summary(model_1,\n",
        "        input_size = (1, 3, 224, 224),\n",
        "        col_names=[\"output_size\", \"num_params\", \"trainable\"],\n",
        "        col_width=15)"
      ],
      "metadata": {
        "colab": {
          "base_uri": "https://localhost:8080/"
        },
        "id": "vuNMosZWpzYz",
        "outputId": "570cf564-1c38-4948-ae9a-a9d1c975f9f4"
      },
      "execution_count": 90,
      "outputs": [
        {
          "output_type": "execute_result",
          "data": {
            "text/plain": [
              "====================================================================================================\n",
              "Layer (type:depth-idx)                                  Output Shape    Param #         Trainable\n",
              "====================================================================================================\n",
              "EfficientNet                                            [1, 1000]       --              False\n",
              "├─Sequential: 1-1                                       [1, 1280, 7, 7] --              False\n",
              "│    └─Conv2dNormActivation: 2-1                        [1, 32, 112, 112] --              False\n",
              "│    │    └─Conv2d: 3-1                                 [1, 32, 112, 112] (864)           False\n",
              "│    │    └─BatchNorm2d: 3-2                            [1, 32, 112, 112] (64)            False\n",
              "│    │    └─SiLU: 3-3                                   [1, 32, 112, 112] --              --\n",
              "│    └─Sequential: 2-2                                  [1, 16, 112, 112] --              False\n",
              "│    │    └─MBConv: 3-4                                 [1, 16, 112, 112] (1,448)         False\n",
              "│    └─Sequential: 2-3                                  [1, 24, 56, 56] --              False\n",
              "│    │    └─MBConv: 3-5                                 [1, 24, 56, 56] (6,004)         False\n",
              "│    │    └─MBConv: 3-6                                 [1, 24, 56, 56] (10,710)        False\n",
              "│    └─Sequential: 2-4                                  [1, 40, 28, 28] --              False\n",
              "│    │    └─MBConv: 3-7                                 [1, 40, 28, 28] (15,350)        False\n",
              "│    │    └─MBConv: 3-8                                 [1, 40, 28, 28] (31,290)        False\n",
              "│    └─Sequential: 2-5                                  [1, 80, 14, 14] --              False\n",
              "│    │    └─MBConv: 3-9                                 [1, 80, 14, 14] (37,130)        False\n",
              "│    │    └─MBConv: 3-10                                [1, 80, 14, 14] (102,900)       False\n",
              "│    │    └─MBConv: 3-11                                [1, 80, 14, 14] (102,900)       False\n",
              "│    └─Sequential: 2-6                                  [1, 112, 14, 14] --              False\n",
              "│    │    └─MBConv: 3-12                                [1, 112, 14, 14] (126,004)       False\n",
              "│    │    └─MBConv: 3-13                                [1, 112, 14, 14] (208,572)       False\n",
              "│    │    └─MBConv: 3-14                                [1, 112, 14, 14] (208,572)       False\n",
              "│    └─Sequential: 2-7                                  [1, 192, 7, 7]  --              False\n",
              "│    │    └─MBConv: 3-15                                [1, 192, 7, 7]  (262,492)       False\n",
              "│    │    └─MBConv: 3-16                                [1, 192, 7, 7]  (587,952)       False\n",
              "│    │    └─MBConv: 3-17                                [1, 192, 7, 7]  (587,952)       False\n",
              "│    │    └─MBConv: 3-18                                [1, 192, 7, 7]  (587,952)       False\n",
              "│    └─Sequential: 2-8                                  [1, 320, 7, 7]  --              False\n",
              "│    │    └─MBConv: 3-19                                [1, 320, 7, 7]  (717,232)       False\n",
              "│    └─Conv2dNormActivation: 2-9                        [1, 1280, 7, 7] --              False\n",
              "│    │    └─Conv2d: 3-20                                [1, 1280, 7, 7] (409,600)       False\n",
              "│    │    └─BatchNorm2d: 3-21                           [1, 1280, 7, 7] (2,560)         False\n",
              "│    │    └─SiLU: 3-22                                  [1, 1280, 7, 7] --              --\n",
              "├─AdaptiveAvgPool2d: 1-2                                [1, 1280, 1, 1] --              --\n",
              "├─Sequential: 1-3                                       [1, 1000]       --              False\n",
              "│    └─Dropout: 2-10                                    [1, 1280]       --              --\n",
              "│    └─Linear: 2-11                                     [1, 1000]       (1,281,000)     False\n",
              "====================================================================================================\n",
              "Total params: 5,288,548\n",
              "Trainable params: 0\n",
              "Non-trainable params: 5,288,548\n",
              "Total mult-adds (M): 385.87\n",
              "====================================================================================================\n",
              "Input size (MB): 0.60\n",
              "Forward/backward pass size (MB): 107.89\n",
              "Params size (MB): 21.15\n",
              "Estimated Total Size (MB): 129.64\n",
              "===================================================================================================="
            ]
          },
          "metadata": {},
          "execution_count": 90
        }
      ]
    },
    {
      "cell_type": "markdown",
      "source": [
        "## 3.3 Customize classifier layer"
      ],
      "metadata": {
        "id": "MT33V53Bp3Qa"
      }
    },
    {
      "cell_type": "code",
      "source": [
        "# model_1 原輸出層\n",
        "print(model_1.classifier)"
      ],
      "metadata": {
        "colab": {
          "base_uri": "https://localhost:8080/"
        },
        "id": "Xf8EiwqKrtxd",
        "outputId": "8fd73a26-c2cd-4a1e-e77c-76fae99b33b2"
      },
      "execution_count": 91,
      "outputs": [
        {
          "output_type": "stream",
          "name": "stdout",
          "text": [
            "Sequential(\n",
            "  (0): Dropout(p=0.2, inplace=True)\n",
            "  (1): Linear(in_features=1280, out_features=1000, bias=True)\n",
            ")\n"
          ]
        }
      ]
    },
    {
      "cell_type": "code",
      "source": [
        "# 更改為符合我們任務的輸出層\n",
        "import torch\n",
        "\n",
        "model_1.classifier = torch.nn.Sequential(\n",
        "    torch.nn.Dropout(p = 0.2),\n",
        "    torch.nn.Linear(in_features = 1280, out_features = 256),\n",
        "    torch.nn.ReLU(),\n",
        "    torch.nn.Dropout(p = 0.2),\n",
        "    torch.nn.Linear(in_features = 256, out_features = 16),\n",
        "    torch.nn.ReLU(),\n",
        "    torch.nn.Linear(in_features = 16, out_features = 3)\n",
        ")\n",
        "\n",
        "summary(model_1,\n",
        "        input_size = (1, 3, 224, 224),\n",
        "        col_names=[\"output_size\", \"num_params\", \"trainable\"],\n",
        "        col_width=15)"
      ],
      "metadata": {
        "colab": {
          "base_uri": "https://localhost:8080/"
        },
        "id": "6zvndg9Ip5kE",
        "outputId": "b60cb09c-c6d7-4578-b5af-f49feb857b52"
      },
      "execution_count": 92,
      "outputs": [
        {
          "output_type": "execute_result",
          "data": {
            "text/plain": [
              "====================================================================================================\n",
              "Layer (type:depth-idx)                                  Output Shape    Param #         Trainable\n",
              "====================================================================================================\n",
              "EfficientNet                                            [1, 3]          --              Partial\n",
              "├─Sequential: 1-1                                       [1, 1280, 7, 7] --              False\n",
              "│    └─Conv2dNormActivation: 2-1                        [1, 32, 112, 112] --              False\n",
              "│    │    └─Conv2d: 3-1                                 [1, 32, 112, 112] (864)           False\n",
              "│    │    └─BatchNorm2d: 3-2                            [1, 32, 112, 112] (64)            False\n",
              "│    │    └─SiLU: 3-3                                   [1, 32, 112, 112] --              --\n",
              "│    └─Sequential: 2-2                                  [1, 16, 112, 112] --              False\n",
              "│    │    └─MBConv: 3-4                                 [1, 16, 112, 112] (1,448)         False\n",
              "│    └─Sequential: 2-3                                  [1, 24, 56, 56] --              False\n",
              "│    │    └─MBConv: 3-5                                 [1, 24, 56, 56] (6,004)         False\n",
              "│    │    └─MBConv: 3-6                                 [1, 24, 56, 56] (10,710)        False\n",
              "│    └─Sequential: 2-4                                  [1, 40, 28, 28] --              False\n",
              "│    │    └─MBConv: 3-7                                 [1, 40, 28, 28] (15,350)        False\n",
              "│    │    └─MBConv: 3-8                                 [1, 40, 28, 28] (31,290)        False\n",
              "│    └─Sequential: 2-5                                  [1, 80, 14, 14] --              False\n",
              "│    │    └─MBConv: 3-9                                 [1, 80, 14, 14] (37,130)        False\n",
              "│    │    └─MBConv: 3-10                                [1, 80, 14, 14] (102,900)       False\n",
              "│    │    └─MBConv: 3-11                                [1, 80, 14, 14] (102,900)       False\n",
              "│    └─Sequential: 2-6                                  [1, 112, 14, 14] --              False\n",
              "│    │    └─MBConv: 3-12                                [1, 112, 14, 14] (126,004)       False\n",
              "│    │    └─MBConv: 3-13                                [1, 112, 14, 14] (208,572)       False\n",
              "│    │    └─MBConv: 3-14                                [1, 112, 14, 14] (208,572)       False\n",
              "│    └─Sequential: 2-7                                  [1, 192, 7, 7]  --              False\n",
              "│    │    └─MBConv: 3-15                                [1, 192, 7, 7]  (262,492)       False\n",
              "│    │    └─MBConv: 3-16                                [1, 192, 7, 7]  (587,952)       False\n",
              "│    │    └─MBConv: 3-17                                [1, 192, 7, 7]  (587,952)       False\n",
              "│    │    └─MBConv: 3-18                                [1, 192, 7, 7]  (587,952)       False\n",
              "│    └─Sequential: 2-8                                  [1, 320, 7, 7]  --              False\n",
              "│    │    └─MBConv: 3-19                                [1, 320, 7, 7]  (717,232)       False\n",
              "│    └─Conv2dNormActivation: 2-9                        [1, 1280, 7, 7] --              False\n",
              "│    │    └─Conv2d: 3-20                                [1, 1280, 7, 7] (409,600)       False\n",
              "│    │    └─BatchNorm2d: 3-21                           [1, 1280, 7, 7] (2,560)         False\n",
              "│    │    └─SiLU: 3-22                                  [1, 1280, 7, 7] --              --\n",
              "├─AdaptiveAvgPool2d: 1-2                                [1, 1280, 1, 1] --              --\n",
              "├─Sequential: 1-3                                       [1, 3]          --              True\n",
              "│    └─Dropout: 2-10                                    [1, 1280]       --              --\n",
              "│    └─Linear: 2-11                                     [1, 256]        327,936         True\n",
              "│    └─ReLU: 2-12                                       [1, 256]        --              --\n",
              "│    └─Dropout: 2-13                                    [1, 256]        --              --\n",
              "│    └─Linear: 2-14                                     [1, 16]         4,112           True\n",
              "│    └─ReLU: 2-15                                       [1, 16]         --              --\n",
              "│    └─Linear: 2-16                                     [1, 3]          51              True\n",
              "====================================================================================================\n",
              "Total params: 4,339,647\n",
              "Trainable params: 332,099\n",
              "Non-trainable params: 4,007,548\n",
              "Total mult-adds (M): 384.92\n",
              "====================================================================================================\n",
              "Input size (MB): 0.60\n",
              "Forward/backward pass size (MB): 107.88\n",
              "Params size (MB): 17.36\n",
              "Estimated Total Size (MB): 125.84\n",
              "===================================================================================================="
            ]
          },
          "metadata": {},
          "execution_count": 92
        }
      ]
    },
    {
      "cell_type": "markdown",
      "source": [
        "# **=== 4. Train model ===**\n",
        "1. 練習 func: train\n",
        "2. 練習 func: test\n",
        "3. 練習 func: train_test_loop\n",
        "4. Train model"
      ],
      "metadata": {
        "id": "JKZ0uaEOwZiz"
      }
    },
    {
      "cell_type": "markdown",
      "source": [
        "## 4.1 Func: train"
      ],
      "metadata": {
        "id": "WQ4uiScKxCmG"
      }
    },
    {
      "cell_type": "code",
      "source": [
        "# Func: train"
      ],
      "metadata": {
        "id": "PvJr52Q1wqIz"
      },
      "execution_count": 93,
      "outputs": []
    },
    {
      "cell_type": "markdown",
      "source": [
        "## 4.2 Func: test"
      ],
      "metadata": {
        "id": "DLr8zgbqxF6E"
      }
    },
    {
      "cell_type": "code",
      "source": [
        "# Func: test"
      ],
      "metadata": {
        "id": "knkv6ZZLxKmF"
      },
      "execution_count": 94,
      "outputs": []
    },
    {
      "cell_type": "markdown",
      "source": [
        "# 4.3 Func: train_test_loop"
      ],
      "metadata": {
        "id": "DMIeNq5IxL1W"
      }
    },
    {
      "cell_type": "code",
      "source": [
        "# Func: train_test_loop"
      ],
      "metadata": {
        "id": "NUWpoWRJxRFu"
      },
      "execution_count": 95,
      "outputs": []
    },
    {
      "cell_type": "markdown",
      "source": [
        "## 4.4 Train model"
      ],
      "metadata": {
        "id": "dxI5NBpexR73"
      }
    },
    {
      "cell_type": "code",
      "source": [],
      "metadata": {
        "id": "Jk6lvhmOxWca"
      },
      "execution_count": 95,
      "outputs": []
    },
    {
      "cell_type": "markdown",
      "source": [
        "# **=== 5. Evaluate model ===**"
      ],
      "metadata": {
        "id": "LEwsfDFawgFk"
      }
    },
    {
      "cell_type": "markdown",
      "source": [
        "# **=== 6. Make prediction ===**"
      ],
      "metadata": {
        "id": "wcAKMPBMwlMF"
      }
    }
  ]
}