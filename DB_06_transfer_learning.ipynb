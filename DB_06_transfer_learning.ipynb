{
  "nbformat": 4,
  "nbformat_minor": 0,
  "metadata": {
    "colab": {
      "provenance": [],
      "collapsed_sections": [
        "yNcQ2FK1PITe"
      ],
      "toc_visible": true,
      "authorship_tag": "ABX9TyP4CajZj859TC3lzYBy4YOm",
      "include_colab_link": true
    },
    "kernelspec": {
      "name": "python3",
      "display_name": "Python 3"
    },
    "language_info": {
      "name": "python"
    }
  },
  "cells": [
    {
      "cell_type": "markdown",
      "metadata": {
        "id": "view-in-github",
        "colab_type": "text"
      },
      "source": [
        "<a href=\"https://colab.research.google.com/github/h0806449f/PyTorch/blob/main/DB_06_transfer_learning.ipynb\" target=\"_parent\"><img src=\"https://colab.research.google.com/assets/colab-badge.svg\" alt=\"Open In Colab\"/></a>"
      ]
    },
    {
      "cell_type": "markdown",
      "source": [
        "# **=== 0. 簡介 ===**\n",
        "1. Get data\n",
        "2. Create dataset and dataloader\n",
        "3. Get pre-train model and customize it\n",
        "4. Train model\n",
        "5. Evaluate model\n",
        "6. Make prediction"
      ],
      "metadata": {
        "id": "Virmbqb_OGgT"
      }
    },
    {
      "cell_type": "markdown",
      "source": [
        "# **=== 1. Get data ===**"
      ],
      "metadata": {
        "id": "yNcQ2FK1PITe"
      }
    },
    {
      "cell_type": "code",
      "execution_count": 9,
      "metadata": {
        "colab": {
          "base_uri": "https://localhost:8080/"
        },
        "id": "gn2ef3NsH3L-",
        "outputId": "9c920aab-c5c7-4f14-b822-4e07066b574c"
      },
      "outputs": [
        {
          "output_type": "stream",
          "name": "stdout",
          "text": [
            "Folder data/pizza_steak_sushi already exists.\n",
            "Downloading data ...\n",
            "Unziping data ...\n"
          ]
        }
      ],
      "source": [
        "# Import\n",
        "import requests\n",
        "import zipfile\n",
        "import os\n",
        "from pathlib import Path\n",
        "\n",
        "# Set path\n",
        "data_path = Path(\"data/\")\n",
        "image_path = data_path / \"pizza_steak_sushi\"\n",
        "\n",
        "# 判斷有無資料夾, 無則創立\n",
        "if image_path.is_dir():\n",
        "    print(f\"Folder {image_path} already exists.\")\n",
        "else:\n",
        "    print(f\"Foldr {image_path} not exist, creating ...\")\n",
        "    image_path.mkdir(parents = True, exist_ok = True)\n",
        "\n",
        "# 下載壓縮檔\n",
        "with open(data_path / \"pizza_steak_sushi.zip\", \"wb\") as f:\n",
        "    request = requests.get(\"https://github.com/mrdbourke/pytorch-deep-learning/raw/main/data/pizza_steak_sushi.zip\")\n",
        "    print(\"Downloading data ...\")\n",
        "    f.write(request.content)\n",
        "\n",
        "# 解壓縮\n",
        "with zipfile.ZipFile(data_path / \"pizza_steak_sushi.zip\", \"r\") as zip_f:\n",
        "    print(\"Unziping data ...\")\n",
        "    zip_f.extractall(image_path)\n",
        "\n",
        "# 刪除壓縮檔\n",
        "os.remove(data_path / \"pizza_steak_sushi.zip\")"
      ]
    },
    {
      "cell_type": "markdown",
      "source": [
        "# **=== 2. Dataset & dataloader ===**\n",
        "1. Can import from previous notebook\n",
        "2. Here for practice"
      ],
      "metadata": {
        "id": "AKNrFxSeU2TH"
      }
    },
    {
      "cell_type": "code",
      "source": [
        "# Directory path\n",
        "train_dir = image_path / \"train\"\n",
        "test_dir = image_path / \"test\""
      ],
      "metadata": {
        "id": "IFgh5iejVA3e"
      },
      "execution_count": 12,
      "outputs": []
    },
    {
      "cell_type": "code",
      "source": [
        "# Dataset\n"
      ],
      "metadata": {
        "id": "CnPR90yXVgmo"
      },
      "execution_count": null,
      "outputs": []
    }
  ]
}