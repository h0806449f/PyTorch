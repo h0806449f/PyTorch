{
  "nbformat": 4,
  "nbformat_minor": 0,
  "metadata": {
    "colab": {
      "provenance": [],
      "collapsed_sections": [
        "h0xW9v6lETlH",
        "WTH_ZsHDV9C_",
        "069_yXjUWAb_",
        "quZIA5snWaiC",
        "ObS4Yx8tWdYl",
        "yMZHTcgFofKS"
      ],
      "gpuType": "T4",
      "authorship_tag": "ABX9TyMHE65/Df1ET/1eB73Lf7lu",
      "include_colab_link": true
    },
    "kernelspec": {
      "name": "python3",
      "display_name": "Python 3"
    },
    "language_info": {
      "name": "python"
    },
    "widgets": {
      "application/vnd.jupyter.widget-state+json": {
        "796fdab645204728a657e5ddbc748ea1": {
          "model_module": "@jupyter-widgets/controls",
          "model_name": "HBoxModel",
          "model_module_version": "1.5.0",
          "state": {
            "_dom_classes": [],
            "_model_module": "@jupyter-widgets/controls",
            "_model_module_version": "1.5.0",
            "_model_name": "HBoxModel",
            "_view_count": null,
            "_view_module": "@jupyter-widgets/controls",
            "_view_module_version": "1.5.0",
            "_view_name": "HBoxView",
            "box_style": "",
            "children": [
              "IPY_MODEL_a43a8c62af9747edb2ab108ac21a8e4b",
              "IPY_MODEL_22220a3d50fd43ca83b3ab2b1c794e9d",
              "IPY_MODEL_9a4ac0f66b8f4bb0baa746ee877f3146"
            ],
            "layout": "IPY_MODEL_7d70940b4a8347b683be113b7f4a7a94"
          }
        },
        "a43a8c62af9747edb2ab108ac21a8e4b": {
          "model_module": "@jupyter-widgets/controls",
          "model_name": "HTMLModel",
          "model_module_version": "1.5.0",
          "state": {
            "_dom_classes": [],
            "_model_module": "@jupyter-widgets/controls",
            "_model_module_version": "1.5.0",
            "_model_name": "HTMLModel",
            "_view_count": null,
            "_view_module": "@jupyter-widgets/controls",
            "_view_module_version": "1.5.0",
            "_view_name": "HTMLView",
            "description": "",
            "description_tooltip": null,
            "layout": "IPY_MODEL_155df4672dd04601a4dd0a89ea7f4fda",
            "placeholder": "​",
            "style": "IPY_MODEL_36128c0ad5a24db392cc5485e6c36786",
            "value": "100%"
          }
        },
        "22220a3d50fd43ca83b3ab2b1c794e9d": {
          "model_module": "@jupyter-widgets/controls",
          "model_name": "FloatProgressModel",
          "model_module_version": "1.5.0",
          "state": {
            "_dom_classes": [],
            "_model_module": "@jupyter-widgets/controls",
            "_model_module_version": "1.5.0",
            "_model_name": "FloatProgressModel",
            "_view_count": null,
            "_view_module": "@jupyter-widgets/controls",
            "_view_module_version": "1.5.0",
            "_view_name": "ProgressView",
            "bar_style": "success",
            "description": "",
            "description_tooltip": null,
            "layout": "IPY_MODEL_28ca6fad99ba4cb5a6ea932d7fb05884",
            "max": 10,
            "min": 0,
            "orientation": "horizontal",
            "style": "IPY_MODEL_0e09ce3e8da34746bee780179b7d7c67",
            "value": 10
          }
        },
        "9a4ac0f66b8f4bb0baa746ee877f3146": {
          "model_module": "@jupyter-widgets/controls",
          "model_name": "HTMLModel",
          "model_module_version": "1.5.0",
          "state": {
            "_dom_classes": [],
            "_model_module": "@jupyter-widgets/controls",
            "_model_module_version": "1.5.0",
            "_model_name": "HTMLModel",
            "_view_count": null,
            "_view_module": "@jupyter-widgets/controls",
            "_view_module_version": "1.5.0",
            "_view_name": "HTMLView",
            "description": "",
            "description_tooltip": null,
            "layout": "IPY_MODEL_fa76d89703ba4e9d959329902a58e12d",
            "placeholder": "​",
            "style": "IPY_MODEL_c9d80172e3d5458bbdd27b97f033cfb6",
            "value": " 10/10 [09:08&lt;00:00, 53.17s/it]"
          }
        },
        "7d70940b4a8347b683be113b7f4a7a94": {
          "model_module": "@jupyter-widgets/base",
          "model_name": "LayoutModel",
          "model_module_version": "1.2.0",
          "state": {
            "_model_module": "@jupyter-widgets/base",
            "_model_module_version": "1.2.0",
            "_model_name": "LayoutModel",
            "_view_count": null,
            "_view_module": "@jupyter-widgets/base",
            "_view_module_version": "1.2.0",
            "_view_name": "LayoutView",
            "align_content": null,
            "align_items": null,
            "align_self": null,
            "border": null,
            "bottom": null,
            "display": null,
            "flex": null,
            "flex_flow": null,
            "grid_area": null,
            "grid_auto_columns": null,
            "grid_auto_flow": null,
            "grid_auto_rows": null,
            "grid_column": null,
            "grid_gap": null,
            "grid_row": null,
            "grid_template_areas": null,
            "grid_template_columns": null,
            "grid_template_rows": null,
            "height": null,
            "justify_content": null,
            "justify_items": null,
            "left": null,
            "margin": null,
            "max_height": null,
            "max_width": null,
            "min_height": null,
            "min_width": null,
            "object_fit": null,
            "object_position": null,
            "order": null,
            "overflow": null,
            "overflow_x": null,
            "overflow_y": null,
            "padding": null,
            "right": null,
            "top": null,
            "visibility": null,
            "width": null
          }
        },
        "155df4672dd04601a4dd0a89ea7f4fda": {
          "model_module": "@jupyter-widgets/base",
          "model_name": "LayoutModel",
          "model_module_version": "1.2.0",
          "state": {
            "_model_module": "@jupyter-widgets/base",
            "_model_module_version": "1.2.0",
            "_model_name": "LayoutModel",
            "_view_count": null,
            "_view_module": "@jupyter-widgets/base",
            "_view_module_version": "1.2.0",
            "_view_name": "LayoutView",
            "align_content": null,
            "align_items": null,
            "align_self": null,
            "border": null,
            "bottom": null,
            "display": null,
            "flex": null,
            "flex_flow": null,
            "grid_area": null,
            "grid_auto_columns": null,
            "grid_auto_flow": null,
            "grid_auto_rows": null,
            "grid_column": null,
            "grid_gap": null,
            "grid_row": null,
            "grid_template_areas": null,
            "grid_template_columns": null,
            "grid_template_rows": null,
            "height": null,
            "justify_content": null,
            "justify_items": null,
            "left": null,
            "margin": null,
            "max_height": null,
            "max_width": null,
            "min_height": null,
            "min_width": null,
            "object_fit": null,
            "object_position": null,
            "order": null,
            "overflow": null,
            "overflow_x": null,
            "overflow_y": null,
            "padding": null,
            "right": null,
            "top": null,
            "visibility": null,
            "width": null
          }
        },
        "36128c0ad5a24db392cc5485e6c36786": {
          "model_module": "@jupyter-widgets/controls",
          "model_name": "DescriptionStyleModel",
          "model_module_version": "1.5.0",
          "state": {
            "_model_module": "@jupyter-widgets/controls",
            "_model_module_version": "1.5.0",
            "_model_name": "DescriptionStyleModel",
            "_view_count": null,
            "_view_module": "@jupyter-widgets/base",
            "_view_module_version": "1.2.0",
            "_view_name": "StyleView",
            "description_width": ""
          }
        },
        "28ca6fad99ba4cb5a6ea932d7fb05884": {
          "model_module": "@jupyter-widgets/base",
          "model_name": "LayoutModel",
          "model_module_version": "1.2.0",
          "state": {
            "_model_module": "@jupyter-widgets/base",
            "_model_module_version": "1.2.0",
            "_model_name": "LayoutModel",
            "_view_count": null,
            "_view_module": "@jupyter-widgets/base",
            "_view_module_version": "1.2.0",
            "_view_name": "LayoutView",
            "align_content": null,
            "align_items": null,
            "align_self": null,
            "border": null,
            "bottom": null,
            "display": null,
            "flex": null,
            "flex_flow": null,
            "grid_area": null,
            "grid_auto_columns": null,
            "grid_auto_flow": null,
            "grid_auto_rows": null,
            "grid_column": null,
            "grid_gap": null,
            "grid_row": null,
            "grid_template_areas": null,
            "grid_template_columns": null,
            "grid_template_rows": null,
            "height": null,
            "justify_content": null,
            "justify_items": null,
            "left": null,
            "margin": null,
            "max_height": null,
            "max_width": null,
            "min_height": null,
            "min_width": null,
            "object_fit": null,
            "object_position": null,
            "order": null,
            "overflow": null,
            "overflow_x": null,
            "overflow_y": null,
            "padding": null,
            "right": null,
            "top": null,
            "visibility": null,
            "width": null
          }
        },
        "0e09ce3e8da34746bee780179b7d7c67": {
          "model_module": "@jupyter-widgets/controls",
          "model_name": "ProgressStyleModel",
          "model_module_version": "1.5.0",
          "state": {
            "_model_module": "@jupyter-widgets/controls",
            "_model_module_version": "1.5.0",
            "_model_name": "ProgressStyleModel",
            "_view_count": null,
            "_view_module": "@jupyter-widgets/base",
            "_view_module_version": "1.2.0",
            "_view_name": "StyleView",
            "bar_color": null,
            "description_width": ""
          }
        },
        "fa76d89703ba4e9d959329902a58e12d": {
          "model_module": "@jupyter-widgets/base",
          "model_name": "LayoutModel",
          "model_module_version": "1.2.0",
          "state": {
            "_model_module": "@jupyter-widgets/base",
            "_model_module_version": "1.2.0",
            "_model_name": "LayoutModel",
            "_view_count": null,
            "_view_module": "@jupyter-widgets/base",
            "_view_module_version": "1.2.0",
            "_view_name": "LayoutView",
            "align_content": null,
            "align_items": null,
            "align_self": null,
            "border": null,
            "bottom": null,
            "display": null,
            "flex": null,
            "flex_flow": null,
            "grid_area": null,
            "grid_auto_columns": null,
            "grid_auto_flow": null,
            "grid_auto_rows": null,
            "grid_column": null,
            "grid_gap": null,
            "grid_row": null,
            "grid_template_areas": null,
            "grid_template_columns": null,
            "grid_template_rows": null,
            "height": null,
            "justify_content": null,
            "justify_items": null,
            "left": null,
            "margin": null,
            "max_height": null,
            "max_width": null,
            "min_height": null,
            "min_width": null,
            "object_fit": null,
            "object_position": null,
            "order": null,
            "overflow": null,
            "overflow_x": null,
            "overflow_y": null,
            "padding": null,
            "right": null,
            "top": null,
            "visibility": null,
            "width": null
          }
        },
        "c9d80172e3d5458bbdd27b97f033cfb6": {
          "model_module": "@jupyter-widgets/controls",
          "model_name": "DescriptionStyleModel",
          "model_module_version": "1.5.0",
          "state": {
            "_model_module": "@jupyter-widgets/controls",
            "_model_module_version": "1.5.0",
            "_model_name": "DescriptionStyleModel",
            "_view_count": null,
            "_view_module": "@jupyter-widgets/base",
            "_view_module_version": "1.2.0",
            "_view_name": "StyleView",
            "description_width": ""
          }
        },
        "142e6358907a45d79b66188f7926cdb7": {
          "model_module": "@jupyter-widgets/controls",
          "model_name": "HBoxModel",
          "model_module_version": "1.5.0",
          "state": {
            "_dom_classes": [],
            "_model_module": "@jupyter-widgets/controls",
            "_model_module_version": "1.5.0",
            "_model_name": "HBoxModel",
            "_view_count": null,
            "_view_module": "@jupyter-widgets/controls",
            "_view_module_version": "1.5.0",
            "_view_name": "HBoxView",
            "box_style": "",
            "children": [
              "IPY_MODEL_401f2e25e7514671872c8b37df6636b9",
              "IPY_MODEL_a480866254f74269a8a04658a7b9e06c",
              "IPY_MODEL_814becc3685c46a3bcec0c60fa4c48cb"
            ],
            "layout": "IPY_MODEL_a4026e84e4fe490cb321534683516628"
          }
        },
        "401f2e25e7514671872c8b37df6636b9": {
          "model_module": "@jupyter-widgets/controls",
          "model_name": "HTMLModel",
          "model_module_version": "1.5.0",
          "state": {
            "_dom_classes": [],
            "_model_module": "@jupyter-widgets/controls",
            "_model_module_version": "1.5.0",
            "_model_name": "HTMLModel",
            "_view_count": null,
            "_view_module": "@jupyter-widgets/controls",
            "_view_module_version": "1.5.0",
            "_view_name": "HTMLView",
            "description": "",
            "description_tooltip": null,
            "layout": "IPY_MODEL_728b9813af4f44a0a08d5e6f06715c93",
            "placeholder": "​",
            "style": "IPY_MODEL_98b09cfe652a4233b9bb12a82f8d1812",
            "value": "100%"
          }
        },
        "a480866254f74269a8a04658a7b9e06c": {
          "model_module": "@jupyter-widgets/controls",
          "model_name": "FloatProgressModel",
          "model_module_version": "1.5.0",
          "state": {
            "_dom_classes": [],
            "_model_module": "@jupyter-widgets/controls",
            "_model_module_version": "1.5.0",
            "_model_name": "FloatProgressModel",
            "_view_count": null,
            "_view_module": "@jupyter-widgets/controls",
            "_view_module_version": "1.5.0",
            "_view_name": "ProgressView",
            "bar_style": "success",
            "description": "",
            "description_tooltip": null,
            "layout": "IPY_MODEL_7e7108192571466f9d91ce9333c7bc2a",
            "max": 10,
            "min": 0,
            "orientation": "horizontal",
            "style": "IPY_MODEL_e6750020a5854a79b51e10ed4259f5f2",
            "value": 10
          }
        },
        "814becc3685c46a3bcec0c60fa4c48cb": {
          "model_module": "@jupyter-widgets/controls",
          "model_name": "HTMLModel",
          "model_module_version": "1.5.0",
          "state": {
            "_dom_classes": [],
            "_model_module": "@jupyter-widgets/controls",
            "_model_module_version": "1.5.0",
            "_model_name": "HTMLModel",
            "_view_count": null,
            "_view_module": "@jupyter-widgets/controls",
            "_view_module_version": "1.5.0",
            "_view_name": "HTMLView",
            "description": "",
            "description_tooltip": null,
            "layout": "IPY_MODEL_4b42ab1f82e54c3089354027989872c2",
            "placeholder": "​",
            "style": "IPY_MODEL_367e217a4f924c3ca4cb5c50102a2e25",
            "value": " 10/10 [26:43&lt;00:00, 160.51s/it]"
          }
        },
        "a4026e84e4fe490cb321534683516628": {
          "model_module": "@jupyter-widgets/base",
          "model_name": "LayoutModel",
          "model_module_version": "1.2.0",
          "state": {
            "_model_module": "@jupyter-widgets/base",
            "_model_module_version": "1.2.0",
            "_model_name": "LayoutModel",
            "_view_count": null,
            "_view_module": "@jupyter-widgets/base",
            "_view_module_version": "1.2.0",
            "_view_name": "LayoutView",
            "align_content": null,
            "align_items": null,
            "align_self": null,
            "border": null,
            "bottom": null,
            "display": null,
            "flex": null,
            "flex_flow": null,
            "grid_area": null,
            "grid_auto_columns": null,
            "grid_auto_flow": null,
            "grid_auto_rows": null,
            "grid_column": null,
            "grid_gap": null,
            "grid_row": null,
            "grid_template_areas": null,
            "grid_template_columns": null,
            "grid_template_rows": null,
            "height": null,
            "justify_content": null,
            "justify_items": null,
            "left": null,
            "margin": null,
            "max_height": null,
            "max_width": null,
            "min_height": null,
            "min_width": null,
            "object_fit": null,
            "object_position": null,
            "order": null,
            "overflow": null,
            "overflow_x": null,
            "overflow_y": null,
            "padding": null,
            "right": null,
            "top": null,
            "visibility": null,
            "width": null
          }
        },
        "728b9813af4f44a0a08d5e6f06715c93": {
          "model_module": "@jupyter-widgets/base",
          "model_name": "LayoutModel",
          "model_module_version": "1.2.0",
          "state": {
            "_model_module": "@jupyter-widgets/base",
            "_model_module_version": "1.2.0",
            "_model_name": "LayoutModel",
            "_view_count": null,
            "_view_module": "@jupyter-widgets/base",
            "_view_module_version": "1.2.0",
            "_view_name": "LayoutView",
            "align_content": null,
            "align_items": null,
            "align_self": null,
            "border": null,
            "bottom": null,
            "display": null,
            "flex": null,
            "flex_flow": null,
            "grid_area": null,
            "grid_auto_columns": null,
            "grid_auto_flow": null,
            "grid_auto_rows": null,
            "grid_column": null,
            "grid_gap": null,
            "grid_row": null,
            "grid_template_areas": null,
            "grid_template_columns": null,
            "grid_template_rows": null,
            "height": null,
            "justify_content": null,
            "justify_items": null,
            "left": null,
            "margin": null,
            "max_height": null,
            "max_width": null,
            "min_height": null,
            "min_width": null,
            "object_fit": null,
            "object_position": null,
            "order": null,
            "overflow": null,
            "overflow_x": null,
            "overflow_y": null,
            "padding": null,
            "right": null,
            "top": null,
            "visibility": null,
            "width": null
          }
        },
        "98b09cfe652a4233b9bb12a82f8d1812": {
          "model_module": "@jupyter-widgets/controls",
          "model_name": "DescriptionStyleModel",
          "model_module_version": "1.5.0",
          "state": {
            "_model_module": "@jupyter-widgets/controls",
            "_model_module_version": "1.5.0",
            "_model_name": "DescriptionStyleModel",
            "_view_count": null,
            "_view_module": "@jupyter-widgets/base",
            "_view_module_version": "1.2.0",
            "_view_name": "StyleView",
            "description_width": ""
          }
        },
        "7e7108192571466f9d91ce9333c7bc2a": {
          "model_module": "@jupyter-widgets/base",
          "model_name": "LayoutModel",
          "model_module_version": "1.2.0",
          "state": {
            "_model_module": "@jupyter-widgets/base",
            "_model_module_version": "1.2.0",
            "_model_name": "LayoutModel",
            "_view_count": null,
            "_view_module": "@jupyter-widgets/base",
            "_view_module_version": "1.2.0",
            "_view_name": "LayoutView",
            "align_content": null,
            "align_items": null,
            "align_self": null,
            "border": null,
            "bottom": null,
            "display": null,
            "flex": null,
            "flex_flow": null,
            "grid_area": null,
            "grid_auto_columns": null,
            "grid_auto_flow": null,
            "grid_auto_rows": null,
            "grid_column": null,
            "grid_gap": null,
            "grid_row": null,
            "grid_template_areas": null,
            "grid_template_columns": null,
            "grid_template_rows": null,
            "height": null,
            "justify_content": null,
            "justify_items": null,
            "left": null,
            "margin": null,
            "max_height": null,
            "max_width": null,
            "min_height": null,
            "min_width": null,
            "object_fit": null,
            "object_position": null,
            "order": null,
            "overflow": null,
            "overflow_x": null,
            "overflow_y": null,
            "padding": null,
            "right": null,
            "top": null,
            "visibility": null,
            "width": null
          }
        },
        "e6750020a5854a79b51e10ed4259f5f2": {
          "model_module": "@jupyter-widgets/controls",
          "model_name": "ProgressStyleModel",
          "model_module_version": "1.5.0",
          "state": {
            "_model_module": "@jupyter-widgets/controls",
            "_model_module_version": "1.5.0",
            "_model_name": "ProgressStyleModel",
            "_view_count": null,
            "_view_module": "@jupyter-widgets/base",
            "_view_module_version": "1.2.0",
            "_view_name": "StyleView",
            "bar_color": null,
            "description_width": ""
          }
        },
        "4b42ab1f82e54c3089354027989872c2": {
          "model_module": "@jupyter-widgets/base",
          "model_name": "LayoutModel",
          "model_module_version": "1.2.0",
          "state": {
            "_model_module": "@jupyter-widgets/base",
            "_model_module_version": "1.2.0",
            "_model_name": "LayoutModel",
            "_view_count": null,
            "_view_module": "@jupyter-widgets/base",
            "_view_module_version": "1.2.0",
            "_view_name": "LayoutView",
            "align_content": null,
            "align_items": null,
            "align_self": null,
            "border": null,
            "bottom": null,
            "display": null,
            "flex": null,
            "flex_flow": null,
            "grid_area": null,
            "grid_auto_columns": null,
            "grid_auto_flow": null,
            "grid_auto_rows": null,
            "grid_column": null,
            "grid_gap": null,
            "grid_row": null,
            "grid_template_areas": null,
            "grid_template_columns": null,
            "grid_template_rows": null,
            "height": null,
            "justify_content": null,
            "justify_items": null,
            "left": null,
            "margin": null,
            "max_height": null,
            "max_width": null,
            "min_height": null,
            "min_width": null,
            "object_fit": null,
            "object_position": null,
            "order": null,
            "overflow": null,
            "overflow_x": null,
            "overflow_y": null,
            "padding": null,
            "right": null,
            "top": null,
            "visibility": null,
            "width": null
          }
        },
        "367e217a4f924c3ca4cb5c50102a2e25": {
          "model_module": "@jupyter-widgets/controls",
          "model_name": "DescriptionStyleModel",
          "model_module_version": "1.5.0",
          "state": {
            "_model_module": "@jupyter-widgets/controls",
            "_model_module_version": "1.5.0",
            "_model_name": "DescriptionStyleModel",
            "_view_count": null,
            "_view_module": "@jupyter-widgets/base",
            "_view_module_version": "1.2.0",
            "_view_name": "StyleView",
            "description_width": ""
          }
        },
        "03d3061f232c495aacc6eba23bbb927d": {
          "model_module": "@jupyter-widgets/controls",
          "model_name": "HBoxModel",
          "model_module_version": "1.5.0",
          "state": {
            "_dom_classes": [],
            "_model_module": "@jupyter-widgets/controls",
            "_model_module_version": "1.5.0",
            "_model_name": "HBoxModel",
            "_view_count": null,
            "_view_module": "@jupyter-widgets/controls",
            "_view_module_version": "1.5.0",
            "_view_name": "HBoxView",
            "box_style": "",
            "children": [
              "IPY_MODEL_69d40532c6c54aa5826e3f134151083c",
              "IPY_MODEL_962a4fbcd2fe40818e9e3a68b0189472",
              "IPY_MODEL_9e989af9573c49a6ba1064633e0b2d1c"
            ],
            "layout": "IPY_MODEL_dfe69179506c4340877e50b4a14ce74e"
          }
        },
        "69d40532c6c54aa5826e3f134151083c": {
          "model_module": "@jupyter-widgets/controls",
          "model_name": "HTMLModel",
          "model_module_version": "1.5.0",
          "state": {
            "_dom_classes": [],
            "_model_module": "@jupyter-widgets/controls",
            "_model_module_version": "1.5.0",
            "_model_name": "HTMLModel",
            "_view_count": null,
            "_view_module": "@jupyter-widgets/controls",
            "_view_module_version": "1.5.0",
            "_view_name": "HTMLView",
            "description": "",
            "description_tooltip": null,
            "layout": "IPY_MODEL_7f55d73fda9a46e19b25a8e11201ec67",
            "placeholder": "​",
            "style": "IPY_MODEL_0848f84577ff4b0b984c99fc209218c6",
            "value": "100%"
          }
        },
        "962a4fbcd2fe40818e9e3a68b0189472": {
          "model_module": "@jupyter-widgets/controls",
          "model_name": "FloatProgressModel",
          "model_module_version": "1.5.0",
          "state": {
            "_dom_classes": [],
            "_model_module": "@jupyter-widgets/controls",
            "_model_module_version": "1.5.0",
            "_model_name": "FloatProgressModel",
            "_view_count": null,
            "_view_module": "@jupyter-widgets/controls",
            "_view_module_version": "1.5.0",
            "_view_name": "ProgressView",
            "bar_style": "success",
            "description": "",
            "description_tooltip": null,
            "layout": "IPY_MODEL_2b4441cb1d904895bce684bc77f0ca8e",
            "max": 75,
            "min": 0,
            "orientation": "horizontal",
            "style": "IPY_MODEL_0a28b242cd704b90879bd49c38f91eda",
            "value": 75
          }
        },
        "9e989af9573c49a6ba1064633e0b2d1c": {
          "model_module": "@jupyter-widgets/controls",
          "model_name": "HTMLModel",
          "model_module_version": "1.5.0",
          "state": {
            "_dom_classes": [],
            "_model_module": "@jupyter-widgets/controls",
            "_model_module_version": "1.5.0",
            "_model_name": "HTMLModel",
            "_view_count": null,
            "_view_module": "@jupyter-widgets/controls",
            "_view_module_version": "1.5.0",
            "_view_name": "HTMLView",
            "description": "",
            "description_tooltip": null,
            "layout": "IPY_MODEL_21820618be604acdb23371a7d072f83a",
            "placeholder": "​",
            "style": "IPY_MODEL_dce52afea94248c997011c32829600a1",
            "value": " 75/75 [00:09&lt;00:00,  9.17it/s]"
          }
        },
        "dfe69179506c4340877e50b4a14ce74e": {
          "model_module": "@jupyter-widgets/base",
          "model_name": "LayoutModel",
          "model_module_version": "1.2.0",
          "state": {
            "_model_module": "@jupyter-widgets/base",
            "_model_module_version": "1.2.0",
            "_model_name": "LayoutModel",
            "_view_count": null,
            "_view_module": "@jupyter-widgets/base",
            "_view_module_version": "1.2.0",
            "_view_name": "LayoutView",
            "align_content": null,
            "align_items": null,
            "align_self": null,
            "border": null,
            "bottom": null,
            "display": null,
            "flex": null,
            "flex_flow": null,
            "grid_area": null,
            "grid_auto_columns": null,
            "grid_auto_flow": null,
            "grid_auto_rows": null,
            "grid_column": null,
            "grid_gap": null,
            "grid_row": null,
            "grid_template_areas": null,
            "grid_template_columns": null,
            "grid_template_rows": null,
            "height": null,
            "justify_content": null,
            "justify_items": null,
            "left": null,
            "margin": null,
            "max_height": null,
            "max_width": null,
            "min_height": null,
            "min_width": null,
            "object_fit": null,
            "object_position": null,
            "order": null,
            "overflow": null,
            "overflow_x": null,
            "overflow_y": null,
            "padding": null,
            "right": null,
            "top": null,
            "visibility": null,
            "width": null
          }
        },
        "7f55d73fda9a46e19b25a8e11201ec67": {
          "model_module": "@jupyter-widgets/base",
          "model_name": "LayoutModel",
          "model_module_version": "1.2.0",
          "state": {
            "_model_module": "@jupyter-widgets/base",
            "_model_module_version": "1.2.0",
            "_model_name": "LayoutModel",
            "_view_count": null,
            "_view_module": "@jupyter-widgets/base",
            "_view_module_version": "1.2.0",
            "_view_name": "LayoutView",
            "align_content": null,
            "align_items": null,
            "align_self": null,
            "border": null,
            "bottom": null,
            "display": null,
            "flex": null,
            "flex_flow": null,
            "grid_area": null,
            "grid_auto_columns": null,
            "grid_auto_flow": null,
            "grid_auto_rows": null,
            "grid_column": null,
            "grid_gap": null,
            "grid_row": null,
            "grid_template_areas": null,
            "grid_template_columns": null,
            "grid_template_rows": null,
            "height": null,
            "justify_content": null,
            "justify_items": null,
            "left": null,
            "margin": null,
            "max_height": null,
            "max_width": null,
            "min_height": null,
            "min_width": null,
            "object_fit": null,
            "object_position": null,
            "order": null,
            "overflow": null,
            "overflow_x": null,
            "overflow_y": null,
            "padding": null,
            "right": null,
            "top": null,
            "visibility": null,
            "width": null
          }
        },
        "0848f84577ff4b0b984c99fc209218c6": {
          "model_module": "@jupyter-widgets/controls",
          "model_name": "DescriptionStyleModel",
          "model_module_version": "1.5.0",
          "state": {
            "_model_module": "@jupyter-widgets/controls",
            "_model_module_version": "1.5.0",
            "_model_name": "DescriptionStyleModel",
            "_view_count": null,
            "_view_module": "@jupyter-widgets/base",
            "_view_module_version": "1.2.0",
            "_view_name": "StyleView",
            "description_width": ""
          }
        },
        "2b4441cb1d904895bce684bc77f0ca8e": {
          "model_module": "@jupyter-widgets/base",
          "model_name": "LayoutModel",
          "model_module_version": "1.2.0",
          "state": {
            "_model_module": "@jupyter-widgets/base",
            "_model_module_version": "1.2.0",
            "_model_name": "LayoutModel",
            "_view_count": null,
            "_view_module": "@jupyter-widgets/base",
            "_view_module_version": "1.2.0",
            "_view_name": "LayoutView",
            "align_content": null,
            "align_items": null,
            "align_self": null,
            "border": null,
            "bottom": null,
            "display": null,
            "flex": null,
            "flex_flow": null,
            "grid_area": null,
            "grid_auto_columns": null,
            "grid_auto_flow": null,
            "grid_auto_rows": null,
            "grid_column": null,
            "grid_gap": null,
            "grid_row": null,
            "grid_template_areas": null,
            "grid_template_columns": null,
            "grid_template_rows": null,
            "height": null,
            "justify_content": null,
            "justify_items": null,
            "left": null,
            "margin": null,
            "max_height": null,
            "max_width": null,
            "min_height": null,
            "min_width": null,
            "object_fit": null,
            "object_position": null,
            "order": null,
            "overflow": null,
            "overflow_x": null,
            "overflow_y": null,
            "padding": null,
            "right": null,
            "top": null,
            "visibility": null,
            "width": null
          }
        },
        "0a28b242cd704b90879bd49c38f91eda": {
          "model_module": "@jupyter-widgets/controls",
          "model_name": "ProgressStyleModel",
          "model_module_version": "1.5.0",
          "state": {
            "_model_module": "@jupyter-widgets/controls",
            "_model_module_version": "1.5.0",
            "_model_name": "ProgressStyleModel",
            "_view_count": null,
            "_view_module": "@jupyter-widgets/base",
            "_view_module_version": "1.2.0",
            "_view_name": "StyleView",
            "bar_color": null,
            "description_width": ""
          }
        },
        "21820618be604acdb23371a7d072f83a": {
          "model_module": "@jupyter-widgets/base",
          "model_name": "LayoutModel",
          "model_module_version": "1.2.0",
          "state": {
            "_model_module": "@jupyter-widgets/base",
            "_model_module_version": "1.2.0",
            "_model_name": "LayoutModel",
            "_view_count": null,
            "_view_module": "@jupyter-widgets/base",
            "_view_module_version": "1.2.0",
            "_view_name": "LayoutView",
            "align_content": null,
            "align_items": null,
            "align_self": null,
            "border": null,
            "bottom": null,
            "display": null,
            "flex": null,
            "flex_flow": null,
            "grid_area": null,
            "grid_auto_columns": null,
            "grid_auto_flow": null,
            "grid_auto_rows": null,
            "grid_column": null,
            "grid_gap": null,
            "grid_row": null,
            "grid_template_areas": null,
            "grid_template_columns": null,
            "grid_template_rows": null,
            "height": null,
            "justify_content": null,
            "justify_items": null,
            "left": null,
            "margin": null,
            "max_height": null,
            "max_width": null,
            "min_height": null,
            "min_width": null,
            "object_fit": null,
            "object_position": null,
            "order": null,
            "overflow": null,
            "overflow_x": null,
            "overflow_y": null,
            "padding": null,
            "right": null,
            "top": null,
            "visibility": null,
            "width": null
          }
        },
        "dce52afea94248c997011c32829600a1": {
          "model_module": "@jupyter-widgets/controls",
          "model_name": "DescriptionStyleModel",
          "model_module_version": "1.5.0",
          "state": {
            "_model_module": "@jupyter-widgets/controls",
            "_model_module_version": "1.5.0",
            "_model_name": "DescriptionStyleModel",
            "_view_count": null,
            "_view_module": "@jupyter-widgets/base",
            "_view_module_version": "1.2.0",
            "_view_name": "StyleView",
            "description_width": ""
          }
        },
        "5d3381cd8c3b4054a50d9de47d308b1f": {
          "model_module": "@jupyter-widgets/controls",
          "model_name": "HBoxModel",
          "model_module_version": "1.5.0",
          "state": {
            "_dom_classes": [],
            "_model_module": "@jupyter-widgets/controls",
            "_model_module_version": "1.5.0",
            "_model_name": "HBoxModel",
            "_view_count": null,
            "_view_module": "@jupyter-widgets/controls",
            "_view_module_version": "1.5.0",
            "_view_name": "HBoxView",
            "box_style": "",
            "children": [
              "IPY_MODEL_d6298821198f48ee9461348f3110a1c7",
              "IPY_MODEL_ef7b9592cf3941c8ac1e800855158c15",
              "IPY_MODEL_7e3f84a316704f4bacaf344c5e2408bf"
            ],
            "layout": "IPY_MODEL_16029db998f246a68119930d60d01307"
          }
        },
        "d6298821198f48ee9461348f3110a1c7": {
          "model_module": "@jupyter-widgets/controls",
          "model_name": "HTMLModel",
          "model_module_version": "1.5.0",
          "state": {
            "_dom_classes": [],
            "_model_module": "@jupyter-widgets/controls",
            "_model_module_version": "1.5.0",
            "_model_name": "HTMLModel",
            "_view_count": null,
            "_view_module": "@jupyter-widgets/controls",
            "_view_module_version": "1.5.0",
            "_view_name": "HTMLView",
            "description": "",
            "description_tooltip": null,
            "layout": "IPY_MODEL_33702956d66844d8a60285439a5238ff",
            "placeholder": "​",
            "style": "IPY_MODEL_c0d78932714044d299afcdec17d2dfce",
            "value": "100%"
          }
        },
        "ef7b9592cf3941c8ac1e800855158c15": {
          "model_module": "@jupyter-widgets/controls",
          "model_name": "FloatProgressModel",
          "model_module_version": "1.5.0",
          "state": {
            "_dom_classes": [],
            "_model_module": "@jupyter-widgets/controls",
            "_model_module_version": "1.5.0",
            "_model_name": "FloatProgressModel",
            "_view_count": null,
            "_view_module": "@jupyter-widgets/controls",
            "_view_module_version": "1.5.0",
            "_view_name": "ProgressView",
            "bar_style": "success",
            "description": "",
            "description_tooltip": null,
            "layout": "IPY_MODEL_201bc94a5cd5468e81fcb97e80392377",
            "max": 75,
            "min": 0,
            "orientation": "horizontal",
            "style": "IPY_MODEL_70d2715eeb164ff3bba78babe8bb837b",
            "value": 75
          }
        },
        "7e3f84a316704f4bacaf344c5e2408bf": {
          "model_module": "@jupyter-widgets/controls",
          "model_name": "HTMLModel",
          "model_module_version": "1.5.0",
          "state": {
            "_dom_classes": [],
            "_model_module": "@jupyter-widgets/controls",
            "_model_module_version": "1.5.0",
            "_model_name": "HTMLModel",
            "_view_count": null,
            "_view_module": "@jupyter-widgets/controls",
            "_view_module_version": "1.5.0",
            "_view_name": "HTMLView",
            "description": "",
            "description_tooltip": null,
            "layout": "IPY_MODEL_1e4a7b0080784bb08e015971deb461b0",
            "placeholder": "​",
            "style": "IPY_MODEL_ec9d5abe5d95401880d5f7f354b5eb21",
            "value": " 75/75 [00:43&lt;00:00,  1.98it/s]"
          }
        },
        "16029db998f246a68119930d60d01307": {
          "model_module": "@jupyter-widgets/base",
          "model_name": "LayoutModel",
          "model_module_version": "1.2.0",
          "state": {
            "_model_module": "@jupyter-widgets/base",
            "_model_module_version": "1.2.0",
            "_model_name": "LayoutModel",
            "_view_count": null,
            "_view_module": "@jupyter-widgets/base",
            "_view_module_version": "1.2.0",
            "_view_name": "LayoutView",
            "align_content": null,
            "align_items": null,
            "align_self": null,
            "border": null,
            "bottom": null,
            "display": null,
            "flex": null,
            "flex_flow": null,
            "grid_area": null,
            "grid_auto_columns": null,
            "grid_auto_flow": null,
            "grid_auto_rows": null,
            "grid_column": null,
            "grid_gap": null,
            "grid_row": null,
            "grid_template_areas": null,
            "grid_template_columns": null,
            "grid_template_rows": null,
            "height": null,
            "justify_content": null,
            "justify_items": null,
            "left": null,
            "margin": null,
            "max_height": null,
            "max_width": null,
            "min_height": null,
            "min_width": null,
            "object_fit": null,
            "object_position": null,
            "order": null,
            "overflow": null,
            "overflow_x": null,
            "overflow_y": null,
            "padding": null,
            "right": null,
            "top": null,
            "visibility": null,
            "width": null
          }
        },
        "33702956d66844d8a60285439a5238ff": {
          "model_module": "@jupyter-widgets/base",
          "model_name": "LayoutModel",
          "model_module_version": "1.2.0",
          "state": {
            "_model_module": "@jupyter-widgets/base",
            "_model_module_version": "1.2.0",
            "_model_name": "LayoutModel",
            "_view_count": null,
            "_view_module": "@jupyter-widgets/base",
            "_view_module_version": "1.2.0",
            "_view_name": "LayoutView",
            "align_content": null,
            "align_items": null,
            "align_self": null,
            "border": null,
            "bottom": null,
            "display": null,
            "flex": null,
            "flex_flow": null,
            "grid_area": null,
            "grid_auto_columns": null,
            "grid_auto_flow": null,
            "grid_auto_rows": null,
            "grid_column": null,
            "grid_gap": null,
            "grid_row": null,
            "grid_template_areas": null,
            "grid_template_columns": null,
            "grid_template_rows": null,
            "height": null,
            "justify_content": null,
            "justify_items": null,
            "left": null,
            "margin": null,
            "max_height": null,
            "max_width": null,
            "min_height": null,
            "min_width": null,
            "object_fit": null,
            "object_position": null,
            "order": null,
            "overflow": null,
            "overflow_x": null,
            "overflow_y": null,
            "padding": null,
            "right": null,
            "top": null,
            "visibility": null,
            "width": null
          }
        },
        "c0d78932714044d299afcdec17d2dfce": {
          "model_module": "@jupyter-widgets/controls",
          "model_name": "DescriptionStyleModel",
          "model_module_version": "1.5.0",
          "state": {
            "_model_module": "@jupyter-widgets/controls",
            "_model_module_version": "1.5.0",
            "_model_name": "DescriptionStyleModel",
            "_view_count": null,
            "_view_module": "@jupyter-widgets/base",
            "_view_module_version": "1.2.0",
            "_view_name": "StyleView",
            "description_width": ""
          }
        },
        "201bc94a5cd5468e81fcb97e80392377": {
          "model_module": "@jupyter-widgets/base",
          "model_name": "LayoutModel",
          "model_module_version": "1.2.0",
          "state": {
            "_model_module": "@jupyter-widgets/base",
            "_model_module_version": "1.2.0",
            "_model_name": "LayoutModel",
            "_view_count": null,
            "_view_module": "@jupyter-widgets/base",
            "_view_module_version": "1.2.0",
            "_view_name": "LayoutView",
            "align_content": null,
            "align_items": null,
            "align_self": null,
            "border": null,
            "bottom": null,
            "display": null,
            "flex": null,
            "flex_flow": null,
            "grid_area": null,
            "grid_auto_columns": null,
            "grid_auto_flow": null,
            "grid_auto_rows": null,
            "grid_column": null,
            "grid_gap": null,
            "grid_row": null,
            "grid_template_areas": null,
            "grid_template_columns": null,
            "grid_template_rows": null,
            "height": null,
            "justify_content": null,
            "justify_items": null,
            "left": null,
            "margin": null,
            "max_height": null,
            "max_width": null,
            "min_height": null,
            "min_width": null,
            "object_fit": null,
            "object_position": null,
            "order": null,
            "overflow": null,
            "overflow_x": null,
            "overflow_y": null,
            "padding": null,
            "right": null,
            "top": null,
            "visibility": null,
            "width": null
          }
        },
        "70d2715eeb164ff3bba78babe8bb837b": {
          "model_module": "@jupyter-widgets/controls",
          "model_name": "ProgressStyleModel",
          "model_module_version": "1.5.0",
          "state": {
            "_model_module": "@jupyter-widgets/controls",
            "_model_module_version": "1.5.0",
            "_model_name": "ProgressStyleModel",
            "_view_count": null,
            "_view_module": "@jupyter-widgets/base",
            "_view_module_version": "1.2.0",
            "_view_name": "StyleView",
            "bar_color": null,
            "description_width": ""
          }
        },
        "1e4a7b0080784bb08e015971deb461b0": {
          "model_module": "@jupyter-widgets/base",
          "model_name": "LayoutModel",
          "model_module_version": "1.2.0",
          "state": {
            "_model_module": "@jupyter-widgets/base",
            "_model_module_version": "1.2.0",
            "_model_name": "LayoutModel",
            "_view_count": null,
            "_view_module": "@jupyter-widgets/base",
            "_view_module_version": "1.2.0",
            "_view_name": "LayoutView",
            "align_content": null,
            "align_items": null,
            "align_self": null,
            "border": null,
            "bottom": null,
            "display": null,
            "flex": null,
            "flex_flow": null,
            "grid_area": null,
            "grid_auto_columns": null,
            "grid_auto_flow": null,
            "grid_auto_rows": null,
            "grid_column": null,
            "grid_gap": null,
            "grid_row": null,
            "grid_template_areas": null,
            "grid_template_columns": null,
            "grid_template_rows": null,
            "height": null,
            "justify_content": null,
            "justify_items": null,
            "left": null,
            "margin": null,
            "max_height": null,
            "max_width": null,
            "min_height": null,
            "min_width": null,
            "object_fit": null,
            "object_position": null,
            "order": null,
            "overflow": null,
            "overflow_x": null,
            "overflow_y": null,
            "padding": null,
            "right": null,
            "top": null,
            "visibility": null,
            "width": null
          }
        },
        "ec9d5abe5d95401880d5f7f354b5eb21": {
          "model_module": "@jupyter-widgets/controls",
          "model_name": "DescriptionStyleModel",
          "model_module_version": "1.5.0",
          "state": {
            "_model_module": "@jupyter-widgets/controls",
            "_model_module_version": "1.5.0",
            "_model_name": "DescriptionStyleModel",
            "_view_count": null,
            "_view_module": "@jupyter-widgets/base",
            "_view_module_version": "1.2.0",
            "_view_name": "StyleView",
            "description_width": ""
          }
        }
      }
    }
  },
  "cells": [
    {
      "cell_type": "markdown",
      "metadata": {
        "id": "view-in-github",
        "colab_type": "text"
      },
      "source": [
        "<a href=\"https://colab.research.google.com/github/h0806449f/PyTorch/blob/main/DB_09_model_deployment.ipynb\" target=\"_parent\"><img src=\"https://colab.research.google.com/assets/colab-badge.svg\" alt=\"Open In Colab\"/></a>"
      ]
    },
    {
      "cell_type": "markdown",
      "source": [
        "# **== Functions and setups ==**"
      ],
      "metadata": {
        "id": "lfkmskPeBaDk"
      }
    },
    {
      "cell_type": "markdown",
      "source": [
        "## Setups"
      ],
      "metadata": {
        "id": "h0xW9v6lETlH"
      }
    },
    {
      "cell_type": "code",
      "execution_count": 4,
      "metadata": {
        "id": "uOGJPHxv6v8O",
        "colab": {
          "base_uri": "https://localhost:8080/"
        },
        "outputId": "c9086fdb-987d-408e-d4bb-ff01112ba44b"
      },
      "outputs": [
        {
          "output_type": "stream",
          "name": "stdout",
          "text": [
            "Collecting torchinfo\n",
            "  Downloading torchinfo-1.8.0-py3-none-any.whl (23 kB)\n",
            "Installing collected packages: torchinfo\n",
            "Successfully installed torchinfo-1.8.0\n"
          ]
        }
      ],
      "source": [
        "!pip install torchinfo"
      ]
    },
    {
      "cell_type": "code",
      "source": [
        "import os\n",
        "import requests\n",
        "import zipfile\n",
        "import pathlib\n",
        "import random\n",
        "import numpy as np\n",
        "import pandas as pd\n",
        "from pathlib import Path\n",
        "from typing import List, Dict\n",
        "from PIL import Image\n",
        "\n",
        "\n",
        "import matplotlib.pyplot as plt\n",
        "from tqdm.auto import tqdm\n",
        "from timeit import default_timer as timer\n",
        "\n",
        "\n",
        "import torch\n",
        "import torchvision\n",
        "from torchvision import datasets, transforms\n",
        "from torch.utils.data import DataLoader\n",
        "from torchinfo import summary"
      ],
      "metadata": {
        "id": "4IbxfGPNBqxm"
      },
      "execution_count": 5,
      "outputs": []
    },
    {
      "cell_type": "markdown",
      "source": [
        "## Functions"
      ],
      "metadata": {
        "id": "PDesjwAGJAEn"
      }
    },
    {
      "cell_type": "code",
      "source": [
        "# train -> train_loss, train_acc\n",
        "def train(model, dataloader, loss_fn, optimizer, device):\n",
        "    model.to(device)\n",
        "    model.train()\n",
        "\n",
        "    train_loss, train_acc = 0, 0\n",
        "\n",
        "    for batch, (X_train, y_train) in enumerate(dataloader):\n",
        "        X_train, y_train = X_train.to(device), y_train.to(device)\n",
        "\n",
        "        train_preds = model(X_train)\n",
        "\n",
        "        loss = loss_fn(train_preds, y_train)\n",
        "        train_loss = train_loss + loss.item()\n",
        "\n",
        "        optimizer.zero_grad()\n",
        "        loss.backward()\n",
        "        optimizer.step()\n",
        "\n",
        "        train_preds_label = torch.argmax(torch.softmax(train_preds, dim = 1), dim = 1)\n",
        "        train_acc = train_acc + (train_preds_label == y_train).sum().item() / len(train_preds)\n",
        "\n",
        "    train_loss = train_loss / len(dataloader)\n",
        "    train_acc = train_acc / len(dataloader)\n",
        "\n",
        "    return train_loss, train_acc"
      ],
      "metadata": {
        "id": "H9tTSypvCtRI"
      },
      "execution_count": 6,
      "outputs": []
    },
    {
      "cell_type": "code",
      "source": [
        "# test -> test_loss, test_acc\n",
        "def test(model, dataloader, loss_fn, device):\n",
        "    model.to(device)\n",
        "    model.eval()\n",
        "\n",
        "    test_loss, test_acc = 0, 0\n",
        "\n",
        "    with torch.inference_mode():\n",
        "        for batch, (X_test, y_test) in enumerate(dataloader):\n",
        "            X_test, y_test = X_test.to(device), y_test.to(device)\n",
        "\n",
        "            test_preds = model(X_test)\n",
        "\n",
        "            loss = loss_fn(test_preds, y_test)\n",
        "            test_loss = test_loss + loss.item()\n",
        "\n",
        "            test_preds_label = torch.argmax(torch.softmax(test_preds, dim = 1), dim = 1)\n",
        "            test_acc = test_acc + (test_preds_label == y_test).sum().item() / len(test_preds)\n",
        "\n",
        "        test_loss = test_loss / len(dataloader)\n",
        "        test_acc = test_acc / len(dataloader)\n",
        "\n",
        "        return test_loss, test_acc"
      ],
      "metadata": {
        "id": "JPSa75CsCuen"
      },
      "execution_count": 7,
      "outputs": []
    },
    {
      "cell_type": "code",
      "source": [
        "# train_test_loop -> results dictionary\n",
        "def train_test_loop(model, train_dataloader, test_dataloader, loss_fn, optimizer, epochs, device):\n",
        "    results = {\"train_loss\":[], \"train_acc\":[], \"test_loss\":[], \"test_acc\":[]}\n",
        "\n",
        "    for epoch in tqdm(range(epochs)):\n",
        "        train_loss, train_acc = train(model = model, dataloader = train_dataloader, loss_fn = loss_fn, optimizer = optimizer, device = device)\n",
        "        test_loss, test_acc = test(model = model, dataloader = test_dataloader, loss_fn = loss_fn, device = device)\n",
        "\n",
        "        print(f\"Epoch: {epoch+1}\\n\"\n",
        "              f\"Train Loss: {train_loss:.4f} | Train Accuracy: {(train_acc*100):.2f}%\\n\"\n",
        "              f\"Test Loss: {test_loss:.4f} | Test Accuracy: {(test_acc*100):.2f}%\")\n",
        "\n",
        "        results[\"train_loss\"].append(train_loss)\n",
        "        results[\"train_acc\"].append(train_acc)\n",
        "        results[\"test_loss\"].append(test_loss)\n",
        "        results[\"test_acc\"].append(test_acc)\n",
        "\n",
        "    return results\n",
        "\n",
        "    # plt.figure(figsize = (6, 3))\n",
        "    # plt.subplot(1, 2, 1)\n",
        "    # plt.plot(results[\"train_loss\"], label = \"Train Loss\")\n",
        "    # plt.plot(results[\"test_loss\"], label = \"Test Loss\")\n",
        "    # plt.subplot(1, 2, 2)\n",
        "    # plt.plot(results[\"train_acc\"], label = \"Train Accuracy\")\n",
        "    # plt.plot(results[\"test_acc\"], label = \"Test Accuracy\")"
      ],
      "metadata": {
        "id": "kapNg2EnCv24"
      },
      "execution_count": 8,
      "outputs": []
    },
    {
      "cell_type": "code",
      "source": [
        "# Create a function -> make prediction across test dataset\n",
        "def pred_and_store(paths: List[pathlib.Path],\n",
        "                   model: torch.nn.Module,\n",
        "                   transform: torchvision.transforms,\n",
        "                   class_names: List[str],\n",
        "                   device: str = \"cuda\" if torch.cuda.is_available() else \"cpu\"\n",
        "                   ) -> List[Dict]:\n",
        "    # 空字典, 儲存 train_test_loop 的 dict\n",
        "    pred_list = []\n",
        "\n",
        "    # Loop through target path\n",
        "    for path in tqdm(paths):\n",
        "\n",
        "        # 空字典, 儲存預測結果\n",
        "        pred_dict = {}\n",
        "\n",
        "        # 檔案名稱, 檔案類別\n",
        "        pred_dict[\"image_path\"] = path\n",
        "        class_name = path.parent.stem\n",
        "        pred_dict[\"class_name\"] = class_name\n",
        "\n",
        "        # Time\n",
        "        start_time = timer()\n",
        "\n",
        "        # Open image path\n",
        "        img = Image.open(path)\n",
        "\n",
        "        # Transform image, add batch size, to device\n",
        "        transformed_image = transform(img).unsqueeze(dim = 0).to(device)\n",
        "\n",
        "        # model\n",
        "        model.to(device)\n",
        "        model.eval()\n",
        "\n",
        "        # Get probs, label, class names\n",
        "        with torch.inference_mode():\n",
        "            preds_logits = model(transformed_image)\n",
        "            preds_probs = torch.softmax(preds_logits, dim = 1)\n",
        "            preds_label = torch.argmax(preds_probs, dim = 1)\n",
        "            # Hard code prds_label to cpu\n",
        "            preds_class = class_names[preds_label.cpu()]\n",
        "\n",
        "            # 將結果放到 cpu 上, for numpy\n",
        "            pred_dict[\"preds_prob\"] = round(preds_probs.unsqueeze(0).max().cpu().item(), 4)\n",
        "            pred_dict[\"pred_class\"] = preds_class\n",
        "\n",
        "            # End the timer\n",
        "            end_time = timer()\n",
        "            pred_dict[\"time_for_predict\"] = round(end_time - start_time, 4)\n",
        "\n",
        "        # 正確與否\n",
        "        pred_dict[\"correct\"] = class_name == preds_class\n",
        "\n",
        "        #\n",
        "        pred_list.append(pred_dict)\n",
        "\n",
        "    return pred_list"
      ],
      "metadata": {
        "id": "-0GYYNfifV5z"
      },
      "execution_count": 9,
      "outputs": []
    },
    {
      "cell_type": "markdown",
      "source": [
        "# **== Dataset and dataloader ==**"
      ],
      "metadata": {
        "id": "N1sSAjLNLIZK"
      }
    },
    {
      "cell_type": "markdown",
      "source": [
        "## Raw data"
      ],
      "metadata": {
        "id": "WTH_ZsHDV9C_"
      }
    },
    {
      "cell_type": "code",
      "source": [
        "data_dir = Path(\"data/\")\n",
        "image_dir = data_dir / \"pizza_steak_sushi\"\n",
        "\n",
        "if image_dir.is_dir():\n",
        "    print(f\"[INFO] {image_dir} already exists\")\n",
        "else:\n",
        "    image_dir.mkdir(parents = True, exist_ok = True)\n",
        "    print(f\"[INFO] {image_dir} creating\")\n",
        "\n",
        "    with open(data_dir / \"DB_image.zip\", \"wb\") as f:\n",
        "        request = requests.get(\"https://github.com/mrdbourke/pytorch-deep-learning/raw/main/data/pizza_steak_sushi.zip\")\n",
        "        print(f\"[INFO] zip file downloading\")\n",
        "        f.write(request.content)\n",
        "\n",
        "    with zipfile.ZipFile(data_dir / \"DB_image.zip\", \"r\") as zip_f:\n",
        "        print(f\"[INFO] zip file unzipping\")\n",
        "        zip_f.extractall(image_dir)\n",
        "\n",
        "    zip_file_path = data_dir / \"DB_image.zip\"\n",
        "    if zip_file_path.exists():\n",
        "        print(f\"[INFO] zip file removing\")\n",
        "        os.remove(zip_file_path)"
      ],
      "metadata": {
        "colab": {
          "base_uri": "https://localhost:8080/"
        },
        "id": "2-WxFxk9MS6Q",
        "outputId": "93548cf6-8396-4bd5-d348-463fd72e3d31"
      },
      "execution_count": 10,
      "outputs": [
        {
          "output_type": "stream",
          "name": "stdout",
          "text": [
            "[INFO] data/pizza_steak_sushi creating\n",
            "[INFO] zip file downloading\n",
            "[INFO] zip file unzipping\n",
            "[INFO] zip file removing\n"
          ]
        }
      ]
    },
    {
      "cell_type": "markdown",
      "source": [
        "## Dataloader"
      ],
      "metadata": {
        "id": "069_yXjUWAb_"
      }
    },
    {
      "cell_type": "code",
      "source": [
        "# 目標比較: efficientnet VS vision transformer\n",
        "train_dir = image_dir / \"train\"\n",
        "test_dir = image_dir / \"test\"\n",
        "\n",
        "# Weights\n",
        "effnet_weights = torchvision.models.EfficientNet_B2_Weights.DEFAULT\n",
        "effnet_transforms = effnet_weights.transforms()\n",
        "\n",
        "# Dataset\n",
        "effnet_train_dataset = datasets.ImageFolder(root = train_dir, transform = effnet_transforms)\n",
        "effnet_test_dataset = datasets.ImageFolder(root = test_dir, transform = effnet_transforms)\n",
        "\n",
        "# Dataloader\n",
        "effnet_train_dataloader = DataLoader(dataset = effnet_train_dataset, batch_size = 32, shuffle = True, drop_last = True)\n",
        "effnet_test_dataloader = DataLoader(dataset = effnet_test_dataset, batch_size = 32, shuffle = False, drop_last = True)"
      ],
      "metadata": {
        "id": "Uw8JNA7xQkD0"
      },
      "execution_count": 11,
      "outputs": []
    },
    {
      "cell_type": "code",
      "source": [
        "# Weights\n",
        "vit_weights = torchvision.models.ViT_B_16_Weights.DEFAULT\n",
        "vit_tranforms = vit_weights.transforms()\n",
        "\n",
        "# Dataset\n",
        "vit_train_dataset = datasets.ImageFolder(root = train_dir, transform = vit_tranforms)\n",
        "vit_test_dataset = datasets.ImageFolder(root = test_dir, transform = vit_tranforms)\n",
        "\n",
        "# Dataloader\n",
        "vit_train_dataloader = DataLoader(dataset = vit_train_dataset, batch_size = 32, shuffle = True, drop_last = True)\n",
        "vit_test_dataloader = DataLoader(dataset = vit_test_dataset, batch_size = 32, shuffle = False, drop_last = True)"
      ],
      "metadata": {
        "id": "V8Ep-7LZUrTC"
      },
      "execution_count": 12,
      "outputs": []
    },
    {
      "cell_type": "markdown",
      "source": [
        "# **== Model and train model ==**"
      ],
      "metadata": {
        "id": "Y1FoXOGWWB9s"
      }
    },
    {
      "cell_type": "markdown",
      "source": [
        "## Effnet"
      ],
      "metadata": {
        "id": "quZIA5snWaiC"
      }
    },
    {
      "cell_type": "code",
      "source": [
        "effnet_weights = torchvision.models.EfficientNet_B2_Weights.DEFAULT\n",
        "\n",
        "effnet_model = torchvision.models.efficientnet_b2(weights = effnet_weights)"
      ],
      "metadata": {
        "colab": {
          "base_uri": "https://localhost:8080/"
        },
        "id": "M2OXDW3JWgJ6",
        "outputId": "189c6678-cf2e-4e24-9da5-ec628cfa95f8"
      },
      "execution_count": 13,
      "outputs": [
        {
          "output_type": "stream",
          "name": "stderr",
          "text": [
            "Downloading: \"https://download.pytorch.org/models/efficientnet_b2_rwightman-bcdf34b7.pth\" to /root/.cache/torch/hub/checkpoints/efficientnet_b2_rwightman-bcdf34b7.pth\n",
            "100%|██████████| 35.2M/35.2M [00:00<00:00, 190MB/s]\n"
          ]
        }
      ]
    },
    {
      "cell_type": "code",
      "source": [
        "for param in effnet_model.parameters():\n",
        "    param.requires_grad = False"
      ],
      "metadata": {
        "id": "m7YynZqCY9xt"
      },
      "execution_count": 14,
      "outputs": []
    },
    {
      "cell_type": "code",
      "source": [
        "effnet_model.classifier = torch.nn.Sequential(\n",
        "    torch.nn.Dropout(p = 0.3),\n",
        "    torch.nn.Linear(in_features = 1408, out_features = 128),\n",
        "    torch.nn.ReLU(),\n",
        "    torch.nn.Dropout(p = 0.3),\n",
        "    torch.nn.Linear(in_features = 128, out_features = 3)\n",
        ")"
      ],
      "metadata": {
        "id": "GnUe1_bpW-ZV"
      },
      "execution_count": 15,
      "outputs": []
    },
    {
      "cell_type": "code",
      "source": [
        "summary(effnet_model,\n",
        "        input_size = (32, 3, 224, 224),\n",
        "        col_names=[\"input_size\", \"output_size\", \"num_params\", \"trainable\"],\n",
        "        col_width = 18)"
      ],
      "metadata": {
        "colab": {
          "base_uri": "https://localhost:8080/"
        },
        "id": "Ctmh711vYTkH",
        "outputId": "0d780ac2-ac6c-4fb5-83da-abcce5c997b8"
      },
      "execution_count": 16,
      "outputs": [
        {
          "output_type": "execute_result",
          "data": {
            "text/plain": [
              "===============================================================================================================================\n",
              "Layer (type:depth-idx)                                  Input Shape        Output Shape       Param #            Trainable\n",
              "===============================================================================================================================\n",
              "EfficientNet                                            [32, 3, 224, 224]  [32, 3]            --                 Partial\n",
              "├─Sequential: 1-1                                       [32, 3, 224, 224]  [32, 1408, 7, 7]   --                 False\n",
              "│    └─Conv2dNormActivation: 2-1                        [32, 3, 224, 224]  [32, 32, 112, 112] --                 False\n",
              "│    │    └─Conv2d: 3-1                                 [32, 3, 224, 224]  [32, 32, 112, 112] (864)              False\n",
              "│    │    └─BatchNorm2d: 3-2                            [32, 32, 112, 112] [32, 32, 112, 112] (64)               False\n",
              "│    │    └─SiLU: 3-3                                   [32, 32, 112, 112] [32, 32, 112, 112] --                 --\n",
              "│    └─Sequential: 2-2                                  [32, 32, 112, 112] [32, 16, 112, 112] --                 False\n",
              "│    │    └─MBConv: 3-4                                 [32, 32, 112, 112] [32, 16, 112, 112] (1,448)            False\n",
              "│    │    └─MBConv: 3-5                                 [32, 16, 112, 112] [32, 16, 112, 112] (612)              False\n",
              "│    └─Sequential: 2-3                                  [32, 16, 112, 112] [32, 24, 56, 56]   --                 False\n",
              "│    │    └─MBConv: 3-6                                 [32, 16, 112, 112] [32, 24, 56, 56]   (6,004)            False\n",
              "│    │    └─MBConv: 3-7                                 [32, 24, 56, 56]   [32, 24, 56, 56]   (10,710)           False\n",
              "│    │    └─MBConv: 3-8                                 [32, 24, 56, 56]   [32, 24, 56, 56]   (10,710)           False\n",
              "│    └─Sequential: 2-4                                  [32, 24, 56, 56]   [32, 48, 28, 28]   --                 False\n",
              "│    │    └─MBConv: 3-9                                 [32, 24, 56, 56]   [32, 48, 28, 28]   (16,518)           False\n",
              "│    │    └─MBConv: 3-10                                [32, 48, 28, 28]   [32, 48, 28, 28]   (43,308)           False\n",
              "│    │    └─MBConv: 3-11                                [32, 48, 28, 28]   [32, 48, 28, 28]   (43,308)           False\n",
              "│    └─Sequential: 2-5                                  [32, 48, 28, 28]   [32, 88, 14, 14]   --                 False\n",
              "│    │    └─MBConv: 3-12                                [32, 48, 28, 28]   [32, 88, 14, 14]   (50,300)           False\n",
              "│    │    └─MBConv: 3-13                                [32, 88, 14, 14]   [32, 88, 14, 14]   (123,750)          False\n",
              "│    │    └─MBConv: 3-14                                [32, 88, 14, 14]   [32, 88, 14, 14]   (123,750)          False\n",
              "│    │    └─MBConv: 3-15                                [32, 88, 14, 14]   [32, 88, 14, 14]   (123,750)          False\n",
              "│    └─Sequential: 2-6                                  [32, 88, 14, 14]   [32, 120, 14, 14]  --                 False\n",
              "│    │    └─MBConv: 3-16                                [32, 88, 14, 14]   [32, 120, 14, 14]  (149,158)          False\n",
              "│    │    └─MBConv: 3-17                                [32, 120, 14, 14]  [32, 120, 14, 14]  (237,870)          False\n",
              "│    │    └─MBConv: 3-18                                [32, 120, 14, 14]  [32, 120, 14, 14]  (237,870)          False\n",
              "│    │    └─MBConv: 3-19                                [32, 120, 14, 14]  [32, 120, 14, 14]  (237,870)          False\n",
              "│    └─Sequential: 2-7                                  [32, 120, 14, 14]  [32, 208, 7, 7]    --                 False\n",
              "│    │    └─MBConv: 3-20                                [32, 120, 14, 14]  [32, 208, 7, 7]    (301,406)          False\n",
              "│    │    └─MBConv: 3-21                                [32, 208, 7, 7]    [32, 208, 7, 7]    (686,868)          False\n",
              "│    │    └─MBConv: 3-22                                [32, 208, 7, 7]    [32, 208, 7, 7]    (686,868)          False\n",
              "│    │    └─MBConv: 3-23                                [32, 208, 7, 7]    [32, 208, 7, 7]    (686,868)          False\n",
              "│    │    └─MBConv: 3-24                                [32, 208, 7, 7]    [32, 208, 7, 7]    (686,868)          False\n",
              "│    └─Sequential: 2-8                                  [32, 208, 7, 7]    [32, 352, 7, 7]    --                 False\n",
              "│    │    └─MBConv: 3-25                                [32, 208, 7, 7]    [32, 352, 7, 7]    (846,900)          False\n",
              "│    │    └─MBConv: 3-26                                [32, 352, 7, 7]    [32, 352, 7, 7]    (1,888,920)        False\n",
              "│    └─Conv2dNormActivation: 2-9                        [32, 352, 7, 7]    [32, 1408, 7, 7]   --                 False\n",
              "│    │    └─Conv2d: 3-27                                [32, 352, 7, 7]    [32, 1408, 7, 7]   (495,616)          False\n",
              "│    │    └─BatchNorm2d: 3-28                           [32, 1408, 7, 7]   [32, 1408, 7, 7]   (2,816)            False\n",
              "│    │    └─SiLU: 3-29                                  [32, 1408, 7, 7]   [32, 1408, 7, 7]   --                 --\n",
              "├─AdaptiveAvgPool2d: 1-2                                [32, 1408, 7, 7]   [32, 1408, 1, 1]   --                 --\n",
              "├─Sequential: 1-3                                       [32, 1408]         [32, 3]            --                 True\n",
              "│    └─Dropout: 2-10                                    [32, 1408]         [32, 1408]         --                 --\n",
              "│    └─Linear: 2-11                                     [32, 1408]         [32, 128]          180,352            True\n",
              "│    └─ReLU: 2-12                                       [32, 128]          [32, 128]          --                 --\n",
              "│    └─Dropout: 2-13                                    [32, 128]          [32, 128]          --                 --\n",
              "│    └─Linear: 2-14                                     [32, 128]          [32, 3]            387                True\n",
              "===============================================================================================================================\n",
              "Total params: 7,881,733\n",
              "Trainable params: 180,739\n",
              "Non-trainable params: 7,700,994\n",
              "Total mult-adds (G): 21.05\n",
              "===============================================================================================================================\n",
              "Input size (MB): 19.27\n",
              "Forward/backward pass size (MB): 5017.56\n",
              "Params size (MB): 31.53\n",
              "Estimated Total Size (MB): 5068.36\n",
              "==============================================================================================================================="
            ]
          },
          "metadata": {},
          "execution_count": 16
        }
      ]
    },
    {
      "cell_type": "markdown",
      "source": [
        "## Vit"
      ],
      "metadata": {
        "id": "ObS4Yx8tWdYl"
      }
    },
    {
      "cell_type": "code",
      "source": [
        "vit_weights = torchvision.models.ViT_B_16_Weights.DEFAULT\n",
        "\n",
        "vit_model = torchvision.models.vit_b_16(weights = vit_weights)"
      ],
      "metadata": {
        "colab": {
          "base_uri": "https://localhost:8080/"
        },
        "id": "FoAA-6XwWgsj",
        "outputId": "f5251b11-982f-4c93-e66e-f05e62c74f7d"
      },
      "execution_count": 17,
      "outputs": [
        {
          "output_type": "stream",
          "name": "stderr",
          "text": [
            "Downloading: \"https://download.pytorch.org/models/vit_b_16-c867db91.pth\" to /root/.cache/torch/hub/checkpoints/vit_b_16-c867db91.pth\n",
            "100%|██████████| 330M/330M [00:06<00:00, 57.1MB/s]\n"
          ]
        }
      ]
    },
    {
      "cell_type": "code",
      "source": [
        "for param in vit_model.parameters():\n",
        "    param.requires_grad = False"
      ],
      "metadata": {
        "id": "xVoOgnh8ZBf9"
      },
      "execution_count": 18,
      "outputs": []
    },
    {
      "cell_type": "code",
      "source": [
        "vit_model.heads = torch.nn.Sequential(\n",
        "    torch.nn.Linear(in_features=768, out_features=64),\n",
        "    torch.nn.ReLU(),\n",
        "    torch.nn.Dropout(p = 0.3),\n",
        "    torch.nn.Linear(in_features = 64, out_features = 3),\n",
        ")"
      ],
      "metadata": {
        "id": "md9-cdC2ZLBk"
      },
      "execution_count": 19,
      "outputs": []
    },
    {
      "cell_type": "code",
      "source": [
        "summary(vit_model,\n",
        "        input_size = (32, 3, 224, 224),\n",
        "        col_names=[\"input_size\", \"output_size\", \"num_params\", \"trainable\"],\n",
        "        col_width = 18)"
      ],
      "metadata": {
        "colab": {
          "base_uri": "https://localhost:8080/"
        },
        "id": "dmJ4a6BAZuVB",
        "outputId": "98e5d0b3-28c9-477e-a73b-a6373fd10a8f"
      },
      "execution_count": 20,
      "outputs": [
        {
          "output_type": "execute_result",
          "data": {
            "text/plain": [
              "=====================================================================================================================\n",
              "Layer (type:depth-idx)                        Input Shape        Output Shape       Param #            Trainable\n",
              "=====================================================================================================================\n",
              "VisionTransformer                             [32, 3, 224, 224]  [32, 3]            768                Partial\n",
              "├─Conv2d: 1-1                                 [32, 3, 224, 224]  [32, 768, 14, 14]  (590,592)          False\n",
              "├─Encoder: 1-2                                [32, 197, 768]     [32, 197, 768]     151,296            False\n",
              "│    └─Dropout: 2-1                           [32, 197, 768]     [32, 197, 768]     --                 --\n",
              "│    └─Sequential: 2-2                        [32, 197, 768]     [32, 197, 768]     --                 False\n",
              "│    │    └─EncoderBlock: 3-1                 [32, 197, 768]     [32, 197, 768]     (7,087,872)        False\n",
              "│    │    └─EncoderBlock: 3-2                 [32, 197, 768]     [32, 197, 768]     (7,087,872)        False\n",
              "│    │    └─EncoderBlock: 3-3                 [32, 197, 768]     [32, 197, 768]     (7,087,872)        False\n",
              "│    │    └─EncoderBlock: 3-4                 [32, 197, 768]     [32, 197, 768]     (7,087,872)        False\n",
              "│    │    └─EncoderBlock: 3-5                 [32, 197, 768]     [32, 197, 768]     (7,087,872)        False\n",
              "│    │    └─EncoderBlock: 3-6                 [32, 197, 768]     [32, 197, 768]     (7,087,872)        False\n",
              "│    │    └─EncoderBlock: 3-7                 [32, 197, 768]     [32, 197, 768]     (7,087,872)        False\n",
              "│    │    └─EncoderBlock: 3-8                 [32, 197, 768]     [32, 197, 768]     (7,087,872)        False\n",
              "│    │    └─EncoderBlock: 3-9                 [32, 197, 768]     [32, 197, 768]     (7,087,872)        False\n",
              "│    │    └─EncoderBlock: 3-10                [32, 197, 768]     [32, 197, 768]     (7,087,872)        False\n",
              "│    │    └─EncoderBlock: 3-11                [32, 197, 768]     [32, 197, 768]     (7,087,872)        False\n",
              "│    │    └─EncoderBlock: 3-12                [32, 197, 768]     [32, 197, 768]     (7,087,872)        False\n",
              "│    └─LayerNorm: 2-3                         [32, 197, 768]     [32, 197, 768]     (1,536)            False\n",
              "├─Sequential: 1-3                             [32, 768]          [32, 3]            --                 True\n",
              "│    └─Linear: 2-4                            [32, 768]          [32, 64]           49,216             True\n",
              "│    └─ReLU: 2-5                              [32, 64]           [32, 64]           --                 --\n",
              "│    └─Dropout: 2-6                           [32, 64]           [32, 64]           --                 --\n",
              "│    └─Linear: 2-7                            [32, 64]           [32, 3]            195                True\n",
              "=====================================================================================================================\n",
              "Total params: 85,848,067\n",
              "Trainable params: 49,411\n",
              "Non-trainable params: 85,798,656\n",
              "Total mult-adds (G): 5.52\n",
              "=====================================================================================================================\n",
              "Input size (MB): 19.27\n",
              "Forward/backward pass size (MB): 3330.75\n",
              "Params size (MB): 229.39\n",
              "Estimated Total Size (MB): 3579.41\n",
              "====================================================================================================================="
            ]
          },
          "metadata": {},
          "execution_count": 20
        }
      ]
    },
    {
      "cell_type": "markdown",
      "source": [
        "## Train"
      ],
      "metadata": {
        "id": "uAdXu0h9dJRn"
      }
    },
    {
      "cell_type": "code",
      "source": [
        "device = \"cuda\" if torch.cuda.is_available() else \"cpu\"\n",
        "\n",
        "loss_fn = torch.nn.CrossEntropyLoss()\n",
        "optimizer = torch.optim.Adam(effnet_model.parameters(),\n",
        "                             lr = 0.001)\n",
        "\n",
        "effnet_results = train_test_loop(\n",
        "    model = effnet_model,\n",
        "    train_dataloader = effnet_train_dataloader,\n",
        "    test_dataloader = effnet_test_dataloader,\n",
        "    loss_fn = loss_fn,\n",
        "    optimizer = optimizer,\n",
        "    epochs = 10,\n",
        "    device = device\n",
        ")"
      ],
      "metadata": {
        "colab": {
          "base_uri": "https://localhost:8080/",
          "height": 570,
          "referenced_widgets": [
            "796fdab645204728a657e5ddbc748ea1",
            "a43a8c62af9747edb2ab108ac21a8e4b",
            "22220a3d50fd43ca83b3ab2b1c794e9d",
            "9a4ac0f66b8f4bb0baa746ee877f3146",
            "7d70940b4a8347b683be113b7f4a7a94",
            "155df4672dd04601a4dd0a89ea7f4fda",
            "36128c0ad5a24db392cc5485e6c36786",
            "28ca6fad99ba4cb5a6ea932d7fb05884",
            "0e09ce3e8da34746bee780179b7d7c67",
            "fa76d89703ba4e9d959329902a58e12d",
            "c9d80172e3d5458bbdd27b97f033cfb6"
          ]
        },
        "id": "iA81glhbdLjt",
        "outputId": "6b11add9-e1ab-4e75-a10a-4d0e2350c26a"
      },
      "execution_count": 21,
      "outputs": [
        {
          "output_type": "display_data",
          "data": {
            "text/plain": [
              "  0%|          | 0/10 [00:00<?, ?it/s]"
            ],
            "application/vnd.jupyter.widget-view+json": {
              "version_major": 2,
              "version_minor": 0,
              "model_id": "796fdab645204728a657e5ddbc748ea1"
            }
          },
          "metadata": {}
        },
        {
          "output_type": "stream",
          "name": "stdout",
          "text": [
            "Epoch: 1\n",
            "Train Loss: 1.0033 | Train Accuracy: 55.80%\n",
            "Test Loss: 0.8399 | Test Accuracy: 90.62%\n",
            "Epoch: 2\n",
            "Train Loss: 0.6717 | Train Accuracy: 87.50%\n",
            "Test Loss: 0.5233 | Test Accuracy: 93.75%\n",
            "Epoch: 3\n",
            "Train Loss: 0.4156 | Train Accuracy: 93.30%\n",
            "Test Loss: 0.3585 | Test Accuracy: 95.31%\n",
            "Epoch: 4\n",
            "Train Loss: 0.2525 | Train Accuracy: 96.43%\n",
            "Test Loss: 0.2978 | Test Accuracy: 93.75%\n",
            "Epoch: 5\n",
            "Train Loss: 0.2667 | Train Accuracy: 93.75%\n",
            "Test Loss: 0.2545 | Test Accuracy: 93.75%\n",
            "Epoch: 6\n",
            "Train Loss: 0.1769 | Train Accuracy: 95.09%\n",
            "Test Loss: 0.2340 | Test Accuracy: 95.31%\n",
            "Epoch: 7\n",
            "Train Loss: 0.1535 | Train Accuracy: 95.54%\n",
            "Test Loss: 0.2244 | Test Accuracy: 95.31%\n",
            "Epoch: 8\n",
            "Train Loss: 0.0771 | Train Accuracy: 99.55%\n",
            "Test Loss: 0.2169 | Test Accuracy: 95.31%\n",
            "Epoch: 9\n",
            "Train Loss: 0.0922 | Train Accuracy: 98.66%\n",
            "Test Loss: 0.2143 | Test Accuracy: 95.31%\n",
            "Epoch: 10\n",
            "Train Loss: 0.0997 | Train Accuracy: 97.32%\n",
            "Test Loss: 0.2296 | Test Accuracy: 93.75%\n"
          ]
        }
      ]
    },
    {
      "cell_type": "code",
      "source": [
        "device = \"cuda\" if torch.cuda.is_available() else \"cpu\"\n",
        "\n",
        "loss_fn = torch.nn.CrossEntropyLoss()\n",
        "optimizer = torch.optim.Adam(vit_model.parameters(),\n",
        "                             lr = 0.001)\n",
        "\n",
        "vit_results = train_test_loop(\n",
        "    model = vit_model,\n",
        "    train_dataloader = vit_train_dataloader,\n",
        "    test_dataloader = vit_test_dataloader,\n",
        "    loss_fn = loss_fn,\n",
        "    optimizer = optimizer,\n",
        "    epochs = 10,\n",
        "    device = device\n",
        ")"
      ],
      "metadata": {
        "colab": {
          "base_uri": "https://localhost:8080/",
          "height": 570,
          "referenced_widgets": [
            "142e6358907a45d79b66188f7926cdb7",
            "401f2e25e7514671872c8b37df6636b9",
            "a480866254f74269a8a04658a7b9e06c",
            "814becc3685c46a3bcec0c60fa4c48cb",
            "a4026e84e4fe490cb321534683516628",
            "728b9813af4f44a0a08d5e6f06715c93",
            "98b09cfe652a4233b9bb12a82f8d1812",
            "7e7108192571466f9d91ce9333c7bc2a",
            "e6750020a5854a79b51e10ed4259f5f2",
            "4b42ab1f82e54c3089354027989872c2",
            "367e217a4f924c3ca4cb5c50102a2e25"
          ]
        },
        "id": "XZDc5adBdjPl",
        "outputId": "8f5d2823-c0c6-4b0b-9d30-da557692f0e5"
      },
      "execution_count": 22,
      "outputs": [
        {
          "output_type": "display_data",
          "data": {
            "text/plain": [
              "  0%|          | 0/10 [00:00<?, ?it/s]"
            ],
            "application/vnd.jupyter.widget-view+json": {
              "version_major": 2,
              "version_minor": 0,
              "model_id": "142e6358907a45d79b66188f7926cdb7"
            }
          },
          "metadata": {}
        },
        {
          "output_type": "stream",
          "name": "stdout",
          "text": [
            "Epoch: 1\n",
            "Train Loss: 0.7657 | Train Accuracy: 82.14%\n",
            "Test Loss: 0.3770 | Test Accuracy: 92.19%\n",
            "Epoch: 2\n",
            "Train Loss: 0.2940 | Train Accuracy: 94.64%\n",
            "Test Loss: 0.1783 | Test Accuracy: 95.31%\n",
            "Epoch: 3\n",
            "Train Loss: 0.1587 | Train Accuracy: 95.54%\n",
            "Test Loss: 0.1523 | Test Accuracy: 92.19%\n",
            "Epoch: 4\n",
            "Train Loss: 0.0963 | Train Accuracy: 96.88%\n",
            "Test Loss: 0.1471 | Test Accuracy: 95.31%\n",
            "Epoch: 5\n",
            "Train Loss: 0.0844 | Train Accuracy: 98.21%\n",
            "Test Loss: 0.1556 | Test Accuracy: 95.31%\n",
            "Epoch: 6\n",
            "Train Loss: 0.0454 | Train Accuracy: 99.11%\n",
            "Test Loss: 0.1711 | Test Accuracy: 95.31%\n",
            "Epoch: 7\n",
            "Train Loss: 0.0347 | Train Accuracy: 99.11%\n",
            "Test Loss: 0.1799 | Test Accuracy: 93.75%\n",
            "Epoch: 8\n",
            "Train Loss: 0.0329 | Train Accuracy: 99.55%\n",
            "Test Loss: 0.1790 | Test Accuracy: 93.75%\n",
            "Epoch: 9\n",
            "Train Loss: 0.0237 | Train Accuracy: 100.00%\n",
            "Test Loss: 0.1754 | Test Accuracy: 93.75%\n",
            "Epoch: 10\n",
            "Train Loss: 0.0183 | Train Accuracy: 100.00%\n",
            "Test Loss: 0.1764 | Test Accuracy: 95.31%\n"
          ]
        }
      ]
    },
    {
      "cell_type": "markdown",
      "source": [
        "## Plot Loss and accuracy"
      ],
      "metadata": {
        "id": "G3y2mRyQm5Il"
      }
    },
    {
      "cell_type": "code",
      "source": [
        "plt.figure(figsize = (9, 4))\n",
        "\n",
        "plt.subplot(2, 2, 1)\n",
        "plt.plot(effnet_results[\"train_loss\"], label = \"Train Loss\")\n",
        "plt.plot(effnet_results[\"test_loss\"], label = \"Test Loss\")\n",
        "plt.legend()\n",
        "\n",
        "plt.subplot(2, 2, 2)\n",
        "plt.plot(effnet_results[\"train_acc\"], label = \"Train Accuracy\")\n",
        "plt.plot(effnet_results[\"test_acc\"], label = \"Test Accuracy\")\n",
        "plt.legend()\n",
        "\n",
        "plt.subplot(2, 2, 3)\n",
        "plt.plot(vit_results[\"train_loss\"], label = \"Train Loss\")\n",
        "plt.plot(vit_results[\"test_loss\"], label = \"Test Loss\")\n",
        "plt.legend()\n",
        "\n",
        "plt.subplot(2, 2, 4)\n",
        "plt.plot(vit_results[\"train_acc\"], label = \"Train Accuracy\")\n",
        "plt.plot(vit_results[\"test_acc\"], label = \"Test Accuracy\")\n",
        "plt.legend()"
      ],
      "metadata": {
        "colab": {
          "base_uri": "https://localhost:8080/",
          "height": 0
        },
        "id": "vH8AOqqcm8nm",
        "outputId": "7c627363-cfd8-408a-9806-3f87b26ee336"
      },
      "execution_count": 23,
      "outputs": [
        {
          "output_type": "execute_result",
          "data": {
            "text/plain": [
              "<matplotlib.legend.Legend at 0x7bb17aa99720>"
            ]
          },
          "metadata": {},
          "execution_count": 23
        },
        {
          "output_type": "display_data",
          "data": {
            "text/plain": [
              "<Figure size 900x400 with 4 Axes>"
            ],
            "image/png": "[encoded data removed]"
          },
          "metadata": {}
        }
      ]
    },
    {
      "cell_type": "markdown",
      "source": [
        "# **== Save and check model's dize ==**"
      ],
      "metadata": {
        "id": "LE7hrnsMrOf9"
      }
    },
    {
      "cell_type": "markdown",
      "source": [
        "## Models path"
      ],
      "metadata": {
        "id": "pZvWS76Fsjp6"
      }
    },
    {
      "cell_type": "code",
      "source": [
        "models_path = Path(\"Models/\")\n",
        "\n",
        "if models_path.is_dir():\n",
        "    print(f\"[INFO] {models_path} already exist\")\n",
        "else:\n",
        "    print(f\"[INFO] {models_path} creating\")\n",
        "    models_path.mkdir(parents = True, exist_ok = True)"
      ],
      "metadata": {
        "colab": {
          "base_uri": "https://localhost:8080/"
        },
        "id": "41XROgvasjJX",
        "outputId": "3669d149-ce66-4a2a-8867-b558723e50d7"
      },
      "execution_count": 24,
      "outputs": [
        {
          "output_type": "stream",
          "name": "stdout",
          "text": [
            "[INFO] Models creating\n"
          ]
        }
      ]
    },
    {
      "cell_type": "markdown",
      "source": [
        "## Effnet size"
      ],
      "metadata": {
        "id": "wdK1kXxar-pr"
      }
    },
    {
      "cell_type": "code",
      "source": [
        "torch.save(effnet_model, \"Models/effnet.pt\")"
      ],
      "metadata": {
        "id": "leFjXfNHrXPL"
      },
      "execution_count": 25,
      "outputs": []
    },
    {
      "cell_type": "code",
      "source": [
        "effnet_model_size = Path(\"Models/effnet.pt\").stat().st_size // (1024*1024)\n",
        "print(f\"Model size: {effnet_model_size} MB\")"
      ],
      "metadata": {
        "colab": {
          "base_uri": "https://localhost:8080/"
        },
        "id": "68ePnc35tir-",
        "outputId": "8489b2aa-d1fb-4996-c4b6-a294911806dc"
      },
      "execution_count": 26,
      "outputs": [
        {
          "output_type": "stream",
          "name": "stdout",
          "text": [
            "Model size: 30 MB\n"
          ]
        }
      ]
    },
    {
      "cell_type": "markdown",
      "source": [
        "## Vit size"
      ],
      "metadata": {
        "id": "MEYBMuYvsATJ"
      }
    },
    {
      "cell_type": "code",
      "source": [
        "torch.save(vit_model, \"Models/vit.pt\")"
      ],
      "metadata": {
        "id": "rFngAwTLsB3O"
      },
      "execution_count": 27,
      "outputs": []
    },
    {
      "cell_type": "code",
      "source": [
        "vit_model_size = Path(\"Models/vit.pt\").stat().st_size // (1024*1024)\n",
        "print(f\"Model size: {vit_model_size} MB\")"
      ],
      "metadata": {
        "colab": {
          "base_uri": "https://localhost:8080/"
        },
        "id": "5TB6YWnhti9-",
        "outputId": "afae07b2-6829-4860-ccb2-f47ae2b1a073"
      },
      "execution_count": 28,
      "outputs": [
        {
          "output_type": "stream",
          "name": "stdout",
          "text": [
            "Model size: 327 MB\n"
          ]
        }
      ]
    },
    {
      "cell_type": "markdown",
      "source": [
        "# **== Predict and calculate time ==**"
      ],
      "metadata": {
        "id": "5PSes7sFWfIm"
      }
    },
    {
      "cell_type": "markdown",
      "source": [
        "## Test images' path"
      ],
      "metadata": {
        "id": "yMZHTcgFofKS"
      }
    },
    {
      "cell_type": "code",
      "source": [
        "# Path\n",
        "test_data_paths = list(Path(test_dir).glob(\"*/*.jpg\"))\n",
        "\n",
        "# Check\n",
        "test_data_paths[:5]"
      ],
      "metadata": {
        "colab": {
          "base_uri": "https://localhost:8080/"
        },
        "id": "smZ6kKKpl1O6",
        "outputId": "3736029a-ea28-4d24-87d3-5368fbcf6116"
      },
      "execution_count": 29,
      "outputs": [
        {
          "output_type": "execute_result",
          "data": {
            "text/plain": [
              "[PosixPath('data/pizza_steak_sushi/test/steak/2117351.jpg'),\n",
              " PosixPath('data/pizza_steak_sushi/test/steak/354513.jpg'),\n",
              " PosixPath('data/pizza_steak_sushi/test/steak/1627703.jpg'),\n",
              " PosixPath('data/pizza_steak_sushi/test/steak/966174.jpg'),\n",
              " PosixPath('data/pizza_steak_sushi/test/steak/296375.jpg')]"
            ]
          },
          "metadata": {},
          "execution_count": 29
        }
      ]
    },
    {
      "cell_type": "markdown",
      "source": [
        "## Effnet"
      ],
      "metadata": {
        "id": "9YTIsn4Joh06"
      }
    },
    {
      "cell_type": "code",
      "source": [
        "effnet_test_pred_list = pred_and_store(paths = test_data_paths,\n",
        "                                       model = effnet_model,\n",
        "                                       transform = effnet_transforms,\n",
        "                                       class_names = [\"pizza\", \"steak\", \"sushi\"],\n",
        "                                       device = \"cpu\") # make prediction on cpu"
      ],
      "metadata": {
        "colab": {
          "base_uri": "https://localhost:8080/",
          "height": 0,
          "referenced_widgets": [
            "03d3061f232c495aacc6eba23bbb927d",
            "69d40532c6c54aa5826e3f134151083c",
            "962a4fbcd2fe40818e9e3a68b0189472",
            "9e989af9573c49a6ba1064633e0b2d1c",
            "dfe69179506c4340877e50b4a14ce74e",
            "7f55d73fda9a46e19b25a8e11201ec67",
            "0848f84577ff4b0b984c99fc209218c6",
            "2b4441cb1d904895bce684bc77f0ca8e",
            "0a28b242cd704b90879bd49c38f91eda",
            "21820618be604acdb23371a7d072f83a",
            "dce52afea94248c997011c32829600a1"
          ]
        },
        "id": "2iKmlmUBl2BX",
        "outputId": "9b53d011-ca1f-48d2-97b0-54dc0d1f0e1b"
      },
      "execution_count": 30,
      "outputs": [
        {
          "output_type": "display_data",
          "data": {
            "text/plain": [
              "  0%|          | 0/75 [00:00<?, ?it/s]"
            ],
            "application/vnd.jupyter.widget-view+json": {
              "version_major": 2,
              "version_minor": 0,
              "model_id": "03d3061f232c495aacc6eba23bbb927d"
            }
          },
          "metadata": {}
        }
      ]
    },
    {
      "cell_type": "code",
      "source": [
        "# DF\n",
        "effnetb2_df = pd.DataFrame(effnet_test_pred_list)\n",
        "\n",
        "# Check\n",
        "effnetb2_df.head()"
      ],
      "metadata": {
        "colab": {
          "base_uri": "https://localhost:8080/",
          "height": 0
        },
        "id": "HavxWajCoH3v",
        "outputId": "8da60642-0fed-4cad-ce00-47118d2ccb08"
      },
      "execution_count": 31,
      "outputs": [
        {
          "output_type": "execute_result",
          "data": {
            "text/plain": [
              "                                      image_path class_name  preds_prob  \\\n",
              "0  data/pizza_steak_sushi/test/steak/2117351.jpg      steak      0.9900   \n",
              "1   data/pizza_steak_sushi/test/steak/354513.jpg      steak      0.3637   \n",
              "2  data/pizza_steak_sushi/test/steak/1627703.jpg      steak      0.6125   \n",
              "3   data/pizza_steak_sushi/test/steak/966174.jpg      steak      0.9988   \n",
              "4   data/pizza_steak_sushi/test/steak/296375.jpg      steak      0.9776   \n",
              "\n",
              "  pred_class  time_for_predict  correct  \n",
              "0      steak            0.1948     True  \n",
              "1      pizza            0.1074    False  \n",
              "2      steak            0.0988     True  \n",
              "3      steak            0.0992     True  \n",
              "4      steak            0.1172     True  "
            ],
            "text/html": [
              "\n",
              "\n",
              "  <div id=\"df-1b0f8f92-7953-47ef-ae9a-b83a28240648\">\n",
              "    <div class=\"colab-df-container\">\n",
              "      <div>\n",
              "<style scoped>\n",
              "    .dataframe tbody tr th:only-of-type {\n",
              "        vertical-align: middle;\n",
              "    }\n",
              "\n",
              "    .dataframe tbody tr th {\n",
              "        vertical-align: top;\n",
              "    }\n",
              "\n",
              "    .dataframe thead th {\n",
              "        text-align: right;\n",
              "    }\n",
              "</style>\n",
              "<table border=\"1\" class=\"dataframe\">\n",
              "  <thead>\n",
              "    <tr style=\"text-align: right;\">\n",
              "      <th></th>\n",
              "      <th>image_path</th>\n",
              "      <th>class_name</th>\n",
              "      <th>preds_prob</th>\n",
              "      <th>pred_class</th>\n",
              "      <th>time_for_predict</th>\n",
              "      <th>correct</th>\n",
              "    </tr>\n",
              "  </thead>\n",
              "  <tbody>\n",
              "    <tr>\n",
              "      <th>0</th>\n",
              "      <td>data/pizza_steak_sushi/test/steak/2117351.jpg</td>\n",
              "      <td>steak</td>\n",
              "      <td>0.9900</td>\n",
              "      <td>steak</td>\n",
              "      <td>0.1948</td>\n",
              "      <td>True</td>\n",
              "    </tr>\n",
              "    <tr>\n",
              "      <th>1</th>\n",
              "      <td>data/pizza_steak_sushi/test/steak/354513.jpg</td>\n",
              "      <td>steak</td>\n",
              "      <td>0.3637</td>\n",
              "      <td>pizza</td>\n",
              "      <td>0.1074</td>\n",
              "      <td>False</td>\n",
              "    </tr>\n",
              "    <tr>\n",
              "      <th>2</th>\n",
              "      <td>data/pizza_steak_sushi/test/steak/1627703.jpg</td>\n",
              "      <td>steak</td>\n",
              "      <td>0.6125</td>\n",
              "      <td>steak</td>\n",
              "      <td>0.0988</td>\n",
              "      <td>True</td>\n",
              "    </tr>\n",
              "    <tr>\n",
              "      <th>3</th>\n",
              "      <td>data/pizza_steak_sushi/test/steak/966174.jpg</td>\n",
              "      <td>steak</td>\n",
              "      <td>0.9988</td>\n",
              "      <td>steak</td>\n",
              "      <td>0.0992</td>\n",
              "      <td>True</td>\n",
              "    </tr>\n",
              "    <tr>\n",
              "      <th>4</th>\n",
              "      <td>data/pizza_steak_sushi/test/steak/296375.jpg</td>\n",
              "      <td>steak</td>\n",
              "      <td>0.9776</td>\n",
              "      <td>steak</td>\n",
              "      <td>0.1172</td>\n",
              "      <td>True</td>\n",
              "    </tr>\n",
              "  </tbody>\n",
              "</table>\n",
              "</div>\n",
              "      <button class=\"colab-df-convert\" onclick=\"convertToInteractive('df-1b0f8f92-7953-47ef-ae9a-b83a28240648')\"\n",
              "              title=\"Convert this dataframe to an interactive table.\"\n",
              "              style=\"display:none;\">\n",
              "\n",
              "  <svg xmlns=\"http://www.w3.org/2000/svg\" height=\"24px\"viewBox=\"0 0 24 24\"\n",
              "       width=\"24px\">\n",
              "    <path d=\"M0 0h24v24H0V0z\" fill=\"none\"/>\n",
              "    <path d=\"M18.56 5.44l.94 2.06.94-2.06 2.06-.94-2.06-.94-.94-2.06-.94 2.06-2.06.94zm-11 1L8.5 8.5l.94-2.06 2.06-.94-2.06-.94L8.5 2.5l-.94 2.06-2.06.94zm10 10l.94 2.06.94-2.06 2.06-.94-2.06-.94-.94-2.06-.94 2.06-2.06.94z\"/><path d=\"M17.41 7.96l-1.37-1.37c-.4-.4-.92-.59-1.43-.59-.52 0-1.04.2-1.43.59L10.3 9.45l-7.72 7.72c-.78.78-.78 2.05 0 2.83L4 21.41c.39.39.9.59 1.41.59.51 0 1.02-.2 1.41-.59l7.78-7.78 2.81-2.81c.8-.78.8-2.07 0-2.86zM5.41 20L4 18.59l7.72-7.72 1.47 1.35L5.41 20z\"/>\n",
              "  </svg>\n",
              "      </button>\n",
              "\n",
              "\n",
              "\n",
              "    <div id=\"df-a5f862fc-f683-4cdd-b164-fce35274f074\">\n",
              "      <button class=\"colab-df-quickchart\" onclick=\"quickchart('df-a5f862fc-f683-4cdd-b164-fce35274f074')\"\n",
              "              title=\"Suggest charts.\"\n",
              "              style=\"display:none;\">\n",
              "\n",
              "<svg xmlns=\"http://www.w3.org/2000/svg\" height=\"24px\"viewBox=\"0 0 24 24\"\n",
              "     width=\"24px\">\n",
              "    <g>\n",
              "        <path d=\"M19 3H5c-1.1 0-2 .9-2 2v14c0 1.1.9 2 2 2h14c1.1 0 2-.9 2-2V5c0-1.1-.9-2-2-2zM9 17H7v-7h2v7zm4 0h-2V7h2v10zm4 0h-2v-4h2v4z\"/>\n",
              "    </g>\n",
              "</svg>\n",
              "      </button>\n",
              "    </div>\n",
              "\n",
              "<style>\n",
              "  .colab-df-quickchart {\n",
              "    background-color: #E8F0FE;\n",
              "    border: none;\n",
              "    border-radius: 50%;\n",
              "    cursor: pointer;\n",
              "    display: none;\n",
              "    fill: #1967D2;\n",
              "    height: 32px;\n",
              "    padding: 0 0 0 0;\n",
              "    width: 32px;\n",
              "  }\n",
              "\n",
              "  .colab-df-quickchart:hover {\n",
              "    background-color: #E2EBFA;\n",
              "    box-shadow: 0px 1px 2px rgba(60, 64, 67, 0.3), 0px 1px 3px 1px rgba(60, 64, 67, 0.15);\n",
              "    fill: #174EA6;\n",
              "  }\n",
              "\n",
              "  [theme=dark] .colab-df-quickchart {\n",
              "    background-color: #3B4455;\n",
              "    fill: #D2E3FC;\n",
              "  }\n",
              "\n",
              "  [theme=dark] .colab-df-quickchart:hover {\n",
              "    background-color: #434B5C;\n",
              "    box-shadow: 0px 1px 3px 1px rgba(0, 0, 0, 0.15);\n",
              "    filter: drop-shadow(0px 1px 2px rgba(0, 0, 0, 0.3));\n",
              "    fill: #FFFFFF;\n",
              "  }\n",
              "</style>\n",
              "\n",
              "    <script>\n",
              "      async function quickchart(key) {\n",
              "        const containerElement = document.querySelector('#' + key);\n",
              "        const charts = await google.colab.kernel.invokeFunction(\n",
              "            'suggestCharts', [key], {});\n",
              "      }\n",
              "    </script>\n",
              "\n",
              "      <script>\n",
              "\n",
              "function displayQuickchartButton(domScope) {\n",
              "  let quickchartButtonEl =\n",
              "    domScope.querySelector('#df-a5f862fc-f683-4cdd-b164-fce35274f074 button.colab-df-quickchart');\n",
              "  quickchartButtonEl.style.display =\n",
              "    google.colab.kernel.accessAllowed ? 'block' : 'none';\n",
              "}\n",
              "\n",
              "        displayQuickchartButton(document);\n",
              "      </script>\n",
              "      <style>\n",
              "    .colab-df-container {\n",
              "      display:flex;\n",
              "      flex-wrap:wrap;\n",
              "      gap: 12px;\n",
              "    }\n",
              "\n",
              "    .colab-df-convert {\n",
              "      background-color: #E8F0FE;\n",
              "      border: none;\n",
              "      border-radius: 50%;\n",
              "      cursor: pointer;\n",
              "      display: none;\n",
              "      fill: #1967D2;\n",
              "      height: 32px;\n",
              "      padding: 0 0 0 0;\n",
              "      width: 32px;\n",
              "    }\n",
              "\n",
              "    .colab-df-convert:hover {\n",
              "      background-color: #E2EBFA;\n",
              "      box-shadow: 0px 1px 2px rgba(60, 64, 67, 0.3), 0px 1px 3px 1px rgba(60, 64, 67, 0.15);\n",
              "      fill: #174EA6;\n",
              "    }\n",
              "\n",
              "    [theme=dark] .colab-df-convert {\n",
              "      background-color: #3B4455;\n",
              "      fill: #D2E3FC;\n",
              "    }\n",
              "\n",
              "    [theme=dark] .colab-df-convert:hover {\n",
              "      background-color: #434B5C;\n",
              "      box-shadow: 0px 1px 3px 1px rgba(0, 0, 0, 0.15);\n",
              "      filter: drop-shadow(0px 1px 2px rgba(0, 0, 0, 0.3));\n",
              "      fill: #FFFFFF;\n",
              "    }\n",
              "  </style>\n",
              "\n",
              "      <script>\n",
              "        const buttonEl =\n",
              "          document.querySelector('#df-1b0f8f92-7953-47ef-ae9a-b83a28240648 button.colab-df-convert');\n",
              "        buttonEl.style.display =\n",
              "          google.colab.kernel.accessAllowed ? 'block' : 'none';\n",
              "\n",
              "        async function convertToInteractive(key) {\n",
              "          const element = document.querySelector('#df-1b0f8f92-7953-47ef-ae9a-b83a28240648');\n",
              "          const dataTable =\n",
              "            await google.colab.kernel.invokeFunction('convertToInteractive',\n",
              "                                                     [key], {});\n",
              "          if (!dataTable) return;\n",
              "\n",
              "          const docLinkHtml = 'Like what you see? Visit the ' +\n",
              "            '<a target=\"_blank\" href=https://colab.research.google.com/notebooks/data_table.ipynb>data table notebook</a>'\n",
              "            + ' to learn more about interactive tables.';\n",
              "          element.innerHTML = '';\n",
              "          dataTable['output_type'] = 'display_data';\n",
              "          await google.colab.output.renderOutput(dataTable, element);\n",
              "          const docLink = document.createElement('div');\n",
              "          docLink.innerHTML = docLinkHtml;\n",
              "          element.appendChild(docLink);\n",
              "        }\n",
              "      </script>\n",
              "    </div>\n",
              "  </div>\n"
            ]
          },
          "metadata": {},
          "execution_count": 31
        }
      ]
    },
    {
      "cell_type": "code",
      "source": [
        "# Value counts\n",
        "print(effnetb2_df.correct.value_counts())\n",
        "\n",
        "# Average time\n",
        "effnet_average_time = round(effnetb2_df.time_for_predict.mean(), 4)\n",
        "print(f\"Average time of prediction: {effnet_average_time}\")"
      ],
      "metadata": {
        "colab": {
          "base_uri": "https://localhost:8080/"
        },
        "id": "xMvRl86SolMj",
        "outputId": "48ff167c-dbbd-4024-cc90-21b560f29e7a"
      },
      "execution_count": 32,
      "outputs": [
        {
          "output_type": "stream",
          "name": "stdout",
          "text": [
            "True     69\n",
            "False     6\n",
            "Name: correct, dtype: int64\n",
            "Average time of prediction: 0.1178\n"
          ]
        }
      ]
    },
    {
      "cell_type": "markdown",
      "source": [
        "## Vit"
      ],
      "metadata": {
        "id": "wCiPyP1_ojqo"
      }
    },
    {
      "cell_type": "code",
      "source": [
        "vit_test_pred_list = pred_and_store(paths = test_data_paths,\n",
        "                                    model = vit_model,\n",
        "                                    transform = vit_tranforms,\n",
        "                                    class_names = [\"pizza\", \"steak\", \"sushi\"],\n",
        "                                    device = \"cpu\")"
      ],
      "metadata": {
        "colab": {
          "base_uri": "https://localhost:8080/",
          "height": 0,
          "referenced_widgets": [
            "5d3381cd8c3b4054a50d9de47d308b1f",
            "d6298821198f48ee9461348f3110a1c7",
            "ef7b9592cf3941c8ac1e800855158c15",
            "7e3f84a316704f4bacaf344c5e2408bf",
            "16029db998f246a68119930d60d01307",
            "33702956d66844d8a60285439a5238ff",
            "c0d78932714044d299afcdec17d2dfce",
            "201bc94a5cd5468e81fcb97e80392377",
            "70d2715eeb164ff3bba78babe8bb837b",
            "1e4a7b0080784bb08e015971deb461b0",
            "ec9d5abe5d95401880d5f7f354b5eb21"
          ]
        },
        "id": "j6KridX2mxr7",
        "outputId": "d5113dbe-771b-45e8-c277-7cf6fc2ec0dd"
      },
      "execution_count": 33,
      "outputs": [
        {
          "output_type": "display_data",
          "data": {
            "text/plain": [
              "  0%|          | 0/75 [00:00<?, ?it/s]"
            ],
            "application/vnd.jupyter.widget-view+json": {
              "version_major": 2,
              "version_minor": 0,
              "model_id": "5d3381cd8c3b4054a50d9de47d308b1f"
            }
          },
          "metadata": {}
        }
      ]
    },
    {
      "cell_type": "code",
      "source": [
        "# DF\n",
        "vit_df = pd.DataFrame(vit_test_pred_list)\n",
        "\n",
        "# Check\n",
        "vit_df.head()"
      ],
      "metadata": {
        "colab": {
          "base_uri": "https://localhost:8080/",
          "height": 0
        },
        "id": "bNcNkgyMoNJO",
        "outputId": "a36b4367-925b-4899-a15e-dfbfdc4e51e1"
      },
      "execution_count": 34,
      "outputs": [
        {
          "output_type": "execute_result",
          "data": {
            "text/plain": [
              "                                      image_path class_name  preds_prob  \\\n",
              "0  data/pizza_steak_sushi/test/steak/2117351.jpg      steak      0.9985   \n",
              "1   data/pizza_steak_sushi/test/steak/354513.jpg      steak      0.9997   \n",
              "2  data/pizza_steak_sushi/test/steak/1627703.jpg      steak      0.8417   \n",
              "3   data/pizza_steak_sushi/test/steak/966174.jpg      steak      0.6518   \n",
              "4   data/pizza_steak_sushi/test/steak/296375.jpg      steak      0.9998   \n",
              "\n",
              "  pred_class  time_for_predict  correct  \n",
              "0      steak            0.6771     True  \n",
              "1      steak            0.7538     True  \n",
              "2      sushi            0.8352    False  \n",
              "3      steak            1.0814     True  \n",
              "4      steak            0.5192     True  "
            ],
            "text/html": [
              "\n",
              "\n",
              "  <div id=\"df-aba5392e-3f31-419b-b532-8313d3658cb4\">\n",
              "    <div class=\"colab-df-container\">\n",
              "      <div>\n",
              "<style scoped>\n",
              "    .dataframe tbody tr th:only-of-type {\n",
              "        vertical-align: middle;\n",
              "    }\n",
              "\n",
              "    .dataframe tbody tr th {\n",
              "        vertical-align: top;\n",
              "    }\n",
              "\n",
              "    .dataframe thead th {\n",
              "        text-align: right;\n",
              "    }\n",
              "</style>\n",
              "<table border=\"1\" class=\"dataframe\">\n",
              "  <thead>\n",
              "    <tr style=\"text-align: right;\">\n",
              "      <th></th>\n",
              "      <th>image_path</th>\n",
              "      <th>class_name</th>\n",
              "      <th>preds_prob</th>\n",
              "      <th>pred_class</th>\n",
              "      <th>time_for_predict</th>\n",
              "      <th>correct</th>\n",
              "    </tr>\n",
              "  </thead>\n",
              "  <tbody>\n",
              "    <tr>\n",
              "      <th>0</th>\n",
              "      <td>data/pizza_steak_sushi/test/steak/2117351.jpg</td>\n",
              "      <td>steak</td>\n",
              "      <td>0.9985</td>\n",
              "      <td>steak</td>\n",
              "      <td>0.6771</td>\n",
              "      <td>True</td>\n",
              "    </tr>\n",
              "    <tr>\n",
              "      <th>1</th>\n",
              "      <td>data/pizza_steak_sushi/test/steak/354513.jpg</td>\n",
              "      <td>steak</td>\n",
              "      <td>0.9997</td>\n",
              "      <td>steak</td>\n",
              "      <td>0.7538</td>\n",
              "      <td>True</td>\n",
              "    </tr>\n",
              "    <tr>\n",
              "      <th>2</th>\n",
              "      <td>data/pizza_steak_sushi/test/steak/1627703.jpg</td>\n",
              "      <td>steak</td>\n",
              "      <td>0.8417</td>\n",
              "      <td>sushi</td>\n",
              "      <td>0.8352</td>\n",
              "      <td>False</td>\n",
              "    </tr>\n",
              "    <tr>\n",
              "      <th>3</th>\n",
              "      <td>data/pizza_steak_sushi/test/steak/966174.jpg</td>\n",
              "      <td>steak</td>\n",
              "      <td>0.6518</td>\n",
              "      <td>steak</td>\n",
              "      <td>1.0814</td>\n",
              "      <td>True</td>\n",
              "    </tr>\n",
              "    <tr>\n",
              "      <th>4</th>\n",
              "      <td>data/pizza_steak_sushi/test/steak/296375.jpg</td>\n",
              "      <td>steak</td>\n",
              "      <td>0.9998</td>\n",
              "      <td>steak</td>\n",
              "      <td>0.5192</td>\n",
              "      <td>True</td>\n",
              "    </tr>\n",
              "  </tbody>\n",
              "</table>\n",
              "</div>\n",
              "      <button class=\"colab-df-convert\" onclick=\"convertToInteractive('df-aba5392e-3f31-419b-b532-8313d3658cb4')\"\n",
              "              title=\"Convert this dataframe to an interactive table.\"\n",
              "              style=\"display:none;\">\n",
              "\n",
              "  <svg xmlns=\"http://www.w3.org/2000/svg\" height=\"24px\"viewBox=\"0 0 24 24\"\n",
              "       width=\"24px\">\n",
              "    <path d=\"M0 0h24v24H0V0z\" fill=\"none\"/>\n",
              "    <path d=\"M18.56 5.44l.94 2.06.94-2.06 2.06-.94-2.06-.94-.94-2.06-.94 2.06-2.06.94zm-11 1L8.5 8.5l.94-2.06 2.06-.94-2.06-.94L8.5 2.5l-.94 2.06-2.06.94zm10 10l.94 2.06.94-2.06 2.06-.94-2.06-.94-.94-2.06-.94 2.06-2.06.94z\"/><path d=\"M17.41 7.96l-1.37-1.37c-.4-.4-.92-.59-1.43-.59-.52 0-1.04.2-1.43.59L10.3 9.45l-7.72 7.72c-.78.78-.78 2.05 0 2.83L4 21.41c.39.39.9.59 1.41.59.51 0 1.02-.2 1.41-.59l7.78-7.78 2.81-2.81c.8-.78.8-2.07 0-2.86zM5.41 20L4 18.59l7.72-7.72 1.47 1.35L5.41 20z\"/>\n",
              "  </svg>\n",
              "      </button>\n",
              "\n",
              "\n",
              "\n",
              "    <div id=\"df-5a48618b-d3d8-4452-8a37-4904bfad7b63\">\n",
              "      <button class=\"colab-df-quickchart\" onclick=\"quickchart('df-5a48618b-d3d8-4452-8a37-4904bfad7b63')\"\n",
              "              title=\"Suggest charts.\"\n",
              "              style=\"display:none;\">\n",
              "\n",
              "<svg xmlns=\"http://www.w3.org/2000/svg\" height=\"24px\"viewBox=\"0 0 24 24\"\n",
              "     width=\"24px\">\n",
              "    <g>\n",
              "        <path d=\"M19 3H5c-1.1 0-2 .9-2 2v14c0 1.1.9 2 2 2h14c1.1 0 2-.9 2-2V5c0-1.1-.9-2-2-2zM9 17H7v-7h2v7zm4 0h-2V7h2v10zm4 0h-2v-4h2v4z\"/>\n",
              "    </g>\n",
              "</svg>\n",
              "      </button>\n",
              "    </div>\n",
              "\n",
              "<style>\n",
              "  .colab-df-quickchart {\n",
              "    background-color: #E8F0FE;\n",
              "    border: none;\n",
              "    border-radius: 50%;\n",
              "    cursor: pointer;\n",
              "    display: none;\n",
              "    fill: #1967D2;\n",
              "    height: 32px;\n",
              "    padding: 0 0 0 0;\n",
              "    width: 32px;\n",
              "  }\n",
              "\n",
              "  .colab-df-quickchart:hover {\n",
              "    background-color: #E2EBFA;\n",
              "    box-shadow: 0px 1px 2px rgba(60, 64, 67, 0.3), 0px 1px 3px 1px rgba(60, 64, 67, 0.15);\n",
              "    fill: #174EA6;\n",
              "  }\n",
              "\n",
              "  [theme=dark] .colab-df-quickchart {\n",
              "    background-color: #3B4455;\n",
              "    fill: #D2E3FC;\n",
              "  }\n",
              "\n",
              "  [theme=dark] .colab-df-quickchart:hover {\n",
              "    background-color: #434B5C;\n",
              "    box-shadow: 0px 1px 3px 1px rgba(0, 0, 0, 0.15);\n",
              "    filter: drop-shadow(0px 1px 2px rgba(0, 0, 0, 0.3));\n",
              "    fill: #FFFFFF;\n",
              "  }\n",
              "</style>\n",
              "\n",
              "    <script>\n",
              "      async function quickchart(key) {\n",
              "        const containerElement = document.querySelector('#' + key);\n",
              "        const charts = await google.colab.kernel.invokeFunction(\n",
              "            'suggestCharts', [key], {});\n",
              "      }\n",
              "    </script>\n",
              "\n",
              "      <script>\n",
              "\n",
              "function displayQuickchartButton(domScope) {\n",
              "  let quickchartButtonEl =\n",
              "    domScope.querySelector('#df-5a48618b-d3d8-4452-8a37-4904bfad7b63 button.colab-df-quickchart');\n",
              "  quickchartButtonEl.style.display =\n",
              "    google.colab.kernel.accessAllowed ? 'block' : 'none';\n",
              "}\n",
              "\n",
              "        displayQuickchartButton(document);\n",
              "      </script>\n",
              "      <style>\n",
              "    .colab-df-container {\n",
              "      display:flex;\n",
              "      flex-wrap:wrap;\n",
              "      gap: 12px;\n",
              "    }\n",
              "\n",
              "    .colab-df-convert {\n",
              "      background-color: #E8F0FE;\n",
              "      border: none;\n",
              "      border-radius: 50%;\n",
              "      cursor: pointer;\n",
              "      display: none;\n",
              "      fill: #1967D2;\n",
              "      height: 32px;\n",
              "      padding: 0 0 0 0;\n",
              "      width: 32px;\n",
              "    }\n",
              "\n",
              "    .colab-df-convert:hover {\n",
              "      background-color: #E2EBFA;\n",
              "      box-shadow: 0px 1px 2px rgba(60, 64, 67, 0.3), 0px 1px 3px 1px rgba(60, 64, 67, 0.15);\n",
              "      fill: #174EA6;\n",
              "    }\n",
              "\n",
              "    [theme=dark] .colab-df-convert {\n",
              "      background-color: #3B4455;\n",
              "      fill: #D2E3FC;\n",
              "    }\n",
              "\n",
              "    [theme=dark] .colab-df-convert:hover {\n",
              "      background-color: #434B5C;\n",
              "      box-shadow: 0px 1px 3px 1px rgba(0, 0, 0, 0.15);\n",
              "      filter: drop-shadow(0px 1px 2px rgba(0, 0, 0, 0.3));\n",
              "      fill: #FFFFFF;\n",
              "    }\n",
              "  </style>\n",
              "\n",
              "      <script>\n",
              "        const buttonEl =\n",
              "          document.querySelector('#df-aba5392e-3f31-419b-b532-8313d3658cb4 button.colab-df-convert');\n",
              "        buttonEl.style.display =\n",
              "          google.colab.kernel.accessAllowed ? 'block' : 'none';\n",
              "\n",
              "        async function convertToInteractive(key) {\n",
              "          const element = document.querySelector('#df-aba5392e-3f31-419b-b532-8313d3658cb4');\n",
              "          const dataTable =\n",
              "            await google.colab.kernel.invokeFunction('convertToInteractive',\n",
              "                                                     [key], {});\n",
              "          if (!dataTable) return;\n",
              "\n",
              "          const docLinkHtml = 'Like what you see? Visit the ' +\n",
              "            '<a target=\"_blank\" href=https://colab.research.google.com/notebooks/data_table.ipynb>data table notebook</a>'\n",
              "            + ' to learn more about interactive tables.';\n",
              "          element.innerHTML = '';\n",
              "          dataTable['output_type'] = 'display_data';\n",
              "          await google.colab.output.renderOutput(dataTable, element);\n",
              "          const docLink = document.createElement('div');\n",
              "          docLink.innerHTML = docLinkHtml;\n",
              "          element.appendChild(docLink);\n",
              "        }\n",
              "      </script>\n",
              "    </div>\n",
              "  </div>\n"
            ]
          },
          "metadata": {},
          "execution_count": 34
        }
      ]
    },
    {
      "cell_type": "code",
      "source": [
        "# Value counts\n",
        "print(vit_df.correct.value_counts())\n",
        "\n",
        "# Average time\n",
        "vit_average_time = round(vit_df.time_for_predict.mean(), 4)\n",
        "print(f\"Average time of prediction: {vit_average_time}\")"
      ],
      "metadata": {
        "colab": {
          "base_uri": "https://localhost:8080/"
        },
        "id": "688FmsvopW1H",
        "outputId": "642e0b53-aa4b-4772-fc43-93b78567ce07"
      },
      "execution_count": 35,
      "outputs": [
        {
          "output_type": "stream",
          "name": "stdout",
          "text": [
            "True     70\n",
            "False     5\n",
            "Name: correct, dtype: int64\n",
            "Average time of prediction: 0.5766\n"
          ]
        }
      ]
    },
    {
      "cell_type": "markdown",
      "source": [
        "## Result config"
      ],
      "metadata": {
        "id": "JFHGjK6Uwsdu"
      }
    },
    {
      "cell_type": "code",
      "source": [
        "effnet_final_results = {\"Test Loss\": effnet_results[\"test_loss\"][-1],\n",
        "                        \"Test Accuracy\": effnet_results[\"test_acc\"][-1],\n",
        "                        \"Model size (MB)\": effnet_model_size,\n",
        "                        \"Average predict time\": effnet_average_time}\n",
        "effnet_final_results"
      ],
      "metadata": {
        "colab": {
          "base_uri": "https://localhost:8080/"
        },
        "id": "gHD8qi4fwwZU",
        "outputId": "3ea91884-c822-4b4f-9457-64fc3f160f0d"
      },
      "execution_count": 36,
      "outputs": [
        {
          "output_type": "execute_result",
          "data": {
            "text/plain": [
              "{'Test Loss': 0.2296457402408123,\n",
              " 'Test Accuracy': 0.9375,\n",
              " 'Model size (MB)': 30,\n",
              " 'Average predict time': 0.1178}"
            ]
          },
          "metadata": {},
          "execution_count": 36
        }
      ]
    },
    {
      "cell_type": "code",
      "source": [
        "vit_final_results = {\"Test Loss\": vit_results[\"test_loss\"][-1],\n",
        "                     \"Test Accuracy\": vit_results[\"test_acc\"][-1],\n",
        "                     \"Model size (MB)\": vit_model_size,\n",
        "                     \"Average predict time\": vit_average_time}\n",
        "vit_final_results"
      ],
      "metadata": {
        "colab": {
          "base_uri": "https://localhost:8080/"
        },
        "id": "zKsd4B4Px0ZH",
        "outputId": "abe3561d-61fe-4784-f585-b9d32cbc19cb"
      },
      "execution_count": 37,
      "outputs": [
        {
          "output_type": "execute_result",
          "data": {
            "text/plain": [
              "{'Test Loss': 0.1764150932431221,\n",
              " 'Test Accuracy': 0.953125,\n",
              " 'Model size (MB)': 327,\n",
              " 'Average predict time': 0.5766}"
            ]
          },
          "metadata": {},
          "execution_count": 37
        }
      ]
    },
    {
      "cell_type": "markdown",
      "source": [
        "# **== Gradio ==**"
      ],
      "metadata": {
        "id": "D_IjD1Bsz8dJ"
      }
    },
    {
      "cell_type": "code",
      "source": [
        "try:\n",
        "    import gradio as gr\n",
        "except:\n",
        "    !pip install gradio\n",
        "    import gradio as gr\n",
        "gr.__version__"
      ],
      "metadata": {
        "colab": {
          "base_uri": "https://localhost:8080/",
          "height": 35
        },
        "id": "oC5z3XQxz_Dx",
        "outputId": "fdd1bdcc-7529-48eb-fc1b-50973ce17746"
      },
      "execution_count": 38,
      "outputs": [
        {
          "output_type": "execute_result",
          "data": {
            "text/plain": [
              "'3.36.1'"
            ],
            "application/vnd.google.colaboratory.intrinsic+json": {
              "type": "string"
            }
          },
          "metadata": {},
          "execution_count": 38
        }
      ]
    },
    {
      "cell_type": "code",
      "source": [
        "# gradio.Interface(fn, inputs, outputs)\n",
        "# Create a function for gradio"
      ],
      "metadata": {
        "id": "qqQs8oFL8M9W"
      },
      "execution_count": 39,
      "outputs": []
    },
    {
      "cell_type": "code",
      "source": [
        "# Put model on cpu\n",
        "effnet_model.to(\"cpu\")\n",
        "\n",
        "# Check model\n",
        "next(iter(effnet_model.parameters())).to(device)"
      ],
      "metadata": {
        "id": "JBlnO7Qf9rPr"
      },
      "execution_count": null,
      "outputs": []
    },
    {
      "cell_type": "code",
      "source": [
        "from typing import Tuple, Dict\n",
        "\n",
        "def predict(img) -> Tuple[Dict, float]:\n",
        "    \"\"\"\n",
        "        Transforms and performs a prediction on img.\n",
        "        Return prediction and time taken\n",
        "    \"\"\"\n",
        "    # Time start\n",
        "    start_time = timer()\n",
        "\n",
        "    # Transform img and add batch_size dimension\n",
        "    img = effnet_transforms(img).unsqueeze(dim = 0)\n",
        "\n",
        "    # Eval()\n",
        "    effnet_model.eval()\n",
        "    with torch.inference_mode():\n",
        "        pred_probs = torch.softmax(effnet_model(img), dim = 1)\n",
        "\n",
        "    # dict {pizza: pizza's probality, steak: steak's probality, sushi: sushi's probality} -> 此為 gradio 要求的格式\n",
        "    pred_labels_and_probs = {class_names[i]: float(pred_probs[0][i]) for i in range(len(class_names))}\n",
        "\n",
        "    # Time end & calculate\n",
        "    pred_time = round(timer() - start_time, 3)\n",
        "\n",
        "    return pred_labels_and_probs, pred_time"
      ],
      "metadata": {
        "id": "Ke3jJT1i-EUo"
      },
      "execution_count": 41,
      "outputs": []
    },
    {
      "cell_type": "code",
      "source": [
        "import random\n",
        "class_names = [\"pizza\", \"steak\", \"sushi\"]\n",
        "\n",
        "\n",
        "# 拿取 test_dir 中所有圖片路徑\n",
        "test_data_pathlist = list(Path(test_dir).glob(\"*/*.jpg\"))\n",
        "\n",
        "# 隨機選取1張圖片\n",
        "random_image_path = random.sample(test_data_pathlist, k = 1)[0]\n",
        "\n",
        "# Open\n",
        "image = Image.open(random_image_path)\n",
        "print(f\"[INFO] predicting image on path: {random_image_path}\\n\")\n",
        "\n",
        "pred_dict, pred_time = predict(img = image)\n",
        "print(f\"Predict dict:\\n{pred_dict}\")\n",
        "print(f\"Predict time: {pred_time} seconds\")\n"
      ],
      "metadata": {
        "colab": {
          "base_uri": "https://localhost:8080/"
        },
        "id": "xqA_otU6BL9e",
        "outputId": "7282046e-06fa-4428-c7fa-7adfabeee5fc"
      },
      "execution_count": 47,
      "outputs": [
        {
          "output_type": "stream",
          "name": "stdout",
          "text": [
            "[INFO] predicting image on path: data/pizza_steak_sushi/test/steak/966174.jpg\n",
            "\n",
            "Predict dict:\n",
            "{'pizza': 5.086037708679214e-05, 'steak': 0.9987624883651733, 'sushi': 0.0011867244029417634}\n",
            "Predict time: 0.088 seconds\n"
          ]
        }
      ]
    },
    {
      "cell_type": "code",
      "source": [
        "# Create an example list for Gradio\n",
        "example_list = [[str(filepath)] for filepath in random.sample(test_data_pathlist, k = 4)]"
      ],
      "metadata": {
        "id": "1SZiJO8yDY6Y"
      },
      "execution_count": 48,
      "outputs": []
    },
    {
      "cell_type": "code",
      "source": [
        "title = \"Foodvision mini for pizza, steak and sushi\"\n",
        "description = \"Model based on EfficientNetB2, classify images of pizza, steak, sushi\"\n",
        "article = \"___\"\n",
        "\n",
        "demo = gr.Interface(fn = predict,\n",
        "                    inputs = gr.Image(type = \"pil\"),\n",
        "                    outputs = [gr.Label(num_top_classes = 3, Label = \"Predictions\"),\n",
        "                               gr.Number(label = \"Prediction time(s)\")],\n",
        "                    example = example_list,\n",
        "                    title = title,\n",
        "                    description = description,\n",
        "                    article = article)\n",
        "\n",
        "demo.launch(debug = False,\n",
        "            share = True)"
      ],
      "metadata": {
        "colab": {
          "base_uri": "https://localhost:8080/",
          "height": 680
        },
        "id": "5bzs5xRdEgm3",
        "outputId": "b6843ca2-b534-476e-acf4-d3e7eee390b2"
      },
      "execution_count": 50,
      "outputs": [
        {
          "output_type": "stream",
          "name": "stderr",
          "text": [
            "<ipython-input-50-29d2b7738a5e>:7: GradioUnusedKwargWarning: You have unused kwarg parameters in Label, please remove them: {'Label': 'Predictions'}\n",
            "  outputs = [gr.Label(num_top_classes = 3, Label = \"Predictions\"),\n",
            "<ipython-input-50-29d2b7738a5e>:5: GradioUnusedKwargWarning: You have unused kwarg parameters in Interface, please remove them: {'example': [['data/pizza_steak_sushi/test/sushi/684266.jpg'], ['data/pizza_steak_sushi/test/steak/3424937.jpg'], ['data/pizza_steak_sushi/test/pizza/971934.jpg'], ['data/pizza_steak_sushi/test/sushi/2741434.jpg']]}\n",
            "  demo = gr.Interface(fn = predict,\n"
          ]
        },
        {
          "output_type": "stream",
          "name": "stdout",
          "text": [
            "Colab notebook detected. To show errors in colab notebook, set debug=True in launch()\n",
            "Running on public URL: https://6a77b9e48b06a4bcf6.gradio.live\n",
            "\n",
            "This share link expires in 72 hours. For free permanent hosting and GPU upgrades, run `gradio deploy` from Terminal to deploy to Spaces (https://huggingface.co/spaces)\n"
          ]
        },
        {
          "output_type": "display_data",
          "data": {
            "text/plain": [
              "<IPython.core.display.HTML object>"
            ],
            "text/html": [
              "<div><iframe src=\"https://6a77b9e48b06a4bcf6.gradio.live\" width=\"100%\" height=\"500\" allow=\"autoplay; camera; microphone; clipboard-read; clipboard-write;\" frameborder=\"0\" allowfullscreen></iframe></div>"
            ]
          },
          "metadata": {}
        },
        {
          "output_type": "execute_result",
          "data": {
            "text/plain": []
          },
          "metadata": {},
          "execution_count": 50
        }
      ]
    }
  ]
}