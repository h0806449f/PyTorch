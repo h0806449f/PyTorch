{
  "nbformat": 4,
  "nbformat_minor": 0,
  "metadata": {
    "colab": {
      "provenance": [],
      "toc_visible": true,
      "collapsed_sections": [
        "h0xW9v6lETlH",
        "WTH_ZsHDV9C_",
        "069_yXjUWAb_",
        "quZIA5snWaiC",
        "ObS4Yx8tWdYl",
        "yMZHTcgFofKS"
      ],
      "gpuType": "T4",
      "authorship_tag": "ABX9TyN2GpeOpmptDc7OXIiComDZ",
      "include_colab_link": true
    },
    "kernelspec": {
      "name": "python3",
      "display_name": "Python 3"
    },
    "language_info": {
      "name": "python"
    },
    "accelerator": "GPU",
    "widgets": {
      "application/vnd.jupyter.widget-state+json": {
        "3d6ae2589cd146449a304c772de4ffc8": {
          "model_module": "@jupyter-widgets/controls",
          "model_name": "HBoxModel",
          "model_module_version": "1.5.0",
          "state": {
            "_dom_classes": [],
            "_model_module": "@jupyter-widgets/controls",
            "_model_module_version": "1.5.0",
            "_model_name": "HBoxModel",
            "_view_count": null,
            "_view_module": "@jupyter-widgets/controls",
            "_view_module_version": "1.5.0",
            "_view_name": "HBoxView",
            "box_style": "",
            "children": [
              "IPY_MODEL_0667999eca3a4aa4923fcda14a89dea2",
              "IPY_MODEL_de34804c74cc42c9ac1886c8be79b592",
              "IPY_MODEL_d9485c148fef40dbb9c7c785e8e5892c"
            ],
            "layout": "IPY_MODEL_0ab22dad85914570ab60a2230ee1fadb"
          }
        },
        "0667999eca3a4aa4923fcda14a89dea2": {
          "model_module": "@jupyter-widgets/controls",
          "model_name": "HTMLModel",
          "model_module_version": "1.5.0",
          "state": {
            "_dom_classes": [],
            "_model_module": "@jupyter-widgets/controls",
            "_model_module_version": "1.5.0",
            "_model_name": "HTMLModel",
            "_view_count": null,
            "_view_module": "@jupyter-widgets/controls",
            "_view_module_version": "1.5.0",
            "_view_name": "HTMLView",
            "description": "",
            "description_tooltip": null,
            "layout": "IPY_MODEL_1b56ca3a1de641c4929394ef0a6553b9",
            "placeholder": "​",
            "style": "IPY_MODEL_1b96837680ed4be3af5a8cec57008bd9",
            "value": "100%"
          }
        },
        "de34804c74cc42c9ac1886c8be79b592": {
          "model_module": "@jupyter-widgets/controls",
          "model_name": "FloatProgressModel",
          "model_module_version": "1.5.0",
          "state": {
            "_dom_classes": [],
            "_model_module": "@jupyter-widgets/controls",
            "_model_module_version": "1.5.0",
            "_model_name": "FloatProgressModel",
            "_view_count": null,
            "_view_module": "@jupyter-widgets/controls",
            "_view_module_version": "1.5.0",
            "_view_name": "ProgressView",
            "bar_style": "success",
            "description": "",
            "description_tooltip": null,
            "layout": "IPY_MODEL_874f7e575e2d41dcbc990fa4377a035b",
            "max": 10,
            "min": 0,
            "orientation": "horizontal",
            "style": "IPY_MODEL_783d4a7e501b4ee78ab4fbde497004ca",
            "value": 10
          }
        },
        "d9485c148fef40dbb9c7c785e8e5892c": {
          "model_module": "@jupyter-widgets/controls",
          "model_name": "HTMLModel",
          "model_module_version": "1.5.0",
          "state": {
            "_dom_classes": [],
            "_model_module": "@jupyter-widgets/controls",
            "_model_module_version": "1.5.0",
            "_model_name": "HTMLModel",
            "_view_count": null,
            "_view_module": "@jupyter-widgets/controls",
            "_view_module_version": "1.5.0",
            "_view_name": "HTMLView",
            "description": "",
            "description_tooltip": null,
            "layout": "IPY_MODEL_409259937cea4674a38d5d81c5629239",
            "placeholder": "​",
            "style": "IPY_MODEL_faf2ba56da534f17a37bb85b97b1f39b",
            "value": " 10/10 [00:40&lt;00:00,  3.93s/it]"
          }
        },
        "0ab22dad85914570ab60a2230ee1fadb": {
          "model_module": "@jupyter-widgets/base",
          "model_name": "LayoutModel",
          "model_module_version": "1.2.0",
          "state": {
            "_model_module": "@jupyter-widgets/base",
            "_model_module_version": "1.2.0",
            "_model_name": "LayoutModel",
            "_view_count": null,
            "_view_module": "@jupyter-widgets/base",
            "_view_module_version": "1.2.0",
            "_view_name": "LayoutView",
            "align_content": null,
            "align_items": null,
            "align_self": null,
            "border": null,
            "bottom": null,
            "display": null,
            "flex": null,
            "flex_flow": null,
            "grid_area": null,
            "grid_auto_columns": null,
            "grid_auto_flow": null,
            "grid_auto_rows": null,
            "grid_column": null,
            "grid_gap": null,
            "grid_row": null,
            "grid_template_areas": null,
            "grid_template_columns": null,
            "grid_template_rows": null,
            "height": null,
            "justify_content": null,
            "justify_items": null,
            "left": null,
            "margin": null,
            "max_height": null,
            "max_width": null,
            "min_height": null,
            "min_width": null,
            "object_fit": null,
            "object_position": null,
            "order": null,
            "overflow": null,
            "overflow_x": null,
            "overflow_y": null,
            "padding": null,
            "right": null,
            "top": null,
            "visibility": null,
            "width": null
          }
        },
        "1b56ca3a1de641c4929394ef0a6553b9": {
          "model_module": "@jupyter-widgets/base",
          "model_name": "LayoutModel",
          "model_module_version": "1.2.0",
          "state": {
            "_model_module": "@jupyter-widgets/base",
            "_model_module_version": "1.2.0",
            "_model_name": "LayoutModel",
            "_view_count": null,
            "_view_module": "@jupyter-widgets/base",
            "_view_module_version": "1.2.0",
            "_view_name": "LayoutView",
            "align_content": null,
            "align_items": null,
            "align_self": null,
            "border": null,
            "bottom": null,
            "display": null,
            "flex": null,
            "flex_flow": null,
            "grid_area": null,
            "grid_auto_columns": null,
            "grid_auto_flow": null,
            "grid_auto_rows": null,
            "grid_column": null,
            "grid_gap": null,
            "grid_row": null,
            "grid_template_areas": null,
            "grid_template_columns": null,
            "grid_template_rows": null,
            "height": null,
            "justify_content": null,
            "justify_items": null,
            "left": null,
            "margin": null,
            "max_height": null,
            "max_width": null,
            "min_height": null,
            "min_width": null,
            "object_fit": null,
            "object_position": null,
            "order": null,
            "overflow": null,
            "overflow_x": null,
            "overflow_y": null,
            "padding": null,
            "right": null,
            "top": null,
            "visibility": null,
            "width": null
          }
        },
        "1b96837680ed4be3af5a8cec57008bd9": {
          "model_module": "@jupyter-widgets/controls",
          "model_name": "DescriptionStyleModel",
          "model_module_version": "1.5.0",
          "state": {
            "_model_module": "@jupyter-widgets/controls",
            "_model_module_version": "1.5.0",
            "_model_name": "DescriptionStyleModel",
            "_view_count": null,
            "_view_module": "@jupyter-widgets/base",
            "_view_module_version": "1.2.0",
            "_view_name": "StyleView",
            "description_width": ""
          }
        },
        "874f7e575e2d41dcbc990fa4377a035b": {
          "model_module": "@jupyter-widgets/base",
          "model_name": "LayoutModel",
          "model_module_version": "1.2.0",
          "state": {
            "_model_module": "@jupyter-widgets/base",
            "_model_module_version": "1.2.0",
            "_model_name": "LayoutModel",
            "_view_count": null,
            "_view_module": "@jupyter-widgets/base",
            "_view_module_version": "1.2.0",
            "_view_name": "LayoutView",
            "align_content": null,
            "align_items": null,
            "align_self": null,
            "border": null,
            "bottom": null,
            "display": null,
            "flex": null,
            "flex_flow": null,
            "grid_area": null,
            "grid_auto_columns": null,
            "grid_auto_flow": null,
            "grid_auto_rows": null,
            "grid_column": null,
            "grid_gap": null,
            "grid_row": null,
            "grid_template_areas": null,
            "grid_template_columns": null,
            "grid_template_rows": null,
            "height": null,
            "justify_content": null,
            "justify_items": null,
            "left": null,
            "margin": null,
            "max_height": null,
            "max_width": null,
            "min_height": null,
            "min_width": null,
            "object_fit": null,
            "object_position": null,
            "order": null,
            "overflow": null,
            "overflow_x": null,
            "overflow_y": null,
            "padding": null,
            "right": null,
            "top": null,
            "visibility": null,
            "width": null
          }
        },
        "783d4a7e501b4ee78ab4fbde497004ca": {
          "model_module": "@jupyter-widgets/controls",
          "model_name": "ProgressStyleModel",
          "model_module_version": "1.5.0",
          "state": {
            "_model_module": "@jupyter-widgets/controls",
            "_model_module_version": "1.5.0",
            "_model_name": "ProgressStyleModel",
            "_view_count": null,
            "_view_module": "@jupyter-widgets/base",
            "_view_module_version": "1.2.0",
            "_view_name": "StyleView",
            "bar_color": null,
            "description_width": ""
          }
        },
        "409259937cea4674a38d5d81c5629239": {
          "model_module": "@jupyter-widgets/base",
          "model_name": "LayoutModel",
          "model_module_version": "1.2.0",
          "state": {
            "_model_module": "@jupyter-widgets/base",
            "_model_module_version": "1.2.0",
            "_model_name": "LayoutModel",
            "_view_count": null,
            "_view_module": "@jupyter-widgets/base",
            "_view_module_version": "1.2.0",
            "_view_name": "LayoutView",
            "align_content": null,
            "align_items": null,
            "align_self": null,
            "border": null,
            "bottom": null,
            "display": null,
            "flex": null,
            "flex_flow": null,
            "grid_area": null,
            "grid_auto_columns": null,
            "grid_auto_flow": null,
            "grid_auto_rows": null,
            "grid_column": null,
            "grid_gap": null,
            "grid_row": null,
            "grid_template_areas": null,
            "grid_template_columns": null,
            "grid_template_rows": null,
            "height": null,
            "justify_content": null,
            "justify_items": null,
            "left": null,
            "margin": null,
            "max_height": null,
            "max_width": null,
            "min_height": null,
            "min_width": null,
            "object_fit": null,
            "object_position": null,
            "order": null,
            "overflow": null,
            "overflow_x": null,
            "overflow_y": null,
            "padding": null,
            "right": null,
            "top": null,
            "visibility": null,
            "width": null
          }
        },
        "faf2ba56da534f17a37bb85b97b1f39b": {
          "model_module": "@jupyter-widgets/controls",
          "model_name": "DescriptionStyleModel",
          "model_module_version": "1.5.0",
          "state": {
            "_model_module": "@jupyter-widgets/controls",
            "_model_module_version": "1.5.0",
            "_model_name": "DescriptionStyleModel",
            "_view_count": null,
            "_view_module": "@jupyter-widgets/base",
            "_view_module_version": "1.2.0",
            "_view_name": "StyleView",
            "description_width": ""
          }
        },
        "f2d2ae11cc0046369f878c193621ede7": {
          "model_module": "@jupyter-widgets/controls",
          "model_name": "HBoxModel",
          "model_module_version": "1.5.0",
          "state": {
            "_dom_classes": [],
            "_model_module": "@jupyter-widgets/controls",
            "_model_module_version": "1.5.0",
            "_model_name": "HBoxModel",
            "_view_count": null,
            "_view_module": "@jupyter-widgets/controls",
            "_view_module_version": "1.5.0",
            "_view_name": "HBoxView",
            "box_style": "",
            "children": [
              "IPY_MODEL_feb2de2f41e6441cad733f5713e055a9",
              "IPY_MODEL_a9ea6b983a71440887936ee34808a060",
              "IPY_MODEL_c48b7d3d611949a68f7a24647c54dbf9"
            ],
            "layout": "IPY_MODEL_38be89ea6cf8431b8a464cc879e87387"
          }
        },
        "feb2de2f41e6441cad733f5713e055a9": {
          "model_module": "@jupyter-widgets/controls",
          "model_name": "HTMLModel",
          "model_module_version": "1.5.0",
          "state": {
            "_dom_classes": [],
            "_model_module": "@jupyter-widgets/controls",
            "_model_module_version": "1.5.0",
            "_model_name": "HTMLModel",
            "_view_count": null,
            "_view_module": "@jupyter-widgets/controls",
            "_view_module_version": "1.5.0",
            "_view_name": "HTMLView",
            "description": "",
            "description_tooltip": null,
            "layout": "IPY_MODEL_41656588ced040be829c880f2b844b10",
            "placeholder": "​",
            "style": "IPY_MODEL_d4caeb7a51ca47f4a491bc510fa5a6f4",
            "value": "100%"
          }
        },
        "a9ea6b983a71440887936ee34808a060": {
          "model_module": "@jupyter-widgets/controls",
          "model_name": "FloatProgressModel",
          "model_module_version": "1.5.0",
          "state": {
            "_dom_classes": [],
            "_model_module": "@jupyter-widgets/controls",
            "_model_module_version": "1.5.0",
            "_model_name": "FloatProgressModel",
            "_view_count": null,
            "_view_module": "@jupyter-widgets/controls",
            "_view_module_version": "1.5.0",
            "_view_name": "ProgressView",
            "bar_style": "success",
            "description": "",
            "description_tooltip": null,
            "layout": "IPY_MODEL_7b5fa002a22c4233a4b26fa3a023c6d1",
            "max": 10,
            "min": 0,
            "orientation": "horizontal",
            "style": "IPY_MODEL_44f80c0ad954402b872d0c6d8fd23751",
            "value": 10
          }
        },
        "c48b7d3d611949a68f7a24647c54dbf9": {
          "model_module": "@jupyter-widgets/controls",
          "model_name": "HTMLModel",
          "model_module_version": "1.5.0",
          "state": {
            "_dom_classes": [],
            "_model_module": "@jupyter-widgets/controls",
            "_model_module_version": "1.5.0",
            "_model_name": "HTMLModel",
            "_view_count": null,
            "_view_module": "@jupyter-widgets/controls",
            "_view_module_version": "1.5.0",
            "_view_name": "HTMLView",
            "description": "",
            "description_tooltip": null,
            "layout": "IPY_MODEL_01597f9634134a03968cd52e08a99fa0",
            "placeholder": "​",
            "style": "IPY_MODEL_7a9f3200bcb249b3be8908fc362ecf68",
            "value": " 10/10 [00:51&lt;00:00,  5.05s/it]"
          }
        },
        "38be89ea6cf8431b8a464cc879e87387": {
          "model_module": "@jupyter-widgets/base",
          "model_name": "LayoutModel",
          "model_module_version": "1.2.0",
          "state": {
            "_model_module": "@jupyter-widgets/base",
            "_model_module_version": "1.2.0",
            "_model_name": "LayoutModel",
            "_view_count": null,
            "_view_module": "@jupyter-widgets/base",
            "_view_module_version": "1.2.0",
            "_view_name": "LayoutView",
            "align_content": null,
            "align_items": null,
            "align_self": null,
            "border": null,
            "bottom": null,
            "display": null,
            "flex": null,
            "flex_flow": null,
            "grid_area": null,
            "grid_auto_columns": null,
            "grid_auto_flow": null,
            "grid_auto_rows": null,
            "grid_column": null,
            "grid_gap": null,
            "grid_row": null,
            "grid_template_areas": null,
            "grid_template_columns": null,
            "grid_template_rows": null,
            "height": null,
            "justify_content": null,
            "justify_items": null,
            "left": null,
            "margin": null,
            "max_height": null,
            "max_width": null,
            "min_height": null,
            "min_width": null,
            "object_fit": null,
            "object_position": null,
            "order": null,
            "overflow": null,
            "overflow_x": null,
            "overflow_y": null,
            "padding": null,
            "right": null,
            "top": null,
            "visibility": null,
            "width": null
          }
        },
        "41656588ced040be829c880f2b844b10": {
          "model_module": "@jupyter-widgets/base",
          "model_name": "LayoutModel",
          "model_module_version": "1.2.0",
          "state": {
            "_model_module": "@jupyter-widgets/base",
            "_model_module_version": "1.2.0",
            "_model_name": "LayoutModel",
            "_view_count": null,
            "_view_module": "@jupyter-widgets/base",
            "_view_module_version": "1.2.0",
            "_view_name": "LayoutView",
            "align_content": null,
            "align_items": null,
            "align_self": null,
            "border": null,
            "bottom": null,
            "display": null,
            "flex": null,
            "flex_flow": null,
            "grid_area": null,
            "grid_auto_columns": null,
            "grid_auto_flow": null,
            "grid_auto_rows": null,
            "grid_column": null,
            "grid_gap": null,
            "grid_row": null,
            "grid_template_areas": null,
            "grid_template_columns": null,
            "grid_template_rows": null,
            "height": null,
            "justify_content": null,
            "justify_items": null,
            "left": null,
            "margin": null,
            "max_height": null,
            "max_width": null,
            "min_height": null,
            "min_width": null,
            "object_fit": null,
            "object_position": null,
            "order": null,
            "overflow": null,
            "overflow_x": null,
            "overflow_y": null,
            "padding": null,
            "right": null,
            "top": null,
            "visibility": null,
            "width": null
          }
        },
        "d4caeb7a51ca47f4a491bc510fa5a6f4": {
          "model_module": "@jupyter-widgets/controls",
          "model_name": "DescriptionStyleModel",
          "model_module_version": "1.5.0",
          "state": {
            "_model_module": "@jupyter-widgets/controls",
            "_model_module_version": "1.5.0",
            "_model_name": "DescriptionStyleModel",
            "_view_count": null,
            "_view_module": "@jupyter-widgets/base",
            "_view_module_version": "1.2.0",
            "_view_name": "StyleView",
            "description_width": ""
          }
        },
        "7b5fa002a22c4233a4b26fa3a023c6d1": {
          "model_module": "@jupyter-widgets/base",
          "model_name": "LayoutModel",
          "model_module_version": "1.2.0",
          "state": {
            "_model_module": "@jupyter-widgets/base",
            "_model_module_version": "1.2.0",
            "_model_name": "LayoutModel",
            "_view_count": null,
            "_view_module": "@jupyter-widgets/base",
            "_view_module_version": "1.2.0",
            "_view_name": "LayoutView",
            "align_content": null,
            "align_items": null,
            "align_self": null,
            "border": null,
            "bottom": null,
            "display": null,
            "flex": null,
            "flex_flow": null,
            "grid_area": null,
            "grid_auto_columns": null,
            "grid_auto_flow": null,
            "grid_auto_rows": null,
            "grid_column": null,
            "grid_gap": null,
            "grid_row": null,
            "grid_template_areas": null,
            "grid_template_columns": null,
            "grid_template_rows": null,
            "height": null,
            "justify_content": null,
            "justify_items": null,
            "left": null,
            "margin": null,
            "max_height": null,
            "max_width": null,
            "min_height": null,
            "min_width": null,
            "object_fit": null,
            "object_position": null,
            "order": null,
            "overflow": null,
            "overflow_x": null,
            "overflow_y": null,
            "padding": null,
            "right": null,
            "top": null,
            "visibility": null,
            "width": null
          }
        },
        "44f80c0ad954402b872d0c6d8fd23751": {
          "model_module": "@jupyter-widgets/controls",
          "model_name": "ProgressStyleModel",
          "model_module_version": "1.5.0",
          "state": {
            "_model_module": "@jupyter-widgets/controls",
            "_model_module_version": "1.5.0",
            "_model_name": "ProgressStyleModel",
            "_view_count": null,
            "_view_module": "@jupyter-widgets/base",
            "_view_module_version": "1.2.0",
            "_view_name": "StyleView",
            "bar_color": null,
            "description_width": ""
          }
        },
        "01597f9634134a03968cd52e08a99fa0": {
          "model_module": "@jupyter-widgets/base",
          "model_name": "LayoutModel",
          "model_module_version": "1.2.0",
          "state": {
            "_model_module": "@jupyter-widgets/base",
            "_model_module_version": "1.2.0",
            "_model_name": "LayoutModel",
            "_view_count": null,
            "_view_module": "@jupyter-widgets/base",
            "_view_module_version": "1.2.0",
            "_view_name": "LayoutView",
            "align_content": null,
            "align_items": null,
            "align_self": null,
            "border": null,
            "bottom": null,
            "display": null,
            "flex": null,
            "flex_flow": null,
            "grid_area": null,
            "grid_auto_columns": null,
            "grid_auto_flow": null,
            "grid_auto_rows": null,
            "grid_column": null,
            "grid_gap": null,
            "grid_row": null,
            "grid_template_areas": null,
            "grid_template_columns": null,
            "grid_template_rows": null,
            "height": null,
            "justify_content": null,
            "justify_items": null,
            "left": null,
            "margin": null,
            "max_height": null,
            "max_width": null,
            "min_height": null,
            "min_width": null,
            "object_fit": null,
            "object_position": null,
            "order": null,
            "overflow": null,
            "overflow_x": null,
            "overflow_y": null,
            "padding": null,
            "right": null,
            "top": null,
            "visibility": null,
            "width": null
          }
        },
        "7a9f3200bcb249b3be8908fc362ecf68": {
          "model_module": "@jupyter-widgets/controls",
          "model_name": "DescriptionStyleModel",
          "model_module_version": "1.5.0",
          "state": {
            "_model_module": "@jupyter-widgets/controls",
            "_model_module_version": "1.5.0",
            "_model_name": "DescriptionStyleModel",
            "_view_count": null,
            "_view_module": "@jupyter-widgets/base",
            "_view_module_version": "1.2.0",
            "_view_name": "StyleView",
            "description_width": ""
          }
        },
        "5e72b0cbdde04f49a4fffb201907142b": {
          "model_module": "@jupyter-widgets/controls",
          "model_name": "HBoxModel",
          "model_module_version": "1.5.0",
          "state": {
            "_dom_classes": [],
            "_model_module": "@jupyter-widgets/controls",
            "_model_module_version": "1.5.0",
            "_model_name": "HBoxModel",
            "_view_count": null,
            "_view_module": "@jupyter-widgets/controls",
            "_view_module_version": "1.5.0",
            "_view_name": "HBoxView",
            "box_style": "",
            "children": [
              "IPY_MODEL_affee6cdd1dd49d98e348b2a9bfb07b3",
              "IPY_MODEL_db6176ccd72e439aa8494dfe1eeaa69f",
              "IPY_MODEL_29a938dd7b624df9a101591352d45926"
            ],
            "layout": "IPY_MODEL_648a2b17ac664bc096607d9db65f14e8"
          }
        },
        "affee6cdd1dd49d98e348b2a9bfb07b3": {
          "model_module": "@jupyter-widgets/controls",
          "model_name": "HTMLModel",
          "model_module_version": "1.5.0",
          "state": {
            "_dom_classes": [],
            "_model_module": "@jupyter-widgets/controls",
            "_model_module_version": "1.5.0",
            "_model_name": "HTMLModel",
            "_view_count": null,
            "_view_module": "@jupyter-widgets/controls",
            "_view_module_version": "1.5.0",
            "_view_name": "HTMLView",
            "description": "",
            "description_tooltip": null,
            "layout": "IPY_MODEL_a9b7da8bae96486891a420731fe84b45",
            "placeholder": "​",
            "style": "IPY_MODEL_cfb6de8d37c24a55999d542b148bc9cc",
            "value": "100%"
          }
        },
        "db6176ccd72e439aa8494dfe1eeaa69f": {
          "model_module": "@jupyter-widgets/controls",
          "model_name": "FloatProgressModel",
          "model_module_version": "1.5.0",
          "state": {
            "_dom_classes": [],
            "_model_module": "@jupyter-widgets/controls",
            "_model_module_version": "1.5.0",
            "_model_name": "FloatProgressModel",
            "_view_count": null,
            "_view_module": "@jupyter-widgets/controls",
            "_view_module_version": "1.5.0",
            "_view_name": "ProgressView",
            "bar_style": "success",
            "description": "",
            "description_tooltip": null,
            "layout": "IPY_MODEL_4e064d63b57c4f519595fa8a78b25922",
            "max": 75,
            "min": 0,
            "orientation": "horizontal",
            "style": "IPY_MODEL_093743602ee7486fb72c69bcee552296",
            "value": 75
          }
        },
        "29a938dd7b624df9a101591352d45926": {
          "model_module": "@jupyter-widgets/controls",
          "model_name": "HTMLModel",
          "model_module_version": "1.5.0",
          "state": {
            "_dom_classes": [],
            "_model_module": "@jupyter-widgets/controls",
            "_model_module_version": "1.5.0",
            "_model_name": "HTMLModel",
            "_view_count": null,
            "_view_module": "@jupyter-widgets/controls",
            "_view_module_version": "1.5.0",
            "_view_name": "HTMLView",
            "description": "",
            "description_tooltip": null,
            "layout": "IPY_MODEL_4e0457028636417fa681e1e0e9f28cc2",
            "placeholder": "​",
            "style": "IPY_MODEL_00cf461f5161451c954e47027d0d4267",
            "value": " 75/75 [00:08&lt;00:00,  9.22it/s]"
          }
        },
        "648a2b17ac664bc096607d9db65f14e8": {
          "model_module": "@jupyter-widgets/base",
          "model_name": "LayoutModel",
          "model_module_version": "1.2.0",
          "state": {
            "_model_module": "@jupyter-widgets/base",
            "_model_module_version": "1.2.0",
            "_model_name": "LayoutModel",
            "_view_count": null,
            "_view_module": "@jupyter-widgets/base",
            "_view_module_version": "1.2.0",
            "_view_name": "LayoutView",
            "align_content": null,
            "align_items": null,
            "align_self": null,
            "border": null,
            "bottom": null,
            "display": null,
            "flex": null,
            "flex_flow": null,
            "grid_area": null,
            "grid_auto_columns": null,
            "grid_auto_flow": null,
            "grid_auto_rows": null,
            "grid_column": null,
            "grid_gap": null,
            "grid_row": null,
            "grid_template_areas": null,
            "grid_template_columns": null,
            "grid_template_rows": null,
            "height": null,
            "justify_content": null,
            "justify_items": null,
            "left": null,
            "margin": null,
            "max_height": null,
            "max_width": null,
            "min_height": null,
            "min_width": null,
            "object_fit": null,
            "object_position": null,
            "order": null,
            "overflow": null,
            "overflow_x": null,
            "overflow_y": null,
            "padding": null,
            "right": null,
            "top": null,
            "visibility": null,
            "width": null
          }
        },
        "a9b7da8bae96486891a420731fe84b45": {
          "model_module": "@jupyter-widgets/base",
          "model_name": "LayoutModel",
          "model_module_version": "1.2.0",
          "state": {
            "_model_module": "@jupyter-widgets/base",
            "_model_module_version": "1.2.0",
            "_model_name": "LayoutModel",
            "_view_count": null,
            "_view_module": "@jupyter-widgets/base",
            "_view_module_version": "1.2.0",
            "_view_name": "LayoutView",
            "align_content": null,
            "align_items": null,
            "align_self": null,
            "border": null,
            "bottom": null,
            "display": null,
            "flex": null,
            "flex_flow": null,
            "grid_area": null,
            "grid_auto_columns": null,
            "grid_auto_flow": null,
            "grid_auto_rows": null,
            "grid_column": null,
            "grid_gap": null,
            "grid_row": null,
            "grid_template_areas": null,
            "grid_template_columns": null,
            "grid_template_rows": null,
            "height": null,
            "justify_content": null,
            "justify_items": null,
            "left": null,
            "margin": null,
            "max_height": null,
            "max_width": null,
            "min_height": null,
            "min_width": null,
            "object_fit": null,
            "object_position": null,
            "order": null,
            "overflow": null,
            "overflow_x": null,
            "overflow_y": null,
            "padding": null,
            "right": null,
            "top": null,
            "visibility": null,
            "width": null
          }
        },
        "cfb6de8d37c24a55999d542b148bc9cc": {
          "model_module": "@jupyter-widgets/controls",
          "model_name": "DescriptionStyleModel",
          "model_module_version": "1.5.0",
          "state": {
            "_model_module": "@jupyter-widgets/controls",
            "_model_module_version": "1.5.0",
            "_model_name": "DescriptionStyleModel",
            "_view_count": null,
            "_view_module": "@jupyter-widgets/base",
            "_view_module_version": "1.2.0",
            "_view_name": "StyleView",
            "description_width": ""
          }
        },
        "4e064d63b57c4f519595fa8a78b25922": {
          "model_module": "@jupyter-widgets/base",
          "model_name": "LayoutModel",
          "model_module_version": "1.2.0",
          "state": {
            "_model_module": "@jupyter-widgets/base",
            "_model_module_version": "1.2.0",
            "_model_name": "LayoutModel",
            "_view_count": null,
            "_view_module": "@jupyter-widgets/base",
            "_view_module_version": "1.2.0",
            "_view_name": "LayoutView",
            "align_content": null,
            "align_items": null,
            "align_self": null,
            "border": null,
            "bottom": null,
            "display": null,
            "flex": null,
            "flex_flow": null,
            "grid_area": null,
            "grid_auto_columns": null,
            "grid_auto_flow": null,
            "grid_auto_rows": null,
            "grid_column": null,
            "grid_gap": null,
            "grid_row": null,
            "grid_template_areas": null,
            "grid_template_columns": null,
            "grid_template_rows": null,
            "height": null,
            "justify_content": null,
            "justify_items": null,
            "left": null,
            "margin": null,
            "max_height": null,
            "max_width": null,
            "min_height": null,
            "min_width": null,
            "object_fit": null,
            "object_position": null,
            "order": null,
            "overflow": null,
            "overflow_x": null,
            "overflow_y": null,
            "padding": null,
            "right": null,
            "top": null,
            "visibility": null,
            "width": null
          }
        },
        "093743602ee7486fb72c69bcee552296": {
          "model_module": "@jupyter-widgets/controls",
          "model_name": "ProgressStyleModel",
          "model_module_version": "1.5.0",
          "state": {
            "_model_module": "@jupyter-widgets/controls",
            "_model_module_version": "1.5.0",
            "_model_name": "ProgressStyleModel",
            "_view_count": null,
            "_view_module": "@jupyter-widgets/base",
            "_view_module_version": "1.2.0",
            "_view_name": "StyleView",
            "bar_color": null,
            "description_width": ""
          }
        },
        "4e0457028636417fa681e1e0e9f28cc2": {
          "model_module": "@jupyter-widgets/base",
          "model_name": "LayoutModel",
          "model_module_version": "1.2.0",
          "state": {
            "_model_module": "@jupyter-widgets/base",
            "_model_module_version": "1.2.0",
            "_model_name": "LayoutModel",
            "_view_count": null,
            "_view_module": "@jupyter-widgets/base",
            "_view_module_version": "1.2.0",
            "_view_name": "LayoutView",
            "align_content": null,
            "align_items": null,
            "align_self": null,
            "border": null,
            "bottom": null,
            "display": null,
            "flex": null,
            "flex_flow": null,
            "grid_area": null,
            "grid_auto_columns": null,
            "grid_auto_flow": null,
            "grid_auto_rows": null,
            "grid_column": null,
            "grid_gap": null,
            "grid_row": null,
            "grid_template_areas": null,
            "grid_template_columns": null,
            "grid_template_rows": null,
            "height": null,
            "justify_content": null,
            "justify_items": null,
            "left": null,
            "margin": null,
            "max_height": null,
            "max_width": null,
            "min_height": null,
            "min_width": null,
            "object_fit": null,
            "object_position": null,
            "order": null,
            "overflow": null,
            "overflow_x": null,
            "overflow_y": null,
            "padding": null,
            "right": null,
            "top": null,
            "visibility": null,
            "width": null
          }
        },
        "00cf461f5161451c954e47027d0d4267": {
          "model_module": "@jupyter-widgets/controls",
          "model_name": "DescriptionStyleModel",
          "model_module_version": "1.5.0",
          "state": {
            "_model_module": "@jupyter-widgets/controls",
            "_model_module_version": "1.5.0",
            "_model_name": "DescriptionStyleModel",
            "_view_count": null,
            "_view_module": "@jupyter-widgets/base",
            "_view_module_version": "1.2.0",
            "_view_name": "StyleView",
            "description_width": ""
          }
        },
        "183a8ee2a316422390095e4c295862fe": {
          "model_module": "@jupyter-widgets/controls",
          "model_name": "HBoxModel",
          "model_module_version": "1.5.0",
          "state": {
            "_dom_classes": [],
            "_model_module": "@jupyter-widgets/controls",
            "_model_module_version": "1.5.0",
            "_model_name": "HBoxModel",
            "_view_count": null,
            "_view_module": "@jupyter-widgets/controls",
            "_view_module_version": "1.5.0",
            "_view_name": "HBoxView",
            "box_style": "",
            "children": [
              "IPY_MODEL_abf262a8eb03436e8fc69d3cad64b8bd",
              "IPY_MODEL_e84c1503921740638ae6a639a9267bde",
              "IPY_MODEL_c2245c5273f04fa68f33d042bc3adae1"
            ],
            "layout": "IPY_MODEL_e81bbe2b1f004264a0f31f585239fc22"
          }
        },
        "abf262a8eb03436e8fc69d3cad64b8bd": {
          "model_module": "@jupyter-widgets/controls",
          "model_name": "HTMLModel",
          "model_module_version": "1.5.0",
          "state": {
            "_dom_classes": [],
            "_model_module": "@jupyter-widgets/controls",
            "_model_module_version": "1.5.0",
            "_model_name": "HTMLModel",
            "_view_count": null,
            "_view_module": "@jupyter-widgets/controls",
            "_view_module_version": "1.5.0",
            "_view_name": "HTMLView",
            "description": "",
            "description_tooltip": null,
            "layout": "IPY_MODEL_d6be83d04886458aa9d836ab993d246f",
            "placeholder": "​",
            "style": "IPY_MODEL_75552631f18649c086a392bf2ceb1b41",
            "value": "100%"
          }
        },
        "e84c1503921740638ae6a639a9267bde": {
          "model_module": "@jupyter-widgets/controls",
          "model_name": "FloatProgressModel",
          "model_module_version": "1.5.0",
          "state": {
            "_dom_classes": [],
            "_model_module": "@jupyter-widgets/controls",
            "_model_module_version": "1.5.0",
            "_model_name": "FloatProgressModel",
            "_view_count": null,
            "_view_module": "@jupyter-widgets/controls",
            "_view_module_version": "1.5.0",
            "_view_name": "ProgressView",
            "bar_style": "success",
            "description": "",
            "description_tooltip": null,
            "layout": "IPY_MODEL_00a27ed9271643968f255ce602201622",
            "max": 75,
            "min": 0,
            "orientation": "horizontal",
            "style": "IPY_MODEL_3e667a654e294dcf9a7507270d990fce",
            "value": 75
          }
        },
        "c2245c5273f04fa68f33d042bc3adae1": {
          "model_module": "@jupyter-widgets/controls",
          "model_name": "HTMLModel",
          "model_module_version": "1.5.0",
          "state": {
            "_dom_classes": [],
            "_model_module": "@jupyter-widgets/controls",
            "_model_module_version": "1.5.0",
            "_model_name": "HTMLModel",
            "_view_count": null,
            "_view_module": "@jupyter-widgets/controls",
            "_view_module_version": "1.5.0",
            "_view_name": "HTMLView",
            "description": "",
            "description_tooltip": null,
            "layout": "IPY_MODEL_14096948c44d4ed584ce4f598b570322",
            "placeholder": "​",
            "style": "IPY_MODEL_c1952f60089f4d29bbab75f0cc7679f0",
            "value": " 75/75 [00:51&lt;00:00,  1.79it/s]"
          }
        },
        "e81bbe2b1f004264a0f31f585239fc22": {
          "model_module": "@jupyter-widgets/base",
          "model_name": "LayoutModel",
          "model_module_version": "1.2.0",
          "state": {
            "_model_module": "@jupyter-widgets/base",
            "_model_module_version": "1.2.0",
            "_model_name": "LayoutModel",
            "_view_count": null,
            "_view_module": "@jupyter-widgets/base",
            "_view_module_version": "1.2.0",
            "_view_name": "LayoutView",
            "align_content": null,
            "align_items": null,
            "align_self": null,
            "border": null,
            "bottom": null,
            "display": null,
            "flex": null,
            "flex_flow": null,
            "grid_area": null,
            "grid_auto_columns": null,
            "grid_auto_flow": null,
            "grid_auto_rows": null,
            "grid_column": null,
            "grid_gap": null,
            "grid_row": null,
            "grid_template_areas": null,
            "grid_template_columns": null,
            "grid_template_rows": null,
            "height": null,
            "justify_content": null,
            "justify_items": null,
            "left": null,
            "margin": null,
            "max_height": null,
            "max_width": null,
            "min_height": null,
            "min_width": null,
            "object_fit": null,
            "object_position": null,
            "order": null,
            "overflow": null,
            "overflow_x": null,
            "overflow_y": null,
            "padding": null,
            "right": null,
            "top": null,
            "visibility": null,
            "width": null
          }
        },
        "d6be83d04886458aa9d836ab993d246f": {
          "model_module": "@jupyter-widgets/base",
          "model_name": "LayoutModel",
          "model_module_version": "1.2.0",
          "state": {
            "_model_module": "@jupyter-widgets/base",
            "_model_module_version": "1.2.0",
            "_model_name": "LayoutModel",
            "_view_count": null,
            "_view_module": "@jupyter-widgets/base",
            "_view_module_version": "1.2.0",
            "_view_name": "LayoutView",
            "align_content": null,
            "align_items": null,
            "align_self": null,
            "border": null,
            "bottom": null,
            "display": null,
            "flex": null,
            "flex_flow": null,
            "grid_area": null,
            "grid_auto_columns": null,
            "grid_auto_flow": null,
            "grid_auto_rows": null,
            "grid_column": null,
            "grid_gap": null,
            "grid_row": null,
            "grid_template_areas": null,
            "grid_template_columns": null,
            "grid_template_rows": null,
            "height": null,
            "justify_content": null,
            "justify_items": null,
            "left": null,
            "margin": null,
            "max_height": null,
            "max_width": null,
            "min_height": null,
            "min_width": null,
            "object_fit": null,
            "object_position": null,
            "order": null,
            "overflow": null,
            "overflow_x": null,
            "overflow_y": null,
            "padding": null,
            "right": null,
            "top": null,
            "visibility": null,
            "width": null
          }
        },
        "75552631f18649c086a392bf2ceb1b41": {
          "model_module": "@jupyter-widgets/controls",
          "model_name": "DescriptionStyleModel",
          "model_module_version": "1.5.0",
          "state": {
            "_model_module": "@jupyter-widgets/controls",
            "_model_module_version": "1.5.0",
            "_model_name": "DescriptionStyleModel",
            "_view_count": null,
            "_view_module": "@jupyter-widgets/base",
            "_view_module_version": "1.2.0",
            "_view_name": "StyleView",
            "description_width": ""
          }
        },
        "00a27ed9271643968f255ce602201622": {
          "model_module": "@jupyter-widgets/base",
          "model_name": "LayoutModel",
          "model_module_version": "1.2.0",
          "state": {
            "_model_module": "@jupyter-widgets/base",
            "_model_module_version": "1.2.0",
            "_model_name": "LayoutModel",
            "_view_count": null,
            "_view_module": "@jupyter-widgets/base",
            "_view_module_version": "1.2.0",
            "_view_name": "LayoutView",
            "align_content": null,
            "align_items": null,
            "align_self": null,
            "border": null,
            "bottom": null,
            "display": null,
            "flex": null,
            "flex_flow": null,
            "grid_area": null,
            "grid_auto_columns": null,
            "grid_auto_flow": null,
            "grid_auto_rows": null,
            "grid_column": null,
            "grid_gap": null,
            "grid_row": null,
            "grid_template_areas": null,
            "grid_template_columns": null,
            "grid_template_rows": null,
            "height": null,
            "justify_content": null,
            "justify_items": null,
            "left": null,
            "margin": null,
            "max_height": null,
            "max_width": null,
            "min_height": null,
            "min_width": null,
            "object_fit": null,
            "object_position": null,
            "order": null,
            "overflow": null,
            "overflow_x": null,
            "overflow_y": null,
            "padding": null,
            "right": null,
            "top": null,
            "visibility": null,
            "width": null
          }
        },
        "3e667a654e294dcf9a7507270d990fce": {
          "model_module": "@jupyter-widgets/controls",
          "model_name": "ProgressStyleModel",
          "model_module_version": "1.5.0",
          "state": {
            "_model_module": "@jupyter-widgets/controls",
            "_model_module_version": "1.5.0",
            "_model_name": "ProgressStyleModel",
            "_view_count": null,
            "_view_module": "@jupyter-widgets/base",
            "_view_module_version": "1.2.0",
            "_view_name": "StyleView",
            "bar_color": null,
            "description_width": ""
          }
        },
        "14096948c44d4ed584ce4f598b570322": {
          "model_module": "@jupyter-widgets/base",
          "model_name": "LayoutModel",
          "model_module_version": "1.2.0",
          "state": {
            "_model_module": "@jupyter-widgets/base",
            "_model_module_version": "1.2.0",
            "_model_name": "LayoutModel",
            "_view_count": null,
            "_view_module": "@jupyter-widgets/base",
            "_view_module_version": "1.2.0",
            "_view_name": "LayoutView",
            "align_content": null,
            "align_items": null,
            "align_self": null,
            "border": null,
            "bottom": null,
            "display": null,
            "flex": null,
            "flex_flow": null,
            "grid_area": null,
            "grid_auto_columns": null,
            "grid_auto_flow": null,
            "grid_auto_rows": null,
            "grid_column": null,
            "grid_gap": null,
            "grid_row": null,
            "grid_template_areas": null,
            "grid_template_columns": null,
            "grid_template_rows": null,
            "height": null,
            "justify_content": null,
            "justify_items": null,
            "left": null,
            "margin": null,
            "max_height": null,
            "max_width": null,
            "min_height": null,
            "min_width": null,
            "object_fit": null,
            "object_position": null,
            "order": null,
            "overflow": null,
            "overflow_x": null,
            "overflow_y": null,
            "padding": null,
            "right": null,
            "top": null,
            "visibility": null,
            "width": null
          }
        },
        "c1952f60089f4d29bbab75f0cc7679f0": {
          "model_module": "@jupyter-widgets/controls",
          "model_name": "DescriptionStyleModel",
          "model_module_version": "1.5.0",
          "state": {
            "_model_module": "@jupyter-widgets/controls",
            "_model_module_version": "1.5.0",
            "_model_name": "DescriptionStyleModel",
            "_view_count": null,
            "_view_module": "@jupyter-widgets/base",
            "_view_module_version": "1.2.0",
            "_view_name": "StyleView",
            "description_width": ""
          }
        }
      }
    }
  },
  "cells": [
    {
      "cell_type": "markdown",
      "metadata": {
        "id": "view-in-github",
        "colab_type": "text"
      },
      "source": [
        "<a href=\"https://colab.research.google.com/github/h0806449f/PyTorch/blob/main/DB_09_model_deployment.ipynb\" target=\"_parent\"><img src=\"https://colab.research.google.com/assets/colab-badge.svg\" alt=\"Open In Colab\"/></a>"
      ]
    },
    {
      "cell_type": "markdown",
      "source": [
        "# **== Functions and setups ==**"
      ],
      "metadata": {
        "id": "lfkmskPeBaDk"
      }
    },
    {
      "cell_type": "markdown",
      "source": [
        "## Setups"
      ],
      "metadata": {
        "id": "h0xW9v6lETlH"
      }
    },
    {
      "cell_type": "code",
      "execution_count": 1,
      "metadata": {
        "id": "uOGJPHxv6v8O",
        "colab": {
          "base_uri": "https://localhost:8080/"
        },
        "outputId": "2c9b130e-6c96-4d70-81e1-d4dadabe8474"
      },
      "outputs": [
        {
          "output_type": "stream",
          "name": "stdout",
          "text": [
            "Collecting torchinfo\n",
            "  Downloading torchinfo-1.8.0-py3-none-any.whl (23 kB)\n",
            "Installing collected packages: torchinfo\n",
            "Successfully installed torchinfo-1.8.0\n"
          ]
        }
      ],
      "source": [
        "!pip install torchinfo"
      ]
    },
    {
      "cell_type": "code",
      "source": [
        "import os\n",
        "import requests\n",
        "import zipfile\n",
        "import pathlib\n",
        "import numpy as np\n",
        "import pandas as pd\n",
        "from pathlib import Path\n",
        "from typing import List, Dict\n",
        "from PIL import Image\n",
        "\n",
        "\n",
        "import matplotlib.pyplot as plt\n",
        "from tqdm.auto import tqdm\n",
        "from timeit import default_timer as timer\n",
        "\n",
        "\n",
        "import torch\n",
        "import torchvision\n",
        "from torchvision import datasets, transforms\n",
        "from torch.utils.data import DataLoader\n",
        "from torchinfo import summary"
      ],
      "metadata": {
        "id": "4IbxfGPNBqxm"
      },
      "execution_count": 2,
      "outputs": []
    },
    {
      "cell_type": "markdown",
      "source": [
        "## Functions"
      ],
      "metadata": {
        "id": "PDesjwAGJAEn"
      }
    },
    {
      "cell_type": "code",
      "source": [
        "# train -> train_loss, train_acc\n",
        "def train(model, dataloader, loss_fn, optimizer, device):\n",
        "    model.to(device)\n",
        "    model.train()\n",
        "\n",
        "    train_loss, train_acc = 0, 0\n",
        "\n",
        "    for batch, (X_train, y_train) in enumerate(dataloader):\n",
        "        X_train, y_train = X_train.to(device), y_train.to(device)\n",
        "\n",
        "        train_preds = model(X_train)\n",
        "\n",
        "        loss = loss_fn(train_preds, y_train)\n",
        "        train_loss = train_loss + loss.item()\n",
        "\n",
        "        optimizer.zero_grad()\n",
        "        loss.backward()\n",
        "        optimizer.step()\n",
        "\n",
        "        train_preds_label = torch.argmax(torch.softmax(train_preds, dim = 1), dim = 1)\n",
        "        train_acc = train_acc + (train_preds_label == y_train).sum().item() / len(train_preds)\n",
        "\n",
        "    train_loss = train_loss / len(dataloader)\n",
        "    train_acc = train_acc / len(dataloader)\n",
        "\n",
        "    return train_loss, train_acc"
      ],
      "metadata": {
        "id": "H9tTSypvCtRI"
      },
      "execution_count": 3,
      "outputs": []
    },
    {
      "cell_type": "code",
      "source": [
        "# test -> test_loss, test_acc\n",
        "def test(model, dataloader, loss_fn, device):\n",
        "    model.to(device)\n",
        "    model.eval()\n",
        "\n",
        "    test_loss, test_acc = 0, 0\n",
        "\n",
        "    with torch.inference_mode():\n",
        "        for batch, (X_test, y_test) in enumerate(dataloader):\n",
        "            X_test, y_test = X_test.to(device), y_test.to(device)\n",
        "\n",
        "            test_preds = model(X_test)\n",
        "\n",
        "            loss = loss_fn(test_preds, y_test)\n",
        "            test_loss = test_loss + loss.item()\n",
        "\n",
        "            test_preds_label = torch.argmax(torch.softmax(test_preds, dim = 1), dim = 1)\n",
        "            test_acc = test_acc + (test_preds_label == y_test).sum().item() / len(test_preds)\n",
        "\n",
        "        test_loss = test_loss / len(dataloader)\n",
        "        test_acc = test_acc / len(dataloader)\n",
        "\n",
        "        return test_loss, test_acc"
      ],
      "metadata": {
        "id": "JPSa75CsCuen"
      },
      "execution_count": 4,
      "outputs": []
    },
    {
      "cell_type": "code",
      "source": [
        "# train_test_loop -> results dictionary\n",
        "def train_test_loop(model, train_dataloader, test_dataloader, loss_fn, optimizer, epochs, device):\n",
        "    results = {\"train_loss\":[], \"train_acc\":[], \"test_loss\":[], \"test_acc\":[]}\n",
        "\n",
        "    for epoch in tqdm(range(epochs)):\n",
        "        train_loss, train_acc = train(model = model, dataloader = train_dataloader, loss_fn = loss_fn, optimizer = optimizer, device = device)\n",
        "        test_loss, test_acc = test(model = model, dataloader = test_dataloader, loss_fn = loss_fn, device = device)\n",
        "\n",
        "        print(f\"Epoch: {epoch+1}\\n\"\n",
        "              f\"Train Loss: {train_loss:.4f} | Train Accuracy: {(train_acc*100):.2f}%\\n\"\n",
        "              f\"Test Loss: {test_loss:.4f} | Test Accuracy: {(test_acc*100):.2f}%\")\n",
        "\n",
        "        results[\"train_loss\"].append(train_loss)\n",
        "        results[\"train_acc\"].append(train_acc)\n",
        "        results[\"test_loss\"].append(test_loss)\n",
        "        results[\"test_acc\"].append(test_acc)\n",
        "\n",
        "    return results\n",
        "\n",
        "    # plt.figure(figsize = (6, 3))\n",
        "    # plt.subplot(1, 2, 1)\n",
        "    # plt.plot(results[\"train_loss\"], label = \"Train Loss\")\n",
        "    # plt.plot(results[\"test_loss\"], label = \"Test Loss\")\n",
        "    # plt.subplot(1, 2, 2)\n",
        "    # plt.plot(results[\"train_acc\"], label = \"Train Accuracy\")\n",
        "    # plt.plot(results[\"test_acc\"], label = \"Test Accuracy\")"
      ],
      "metadata": {
        "id": "kapNg2EnCv24"
      },
      "execution_count": 5,
      "outputs": []
    },
    {
      "cell_type": "code",
      "source": [
        "# Create a function -> make prediction across test dataset\n",
        "def pred_and_store(paths: List[pathlib.Path],\n",
        "                   model: torch.nn.Module,\n",
        "                   transform: torchvision.transforms,\n",
        "                   class_names: List[str],\n",
        "                   device: str = \"cuda\" if torch.cuda.is_available() else \"cpu\"\n",
        "                   ) -> List[Dict]:\n",
        "    # 空字典, 儲存 train_test_loop 的 dict\n",
        "    pred_list = []\n",
        "\n",
        "    # Loop through target path\n",
        "    for path in tqdm(paths):\n",
        "\n",
        "        # 空字典, 儲存預測結果\n",
        "        pred_dict = {}\n",
        "\n",
        "        # 檔案名稱, 檔案類別\n",
        "        pred_dict[\"image_path\"] = path\n",
        "        class_name = path.parent.stem\n",
        "        pred_dict[\"class_name\"] = class_name\n",
        "\n",
        "        # Time\n",
        "        start_time = timer()\n",
        "\n",
        "        # Open image path\n",
        "        img = Image.open(path)\n",
        "\n",
        "        # Transform image, add batch size, to device\n",
        "        transformed_image = transform(img).unsqueeze(dim = 0).to(device)\n",
        "\n",
        "        # model\n",
        "        model.to(device)\n",
        "        model.eval()\n",
        "\n",
        "        # Get probs, label, class names\n",
        "        with torch.inference_mode():\n",
        "            preds_logits = model(transformed_image)\n",
        "            preds_probs = torch.softmax(preds_logits, dim = 1)\n",
        "            preds_label = torch.argmax(preds_probs, dim = 1)\n",
        "            # Hard code prds_label to cpu\n",
        "            preds_class = class_names[preds_label.cpu()]\n",
        "\n",
        "            # 將結果放到 cpu 上, for numpy\n",
        "            pred_dict[\"preds_prob\"] = round(preds_probs.unsqueeze(0).max().cpu().item(), 4)\n",
        "            pred_dict[\"pred_class\"] = preds_class\n",
        "\n",
        "            # End the timer\n",
        "            end_time = timer()\n",
        "            pred_dict[\"time_for_predict\"] = round(end_time - start_time, 4)\n",
        "\n",
        "        # 正確與否\n",
        "        pred_dict[\"correct\"] = class_name == preds_class\n",
        "\n",
        "        #\n",
        "        pred_list.append(pred_dict)\n",
        "\n",
        "    return pred_list"
      ],
      "metadata": {
        "id": "-0GYYNfifV5z"
      },
      "execution_count": 6,
      "outputs": []
    },
    {
      "cell_type": "markdown",
      "source": [
        "# **== Dataset and dataloader ==**"
      ],
      "metadata": {
        "id": "N1sSAjLNLIZK"
      }
    },
    {
      "cell_type": "markdown",
      "source": [
        "## Raw data"
      ],
      "metadata": {
        "id": "WTH_ZsHDV9C_"
      }
    },
    {
      "cell_type": "code",
      "source": [
        "data_dir = Path(\"data/\")\n",
        "image_dir = data_dir / \"pizza_steak_sushi\"\n",
        "\n",
        "if image_dir.is_dir():\n",
        "    print(f\"[INFO] {image_dir} already exists\")\n",
        "else:\n",
        "    image_dir.mkdir(parents = True, exist_ok = True)\n",
        "    print(f\"[INFO] {image_dir} creating\")\n",
        "\n",
        "    with open(data_dir / \"DB_image.zip\", \"wb\") as f:\n",
        "        request = requests.get(\"https://github.com/mrdbourke/pytorch-deep-learning/raw/main/data/pizza_steak_sushi.zip\")\n",
        "        print(f\"[INFO] zip file downloading\")\n",
        "        f.write(request.content)\n",
        "\n",
        "    with zipfile.ZipFile(data_dir / \"DB_image.zip\", \"r\") as zip_f:\n",
        "        print(f\"[INFO] zip file unzipping\")\n",
        "        zip_f.extractall(image_dir)\n",
        "\n",
        "    zip_file_path = data_dir / \"DB_image.zip\"\n",
        "    if zip_file_path.exists():\n",
        "        print(f\"[INFO] zip file removing\")\n",
        "        os.remove(zip_file_path)"
      ],
      "metadata": {
        "colab": {
          "base_uri": "https://localhost:8080/"
        },
        "id": "2-WxFxk9MS6Q",
        "outputId": "135a61c8-1085-4650-9bb8-b2926ad8dc84"
      },
      "execution_count": 7,
      "outputs": [
        {
          "output_type": "stream",
          "name": "stdout",
          "text": [
            "[INFO] data/pizza_steak_sushi creating\n",
            "[INFO] zip file downloading\n",
            "[INFO] zip file unzipping\n",
            "[INFO] zip file removing\n"
          ]
        }
      ]
    },
    {
      "cell_type": "markdown",
      "source": [
        "## Dataloader"
      ],
      "metadata": {
        "id": "069_yXjUWAb_"
      }
    },
    {
      "cell_type": "code",
      "source": [
        "# 目標比較: efficientnet VS vision transformer\n",
        "train_dir = image_dir / \"train\"\n",
        "test_dir = image_dir / \"test\"\n",
        "\n",
        "# Weights\n",
        "effnet_weights = torchvision.models.EfficientNet_B2_Weights.DEFAULT\n",
        "effnet_transforms = effnet_weights.transforms()\n",
        "\n",
        "# Dataset\n",
        "effnet_train_dataset = datasets.ImageFolder(root = train_dir, transform = effnet_transforms)\n",
        "effnet_test_dataset = datasets.ImageFolder(root = test_dir, transform = effnet_transforms)\n",
        "\n",
        "# Dataloader\n",
        "effnet_train_dataloader = DataLoader(dataset = effnet_train_dataset, batch_size = 32, shuffle = True, drop_last = True)\n",
        "effnet_test_dataloader = DataLoader(dataset = effnet_test_dataset, batch_size = 32, shuffle = False, drop_last = True)"
      ],
      "metadata": {
        "id": "Uw8JNA7xQkD0"
      },
      "execution_count": 8,
      "outputs": []
    },
    {
      "cell_type": "code",
      "source": [
        "# Weights\n",
        "vit_weights = torchvision.models.ViT_B_16_Weights.DEFAULT\n",
        "vit_tranforms = vit_weights.transforms()\n",
        "\n",
        "# Dataset\n",
        "vit_train_dataset = datasets.ImageFolder(root = train_dir, transform = vit_tranforms)\n",
        "vit_test_dataset = datasets.ImageFolder(root = test_dir, transform = vit_tranforms)\n",
        "\n",
        "# Dataloader\n",
        "vit_train_dataloader = DataLoader(dataset = vit_train_dataset, batch_size = 32, shuffle = True, drop_last = True)\n",
        "vit_test_dataloader = DataLoader(dataset = vit_test_dataset, batch_size = 32, shuffle = False, drop_last = True)"
      ],
      "metadata": {
        "id": "V8Ep-7LZUrTC"
      },
      "execution_count": 9,
      "outputs": []
    },
    {
      "cell_type": "markdown",
      "source": [
        "# **== Model and train model ==**"
      ],
      "metadata": {
        "id": "Y1FoXOGWWB9s"
      }
    },
    {
      "cell_type": "markdown",
      "source": [
        "## Effnet"
      ],
      "metadata": {
        "id": "quZIA5snWaiC"
      }
    },
    {
      "cell_type": "code",
      "source": [
        "effnet_weights = torchvision.models.EfficientNet_B2_Weights.DEFAULT\n",
        "\n",
        "effnet_model = torchvision.models.efficientnet_b2(weights = effnet_weights)"
      ],
      "metadata": {
        "colab": {
          "base_uri": "https://localhost:8080/"
        },
        "id": "M2OXDW3JWgJ6",
        "outputId": "da51ff6e-cfcb-4aab-a9fe-ad81348509c3"
      },
      "execution_count": 10,
      "outputs": [
        {
          "output_type": "stream",
          "name": "stderr",
          "text": [
            "Downloading: \"https://download.pytorch.org/models/efficientnet_b2_rwightman-bcdf34b7.pth\" to /root/.cache/torch/hub/checkpoints/efficientnet_b2_rwightman-bcdf34b7.pth\n",
            "100%|██████████| 35.2M/35.2M [00:00<00:00, 80.3MB/s]\n"
          ]
        }
      ]
    },
    {
      "cell_type": "code",
      "source": [
        "for param in effnet_model.parameters():\n",
        "    param.requires_grad = False"
      ],
      "metadata": {
        "id": "m7YynZqCY9xt"
      },
      "execution_count": 11,
      "outputs": []
    },
    {
      "cell_type": "code",
      "source": [
        "effnet_model.classifier = torch.nn.Sequential(\n",
        "    torch.nn.Dropout(p = 0.3),\n",
        "    torch.nn.Linear(in_features = 1408, out_features = 128),\n",
        "    torch.nn.ReLU(),\n",
        "    torch.nn.Dropout(p = 0.3),\n",
        "    torch.nn.Linear(in_features = 128, out_features = 3)\n",
        ")"
      ],
      "metadata": {
        "id": "GnUe1_bpW-ZV"
      },
      "execution_count": 12,
      "outputs": []
    },
    {
      "cell_type": "code",
      "source": [
        "summary(effnet_model,\n",
        "        input_size = (32, 3, 224, 224),\n",
        "        col_names=[\"input_size\", \"output_size\", \"num_params\", \"trainable\"],\n",
        "        col_width = 18)"
      ],
      "metadata": {
        "colab": {
          "base_uri": "https://localhost:8080/"
        },
        "id": "Ctmh711vYTkH",
        "outputId": "54847ffc-2415-4747-b166-77cfed0ac6ca"
      },
      "execution_count": 13,
      "outputs": [
        {
          "output_type": "execute_result",
          "data": {
            "text/plain": [
              "===============================================================================================================================\n",
              "Layer (type:depth-idx)                                  Input Shape        Output Shape       Param #            Trainable\n",
              "===============================================================================================================================\n",
              "EfficientNet                                            [32, 3, 224, 224]  [32, 3]            --                 Partial\n",
              "├─Sequential: 1-1                                       [32, 3, 224, 224]  [32, 1408, 7, 7]   --                 False\n",
              "│    └─Conv2dNormActivation: 2-1                        [32, 3, 224, 224]  [32, 32, 112, 112] --                 False\n",
              "│    │    └─Conv2d: 3-1                                 [32, 3, 224, 224]  [32, 32, 112, 112] (864)              False\n",
              "│    │    └─BatchNorm2d: 3-2                            [32, 32, 112, 112] [32, 32, 112, 112] (64)               False\n",
              "│    │    └─SiLU: 3-3                                   [32, 32, 112, 112] [32, 32, 112, 112] --                 --\n",
              "│    └─Sequential: 2-2                                  [32, 32, 112, 112] [32, 16, 112, 112] --                 False\n",
              "│    │    └─MBConv: 3-4                                 [32, 32, 112, 112] [32, 16, 112, 112] (1,448)            False\n",
              "│    │    └─MBConv: 3-5                                 [32, 16, 112, 112] [32, 16, 112, 112] (612)              False\n",
              "│    └─Sequential: 2-3                                  [32, 16, 112, 112] [32, 24, 56, 56]   --                 False\n",
              "│    │    └─MBConv: 3-6                                 [32, 16, 112, 112] [32, 24, 56, 56]   (6,004)            False\n",
              "│    │    └─MBConv: 3-7                                 [32, 24, 56, 56]   [32, 24, 56, 56]   (10,710)           False\n",
              "│    │    └─MBConv: 3-8                                 [32, 24, 56, 56]   [32, 24, 56, 56]   (10,710)           False\n",
              "│    └─Sequential: 2-4                                  [32, 24, 56, 56]   [32, 48, 28, 28]   --                 False\n",
              "│    │    └─MBConv: 3-9                                 [32, 24, 56, 56]   [32, 48, 28, 28]   (16,518)           False\n",
              "│    │    └─MBConv: 3-10                                [32, 48, 28, 28]   [32, 48, 28, 28]   (43,308)           False\n",
              "│    │    └─MBConv: 3-11                                [32, 48, 28, 28]   [32, 48, 28, 28]   (43,308)           False\n",
              "│    └─Sequential: 2-5                                  [32, 48, 28, 28]   [32, 88, 14, 14]   --                 False\n",
              "│    │    └─MBConv: 3-12                                [32, 48, 28, 28]   [32, 88, 14, 14]   (50,300)           False\n",
              "│    │    └─MBConv: 3-13                                [32, 88, 14, 14]   [32, 88, 14, 14]   (123,750)          False\n",
              "│    │    └─MBConv: 3-14                                [32, 88, 14, 14]   [32, 88, 14, 14]   (123,750)          False\n",
              "│    │    └─MBConv: 3-15                                [32, 88, 14, 14]   [32, 88, 14, 14]   (123,750)          False\n",
              "│    └─Sequential: 2-6                                  [32, 88, 14, 14]   [32, 120, 14, 14]  --                 False\n",
              "│    │    └─MBConv: 3-16                                [32, 88, 14, 14]   [32, 120, 14, 14]  (149,158)          False\n",
              "│    │    └─MBConv: 3-17                                [32, 120, 14, 14]  [32, 120, 14, 14]  (237,870)          False\n",
              "│    │    └─MBConv: 3-18                                [32, 120, 14, 14]  [32, 120, 14, 14]  (237,870)          False\n",
              "│    │    └─MBConv: 3-19                                [32, 120, 14, 14]  [32, 120, 14, 14]  (237,870)          False\n",
              "│    └─Sequential: 2-7                                  [32, 120, 14, 14]  [32, 208, 7, 7]    --                 False\n",
              "│    │    └─MBConv: 3-20                                [32, 120, 14, 14]  [32, 208, 7, 7]    (301,406)          False\n",
              "│    │    └─MBConv: 3-21                                [32, 208, 7, 7]    [32, 208, 7, 7]    (686,868)          False\n",
              "│    │    └─MBConv: 3-22                                [32, 208, 7, 7]    [32, 208, 7, 7]    (686,868)          False\n",
              "│    │    └─MBConv: 3-23                                [32, 208, 7, 7]    [32, 208, 7, 7]    (686,868)          False\n",
              "│    │    └─MBConv: 3-24                                [32, 208, 7, 7]    [32, 208, 7, 7]    (686,868)          False\n",
              "│    └─Sequential: 2-8                                  [32, 208, 7, 7]    [32, 352, 7, 7]    --                 False\n",
              "│    │    └─MBConv: 3-25                                [32, 208, 7, 7]    [32, 352, 7, 7]    (846,900)          False\n",
              "│    │    └─MBConv: 3-26                                [32, 352, 7, 7]    [32, 352, 7, 7]    (1,888,920)        False\n",
              "│    └─Conv2dNormActivation: 2-9                        [32, 352, 7, 7]    [32, 1408, 7, 7]   --                 False\n",
              "│    │    └─Conv2d: 3-27                                [32, 352, 7, 7]    [32, 1408, 7, 7]   (495,616)          False\n",
              "│    │    └─BatchNorm2d: 3-28                           [32, 1408, 7, 7]   [32, 1408, 7, 7]   (2,816)            False\n",
              "│    │    └─SiLU: 3-29                                  [32, 1408, 7, 7]   [32, 1408, 7, 7]   --                 --\n",
              "├─AdaptiveAvgPool2d: 1-2                                [32, 1408, 7, 7]   [32, 1408, 1, 1]   --                 --\n",
              "├─Sequential: 1-3                                       [32, 1408]         [32, 3]            --                 True\n",
              "│    └─Dropout: 2-10                                    [32, 1408]         [32, 1408]         --                 --\n",
              "│    └─Linear: 2-11                                     [32, 1408]         [32, 128]          180,352            True\n",
              "│    └─ReLU: 2-12                                       [32, 128]          [32, 128]          --                 --\n",
              "│    └─Dropout: 2-13                                    [32, 128]          [32, 128]          --                 --\n",
              "│    └─Linear: 2-14                                     [32, 128]          [32, 3]            387                True\n",
              "===============================================================================================================================\n",
              "Total params: 7,881,733\n",
              "Trainable params: 180,739\n",
              "Non-trainable params: 7,700,994\n",
              "Total mult-adds (G): 21.05\n",
              "===============================================================================================================================\n",
              "Input size (MB): 19.27\n",
              "Forward/backward pass size (MB): 5017.56\n",
              "Params size (MB): 31.53\n",
              "Estimated Total Size (MB): 5068.36\n",
              "==============================================================================================================================="
            ]
          },
          "metadata": {},
          "execution_count": 13
        }
      ]
    },
    {
      "cell_type": "markdown",
      "source": [
        "## Vit"
      ],
      "metadata": {
        "id": "ObS4Yx8tWdYl"
      }
    },
    {
      "cell_type": "code",
      "source": [
        "vit_weights = torchvision.models.ViT_B_16_Weights.DEFAULT\n",
        "\n",
        "vit_model = torchvision.models.vit_b_16(weights = vit_weights)"
      ],
      "metadata": {
        "colab": {
          "base_uri": "https://localhost:8080/"
        },
        "id": "FoAA-6XwWgsj",
        "outputId": "448f5099-b0ae-42ff-f586-aea46ddc7121"
      },
      "execution_count": 14,
      "outputs": [
        {
          "output_type": "stream",
          "name": "stderr",
          "text": [
            "Downloading: \"https://download.pytorch.org/models/vit_b_16-c867db91.pth\" to /root/.cache/torch/hub/checkpoints/vit_b_16-c867db91.pth\n",
            "100%|██████████| 330M/330M [00:06<00:00, 56.6MB/s]\n"
          ]
        }
      ]
    },
    {
      "cell_type": "code",
      "source": [
        "for param in vit_model.parameters():\n",
        "    param.requires_grad = False"
      ],
      "metadata": {
        "id": "xVoOgnh8ZBf9"
      },
      "execution_count": 15,
      "outputs": []
    },
    {
      "cell_type": "code",
      "source": [
        "vit_model.heads = torch.nn.Sequential(\n",
        "    torch.nn.Linear(in_features=768, out_features=64),\n",
        "    torch.nn.ReLU(),\n",
        "    torch.nn.Dropout(p = 0.3),\n",
        "    torch.nn.Linear(in_features = 64, out_features = 3),\n",
        ")"
      ],
      "metadata": {
        "id": "md9-cdC2ZLBk"
      },
      "execution_count": 16,
      "outputs": []
    },
    {
      "cell_type": "code",
      "source": [
        "summary(vit_model,\n",
        "        input_size = (32, 3, 224, 224),\n",
        "        col_names=[\"input_size\", \"output_size\", \"num_params\", \"trainable\"],\n",
        "        col_width = 18)"
      ],
      "metadata": {
        "colab": {
          "base_uri": "https://localhost:8080/"
        },
        "id": "dmJ4a6BAZuVB",
        "outputId": "f9f8dd66-a0a6-4a48-93b5-9a2fcb803288"
      },
      "execution_count": 17,
      "outputs": [
        {
          "output_type": "execute_result",
          "data": {
            "text/plain": [
              "=====================================================================================================================\n",
              "Layer (type:depth-idx)                        Input Shape        Output Shape       Param #            Trainable\n",
              "=====================================================================================================================\n",
              "VisionTransformer                             [32, 3, 224, 224]  [32, 3]            768                Partial\n",
              "├─Conv2d: 1-1                                 [32, 3, 224, 224]  [32, 768, 14, 14]  (590,592)          False\n",
              "├─Encoder: 1-2                                [32, 197, 768]     [32, 197, 768]     151,296            False\n",
              "│    └─Dropout: 2-1                           [32, 197, 768]     [32, 197, 768]     --                 --\n",
              "│    └─Sequential: 2-2                        [32, 197, 768]     [32, 197, 768]     --                 False\n",
              "│    │    └─EncoderBlock: 3-1                 [32, 197, 768]     [32, 197, 768]     (7,087,872)        False\n",
              "│    │    └─EncoderBlock: 3-2                 [32, 197, 768]     [32, 197, 768]     (7,087,872)        False\n",
              "│    │    └─EncoderBlock: 3-3                 [32, 197, 768]     [32, 197, 768]     (7,087,872)        False\n",
              "│    │    └─EncoderBlock: 3-4                 [32, 197, 768]     [32, 197, 768]     (7,087,872)        False\n",
              "│    │    └─EncoderBlock: 3-5                 [32, 197, 768]     [32, 197, 768]     (7,087,872)        False\n",
              "│    │    └─EncoderBlock: 3-6                 [32, 197, 768]     [32, 197, 768]     (7,087,872)        False\n",
              "│    │    └─EncoderBlock: 3-7                 [32, 197, 768]     [32, 197, 768]     (7,087,872)        False\n",
              "│    │    └─EncoderBlock: 3-8                 [32, 197, 768]     [32, 197, 768]     (7,087,872)        False\n",
              "│    │    └─EncoderBlock: 3-9                 [32, 197, 768]     [32, 197, 768]     (7,087,872)        False\n",
              "│    │    └─EncoderBlock: 3-10                [32, 197, 768]     [32, 197, 768]     (7,087,872)        False\n",
              "│    │    └─EncoderBlock: 3-11                [32, 197, 768]     [32, 197, 768]     (7,087,872)        False\n",
              "│    │    └─EncoderBlock: 3-12                [32, 197, 768]     [32, 197, 768]     (7,087,872)        False\n",
              "│    └─LayerNorm: 2-3                         [32, 197, 768]     [32, 197, 768]     (1,536)            False\n",
              "├─Sequential: 1-3                             [32, 768]          [32, 3]            --                 True\n",
              "│    └─Linear: 2-4                            [32, 768]          [32, 64]           49,216             True\n",
              "│    └─ReLU: 2-5                              [32, 64]           [32, 64]           --                 --\n",
              "│    └─Dropout: 2-6                           [32, 64]           [32, 64]           --                 --\n",
              "│    └─Linear: 2-7                            [32, 64]           [32, 3]            195                True\n",
              "=====================================================================================================================\n",
              "Total params: 85,848,067\n",
              "Trainable params: 49,411\n",
              "Non-trainable params: 85,798,656\n",
              "Total mult-adds (G): 5.52\n",
              "=====================================================================================================================\n",
              "Input size (MB): 19.27\n",
              "Forward/backward pass size (MB): 3330.75\n",
              "Params size (MB): 229.39\n",
              "Estimated Total Size (MB): 3579.41\n",
              "====================================================================================================================="
            ]
          },
          "metadata": {},
          "execution_count": 17
        }
      ]
    },
    {
      "cell_type": "markdown",
      "source": [
        "## Train"
      ],
      "metadata": {
        "id": "uAdXu0h9dJRn"
      }
    },
    {
      "cell_type": "code",
      "source": [
        "device = \"cuda\" if torch.cuda.is_available() else \"cpu\"\n",
        "\n",
        "loss_fn = torch.nn.CrossEntropyLoss()\n",
        "optimizer = torch.optim.Adam(effnet_model.parameters(),\n",
        "                             lr = 0.001)\n",
        "\n",
        "effnet_results = train_test_loop(\n",
        "    model = effnet_model,\n",
        "    train_dataloader = effnet_train_dataloader,\n",
        "    test_dataloader = effnet_test_dataloader,\n",
        "    loss_fn = loss_fn,\n",
        "    optimizer = optimizer,\n",
        "    epochs = 10,\n",
        "    device = device\n",
        ")"
      ],
      "metadata": {
        "colab": {
          "base_uri": "https://localhost:8080/",
          "height": 570,
          "referenced_widgets": [
            "3d6ae2589cd146449a304c772de4ffc8",
            "0667999eca3a4aa4923fcda14a89dea2",
            "de34804c74cc42c9ac1886c8be79b592",
            "d9485c148fef40dbb9c7c785e8e5892c",
            "0ab22dad85914570ab60a2230ee1fadb",
            "1b56ca3a1de641c4929394ef0a6553b9",
            "1b96837680ed4be3af5a8cec57008bd9",
            "874f7e575e2d41dcbc990fa4377a035b",
            "783d4a7e501b4ee78ab4fbde497004ca",
            "409259937cea4674a38d5d81c5629239",
            "faf2ba56da534f17a37bb85b97b1f39b"
          ]
        },
        "id": "iA81glhbdLjt",
        "outputId": "58ada466-bef0-4647-8a7f-6ef8f3be90be"
      },
      "execution_count": 18,
      "outputs": [
        {
          "output_type": "display_data",
          "data": {
            "text/plain": [
              "  0%|          | 0/10 [00:00<?, ?it/s]"
            ],
            "application/vnd.jupyter.widget-view+json": {
              "version_major": 2,
              "version_minor": 0,
              "model_id": "3d6ae2589cd146449a304c772de4ffc8"
            }
          },
          "metadata": {}
        },
        {
          "output_type": "stream",
          "name": "stdout",
          "text": [
            "Epoch: 1\n",
            "Train Loss: 1.0073 | Train Accuracy: 51.34%\n",
            "Test Loss: 0.8346 | Test Accuracy: 92.19%\n",
            "Epoch: 2\n",
            "Train Loss: 0.6766 | Train Accuracy: 85.27%\n",
            "Test Loss: 0.5321 | Test Accuracy: 93.75%\n",
            "Epoch: 3\n",
            "Train Loss: 0.4249 | Train Accuracy: 93.75%\n",
            "Test Loss: 0.3752 | Test Accuracy: 93.75%\n",
            "Epoch: 4\n",
            "Train Loss: 0.2472 | Train Accuracy: 96.88%\n",
            "Test Loss: 0.2986 | Test Accuracy: 95.31%\n",
            "Epoch: 5\n",
            "Train Loss: 0.2497 | Train Accuracy: 94.20%\n",
            "Test Loss: 0.2615 | Test Accuracy: 95.31%\n",
            "Epoch: 6\n",
            "Train Loss: 0.1524 | Train Accuracy: 96.43%\n",
            "Test Loss: 0.2561 | Test Accuracy: 95.31%\n",
            "Epoch: 7\n",
            "Train Loss: 0.1079 | Train Accuracy: 98.21%\n",
            "Test Loss: 0.2334 | Test Accuracy: 95.31%\n",
            "Epoch: 8\n",
            "Train Loss: 0.1015 | Train Accuracy: 96.88%\n",
            "Test Loss: 0.2378 | Test Accuracy: 95.31%\n",
            "Epoch: 9\n",
            "Train Loss: 0.0911 | Train Accuracy: 97.77%\n",
            "Test Loss: 0.2290 | Test Accuracy: 95.31%\n",
            "Epoch: 10\n",
            "Train Loss: 0.0916 | Train Accuracy: 98.21%\n",
            "Test Loss: 0.2316 | Test Accuracy: 95.31%\n"
          ]
        }
      ]
    },
    {
      "cell_type": "code",
      "source": [
        "device = \"cuda\" if torch.cuda.is_available() else \"cpu\"\n",
        "\n",
        "loss_fn = torch.nn.CrossEntropyLoss()\n",
        "optimizer = torch.optim.Adam(vit_model.parameters(),\n",
        "                             lr = 0.001)\n",
        "\n",
        "vit_results = train_test_loop(\n",
        "    model = vit_model,\n",
        "    train_dataloader = vit_train_dataloader,\n",
        "    test_dataloader = vit_test_dataloader,\n",
        "    loss_fn = loss_fn,\n",
        "    optimizer = optimizer,\n",
        "    epochs = 10,\n",
        "    device = device\n",
        ")"
      ],
      "metadata": {
        "colab": {
          "base_uri": "https://localhost:8080/",
          "height": 570,
          "referenced_widgets": [
            "f2d2ae11cc0046369f878c193621ede7",
            "feb2de2f41e6441cad733f5713e055a9",
            "a9ea6b983a71440887936ee34808a060",
            "c48b7d3d611949a68f7a24647c54dbf9",
            "38be89ea6cf8431b8a464cc879e87387",
            "41656588ced040be829c880f2b844b10",
            "d4caeb7a51ca47f4a491bc510fa5a6f4",
            "7b5fa002a22c4233a4b26fa3a023c6d1",
            "44f80c0ad954402b872d0c6d8fd23751",
            "01597f9634134a03968cd52e08a99fa0",
            "7a9f3200bcb249b3be8908fc362ecf68"
          ]
        },
        "id": "XZDc5adBdjPl",
        "outputId": "a448f9f7-8fc6-4792-95f5-e4e483be788c"
      },
      "execution_count": 19,
      "outputs": [
        {
          "output_type": "display_data",
          "data": {
            "text/plain": [
              "  0%|          | 0/10 [00:00<?, ?it/s]"
            ],
            "application/vnd.jupyter.widget-view+json": {
              "version_major": 2,
              "version_minor": 0,
              "model_id": "f2d2ae11cc0046369f878c193621ede7"
            }
          },
          "metadata": {}
        },
        {
          "output_type": "stream",
          "name": "stdout",
          "text": [
            "Epoch: 1\n",
            "Train Loss: 0.6817 | Train Accuracy: 83.04%\n",
            "Test Loss: 0.2928 | Test Accuracy: 95.31%\n",
            "Epoch: 2\n",
            "Train Loss: 0.2267 | Train Accuracy: 95.98%\n",
            "Test Loss: 0.1687 | Test Accuracy: 92.19%\n",
            "Epoch: 3\n",
            "Train Loss: 0.1260 | Train Accuracy: 96.43%\n",
            "Test Loss: 0.1558 | Test Accuracy: 92.19%\n",
            "Epoch: 4\n",
            "Train Loss: 0.0886 | Train Accuracy: 96.43%\n",
            "Test Loss: 0.1705 | Test Accuracy: 92.19%\n",
            "Epoch: 5\n",
            "Train Loss: 0.0662 | Train Accuracy: 98.66%\n",
            "Test Loss: 0.1655 | Test Accuracy: 93.75%\n",
            "Epoch: 6\n",
            "Train Loss: 0.0516 | Train Accuracy: 99.11%\n",
            "Test Loss: 0.1807 | Test Accuracy: 90.62%\n",
            "Epoch: 7\n",
            "Train Loss: 0.0337 | Train Accuracy: 99.55%\n",
            "Test Loss: 0.1939 | Test Accuracy: 92.19%\n",
            "Epoch: 8\n",
            "Train Loss: 0.0253 | Train Accuracy: 99.55%\n",
            "Test Loss: 0.1858 | Test Accuracy: 92.19%\n",
            "Epoch: 9\n",
            "Train Loss: 0.0215 | Train Accuracy: 100.00%\n",
            "Test Loss: 0.1897 | Test Accuracy: 93.75%\n",
            "Epoch: 10\n",
            "Train Loss: 0.0184 | Train Accuracy: 100.00%\n",
            "Test Loss: 0.2075 | Test Accuracy: 92.19%\n"
          ]
        }
      ]
    },
    {
      "cell_type": "markdown",
      "source": [
        "## Plot Loss and accuracy"
      ],
      "metadata": {
        "id": "G3y2mRyQm5Il"
      }
    },
    {
      "cell_type": "code",
      "source": [
        "plt.figure(figsize = (9, 4))\n",
        "\n",
        "plt.subplot(2, 2, 1)\n",
        "plt.plot(effnet_results[\"train_loss\"], label = \"Train Loss\")\n",
        "plt.plot(effnet_results[\"test_loss\"], label = \"Test Loss\")\n",
        "plt.legend()\n",
        "\n",
        "plt.subplot(2, 2, 2)\n",
        "plt.plot(effnet_results[\"train_acc\"], label = \"Train Accuracy\")\n",
        "plt.plot(effnet_results[\"test_acc\"], label = \"Test Accuracy\")\n",
        "plt.legend()\n",
        "\n",
        "plt.subplot(2, 2, 3)\n",
        "plt.plot(vit_results[\"train_loss\"], label = \"Train Loss\")\n",
        "plt.plot(vit_results[\"test_loss\"], label = \"Test Loss\")\n",
        "plt.legend()\n",
        "\n",
        "plt.subplot(2, 2, 4)\n",
        "plt.plot(vit_results[\"train_acc\"], label = \"Train Accuracy\")\n",
        "plt.plot(vit_results[\"test_acc\"], label = \"Test Accuracy\")\n",
        "plt.legend()"
      ],
      "metadata": {
        "colab": {
          "base_uri": "https://localhost:8080/",
          "height": 384
        },
        "id": "vH8AOqqcm8nm",
        "outputId": "b8128970-3f29-4dfd-e854-9208fd98e550"
      },
      "execution_count": 20,
      "outputs": [
        {
          "output_type": "execute_result",
          "data": {
            "text/plain": [
              "<matplotlib.legend.Legend at 0x7f4b27728fa0>"
            ]
          },
          "metadata": {},
          "execution_count": 20
        },
        {
          "output_type": "display_data",
          "data": {
            "text/plain": [
              "<Figure size 900x400 with 4 Axes>"
            ],
            "image/png": "[encoded data removed]"
          },
          "metadata": {}
        }
      ]
    },
    {
      "cell_type": "markdown",
      "source": [
        "# **== Save and check model's dize ==**"
      ],
      "metadata": {
        "id": "LE7hrnsMrOf9"
      }
    },
    {
      "cell_type": "markdown",
      "source": [
        "## Models path"
      ],
      "metadata": {
        "id": "pZvWS76Fsjp6"
      }
    },
    {
      "cell_type": "code",
      "source": [
        "models_path = Path(\"Models/\")\n",
        "\n",
        "if models_path.is_dir():\n",
        "    print(f\"[INFO] {models_path} already exist\")\n",
        "else:\n",
        "    print(f\"[INFO] {models_path} creating\")\n",
        "    models_path.mkdir(parents = True, exist_ok = True)"
      ],
      "metadata": {
        "colab": {
          "base_uri": "https://localhost:8080/"
        },
        "id": "41XROgvasjJX",
        "outputId": "0b49060b-7626-457b-e2ed-a0d903c7fbb7"
      },
      "execution_count": 21,
      "outputs": [
        {
          "output_type": "stream",
          "name": "stdout",
          "text": [
            "[INFO] Models creating\n"
          ]
        }
      ]
    },
    {
      "cell_type": "markdown",
      "source": [
        "## Effnet size"
      ],
      "metadata": {
        "id": "wdK1kXxar-pr"
      }
    },
    {
      "cell_type": "code",
      "source": [
        "torch.save(effnet_model, \"Models/effnet.pt\")"
      ],
      "metadata": {
        "id": "leFjXfNHrXPL"
      },
      "execution_count": 22,
      "outputs": []
    },
    {
      "cell_type": "code",
      "source": [
        "effnet_model_size = Path(\"Models/effnet.pt\").stat().st_size // (1024*1024)\n",
        "print(f\"Model size: {effnet_model_size} MB\")"
      ],
      "metadata": {
        "colab": {
          "base_uri": "https://localhost:8080/"
        },
        "id": "68ePnc35tir-",
        "outputId": "d58bfaa5-91e5-42c4-f626-50e76f01509e"
      },
      "execution_count": 23,
      "outputs": [
        {
          "output_type": "stream",
          "name": "stdout",
          "text": [
            "Model size: 30 MB\n"
          ]
        }
      ]
    },
    {
      "cell_type": "markdown",
      "source": [
        "## Vit size"
      ],
      "metadata": {
        "id": "MEYBMuYvsATJ"
      }
    },
    {
      "cell_type": "code",
      "source": [
        "torch.save(vit_model, \"Models/vit.pt\")"
      ],
      "metadata": {
        "id": "rFngAwTLsB3O"
      },
      "execution_count": 24,
      "outputs": []
    },
    {
      "cell_type": "code",
      "source": [
        "vit_model_size = Path(\"Models/vit.pt\").stat().st_size // (1024*1024)\n",
        "print(f\"Model size: {vit_model_size} MB\")"
      ],
      "metadata": {
        "colab": {
          "base_uri": "https://localhost:8080/"
        },
        "id": "5TB6YWnhti9-",
        "outputId": "b75c90d1-3328-4f95-d1be-f43bb5f3fe7f"
      },
      "execution_count": 25,
      "outputs": [
        {
          "output_type": "stream",
          "name": "stdout",
          "text": [
            "Model size: 327 MB\n"
          ]
        }
      ]
    },
    {
      "cell_type": "markdown",
      "source": [
        "# **== Predict and calculate time ==**"
      ],
      "metadata": {
        "id": "5PSes7sFWfIm"
      }
    },
    {
      "cell_type": "markdown",
      "source": [
        "## Test images' path"
      ],
      "metadata": {
        "id": "yMZHTcgFofKS"
      }
    },
    {
      "cell_type": "code",
      "source": [
        "# Path\n",
        "test_data_paths = list(Path(test_dir).glob(\"*/*.jpg\"))\n",
        "\n",
        "# Check\n",
        "test_data_paths[:5]"
      ],
      "metadata": {
        "colab": {
          "base_uri": "https://localhost:8080/"
        },
        "id": "smZ6kKKpl1O6",
        "outputId": "5f151cd3-6913-49e8-e503-9505587ed1fa"
      },
      "execution_count": 26,
      "outputs": [
        {
          "output_type": "execute_result",
          "data": {
            "text/plain": [
              "[PosixPath('data/pizza_steak_sushi/test/steak/673127.jpg'),\n",
              " PosixPath('data/pizza_steak_sushi/test/steak/27415.jpg'),\n",
              " PosixPath('data/pizza_steak_sushi/test/steak/296375.jpg'),\n",
              " PosixPath('data/pizza_steak_sushi/test/steak/2117351.jpg'),\n",
              " PosixPath('data/pizza_steak_sushi/test/steak/1627703.jpg')]"
            ]
          },
          "metadata": {},
          "execution_count": 26
        }
      ]
    },
    {
      "cell_type": "markdown",
      "source": [
        "## Effnet"
      ],
      "metadata": {
        "id": "9YTIsn4Joh06"
      }
    },
    {
      "cell_type": "code",
      "source": [
        "effnet_test_pred_list = pred_and_store(paths = test_data_paths,\n",
        "                                       model = effnet_model,\n",
        "                                       transform = effnet_transforms,\n",
        "                                       class_names = [\"pizza\", \"steak\", \"sushi\"],\n",
        "                                       device = \"cpu\") # make prediction on cpu"
      ],
      "metadata": {
        "colab": {
          "base_uri": "https://localhost:8080/",
          "height": 49,
          "referenced_widgets": [
            "5e72b0cbdde04f49a4fffb201907142b",
            "affee6cdd1dd49d98e348b2a9bfb07b3",
            "db6176ccd72e439aa8494dfe1eeaa69f",
            "29a938dd7b624df9a101591352d45926",
            "648a2b17ac664bc096607d9db65f14e8",
            "a9b7da8bae96486891a420731fe84b45",
            "cfb6de8d37c24a55999d542b148bc9cc",
            "4e064d63b57c4f519595fa8a78b25922",
            "093743602ee7486fb72c69bcee552296",
            "4e0457028636417fa681e1e0e9f28cc2",
            "00cf461f5161451c954e47027d0d4267"
          ]
        },
        "id": "2iKmlmUBl2BX",
        "outputId": "55a18f40-f06e-4629-fde0-0ee150341e1d"
      },
      "execution_count": 27,
      "outputs": [
        {
          "output_type": "display_data",
          "data": {
            "text/plain": [
              "  0%|          | 0/75 [00:00<?, ?it/s]"
            ],
            "application/vnd.jupyter.widget-view+json": {
              "version_major": 2,
              "version_minor": 0,
              "model_id": "5e72b0cbdde04f49a4fffb201907142b"
            }
          },
          "metadata": {}
        }
      ]
    },
    {
      "cell_type": "code",
      "source": [
        "# DF\n",
        "effnetb2_df = pd.DataFrame(effnet_test_pred_list)\n",
        "\n",
        "# Check\n",
        "effnetb2_df.head()"
      ],
      "metadata": {
        "colab": {
          "base_uri": "https://localhost:8080/",
          "height": 270
        },
        "id": "HavxWajCoH3v",
        "outputId": "5a41d730-ca1d-48d9-f315-af30484e7fd4"
      },
      "execution_count": 28,
      "outputs": [
        {
          "output_type": "execute_result",
          "data": {
            "text/plain": [
              "                                      image_path class_name  preds_prob  \\\n",
              "0   data/pizza_steak_sushi/test/steak/673127.jpg      steak      0.9975   \n",
              "1    data/pizza_steak_sushi/test/steak/27415.jpg      steak      0.9795   \n",
              "2   data/pizza_steak_sushi/test/steak/296375.jpg      steak      0.9698   \n",
              "3  data/pizza_steak_sushi/test/steak/2117351.jpg      steak      0.9964   \n",
              "4  data/pizza_steak_sushi/test/steak/1627703.jpg      steak      0.8068   \n",
              "\n",
              "  pred_class  time_for_predict  correct  \n",
              "0      steak            0.3122     True  \n",
              "1      steak            0.1788     True  \n",
              "2      steak            0.1688     True  \n",
              "3      steak            0.1567     True  \n",
              "4      steak            0.1697     True  "
            ],
            "text/html": [
              "\n",
              "\n",
              "  <div id=\"df-fc0cae64-1402-4510-a681-d1e7356b8ca3\">\n",
              "    <div class=\"colab-df-container\">\n",
              "      <div>\n",
              "<style scoped>\n",
              "    .dataframe tbody tr th:only-of-type {\n",
              "        vertical-align: middle;\n",
              "    }\n",
              "\n",
              "    .dataframe tbody tr th {\n",
              "        vertical-align: top;\n",
              "    }\n",
              "\n",
              "    .dataframe thead th {\n",
              "        text-align: right;\n",
              "    }\n",
              "</style>\n",
              "<table border=\"1\" class=\"dataframe\">\n",
              "  <thead>\n",
              "    <tr style=\"text-align: right;\">\n",
              "      <th></th>\n",
              "      <th>image_path</th>\n",
              "      <th>class_name</th>\n",
              "      <th>preds_prob</th>\n",
              "      <th>pred_class</th>\n",
              "      <th>time_for_predict</th>\n",
              "      <th>correct</th>\n",
              "    </tr>\n",
              "  </thead>\n",
              "  <tbody>\n",
              "    <tr>\n",
              "      <th>0</th>\n",
              "      <td>data/pizza_steak_sushi/test/steak/673127.jpg</td>\n",
              "      <td>steak</td>\n",
              "      <td>0.9975</td>\n",
              "      <td>steak</td>\n",
              "      <td>0.3122</td>\n",
              "      <td>True</td>\n",
              "    </tr>\n",
              "    <tr>\n",
              "      <th>1</th>\n",
              "      <td>data/pizza_steak_sushi/test/steak/27415.jpg</td>\n",
              "      <td>steak</td>\n",
              "      <td>0.9795</td>\n",
              "      <td>steak</td>\n",
              "      <td>0.1788</td>\n",
              "      <td>True</td>\n",
              "    </tr>\n",
              "    <tr>\n",
              "      <th>2</th>\n",
              "      <td>data/pizza_steak_sushi/test/steak/296375.jpg</td>\n",
              "      <td>steak</td>\n",
              "      <td>0.9698</td>\n",
              "      <td>steak</td>\n",
              "      <td>0.1688</td>\n",
              "      <td>True</td>\n",
              "    </tr>\n",
              "    <tr>\n",
              "      <th>3</th>\n",
              "      <td>data/pizza_steak_sushi/test/steak/2117351.jpg</td>\n",
              "      <td>steak</td>\n",
              "      <td>0.9964</td>\n",
              "      <td>steak</td>\n",
              "      <td>0.1567</td>\n",
              "      <td>True</td>\n",
              "    </tr>\n",
              "    <tr>\n",
              "      <th>4</th>\n",
              "      <td>data/pizza_steak_sushi/test/steak/1627703.jpg</td>\n",
              "      <td>steak</td>\n",
              "      <td>0.8068</td>\n",
              "      <td>steak</td>\n",
              "      <td>0.1697</td>\n",
              "      <td>True</td>\n",
              "    </tr>\n",
              "  </tbody>\n",
              "</table>\n",
              "</div>\n",
              "      <button class=\"colab-df-convert\" onclick=\"convertToInteractive('df-fc0cae64-1402-4510-a681-d1e7356b8ca3')\"\n",
              "              title=\"Convert this dataframe to an interactive table.\"\n",
              "              style=\"display:none;\">\n",
              "\n",
              "  <svg xmlns=\"http://www.w3.org/2000/svg\" height=\"24px\"viewBox=\"0 0 24 24\"\n",
              "       width=\"24px\">\n",
              "    <path d=\"M0 0h24v24H0V0z\" fill=\"none\"/>\n",
              "    <path d=\"M18.56 5.44l.94 2.06.94-2.06 2.06-.94-2.06-.94-.94-2.06-.94 2.06-2.06.94zm-11 1L8.5 8.5l.94-2.06 2.06-.94-2.06-.94L8.5 2.5l-.94 2.06-2.06.94zm10 10l.94 2.06.94-2.06 2.06-.94-2.06-.94-.94-2.06-.94 2.06-2.06.94z\"/><path d=\"M17.41 7.96l-1.37-1.37c-.4-.4-.92-.59-1.43-.59-.52 0-1.04.2-1.43.59L10.3 9.45l-7.72 7.72c-.78.78-.78 2.05 0 2.83L4 21.41c.39.39.9.59 1.41.59.51 0 1.02-.2 1.41-.59l7.78-7.78 2.81-2.81c.8-.78.8-2.07 0-2.86zM5.41 20L4 18.59l7.72-7.72 1.47 1.35L5.41 20z\"/>\n",
              "  </svg>\n",
              "      </button>\n",
              "\n",
              "\n",
              "\n",
              "    <div id=\"df-62f574d5-fdaa-486c-95d7-71b7873c322f\">\n",
              "      <button class=\"colab-df-quickchart\" onclick=\"quickchart('df-62f574d5-fdaa-486c-95d7-71b7873c322f')\"\n",
              "              title=\"Suggest charts.\"\n",
              "              style=\"display:none;\">\n",
              "\n",
              "<svg xmlns=\"http://www.w3.org/2000/svg\" height=\"24px\"viewBox=\"0 0 24 24\"\n",
              "     width=\"24px\">\n",
              "    <g>\n",
              "        <path d=\"M19 3H5c-1.1 0-2 .9-2 2v14c0 1.1.9 2 2 2h14c1.1 0 2-.9 2-2V5c0-1.1-.9-2-2-2zM9 17H7v-7h2v7zm4 0h-2V7h2v10zm4 0h-2v-4h2v4z\"/>\n",
              "    </g>\n",
              "</svg>\n",
              "      </button>\n",
              "    </div>\n",
              "\n",
              "<style>\n",
              "  .colab-df-quickchart {\n",
              "    background-color: #E8F0FE;\n",
              "    border: none;\n",
              "    border-radius: 50%;\n",
              "    cursor: pointer;\n",
              "    display: none;\n",
              "    fill: #1967D2;\n",
              "    height: 32px;\n",
              "    padding: 0 0 0 0;\n",
              "    width: 32px;\n",
              "  }\n",
              "\n",
              "  .colab-df-quickchart:hover {\n",
              "    background-color: #E2EBFA;\n",
              "    box-shadow: 0px 1px 2px rgba(60, 64, 67, 0.3), 0px 1px 3px 1px rgba(60, 64, 67, 0.15);\n",
              "    fill: #174EA6;\n",
              "  }\n",
              "\n",
              "  [theme=dark] .colab-df-quickchart {\n",
              "    background-color: #3B4455;\n",
              "    fill: #D2E3FC;\n",
              "  }\n",
              "\n",
              "  [theme=dark] .colab-df-quickchart:hover {\n",
              "    background-color: #434B5C;\n",
              "    box-shadow: 0px 1px 3px 1px rgba(0, 0, 0, 0.15);\n",
              "    filter: drop-shadow(0px 1px 2px rgba(0, 0, 0, 0.3));\n",
              "    fill: #FFFFFF;\n",
              "  }\n",
              "</style>\n",
              "\n",
              "    <script>\n",
              "      async function quickchart(key) {\n",
              "        const containerElement = document.querySelector('#' + key);\n",
              "        const charts = await google.colab.kernel.invokeFunction(\n",
              "            'suggestCharts', [key], {});\n",
              "      }\n",
              "    </script>\n",
              "\n",
              "      <script>\n",
              "\n",
              "function displayQuickchartButton(domScope) {\n",
              "  let quickchartButtonEl =\n",
              "    domScope.querySelector('#df-62f574d5-fdaa-486c-95d7-71b7873c322f button.colab-df-quickchart');\n",
              "  quickchartButtonEl.style.display =\n",
              "    google.colab.kernel.accessAllowed ? 'block' : 'none';\n",
              "}\n",
              "\n",
              "        displayQuickchartButton(document);\n",
              "      </script>\n",
              "      <style>\n",
              "    .colab-df-container {\n",
              "      display:flex;\n",
              "      flex-wrap:wrap;\n",
              "      gap: 12px;\n",
              "    }\n",
              "\n",
              "    .colab-df-convert {\n",
              "      background-color: #E8F0FE;\n",
              "      border: none;\n",
              "      border-radius: 50%;\n",
              "      cursor: pointer;\n",
              "      display: none;\n",
              "      fill: #1967D2;\n",
              "      height: 32px;\n",
              "      padding: 0 0 0 0;\n",
              "      width: 32px;\n",
              "    }\n",
              "\n",
              "    .colab-df-convert:hover {\n",
              "      background-color: #E2EBFA;\n",
              "      box-shadow: 0px 1px 2px rgba(60, 64, 67, 0.3), 0px 1px 3px 1px rgba(60, 64, 67, 0.15);\n",
              "      fill: #174EA6;\n",
              "    }\n",
              "\n",
              "    [theme=dark] .colab-df-convert {\n",
              "      background-color: #3B4455;\n",
              "      fill: #D2E3FC;\n",
              "    }\n",
              "\n",
              "    [theme=dark] .colab-df-convert:hover {\n",
              "      background-color: #434B5C;\n",
              "      box-shadow: 0px 1px 3px 1px rgba(0, 0, 0, 0.15);\n",
              "      filter: drop-shadow(0px 1px 2px rgba(0, 0, 0, 0.3));\n",
              "      fill: #FFFFFF;\n",
              "    }\n",
              "  </style>\n",
              "\n",
              "      <script>\n",
              "        const buttonEl =\n",
              "          document.querySelector('#df-fc0cae64-1402-4510-a681-d1e7356b8ca3 button.colab-df-convert');\n",
              "        buttonEl.style.display =\n",
              "          google.colab.kernel.accessAllowed ? 'block' : 'none';\n",
              "\n",
              "        async function convertToInteractive(key) {\n",
              "          const element = document.querySelector('#df-fc0cae64-1402-4510-a681-d1e7356b8ca3');\n",
              "          const dataTable =\n",
              "            await google.colab.kernel.invokeFunction('convertToInteractive',\n",
              "                                                     [key], {});\n",
              "          if (!dataTable) return;\n",
              "\n",
              "          const docLinkHtml = 'Like what you see? Visit the ' +\n",
              "            '<a target=\"_blank\" href=https://colab.research.google.com/notebooks/data_table.ipynb>data table notebook</a>'\n",
              "            + ' to learn more about interactive tables.';\n",
              "          element.innerHTML = '';\n",
              "          dataTable['output_type'] = 'display_data';\n",
              "          await google.colab.output.renderOutput(dataTable, element);\n",
              "          const docLink = document.createElement('div');\n",
              "          docLink.innerHTML = docLinkHtml;\n",
              "          element.appendChild(docLink);\n",
              "        }\n",
              "      </script>\n",
              "    </div>\n",
              "  </div>\n"
            ]
          },
          "metadata": {},
          "execution_count": 28
        }
      ]
    },
    {
      "cell_type": "code",
      "source": [
        "# Value counts\n",
        "print(effnetb2_df.correct.value_counts())\n",
        "\n",
        "# Average time\n",
        "effnet_average_time = round(effnetb2_df.time_for_predict.mean(), 4)\n",
        "print(f\"Average time of prediction: {effnet_average_time}\")"
      ],
      "metadata": {
        "colab": {
          "base_uri": "https://localhost:8080/"
        },
        "id": "xMvRl86SolMj",
        "outputId": "dc29b6d3-3dc9-4343-c977-6fa8cc36c424"
      },
      "execution_count": 29,
      "outputs": [
        {
          "output_type": "stream",
          "name": "stdout",
          "text": [
            "True     70\n",
            "False     5\n",
            "Name: correct, dtype: int64\n",
            "Average time of prediction: 0.1163\n"
          ]
        }
      ]
    },
    {
      "cell_type": "markdown",
      "source": [
        "## Vit"
      ],
      "metadata": {
        "id": "wCiPyP1_ojqo"
      }
    },
    {
      "cell_type": "code",
      "source": [
        "vit_test_pred_list = pred_and_store(paths = test_data_paths,\n",
        "                                    model = vit_model,\n",
        "                                    transform = vit_tranforms,\n",
        "                                    class_names = [\"pizza\", \"steak\", \"sushi\"],\n",
        "                                    device = \"cpu\")"
      ],
      "metadata": {
        "colab": {
          "base_uri": "https://localhost:8080/",
          "height": 49,
          "referenced_widgets": [
            "183a8ee2a316422390095e4c295862fe",
            "abf262a8eb03436e8fc69d3cad64b8bd",
            "e84c1503921740638ae6a639a9267bde",
            "c2245c5273f04fa68f33d042bc3adae1",
            "e81bbe2b1f004264a0f31f585239fc22",
            "d6be83d04886458aa9d836ab993d246f",
            "75552631f18649c086a392bf2ceb1b41",
            "00a27ed9271643968f255ce602201622",
            "3e667a654e294dcf9a7507270d990fce",
            "14096948c44d4ed584ce4f598b570322",
            "c1952f60089f4d29bbab75f0cc7679f0"
          ]
        },
        "id": "j6KridX2mxr7",
        "outputId": "c31263f7-a1de-419f-add4-093534cffbf4"
      },
      "execution_count": 30,
      "outputs": [
        {
          "output_type": "display_data",
          "data": {
            "text/plain": [
              "  0%|          | 0/75 [00:00<?, ?it/s]"
            ],
            "application/vnd.jupyter.widget-view+json": {
              "version_major": 2,
              "version_minor": 0,
              "model_id": "183a8ee2a316422390095e4c295862fe"
            }
          },
          "metadata": {}
        }
      ]
    },
    {
      "cell_type": "code",
      "source": [
        "# DF\n",
        "vit_df = pd.DataFrame(vit_test_pred_list)\n",
        "\n",
        "# Check\n",
        "vit_df.head()"
      ],
      "metadata": {
        "colab": {
          "base_uri": "https://localhost:8080/",
          "height": 270
        },
        "id": "bNcNkgyMoNJO",
        "outputId": "6c566c4d-c961-4f7d-9544-5a597a1862d3"
      },
      "execution_count": 31,
      "outputs": [
        {
          "output_type": "execute_result",
          "data": {
            "text/plain": [
              "                                      image_path class_name  preds_prob  \\\n",
              "0   data/pizza_steak_sushi/test/steak/673127.jpg      steak      0.9997   \n",
              "1    data/pizza_steak_sushi/test/steak/27415.jpg      steak      0.6249   \n",
              "2   data/pizza_steak_sushi/test/steak/296375.jpg      steak      0.9998   \n",
              "3  data/pizza_steak_sushi/test/steak/2117351.jpg      steak      0.9984   \n",
              "4  data/pizza_steak_sushi/test/steak/1627703.jpg      steak      0.9467   \n",
              "\n",
              "  pred_class  time_for_predict  correct  \n",
              "0      steak            0.7165     True  \n",
              "1      sushi            0.5530    False  \n",
              "2      steak            0.5506     True  \n",
              "3      steak            0.5550     True  \n",
              "4      sushi            0.6151    False  "
            ],
            "text/html": [
              "\n",
              "\n",
              "  <div id=\"df-876b595c-7417-48fa-8550-fbc3e2a5fae0\">\n",
              "    <div class=\"colab-df-container\">\n",
              "      <div>\n",
              "<style scoped>\n",
              "    .dataframe tbody tr th:only-of-type {\n",
              "        vertical-align: middle;\n",
              "    }\n",
              "\n",
              "    .dataframe tbody tr th {\n",
              "        vertical-align: top;\n",
              "    }\n",
              "\n",
              "    .dataframe thead th {\n",
              "        text-align: right;\n",
              "    }\n",
              "</style>\n",
              "<table border=\"1\" class=\"dataframe\">\n",
              "  <thead>\n",
              "    <tr style=\"text-align: right;\">\n",
              "      <th></th>\n",
              "      <th>image_path</th>\n",
              "      <th>class_name</th>\n",
              "      <th>preds_prob</th>\n",
              "      <th>pred_class</th>\n",
              "      <th>time_for_predict</th>\n",
              "      <th>correct</th>\n",
              "    </tr>\n",
              "  </thead>\n",
              "  <tbody>\n",
              "    <tr>\n",
              "      <th>0</th>\n",
              "      <td>data/pizza_steak_sushi/test/steak/673127.jpg</td>\n",
              "      <td>steak</td>\n",
              "      <td>0.9997</td>\n",
              "      <td>steak</td>\n",
              "      <td>0.7165</td>\n",
              "      <td>True</td>\n",
              "    </tr>\n",
              "    <tr>\n",
              "      <th>1</th>\n",
              "      <td>data/pizza_steak_sushi/test/steak/27415.jpg</td>\n",
              "      <td>steak</td>\n",
              "      <td>0.6249</td>\n",
              "      <td>sushi</td>\n",
              "      <td>0.5530</td>\n",
              "      <td>False</td>\n",
              "    </tr>\n",
              "    <tr>\n",
              "      <th>2</th>\n",
              "      <td>data/pizza_steak_sushi/test/steak/296375.jpg</td>\n",
              "      <td>steak</td>\n",
              "      <td>0.9998</td>\n",
              "      <td>steak</td>\n",
              "      <td>0.5506</td>\n",
              "      <td>True</td>\n",
              "    </tr>\n",
              "    <tr>\n",
              "      <th>3</th>\n",
              "      <td>data/pizza_steak_sushi/test/steak/2117351.jpg</td>\n",
              "      <td>steak</td>\n",
              "      <td>0.9984</td>\n",
              "      <td>steak</td>\n",
              "      <td>0.5550</td>\n",
              "      <td>True</td>\n",
              "    </tr>\n",
              "    <tr>\n",
              "      <th>4</th>\n",
              "      <td>data/pizza_steak_sushi/test/steak/1627703.jpg</td>\n",
              "      <td>steak</td>\n",
              "      <td>0.9467</td>\n",
              "      <td>sushi</td>\n",
              "      <td>0.6151</td>\n",
              "      <td>False</td>\n",
              "    </tr>\n",
              "  </tbody>\n",
              "</table>\n",
              "</div>\n",
              "      <button class=\"colab-df-convert\" onclick=\"convertToInteractive('df-876b595c-7417-48fa-8550-fbc3e2a5fae0')\"\n",
              "              title=\"Convert this dataframe to an interactive table.\"\n",
              "              style=\"display:none;\">\n",
              "\n",
              "  <svg xmlns=\"http://www.w3.org/2000/svg\" height=\"24px\"viewBox=\"0 0 24 24\"\n",
              "       width=\"24px\">\n",
              "    <path d=\"M0 0h24v24H0V0z\" fill=\"none\"/>\n",
              "    <path d=\"M18.56 5.44l.94 2.06.94-2.06 2.06-.94-2.06-.94-.94-2.06-.94 2.06-2.06.94zm-11 1L8.5 8.5l.94-2.06 2.06-.94-2.06-.94L8.5 2.5l-.94 2.06-2.06.94zm10 10l.94 2.06.94-2.06 2.06-.94-2.06-.94-.94-2.06-.94 2.06-2.06.94z\"/><path d=\"M17.41 7.96l-1.37-1.37c-.4-.4-.92-.59-1.43-.59-.52 0-1.04.2-1.43.59L10.3 9.45l-7.72 7.72c-.78.78-.78 2.05 0 2.83L4 21.41c.39.39.9.59 1.41.59.51 0 1.02-.2 1.41-.59l7.78-7.78 2.81-2.81c.8-.78.8-2.07 0-2.86zM5.41 20L4 18.59l7.72-7.72 1.47 1.35L5.41 20z\"/>\n",
              "  </svg>\n",
              "      </button>\n",
              "\n",
              "\n",
              "\n",
              "    <div id=\"df-370705e0-cb08-49f4-8016-c2048f4d069a\">\n",
              "      <button class=\"colab-df-quickchart\" onclick=\"quickchart('df-370705e0-cb08-49f4-8016-c2048f4d069a')\"\n",
              "              title=\"Suggest charts.\"\n",
              "              style=\"display:none;\">\n",
              "\n",
              "<svg xmlns=\"http://www.w3.org/2000/svg\" height=\"24px\"viewBox=\"0 0 24 24\"\n",
              "     width=\"24px\">\n",
              "    <g>\n",
              "        <path d=\"M19 3H5c-1.1 0-2 .9-2 2v14c0 1.1.9 2 2 2h14c1.1 0 2-.9 2-2V5c0-1.1-.9-2-2-2zM9 17H7v-7h2v7zm4 0h-2V7h2v10zm4 0h-2v-4h2v4z\"/>\n",
              "    </g>\n",
              "</svg>\n",
              "      </button>\n",
              "    </div>\n",
              "\n",
              "<style>\n",
              "  .colab-df-quickchart {\n",
              "    background-color: #E8F0FE;\n",
              "    border: none;\n",
              "    border-radius: 50%;\n",
              "    cursor: pointer;\n",
              "    display: none;\n",
              "    fill: #1967D2;\n",
              "    height: 32px;\n",
              "    padding: 0 0 0 0;\n",
              "    width: 32px;\n",
              "  }\n",
              "\n",
              "  .colab-df-quickchart:hover {\n",
              "    background-color: #E2EBFA;\n",
              "    box-shadow: 0px 1px 2px rgba(60, 64, 67, 0.3), 0px 1px 3px 1px rgba(60, 64, 67, 0.15);\n",
              "    fill: #174EA6;\n",
              "  }\n",
              "\n",
              "  [theme=dark] .colab-df-quickchart {\n",
              "    background-color: #3B4455;\n",
              "    fill: #D2E3FC;\n",
              "  }\n",
              "\n",
              "  [theme=dark] .colab-df-quickchart:hover {\n",
              "    background-color: #434B5C;\n",
              "    box-shadow: 0px 1px 3px 1px rgba(0, 0, 0, 0.15);\n",
              "    filter: drop-shadow(0px 1px 2px rgba(0, 0, 0, 0.3));\n",
              "    fill: #FFFFFF;\n",
              "  }\n",
              "</style>\n",
              "\n",
              "    <script>\n",
              "      async function quickchart(key) {\n",
              "        const containerElement = document.querySelector('#' + key);\n",
              "        const charts = await google.colab.kernel.invokeFunction(\n",
              "            'suggestCharts', [key], {});\n",
              "      }\n",
              "    </script>\n",
              "\n",
              "      <script>\n",
              "\n",
              "function displayQuickchartButton(domScope) {\n",
              "  let quickchartButtonEl =\n",
              "    domScope.querySelector('#df-370705e0-cb08-49f4-8016-c2048f4d069a button.colab-df-quickchart');\n",
              "  quickchartButtonEl.style.display =\n",
              "    google.colab.kernel.accessAllowed ? 'block' : 'none';\n",
              "}\n",
              "\n",
              "        displayQuickchartButton(document);\n",
              "      </script>\n",
              "      <style>\n",
              "    .colab-df-container {\n",
              "      display:flex;\n",
              "      flex-wrap:wrap;\n",
              "      gap: 12px;\n",
              "    }\n",
              "\n",
              "    .colab-df-convert {\n",
              "      background-color: #E8F0FE;\n",
              "      border: none;\n",
              "      border-radius: 50%;\n",
              "      cursor: pointer;\n",
              "      display: none;\n",
              "      fill: #1967D2;\n",
              "      height: 32px;\n",
              "      padding: 0 0 0 0;\n",
              "      width: 32px;\n",
              "    }\n",
              "\n",
              "    .colab-df-convert:hover {\n",
              "      background-color: #E2EBFA;\n",
              "      box-shadow: 0px 1px 2px rgba(60, 64, 67, 0.3), 0px 1px 3px 1px rgba(60, 64, 67, 0.15);\n",
              "      fill: #174EA6;\n",
              "    }\n",
              "\n",
              "    [theme=dark] .colab-df-convert {\n",
              "      background-color: #3B4455;\n",
              "      fill: #D2E3FC;\n",
              "    }\n",
              "\n",
              "    [theme=dark] .colab-df-convert:hover {\n",
              "      background-color: #434B5C;\n",
              "      box-shadow: 0px 1px 3px 1px rgba(0, 0, 0, 0.15);\n",
              "      filter: drop-shadow(0px 1px 2px rgba(0, 0, 0, 0.3));\n",
              "      fill: #FFFFFF;\n",
              "    }\n",
              "  </style>\n",
              "\n",
              "      <script>\n",
              "        const buttonEl =\n",
              "          document.querySelector('#df-876b595c-7417-48fa-8550-fbc3e2a5fae0 button.colab-df-convert');\n",
              "        buttonEl.style.display =\n",
              "          google.colab.kernel.accessAllowed ? 'block' : 'none';\n",
              "\n",
              "        async function convertToInteractive(key) {\n",
              "          const element = document.querySelector('#df-876b595c-7417-48fa-8550-fbc3e2a5fae0');\n",
              "          const dataTable =\n",
              "            await google.colab.kernel.invokeFunction('convertToInteractive',\n",
              "                                                     [key], {});\n",
              "          if (!dataTable) return;\n",
              "\n",
              "          const docLinkHtml = 'Like what you see? Visit the ' +\n",
              "            '<a target=\"_blank\" href=https://colab.research.google.com/notebooks/data_table.ipynb>data table notebook</a>'\n",
              "            + ' to learn more about interactive tables.';\n",
              "          element.innerHTML = '';\n",
              "          dataTable['output_type'] = 'display_data';\n",
              "          await google.colab.output.renderOutput(dataTable, element);\n",
              "          const docLink = document.createElement('div');\n",
              "          docLink.innerHTML = docLinkHtml;\n",
              "          element.appendChild(docLink);\n",
              "        }\n",
              "      </script>\n",
              "    </div>\n",
              "  </div>\n"
            ]
          },
          "metadata": {},
          "execution_count": 31
        }
      ]
    },
    {
      "cell_type": "code",
      "source": [
        "# Value counts\n",
        "print(vit_df.correct.value_counts())\n",
        "\n",
        "# Average time\n",
        "vit_average_time = round(vit_df.time_for_predict.mean(), 4)\n",
        "print(f\"Average time of prediction: {vit_average_time}\")"
      ],
      "metadata": {
        "colab": {
          "base_uri": "https://localhost:8080/"
        },
        "id": "688FmsvopW1H",
        "outputId": "9a1380c3-9ed6-4858-b379-f0bebe1ebcc1"
      },
      "execution_count": 32,
      "outputs": [
        {
          "output_type": "stream",
          "name": "stdout",
          "text": [
            "True     69\n",
            "False     6\n",
            "Name: correct, dtype: int64\n",
            "Average time of prediction: 0.6822\n"
          ]
        }
      ]
    },
    {
      "cell_type": "markdown",
      "source": [
        "## Result config"
      ],
      "metadata": {
        "id": "JFHGjK6Uwsdu"
      }
    },
    {
      "cell_type": "code",
      "source": [
        "effnet_final_results = {\"Test Loss\": effnet_results[\"test_loss\"][-1],\n",
        "                        \"Test Accuracy\": effnet_results[\"test_acc\"][-1],\n",
        "                        \"Model size (MB)\": effnet_model_size,\n",
        "                        \"Average predict time\": effnet_average_time}\n",
        "effnet_final_results"
      ],
      "metadata": {
        "colab": {
          "base_uri": "https://localhost:8080/"
        },
        "id": "gHD8qi4fwwZU",
        "outputId": "38261c4e-78bb-4d12-bd09-2b40ccd6000d"
      },
      "execution_count": 33,
      "outputs": [
        {
          "output_type": "execute_result",
          "data": {
            "text/plain": [
              "{'Test Loss': 0.23159123957157135,\n",
              " 'Test Accuracy': 0.953125,\n",
              " 'Model size (MB)': 30,\n",
              " 'Average predict time': 0.1163}"
            ]
          },
          "metadata": {},
          "execution_count": 33
        }
      ]
    },
    {
      "cell_type": "code",
      "source": [
        "vit_final_results = {\"Test Loss\": vit_results[\"test_loss\"][-1],\n",
        "                     \"Test Accuracy\": vit_results[\"test_acc\"][-1],\n",
        "                     \"Model size (MB)\": vit_model_size,\n",
        "                     \"Average predict time\": vit_average_time}\n",
        "vit_final_results"
      ],
      "metadata": {
        "colab": {
          "base_uri": "https://localhost:8080/"
        },
        "id": "zKsd4B4Px0ZH",
        "outputId": "4677cb0d-e955-4865-eb47-c65e32a1e747"
      },
      "execution_count": 34,
      "outputs": [
        {
          "output_type": "execute_result",
          "data": {
            "text/plain": [
              "{'Test Loss': 0.20754124224185944,\n",
              " 'Test Accuracy': 0.921875,\n",
              " 'Model size (MB)': 327,\n",
              " 'Average predict time': 0.6822}"
            ]
          },
          "metadata": {},
          "execution_count": 34
        }
      ]
    }
  ]
}