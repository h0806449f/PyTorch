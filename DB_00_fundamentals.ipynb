{
  "nbformat": 4,
  "nbformat_minor": 0,
  "metadata": {
    "colab": {
      "provenance": [],
      "collapsed_sections": [
        "yDKQaTy_oXgI",
        "OQNyhIgnoq2c",
        "pXkgqnHq1F_H",
        "7nX7luD61Svn"
      ],
      "gpuType": "T4",
      "authorship_tag": "ABX9TyMnO7l5VKsCDNZFT/QWTHPn",
      "include_colab_link": true
    },
    "kernelspec": {
      "name": "python3",
      "display_name": "Python 3"
    },
    "language_info": {
      "name": "python"
    }
  },
  "cells": [
    {
      "cell_type": "markdown",
      "metadata": {
        "id": "view-in-github",
        "colab_type": "text"
      },
      "source": [
        "<a href=\"https://colab.research.google.com/github/h0806449f/PyTorch/blob/main/DB_00_fundamentals.ipynb\" target=\"_parent\"><img src=\"https://colab.research.google.com/assets/colab-badge.svg\" alt=\"Open In Colab\"/></a>"
      ]
    },
    {
      "cell_type": "markdown",
      "source": [
        "These Pytorch course from :  \n",
        "DB : https://www.youtube.com/@mrdbourke/videos"
      ],
      "metadata": {
        "id": "VOtMIQn35zuE"
      }
    },
    {
      "cell_type": "markdown",
      "source": [
        "# Workflow\n",
        "1. Get data ready (資料預處理)\n",
        "2. Build model  \n",
        "    2.1 Pick loss function & optimizer  \n",
        "    2.2 Build training loop\n",
        "3. Fit data to model then make prediction\n",
        "4. Evaluate model\n",
        "5. Improve model\n",
        "6. Save model (For reuse)"
      ],
      "metadata": {
        "id": "RYooK6fEjtMp"
      }
    },
    {
      "cell_type": "markdown",
      "source": [
        "# Preparing"
      ],
      "metadata": {
        "id": "yDKQaTy_oXgI"
      }
    },
    {
      "cell_type": "code",
      "execution_count": 2,
      "metadata": {
        "colab": {
          "base_uri": "https://localhost:8080/"
        },
        "id": "bGeOfVrAf_YF",
        "outputId": "fb0084e5-abf2-4246-9b30-7a7ca4b3da11"
      },
      "outputs": [
        {
          "output_type": "stream",
          "name": "stdout",
          "text": [
            "2.0.1+cu118\n"
          ]
        }
      ],
      "source": [
        "# check torch version\n",
        "\n",
        "import torch\n",
        "import pandas as pd\n",
        "import numpy as np\n",
        "import matplotlib.pyplot as plt\n",
        "\n",
        "print(torch.__version__)"
      ]
    },
    {
      "cell_type": "code",
      "source": [
        "# check GPU\n",
        "\n",
        "!nvidia-smi"
      ],
      "metadata": {
        "colab": {
          "base_uri": "https://localhost:8080/"
        },
        "id": "tAUuYE17-kde",
        "outputId": "f2fbba18-9379-4bad-b3c5-51a0ea9219ea"
      },
      "execution_count": 3,
      "outputs": [
        {
          "output_type": "stream",
          "name": "stdout",
          "text": [
            "/bin/bash: nvidia-smi: command not found\n"
          ]
        }
      ]
    },
    {
      "cell_type": "markdown",
      "source": [
        "# Create tensors\n",
        "1. scalar 慣用變數 lower(a)\n",
        "2. vector 慣用變數 lower(y)\n",
        "3. matrix 慣用變數 Upper(Q)\n",
        "4. tensor 慣用變數 Upper(X)"
      ],
      "metadata": {
        "id": "OQNyhIgnoq2c"
      }
    },
    {
      "cell_type": "code",
      "source": [
        "# scalar\n",
        "scalar = torch.tensor(9)\n",
        "\n",
        "# scalar's number of dimension\n",
        "scalar.ndim\n",
        "\n",
        "# Get tensor back as python int (取出tensor中的資料)\n",
        "scalar.item()\n",
        "\n",
        "print(f\"scalar's dimension: {scalar.ndim} / info: {scalar.item()}\")"
      ],
      "metadata": {
        "colab": {
          "base_uri": "https://localhost:8080/"
        },
        "id": "AlQQBnuKnzYt",
        "outputId": "3a80e522-c843-40b4-905a-89e605bd8c79"
      },
      "execution_count": 4,
      "outputs": [
        {
          "output_type": "stream",
          "name": "stdout",
          "text": [
            "scalar's dimension: 0 / info: 9\n"
          ]
        }
      ]
    },
    {
      "cell_type": "code",
      "source": [
        "# Vector\n",
        "vector = torch.tensor( [7, 7] )\n",
        "\n",
        "# vector's number of dimension\n",
        "vector.ndim\n",
        "\n",
        "# check shape\n",
        "vector.shape\n",
        "\n",
        "print(f\"vector's dimension: {vector.ndim} / shape: {vector.shape} / info: {vector}\")"
      ],
      "metadata": {
        "colab": {
          "base_uri": "https://localhost:8080/"
        },
        "id": "Cb-yDGP8pfsL",
        "outputId": "7976dbaf-918d-4954-a424-26b27b731408"
      },
      "execution_count": 5,
      "outputs": [
        {
          "output_type": "stream",
          "name": "stdout",
          "text": [
            "vector's dimension: 1 / shape: torch.Size([2]) / info: tensor([7, 7])\n"
          ]
        }
      ]
    },
    {
      "cell_type": "code",
      "source": [
        "# MATRIX\n",
        "MATRIX = torch.tensor( [[7, 8],\n",
        "              [9, 10]] )\n",
        "\n",
        "# matrix's number of dimension\n",
        "MATRIX.ndim\n",
        "\n",
        "# check shape\n",
        "MATRIX.shape\n",
        "\n",
        "print(f\"matrix's dimension: {MATRIX.ndim}\\nshape: {MATRIX.shape}\\ninfo:\\n{MATRIX}\")"
      ],
      "metadata": {
        "colab": {
          "base_uri": "https://localhost:8080/"
        },
        "id": "BFGRjcRQqYLA",
        "outputId": "89a42d5c-a5c0-489e-8969-1c4781f107ff"
      },
      "execution_count": 6,
      "outputs": [
        {
          "output_type": "stream",
          "name": "stdout",
          "text": [
            "matrix's dimension: 2\n",
            "shape: torch.Size([2, 2])\n",
            "info:\n",
            "tensor([[ 7,  8],\n",
            "        [ 9, 10]])\n"
          ]
        }
      ]
    },
    {
      "cell_type": "code",
      "source": [
        "# TENSOR\n",
        "TENSOR = torch.tensor( [[[1, 2, 3],\n",
        "               [4, 5, 6],\n",
        "               [7, 8, 9]]] )\n",
        "\n",
        "# number of dimension\n",
        "TENSOR.ndim\n",
        "\n",
        "# check shape\n",
        "TENSOR.shape\n",
        "\n",
        "print(f\"tensor's dimension: {TENSOR.ndim}\\nshape: {TENSOR.shape}\\ninfo:\\n{TENSOR}\")"
      ],
      "metadata": {
        "colab": {
          "base_uri": "https://localhost:8080/"
        },
        "id": "GuKAEkQLr5XG",
        "outputId": "bf6be565-8b62-4c46-dffb-45b7b987cd5b"
      },
      "execution_count": 7,
      "outputs": [
        {
          "output_type": "stream",
          "name": "stdout",
          "text": [
            "tensor's dimension: 3\n",
            "shape: torch.Size([1, 3, 3])\n",
            "info:\n",
            "tensor([[[1, 2, 3],\n",
            "         [4, 5, 6],\n",
            "         [7, 8, 9]]])\n"
          ]
        }
      ]
    },
    {
      "cell_type": "code",
      "source": [
        "# 拿出第一個 tensor\n",
        "TENSOR[0]\n",
        "\n",
        "# if TENSOR[1]\n",
        "# -> IndexError: index 1 is out of bounds for dimension 0 with size 1"
      ],
      "metadata": {
        "colab": {
          "base_uri": "https://localhost:8080/"
        },
        "id": "bq90KtZ0sv4b",
        "outputId": "9cbed2a6-7b99-4f64-ec8c-b2c2ad8634ee"
      },
      "execution_count": 8,
      "outputs": [
        {
          "output_type": "execute_result",
          "data": {
            "text/plain": [
              "tensor([[1, 2, 3],\n",
              "        [4, 5, 6],\n",
              "        [7, 8, 9]])"
            ]
          },
          "metadata": {},
          "execution_count": 8
        }
      ]
    },
    {
      "cell_type": "code",
      "source": [
        "# 練習\n",
        "test_1 = torch.tensor( [[[0,0,0],\n",
        "               [0,0,0],\n",
        "               [0,0,0]],\n",
        "               [[1,1,1],\n",
        "               [1,1,1],\n",
        "               [1,1,1]]] )\n",
        "\n",
        "# number of dimension\n",
        "test_1.ndim\n",
        "\n",
        "# shape\n",
        "test_1.shape\n",
        "\n",
        "print(f\"tensor's dimension: {test_1.ndim}\\nshape: {test_1.shape}\\ninfo:\\n{test_1}\")\n",
        "print(f\"取出第二個:\\n{test_1[1]}\")"
      ],
      "metadata": {
        "colab": {
          "base_uri": "https://localhost:8080/"
        },
        "id": "6gbcPhPxtR-l",
        "outputId": "9dfaa337-25eb-49cc-9546-c86d9c8a37ff"
      },
      "execution_count": 9,
      "outputs": [
        {
          "output_type": "stream",
          "name": "stdout",
          "text": [
            "tensor's dimension: 3\n",
            "shape: torch.Size([2, 3, 3])\n",
            "info:\n",
            "tensor([[[0, 0, 0],\n",
            "         [0, 0, 0],\n",
            "         [0, 0, 0]],\n",
            "\n",
            "        [[1, 1, 1],\n",
            "         [1, 1, 1],\n",
            "         [1, 1, 1]]])\n",
            "取出第二個:\n",
            "tensor([[1, 1, 1],\n",
            "        [1, 1, 1],\n",
            "        [1, 1, 1]])\n"
          ]
        }
      ]
    },
    {
      "cell_type": "markdown",
      "source": [
        "# Random tensor\n",
        "1. 為何使用Random tensor  \n",
        "    CNN先隨機給係數, 之後再由網絡調整"
      ],
      "metadata": {
        "id": "pXkgqnHq1F_H"
      }
    },
    {
      "cell_type": "code",
      "source": [
        "# create random tensor\n",
        "random_tensor = torch.rand(3, 4, 4)\n",
        "\n",
        "print(f\"first:\\n{random_tensor[0]}\\nsecond:\\n{random_tensor[1]}\")"
      ],
      "metadata": {
        "colab": {
          "base_uri": "https://localhost:8080/"
        },
        "id": "v0NAlLBcud_g",
        "outputId": "8526df12-5379-4d76-d13d-8f0b9381b065"
      },
      "execution_count": 10,
      "outputs": [
        {
          "output_type": "stream",
          "name": "stdout",
          "text": [
            "first:\n",
            "tensor([[0.0586, 0.2903, 0.8099, 0.5269],\n",
            "        [0.4202, 0.6191, 0.7305, 0.4204],\n",
            "        [0.7239, 0.9674, 0.1957, 0.9289],\n",
            "        [0.7111, 0.9494, 0.5216, 0.5376]])\n",
            "second:\n",
            "tensor([[0.6046, 0.1861, 0.3131, 0.0698],\n",
            "        [0.2878, 0.1904, 0.5684, 0.3080],\n",
            "        [0.5317, 0.7776, 0.8042, 0.0146],\n",
            "        [0.5482, 0.3306, 0.0299, 0.8681]])\n"
          ]
        }
      ]
    },
    {
      "cell_type": "code",
      "source": [
        "# 與圖片相似的random tensor\n",
        "image = torch.rand(size=(224, 224, 3))\n",
        "\n",
        "print(f\"dimension:{image.ndim}\\nshape:\\n{image.shape}\")"
      ],
      "metadata": {
        "colab": {
          "base_uri": "https://localhost:8080/"
        },
        "id": "wMYHX0e1wnWD",
        "outputId": "971939eb-9385-49ab-ba27-4363868118b9"
      },
      "execution_count": 11,
      "outputs": [
        {
          "output_type": "stream",
          "name": "stdout",
          "text": [
            "dimension:3\n",
            "shape:\n",
            "torch.Size([224, 224, 3])\n"
          ]
        }
      ]
    },
    {
      "cell_type": "markdown",
      "source": [
        "# 0 & 1 tensor\n",
        "1. 為何使用0, 1 tensor  \n",
        "    與之後的Mask有關聯"
      ],
      "metadata": {
        "id": "7nX7luD61Svn"
      }
    },
    {
      "cell_type": "code",
      "source": [
        "# zero and one\n",
        "zeros = torch.zeros(size=(1, 4, 4))\n",
        "ones = torch.ones(size=(2, 4, 4))\n",
        "print(ones)"
      ],
      "metadata": {
        "colab": {
          "base_uri": "https://localhost:8080/"
        },
        "id": "zZtX2JU3ywjh",
        "outputId": "5c702641-5ab5-4c7a-93b9-0909a2bc06a4"
      },
      "execution_count": 12,
      "outputs": [
        {
          "output_type": "stream",
          "name": "stdout",
          "text": [
            "tensor([[[1., 1., 1., 1.],\n",
            "         [1., 1., 1., 1.],\n",
            "         [1., 1., 1., 1.],\n",
            "         [1., 1., 1., 1.]],\n",
            "\n",
            "        [[1., 1., 1., 1.],\n",
            "         [1., 1., 1., 1.],\n",
            "         [1., 1., 1., 1.],\n",
            "         [1., 1., 1., 1.]]])\n"
          ]
        }
      ]
    },
    {
      "cell_type": "code",
      "source": [
        "# Mask (shape需相同, 才可以相乘)\n",
        "masked_tensor = random_tensor[0] * zeros\n",
        "print(masked_tensor)"
      ],
      "metadata": {
        "colab": {
          "base_uri": "https://localhost:8080/"
        },
        "id": "3skR7jNXKzLc",
        "outputId": "22f11735-d58b-4a9f-e0cf-0635da6c6e24"
      },
      "execution_count": 13,
      "outputs": [
        {
          "output_type": "stream",
          "name": "stdout",
          "text": [
            "tensor([[[0., 0., 0., 0.],\n",
            "         [0., 0., 0., 0.],\n",
            "         [0., 0., 0., 0.],\n",
            "         [0., 0., 0., 0.]]])\n"
          ]
        }
      ]
    },
    {
      "cell_type": "markdown",
      "source": [
        "# Range tensor & tensor-like"
      ],
      "metadata": {
        "id": "lWbqL7sn1WOw"
      }
    },
    {
      "cell_type": "code",
      "source": [
        "range = torch.arange(start=0, end=16, step=3)\n",
        "range_1 = torch.arange(0, 21, 2)\n",
        "\n",
        "range, range_1"
      ],
      "metadata": {
        "colab": {
          "base_uri": "https://localhost:8080/"
        },
        "id": "3NoTwOKK09xN",
        "outputId": "39b3ba6b-d18a-4dd5-eefb-465c2723ef5b"
      },
      "execution_count": 15,
      "outputs": [
        {
          "output_type": "execute_result",
          "data": {
            "text/plain": [
              "(tensor([ 0,  3,  6,  9, 12, 15]),\n",
              " tensor([ 0,  2,  4,  6,  8, 10, 12, 14, 16, 18, 20]))"
            ]
          },
          "metadata": {},
          "execution_count": 15
        }
      ]
    },
    {
      "cell_type": "code",
      "source": [
        "# 創造與之前tensor相同shape 的新tensor \n",
        "zeros = torch.zeros_like(input=range_1)\n",
        "ones = torch.ones_like(input=range_1)\n",
        "zeros, ones"
      ],
      "metadata": {
        "colab": {
          "base_uri": "https://localhost:8080/"
        },
        "id": "sIXHfRKd1mt-",
        "outputId": "cc7c3f49-0ff0-49e2-ef00-b0909949fdbc"
      },
      "execution_count": 16,
      "outputs": [
        {
          "output_type": "execute_result",
          "data": {
            "text/plain": [
              "(tensor([0, 0, 0, 0, 0, 0, 0, 0, 0, 0, 0]),\n",
              " tensor([1, 1, 1, 1, 1, 1, 1, 1, 1, 1, 1]))"
            ]
          },
          "metadata": {},
          "execution_count": 16
        }
      ]
    },
    {
      "cell_type": "markdown",
      "source": [
        "# Starts from 1:54:22"
      ],
      "metadata": {
        "id": "q5DcnxGzJLcB"
      }
    },
    {
      "cell_type": "markdown",
      "source": [
        "# Tensor datatypes\n",
        "1. tensor.dtype\n",
        "2. tensor.shape\n",
        "3. tensor.device  \n",
        "\n",
        "Checking tensor information"
      ],
      "metadata": {
        "id": "-TqSeJ1d24Sn"
      }
    },
    {
      "cell_type": "code",
      "source": [
        "# default : float32\n",
        "temp_tensor = torch.tensor( [3.0, 6.0, 9.0],\n",
        "                 dtype=None,   # datatype\n",
        "                 device=None,   # CPU or GPU -> colab : \"cuda\"\n",
        "                 requires_grad=False)   # track gradients operation ?\n",
        "temp_tensor"
      ],
      "metadata": {
        "colab": {
          "base_uri": "https://localhost:8080/"
        },
        "id": "MnqlWAT12gTF",
        "outputId": "f30e5700-70bf-4da9-e7d4-c1c1bd265e81"
      },
      "execution_count": null,
      "outputs": [
        {
          "output_type": "execute_result",
          "data": {
            "text/plain": [
              "tensor([3., 6., 9.])"
            ]
          },
          "metadata": {},
          "execution_count": 62
        }
      ]
    },
    {
      "cell_type": "code",
      "source": [
        "print(f\"tensor datatype: {temp_tensor.dtype}\")\n",
        "print(f\"tensor shape: {temp_tensor.shape}\")\n",
        "print(f\"tensor device: {temp_tensor.device}\")"
      ],
      "metadata": {
        "colab": {
          "base_uri": "https://localhost:8080/"
        },
        "id": "2oORGUyR5pK2",
        "outputId": "75384c61-345d-4d8e-cb05-92bcac1c72b5"
      },
      "execution_count": null,
      "outputs": [
        {
          "output_type": "stream",
          "name": "stdout",
          "text": [
            "tensor datatype: torch.float32\n",
            "tensor shape: torch.Size([3])\n",
            "tensor device: cpu\n"
          ]
        }
      ]
    },
    {
      "cell_type": "markdown",
      "source": [
        "# Manipulating tensor (tensor operation)\n",
        "1. Addition\n",
        "2. Subtraction\n",
        "3. Multiplication (element-wise)\n",
        "4. Devision\n",
        "5. Matrix multiplication\n",
        "    1. 兩種常見 multiplication 方法:\n",
        "    2. Element-wise\n",
        "    3. Matrix multiplication"
      ],
      "metadata": {
        "id": "dbtUGvQx6y6Z"
      }
    },
    {
      "cell_type": "code",
      "source": [
        "temp_tensor = torch.tensor( [[1, 2, 3],\n",
        "                 [4, 5, 6]] )\n",
        "temp_tensor + 10"
      ],
      "metadata": {
        "colab": {
          "base_uri": "https://localhost:8080/"
        },
        "id": "4AxghrsJ6bnN",
        "outputId": "0f24dc30-3f73-4cec-b5f8-8ccb1836bc06"
      },
      "execution_count": null,
      "outputs": [
        {
          "output_type": "execute_result",
          "data": {
            "text/plain": [
              "tensor([[11, 12, 13],\n",
              "        [14, 15, 16]])"
            ]
          },
          "metadata": {},
          "execution_count": 65
        }
      ]
    },
    {
      "cell_type": "code",
      "source": [
        "temp_tensor - 10"
      ],
      "metadata": {
        "colab": {
          "base_uri": "https://localhost:8080/"
        },
        "id": "gMUN44tb7ldO",
        "outputId": "091d76d1-f091-4825-943d-57e55e93e4d6"
      },
      "execution_count": null,
      "outputs": [
        {
          "output_type": "execute_result",
          "data": {
            "text/plain": [
              "tensor([[-9, -8, -7],\n",
              "        [-6, -5, -4]])"
            ]
          },
          "metadata": {},
          "execution_count": 66
        }
      ]
    },
    {
      "cell_type": "code",
      "source": [
        "often = temp_tensor * 5\n",
        "seldom = torch.mul(temp_tensor, 5)\n",
        "\n",
        "often, seldom"
      ],
      "metadata": {
        "colab": {
          "base_uri": "https://localhost:8080/"
        },
        "id": "-mK94LAo7na9",
        "outputId": "f7f2ae0e-afe4-4dc7-b3b7-7cbc1f83b051"
      },
      "execution_count": null,
      "outputs": [
        {
          "output_type": "execute_result",
          "data": {
            "text/plain": [
              "(tensor([[ 5, 10, 15],\n",
              "         [20, 25, 30]]),\n",
              " tensor([[ 5, 10, 15],\n",
              "         [20, 25, 30]]))"
            ]
          },
          "metadata": {},
          "execution_count": 71
        }
      ]
    },
    {
      "cell_type": "code",
      "source": [
        "often = temp_tensor / 2\n",
        "seldom = torch.div(temp_tensor, 2)\n",
        "\n",
        "often, seldom"
      ],
      "metadata": {
        "colab": {
          "base_uri": "https://localhost:8080/"
        },
        "id": "XkMzqB_l7pQ2",
        "outputId": "80e017e3-2bf9-4fc4-9f28-10d26cc1de75"
      },
      "execution_count": null,
      "outputs": [
        {
          "output_type": "execute_result",
          "data": {
            "text/plain": [
              "(tensor([[0.5000, 1.0000, 1.5000],\n",
              "         [2.0000, 2.5000, 3.0000]]),\n",
              " tensor([[0.5000, 1.0000, 1.5000],\n",
              "         [2.0000, 2.5000, 3.0000]]))"
            ]
          },
          "metadata": {},
          "execution_count": 73
        }
      ]
    },
    {
      "cell_type": "markdown",
      "source": [
        "Matrix multiplication (dot product)  \n",
        "![dot product.png](data:image/png;base64,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)"
      ],
      "metadata": {
        "id": "6ULtlYFA9s2-"
      }
    },
    {
      "cell_type": "code",
      "source": [
        "# element wise\n",
        "temp_tensor = torch.tensor( [1, 2, 3] )\n",
        "\n",
        "print(temp_tensor, \"*\", temp_tensor)\n",
        "print(f\"result: {temp_tensor * temp_tensor}\")"
      ],
      "metadata": {
        "id": "x-r1i53a8nt8",
        "colab": {
          "base_uri": "https://localhost:8080/"
        },
        "outputId": "8d30d5fc-26e8-482e-c3d9-d8206f8bc2e8"
      },
      "execution_count": null,
      "outputs": [
        {
          "output_type": "stream",
          "name": "stdout",
          "text": [
            "tensor([1, 2, 3]) * tensor([1, 2, 3])\n",
            "result: tensor([1, 4, 9])\n"
          ]
        }
      ]
    },
    {
      "cell_type": "code",
      "source": [
        "# Matrix multiplication\n",
        "# 運算時間\n",
        "%%time\n",
        "\n",
        "torch.matmul(temp_tensor, temp_tensor)\n",
        "# 1*1 + 2*2 + 3*3"
      ],
      "metadata": {
        "colab": {
          "base_uri": "https://localhost:8080/"
        },
        "id": "hEFhw1ws-opv",
        "outputId": "093ed359-0530-4808-c732-9a0280f0a229"
      },
      "execution_count": null,
      "outputs": [
        {
          "output_type": "stream",
          "name": "stdout",
          "text": [
            "CPU times: user 650 µs, sys: 0 ns, total: 650 µs\n",
            "Wall time: 481 µs\n"
          ]
        },
        {
          "output_type": "execute_result",
          "data": {
            "text/plain": [
              "tensor(14)"
            ]
          },
          "metadata": {},
          "execution_count": 86
        }
      ]
    },
    {
      "cell_type": "code",
      "source": [
        "# 使用 Matrix multiplication 需要注意\n",
        "# 1. inner dimensions \"must\" match   -> (3,2) @ (2,3) acceptable\n",
        "#                        (3,2) @ (3,2) won't work !!!\n",
        "\n",
        "# 2. 運算結果將與 outer dimensions 相同\n",
        "# (3,2) @ (2,3)   -> (3,3)\n",
        "# (2,3) @ (3,2)   -> (2,2)\n",
        "\n",
        "# 詳細運算過程 可以參考 : http://matrixmultiplication.xyz/"
      ],
      "metadata": {
        "id": "XN5NcKVF_yE_"
      },
      "execution_count": null,
      "outputs": []
    },
    {
      "cell_type": "code",
      "source": [
        "# 使用 Matrix multiplication 需要注意 (shape errors)\n",
        "tensor_A = torch.tensor( [[1, 2],\n",
        "               [3, 4],\n",
        "               [5, 6]] )\n",
        "\n",
        "tensor_B = torch.tensor( [[7, 10],\n",
        "               [8, 11],\n",
        "               [9, 12]] )\n",
        "\n",
        "torch.matmul(tensor_A, tensor_B)   # torch.mm\n",
        "# shape error"
      ],
      "metadata": {
        "id": "xjqopuFoEhYQ"
      },
      "execution_count": null,
      "outputs": []
    },
    {
      "cell_type": "code",
      "source": [
        "# 解決 shape error   -> transpose -> switch the axes or dimensions of a given tensor\n",
        "\n",
        "torch.matmul(tensor_A, tensor_B.T)"
      ],
      "metadata": {
        "colab": {
          "base_uri": "https://localhost:8080/"
        },
        "id": "RsgVPXsnGbeS",
        "outputId": "41512d41-a6a7-4902-89b8-bb67e553e7dd"
      },
      "execution_count": null,
      "outputs": [
        {
          "output_type": "execute_result",
          "data": {
            "text/plain": [
              "tensor([[ 27,  30,  33],\n",
              "        [ 61,  68,  75],\n",
              "        [ 95, 106, 117]])"
            ]
          },
          "metadata": {},
          "execution_count": 89
        }
      ]
    },
    {
      "cell_type": "markdown",
      "source": [
        "# Aggregation\n",
        "min, max, mean, sum, etc ..."
      ],
      "metadata": {
        "id": "2joH90YiH-dj"
      }
    },
    {
      "cell_type": "code",
      "source": [
        "temp_tensor = torch.tensor( [[[1,2,3],\n",
        "                [4,5,6],\n",
        "                [7,8,9]]])\n",
        "# min\n",
        "temp_tensor.min()\n",
        "\n",
        "# max\n",
        "temp_tensor.max()\n",
        "\n",
        "# mean\n",
        "# temp_tensor.mean()   # got an error : Got: Long  解法第13行\n",
        "# temp_tensor.dtype   # torch.int64 not support for mean()\n",
        "torch.mean(temp_tensor.type(torch.float32))\n",
        "\n",
        "# sum\n",
        "temp_tensor.sum()"
      ],
      "metadata": {
        "colab": {
          "base_uri": "https://localhost:8080/"
        },
        "id": "Bm4dC7VrH8KV",
        "outputId": "607f60c5-8c3d-4992-918e-ecb919d69387"
      },
      "execution_count": null,
      "outputs": [
        {
          "output_type": "execute_result",
          "data": {
            "text/plain": [
              "tensor(45)"
            ]
          },
          "metadata": {},
          "execution_count": 104
        }
      ]
    },
    {
      "cell_type": "code",
      "source": [
        "# max number's index\n",
        "# 會先將 tensor 一維化\n",
        "\n",
        "# min\n",
        "temp_tensor.argmin()\n",
        "\n",
        "# max\n",
        "temp_tensor.argmax()\n",
        "\n",
        "# "
      ],
      "metadata": {
        "colab": {
          "base_uri": "https://localhost:8080/"
        },
        "id": "UvC6WyA5KP8Z",
        "outputId": "53c6fcf5-8898-4b79-b6d1-8461fd3f0bc8"
      },
      "execution_count": null,
      "outputs": [
        {
          "output_type": "execute_result",
          "data": {
            "text/plain": [
              "tensor(0)"
            ]
          },
          "metadata": {},
          "execution_count": 106
        }
      ]
    },
    {
      "cell_type": "markdown",
      "source": [
        "# Reshaping, stacking, squeezing, unsqueezing tensor\n",
        "1. Reshaping\n",
        "2. View\n",
        "3. Stacking : vstack & hstack\n",
        "4. Squeezing : removes all \"1\" dimensions from a tensor\n",
        "5. Unsqueezing : add a \"1\" dimensions to a target tensor\n",
        "6. Permute : Return a view of a swapped tensor"
      ],
      "metadata": {
        "id": "38csbqPSLMtt"
      }
    },
    {
      "cell_type": "code",
      "source": [
        "# Create tensor\n",
        "\n",
        "x = torch.arange(1, 10)\n",
        "x, x.shape"
      ],
      "metadata": {
        "colab": {
          "base_uri": "https://localhost:8080/"
        },
        "id": "R6_uqpIxK4Tu",
        "outputId": "45566617-9cfb-4682-d29d-1d650db35662"
      },
      "execution_count": null,
      "outputs": [
        {
          "output_type": "execute_result",
          "data": {
            "text/plain": [
              "(tensor([1, 2, 3, 4, 5, 6, 7, 8, 9]), torch.Size([9]))"
            ]
          },
          "metadata": {},
          "execution_count": 107
        }
      ]
    },
    {
      "cell_type": "code",
      "source": [
        "# Reshape (理解 : 內容總數量需一致)\n",
        "\n",
        "x_reshaped = x.reshape(1,9)\n",
        "x_reshaped, x_reshaped.shape   # shape from 9 to [1, 9]\n",
        "\n",
        "x_reshaped_1 = x.reshape(9,1)\n",
        "x_reshaped_1, x_reshaped_1.shape   # shape from 9 to [9, 1]\n",
        "\n",
        "x_reshaped_2 = x.reshape(3,3) \n",
        "x_reshaped_2, x_reshaped_2.shape   # shape from 9 to [3, 3]"
      ],
      "metadata": {
        "colab": {
          "base_uri": "https://localhost:8080/"
        },
        "id": "7qVjDuvzMsRc",
        "outputId": "bffa5554-0381-4699-dfb8-54cf39bc1c97"
      },
      "execution_count": null,
      "outputs": [
        {
          "output_type": "execute_result",
          "data": {
            "text/plain": [
              "(tensor([[1, 2, 3],\n",
              "         [4, 5, 6],\n",
              "         [7, 8, 9]]),\n",
              " torch.Size([3, 3]))"
            ]
          },
          "metadata": {},
          "execution_count": 112
        }
      ]
    },
    {
      "cell_type": "code",
      "source": [
        "# View (z 將與 x 共享記憶體 -> 改變z將連同x一起改變)\n",
        "\n",
        "z = x.view(1, 9)\n",
        "\n",
        "z[:, 0] = 100\n",
        "z, x"
      ],
      "metadata": {
        "colab": {
          "base_uri": "https://localhost:8080/"
        },
        "id": "XDTGlkKdNtK0",
        "outputId": "9b40f8f5-c5c4-4886-b094-532b197f2c4a"
      },
      "execution_count": null,
      "outputs": [
        {
          "output_type": "execute_result",
          "data": {
            "text/plain": [
              "(tensor([[100,   2,   3,   4,   5,   6,   7,   8,   9]]),\n",
              " tensor([100,   2,   3,   4,   5,   6,   7,   8,   9]))"
            ]
          },
          "metadata": {},
          "execution_count": 116
        }
      ]
    },
    {
      "cell_type": "code",
      "source": [
        "# Stack tensor\n",
        "\n",
        "x_stacked = torch.stack([x, x, x, x, x], dim=0)   # vstack\n",
        "x_stacked, x_stacked.shape   # (5, 9)\n",
        "\n",
        "x_stacked_1 = torch.stack([x, x, x, x, x], dim=1)   # hstack\n",
        "x_stacked_1, x_stacked_1.shape   # (9, 5)"
      ],
      "metadata": {
        "colab": {
          "base_uri": "https://localhost:8080/"
        },
        "id": "8xyiYKjhQSec",
        "outputId": "81bb2446-1868-4924-bfb6-f7149d707e37"
      },
      "execution_count": null,
      "outputs": [
        {
          "output_type": "execute_result",
          "data": {
            "text/plain": [
              "(tensor([[100,   2,   3,   4,   5,   6,   7,   8,   9],\n",
              "         [100,   2,   3,   4,   5,   6,   7,   8,   9],\n",
              "         [100,   2,   3,   4,   5,   6,   7,   8,   9],\n",
              "         [100,   2,   3,   4,   5,   6,   7,   8,   9],\n",
              "         [100,   2,   3,   4,   5,   6,   7,   8,   9]]),\n",
              " torch.Size([5, 9]))"
            ]
          },
          "metadata": {},
          "execution_count": 121
        }
      ]
    },
    {
      "cell_type": "code",
      "source": [
        "# Squeeze - 去除 \"所有\" 1的 dimension \n",
        "\n",
        "x_reshaped, x_reshaped.shape   # torch.Size([1, 9])\n",
        "\n",
        "x_reshaped.squeeze(), x_reshaped.squeeze().shape   # torch.Size([9])"
      ],
      "metadata": {
        "colab": {
          "base_uri": "https://localhost:8080/"
        },
        "id": "9LOrKZyiQvyN",
        "outputId": "3515351a-be3a-44a8-a9e3-5ea2a64535dd"
      },
      "execution_count": null,
      "outputs": [
        {
          "output_type": "execute_result",
          "data": {
            "text/plain": [
              "(tensor([100,   2,   3,   4,   5,   6,   7,   8,   9]), torch.Size([9]))"
            ]
          },
          "metadata": {},
          "execution_count": 129
        }
      ]
    },
    {
      "cell_type": "code",
      "source": [
        "temp_tensor = torch.rand(size=(3, 1, 3))\n",
        "temp_tensor, temp_tensor.shape   # (3,1,3)\n",
        "\n",
        "temp_tensor.squeeze(), temp_tensor.squeeze().shape   # torch.Size([3, 3])"
      ],
      "metadata": {
        "colab": {
          "base_uri": "https://localhost:8080/"
        },
        "id": "bK6X9WH0SGVt",
        "outputId": "2847b46e-52da-4c17-9edd-1280080b9c1e"
      },
      "execution_count": null,
      "outputs": [
        {
          "output_type": "execute_result",
          "data": {
            "text/plain": [
              "(tensor([[0.3947, 0.0470, 0.2509],\n",
              "         [0.0232, 0.3202, 0.4840],\n",
              "         [0.8590, 0.1088, 0.1518]]),\n",
              " torch.Size([3, 3]))"
            ]
          },
          "metadata": {},
          "execution_count": 136
        }
      ]
    },
    {
      "cell_type": "code",
      "source": [
        "# Unsqueeze - 在指定的 dimension 外，增加一層\n",
        "\n",
        "temp_tensor.shape   # torch.Size([3, 1, 3])\n",
        "\n",
        "temp_tensor.unsqueeze(dim=0).shape   # 第0層\"外\" 增加一層  torch.Size([1, 3, 1, 3])\n",
        "\n",
        "temp_tensor.unsqueeze(dim=1).shape   # 第1層\"外\" 增加一層  torch.Size([3, 1, 1, 3])"
      ],
      "metadata": {
        "colab": {
          "base_uri": "https://localhost:8080/"
        },
        "id": "gWnZp0xZSjwx",
        "outputId": "3a786547-5381-429f-925a-430ccee292f8"
      },
      "execution_count": null,
      "outputs": [
        {
          "output_type": "execute_result",
          "data": {
            "text/plain": [
              "torch.Size([3, 1, 1, 3])"
            ]
          },
          "metadata": {},
          "execution_count": 145
        }
      ]
    },
    {
      "cell_type": "code",
      "source": [
        "# Permute\n",
        "\n",
        "temp_tensor = torch.rand(size=(3, 3, 2, 2))\n",
        "\n",
        "temp_tensor.permute( (3,1,2,0) ).shape\n",
        "# size 3   index 0\n",
        "#    3   index 1\n",
        "#    2   index 2\n",
        "#    2   index 3\n",
        "# 使用index 重新指定順序\n",
        "\n",
        "# 常用場景 : 更換圖片資訊的顯示順序\n",
        "image = torch.rand(size=(224, 224, 3))   # 一張224*224的彩色圖片 [height, width, color_channels]\n",
        "\n",
        "image_p = image.permute( (2, 0, 1) )   # [color_channels, height, width]\n",
        "image_p.shape   # torch.Size([3, 224, 224])"
      ],
      "metadata": {
        "colab": {
          "base_uri": "https://localhost:8080/"
        },
        "id": "cCw-1YOEUD-H",
        "outputId": "8eb441f3-4046-4c72-88fc-45b23234fe53"
      },
      "execution_count": null,
      "outputs": [
        {
          "output_type": "execute_result",
          "data": {
            "text/plain": [
              "torch.Size([3, 224, 224])"
            ]
          },
          "metadata": {},
          "execution_count": 152
        }
      ]
    },
    {
      "cell_type": "markdown",
      "source": [
        "# Indexing\n",
        "Selecing data from tensors"
      ],
      "metadata": {
        "id": "s1XyJf5lYOrI"
      }
    },
    {
      "cell_type": "code",
      "source": [
        "# Create a tensor\n",
        "\n",
        "temp_tensor = torch.arange(1, 10).reshape(1, 3, 3)\n",
        "temp_tensor, temp_tensor.shape"
      ],
      "metadata": {
        "colab": {
          "base_uri": "https://localhost:8080/"
        },
        "id": "K9ATegQUYbNr",
        "outputId": "87be8c4d-a731-475c-9bb9-66af3a2708f3"
      },
      "execution_count": null,
      "outputs": [
        {
          "output_type": "execute_result",
          "data": {
            "text/plain": [
              "(tensor([[[1, 2, 3],\n",
              "          [4, 5, 6],\n",
              "          [7, 8, 9]]]),\n",
              " torch.Size([1, 3, 3]))"
            ]
          },
          "metadata": {},
          "execution_count": 154
        }
      ]
    },
    {
      "cell_type": "code",
      "source": [
        "temp_tensor[0][1]"
      ],
      "metadata": {
        "colab": {
          "base_uri": "https://localhost:8080/"
        },
        "id": "jqYx_jxPZSTe",
        "outputId": "697e21f2-4022-49bb-ae28-7768adddc196"
      },
      "execution_count": null,
      "outputs": [
        {
          "output_type": "execute_result",
          "data": {
            "text/plain": [
              "tensor([4, 5, 6])"
            ]
          },
          "metadata": {},
          "execution_count": 156
        }
      ]
    },
    {
      "cell_type": "code",
      "source": [
        "temp_tensor[0][2][2]"
      ],
      "metadata": {
        "colab": {
          "base_uri": "https://localhost:8080/"
        },
        "id": "DdgSyCIPZXb1",
        "outputId": "fbd13655-1d81-4a16-f30d-47cdf06705c7"
      },
      "execution_count": null,
      "outputs": [
        {
          "output_type": "execute_result",
          "data": {
            "text/plain": [
              "tensor(9)"
            ]
          },
          "metadata": {},
          "execution_count": 158
        }
      ]
    },
    {
      "cell_type": "code",
      "source": [
        "# 練習 \n",
        "\n",
        "temp_tensor[:, :, 1]\n",
        "# # 0 層 全取     -> 此層也會被取下\n",
        "# # 1 層 全取     -> 此層也會被取下\n",
        "# # 2 層 僅取第2個值"
      ],
      "metadata": {
        "colab": {
          "base_uri": "https://localhost:8080/"
        },
        "id": "OQZY0QSJaSi5",
        "outputId": "71c8b355-9759-40d6-e12c-329bab9f7b8c"
      },
      "execution_count": null,
      "outputs": [
        {
          "output_type": "execute_result",
          "data": {
            "text/plain": [
              "tensor([[2, 5, 8]])"
            ]
          },
          "metadata": {},
          "execution_count": 169
        }
      ]
    },
    {
      "cell_type": "markdown",
      "source": [
        "# Pytorch tensor & Numpy\n",
        "1. torch.from_numpy(ndarray)\n",
        "2. torch.Tensor.numpy()"
      ],
      "metadata": {
        "id": "5KwK8s5UcCmA"
      }
    },
    {
      "cell_type": "code",
      "source": [
        "# Numpy array to tensor\n",
        "import torch\n",
        "import numpy as no\n",
        "\n",
        "\n",
        "array = np.arange(1.0, 10.0)\n",
        "array   # array([1, 2, 3, 4, 5, 6, 7, 8, 9])\n",
        "\n",
        "tensor = torch.from_numpy(array)\n",
        "array,array.dtype, tensor, tensor.dtype   # 直接轉換 default data type 轉為 float64"
      ],
      "metadata": {
        "colab": {
          "base_uri": "https://localhost:8080/"
        },
        "id": "o_pD6FQIcbto",
        "outputId": "c8b8253f-84b1-43f0-89f7-037c500f6bb6"
      },
      "execution_count": null,
      "outputs": [
        {
          "output_type": "execute_result",
          "data": {
            "text/plain": [
              "(array([1., 2., 3., 4., 5., 6., 7., 8., 9.]),\n",
              " dtype('float64'),\n",
              " tensor([1., 2., 3., 4., 5., 6., 7., 8., 9.], dtype=torch.float64),\n",
              " torch.float64)"
            ]
          },
          "metadata": {},
          "execution_count": 186
        }
      ]
    },
    {
      "cell_type": "code",
      "source": [
        "torch.arange(1.0, 9.0).dtype   # 但是 torch 本身的預設是 float 32\n",
        "\n",
        "# 轉換回來\n",
        "tensor = torch.from_numpy(array).type(torch.float32)\n",
        "tensor.dtype"
      ],
      "metadata": {
        "colab": {
          "base_uri": "https://localhost:8080/"
        },
        "id": "WFtRerxhcGJu",
        "outputId": "3f473d19-e069-426f-8077-65b50f1e1760"
      },
      "execution_count": null,
      "outputs": [
        {
          "output_type": "execute_result",
          "data": {
            "text/plain": [
              "torch.float32"
            ]
          },
          "metadata": {},
          "execution_count": 191
        }
      ]
    },
    {
      "cell_type": "code",
      "source": [
        "# Tensor to Numpy array\n",
        "\n",
        "tensor = torch.ones(7)\n",
        "numpy_tensor = tensor.numpy()\n",
        "\n",
        "numpy_tensor   # tensor default datatype is float32 所以轉到numpy時 numpy 的datatype也是float32"
      ],
      "metadata": {
        "id": "hxZ_HZ45fLyG",
        "colab": {
          "base_uri": "https://localhost:8080/"
        },
        "outputId": "33b70e15-0340-40ba-cc80-5fe295639ee3"
      },
      "execution_count": null,
      "outputs": [
        {
          "output_type": "execute_result",
          "data": {
            "text/plain": [
              "array([1., 1., 1., 1., 1., 1., 1.], dtype=float32)"
            ]
          },
          "metadata": {},
          "execution_count": 4
        }
      ]
    },
    {
      "cell_type": "markdown",
      "source": [
        "# Reproducbility\n",
        "  \n",
        "1. 隨機產生參數  \n",
        "2. tensor operation -> 更新參數  \n",
        "3. tensor operation -> 更新參數  \n",
        "\n",
        "循環直到loss最小\n",
        "\n",
        "為了減少一開始的參數握過於隨機 -> random seed"
      ],
      "metadata": {
        "id": "Zh5GGKEbNqUN"
      }
    },
    {
      "cell_type": "code",
      "source": [
        "# create two tensors\n",
        "random_tensor_A = torch.rand(3,4)\n",
        "random_tensor_B = torch.rand(3,4)\n",
        "\n",
        "print(random_tensor_A)\n",
        "print(random_tensor_B)\n",
        "print(random_tensor_A == random_tensor_B)"
      ],
      "metadata": {
        "colab": {
          "base_uri": "https://localhost:8080/"
        },
        "id": "M_ktiVe0NNIg",
        "outputId": "bce246dc-76b1-4566-fa47-70c5beb98ed9"
      },
      "execution_count": null,
      "outputs": [
        {
          "output_type": "stream",
          "name": "stdout",
          "text": [
            "tensor([[0.4827, 0.5529, 0.5562, 0.1208],\n",
            "        [0.0822, 0.9345, 0.7090, 0.8477],\n",
            "        [0.3716, 0.9532, 0.8195, 0.8254]])\n",
            "tensor([[0.3553, 0.4172, 0.0912, 0.2364],\n",
            "        [0.9655, 0.9673, 0.2406, 0.6404],\n",
            "        [0.9981, 0.1956, 0.0534, 0.9244]])\n",
            "tensor([[False, False, False, False],\n",
            "        [False, False, False, False],\n",
            "        [False, False, False, False]])\n"
          ]
        }
      ]
    },
    {
      "cell_type": "code",
      "source": [
        "# 設置 random_seed (使用相同的random_seed 就會產生相同的隨機係數)\n",
        "RANDOM_SEED = 42\n",
        "\n",
        "torch.manual_seed(RANDOM_SEED)\n",
        "random_tensor_C = torch.rand(3,4)\n",
        "\n",
        "torch.manual_seed(RANDOM_SEED)\n",
        "random_tensor_D = torch.rand(3,4)\n",
        "\n",
        "print(random_tensor_C)\n",
        "print(random_tensor_D)\n",
        "print(random_tensor_C == random_tensor_D)"
      ],
      "metadata": {
        "colab": {
          "base_uri": "https://localhost:8080/"
        },
        "id": "5bBdh85zQD8v",
        "outputId": "53702f54-cbd0-4a7e-9b58-39d00358f03a"
      },
      "execution_count": null,
      "outputs": [
        {
          "output_type": "stream",
          "name": "stdout",
          "text": [
            "tensor([[0.8823, 0.9150, 0.3829, 0.9593],\n",
            "        [0.3904, 0.6009, 0.2566, 0.7936],\n",
            "        [0.9408, 0.1332, 0.9346, 0.5936]])\n",
            "tensor([[0.8823, 0.9150, 0.3829, 0.9593],\n",
            "        [0.3904, 0.6009, 0.2566, 0.7936],\n",
            "        [0.9408, 0.1332, 0.9346, 0.5936]])\n",
            "tensor([[True, True, True, True],\n",
            "        [True, True, True, True],\n",
            "        [True, True, True, True]])\n"
          ]
        }
      ]
    },
    {
      "cell_type": "markdown",
      "source": [
        "# Use GPU for Pytorch\n",
        "1. Colab\n",
        "2. 本機(https://pytorch.org/get-started/locally/)\n",
        "3. Cloud computing"
      ],
      "metadata": {
        "id": "eApFdLKHQrTT"
      }
    }
  ]
}