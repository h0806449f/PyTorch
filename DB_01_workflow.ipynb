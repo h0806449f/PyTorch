{
  "nbformat": 4,
  "nbformat_minor": 0,
  "metadata": {
    "colab": {
      "provenance": [],
      "collapsed_sections": [
        "MGjv5rTf5rty",
        "5O6PlzN4TpAK"
      ],
      "authorship_tag": "ABX9TyPC+JoAyqPvfPNIJO7qaB47",
      "include_colab_link": true
    },
    "kernelspec": {
      "name": "python3",
      "display_name": "Python 3"
    },
    "language_info": {
      "name": "python"
    }
  },
  "cells": [
    {
      "cell_type": "markdown",
      "metadata": {
        "id": "view-in-github",
        "colab_type": "text"
      },
      "source": [
        "<a href=\"https://colab.research.google.com/github/h0806449f/PyTorch/blob/main/DB_01_workflow.ipynb\" target=\"_parent\"><img src=\"https://colab.research.google.com/assets/colab-badge.svg\" alt=\"Open In Colab\"/></a>"
      ]
    },
    {
      "cell_type": "markdown",
      "source": [
        "# Pytorch workflow\n",
        "\n",
        "1. Data preprocessing\n",
        "2. Build the model\n",
        "    2.1 Pick loss function & optimizer\n",
        "    2.2 Build training loop\n",
        "3. Fit model to data\n",
        "4. Make prediction\n",
        "5. Evaluate the model\n",
        "6. Improve the model (through experimentation)\n",
        "7. Save the model (for reload)\n"
      ],
      "metadata": {
        "id": "MGjv5rTf5rty"
      }
    },
    {
      "cell_type": "code",
      "source": [
        "import torch\n",
        "from torch import nn  # nn contains all of PyTorch's buinding blocksof CNN\n",
        "# https://pytorch.org/docs/stable/nn.html\n",
        "import matplotlib.pyplot as plt\n",
        "\n",
        "# check version\n",
        "torch.__version__"
      ],
      "metadata": {
        "colab": {
          "base_uri": "https://localhost:8080/",
          "height": 35
        },
        "id": "H3TKgbYM8sN8",
        "outputId": "e4a9aa87-7634-479c-f43a-89e85a1369f5"
      },
      "execution_count": 5,
      "outputs": [
        {
          "output_type": "execute_result",
          "data": {
            "text/plain": [
              "'2.0.1+cu118'"
            ],
            "application/vnd.google.colaboratory.intrinsic+json": {
              "type": "string"
            }
          },
          "metadata": {},
          "execution_count": 5
        }
      ]
    },
    {
      "cell_type": "markdown",
      "source": [
        "# Data (preparing and loading)"
      ],
      "metadata": {
        "id": "5O6PlzN4TpAK"
      }
    },
    {
      "cell_type": "code",
      "source": [
        "# Create known parameters\n",
        "weight = 0.7\n",
        "bias = 0.3\n",
        "\n",
        "# Create\n",
        "start = 0\n",
        "end = 1\n",
        "step = 0.02\n",
        "\n",
        "# Input\n",
        "X = torch.arange(start, end, step).unsqueeze(dim=1)\n",
        "# Output\n",
        "y = weight * X + bias\n",
        "\n",
        "# 取前 10 檢視\n",
        "X[:10], y[:10]"
      ],
      "metadata": {
        "colab": {
          "base_uri": "https://localhost:8080/"
        },
        "id": "yb4aA-erTrwd",
        "outputId": "5ea5d7c6-0bf3-4f14-f8e4-5f91e540c1c5"
      },
      "execution_count": 6,
      "outputs": [
        {
          "output_type": "execute_result",
          "data": {
            "text/plain": [
              "(tensor([[0.0000],\n",
              "         [0.0200],\n",
              "         [0.0400],\n",
              "         [0.0600],\n",
              "         [0.0800],\n",
              "         [0.1000],\n",
              "         [0.1200],\n",
              "         [0.1400],\n",
              "         [0.1600],\n",
              "         [0.1800]]),\n",
              " tensor([[0.3000],\n",
              "         [0.3140],\n",
              "         [0.3280],\n",
              "         [0.3420],\n",
              "         [0.3560],\n",
              "         [0.3700],\n",
              "         [0.3840],\n",
              "         [0.3980],\n",
              "         [0.4120],\n",
              "         [0.4260]]))"
            ]
          },
          "metadata": {},
          "execution_count": 6
        }
      ]
    },
    {
      "cell_type": "markdown",
      "source": [
        "# Data preparing : splitting data into training and test sets\n",
        "1. training set\n",
        "2. validation set\n",
        "3. test set"
      ],
      "metadata": {
        "id": "b6oKdtnwWE8D"
      }
    },
    {
      "cell_type": "code",
      "source": [
        "# Create train & test split\n",
        "\n",
        "# 算出訓練資料的比例\n",
        "train_split = int(0.8 * len(X))\n",
        "\n",
        "# 分割問題與答案\n",
        "X_train, y_train = X[:train_split], y[:train_split]\n",
        "X_test, y_test = X[train_split:], y[train_split:]\n",
        "\n",
        "# 檢查資料筆數\n",
        "X_train.shape, y_train.shape, X_test.shape, y_test.shape"
      ],
      "metadata": {
        "colab": {
          "base_uri": "https://localhost:8080/"
        },
        "id": "ANsCnyThV7PX",
        "outputId": "7f44bd19-11ae-475f-cec0-485fa0c8524d"
      },
      "execution_count": null,
      "outputs": [
        {
          "output_type": "execute_result",
          "data": {
            "text/plain": [
              "(torch.Size([40, 1]),\n",
              " torch.Size([40, 1]),\n",
              " torch.Size([10, 1]),\n",
              " torch.Size([10, 1]))"
            ]
          },
          "metadata": {},
          "execution_count": 3
        }
      ]
    },
    {
      "cell_type": "markdown",
      "source": [
        "# Build model\n",
        "1. more info: https://pytorch.org/docs/stable/generated/torch.nn.Module.html\n",
        "2. Pytorch model 元素\n",
        "    1. torch.nn - contains all of the buildings for neural networl\n",
        "    2. torch.nn.Parameter - 模型要學習的參數 (通常模型會自動設置)\n",
        "    3. torch.nn.Module - 神經網絡基本款, if subclass it, should overwrite forward() 前向傳播過程\n",
        "    4. torch.optim - optimizers\n",
        "    5. def forward() - All nn.Muodule subclass require to overwrite def forward() 前向傳播\n",
        "    6. Doc: https://pytorch.org/tutorials/beginner/ptcheat.html"
      ],
      "metadata": {
        "id": "D8qBW0FXY-5r"
      }
    },
    {
      "cell_type": "code",
      "source": [
        "# Create liner regression model class\n",
        "from torch import nn\n",
        "\n",
        "\n",
        "class LinerRegressionModel(nn.Module):\n",
        "# subclass nn.Module\n",
        "    def __init__(self):\n",
        "        super().__init__()\n",
        "        self.weights = nn.Parameter(torch.randn(1,\n",
        "                              # start with random weight\n",
        "                              requires_grad=True,\n",
        "                              # can this parameter be updated via gradient?\n",
        "                              dtype=torch.float))\n",
        "                              # ML DL prefer float\n",
        "\n",
        "        self.bias = nn.Parameter(torch.randn(1,\n",
        "                             # start with random bias\n",
        "                             requires_grad=True,\n",
        "                             dtype=torch.float))\n",
        "\n",
        "    # Forward method to define the computation in the model\n",
        "    def forward(self, x:torch.Tensor) -> torch.Tensor:\n",
        "    # x is the input dara\n",
        "        return self.weights * x + self.bias\n",
        "        # this is the linear regression formula"
      ],
      "metadata": {
        "id": "FPhXbWP_XOaZ"
      },
      "execution_count": null,
      "outputs": []
    },
    {
      "cell_type": "markdown",
      "source": [
        "# Check the contents of model"
      ],
      "metadata": {
        "id": "tCpVpkFjo6v9"
      }
    },
    {
      "cell_type": "code",
      "source": [
        "# Create random seed\n",
        "torch.manual_seed(42)\n",
        "\n",
        "# Create an nn.Module\n",
        "model_0 = LinerRegressionModel()\n",
        "\n",
        "# Check\n",
        "model_0.parameters()   # <generator object Module.parameters at 0x7f972b1ed770>\n",
        "\n",
        "print(\"清單形式: \", list(model_0.parameters()) )  # 以list列出元素\n",
        "\n",
        "print(\"名稱形式: \", model_0.state_dict())"
      ],
      "metadata": {
        "colab": {
          "base_uri": "https://localhost:8080/"
        },
        "id": "e3rL0xi-mWjZ",
        "outputId": "312d4d8a-ffef-435b-eda5-b94843c0ca99"
      },
      "execution_count": null,
      "outputs": [
        {
          "output_type": "stream",
          "name": "stdout",
          "text": [
            "清單形式:  [Parameter containing:\n",
            "tensor([0.3367], requires_grad=True), Parameter containing:\n",
            "tensor([0.1288], requires_grad=True)]\n",
            "名稱形式:  OrderedDict([('weights', tensor([0.3367])), ('bias', tensor([0.1288]))])\n"
          ]
        }
      ]
    },
    {
      "cell_type": "markdown",
      "source": [
        "# Make prediction\n",
        "torch.inference_mode()"
      ],
      "metadata": {
        "id": "oD4bXb-yrYQR"
      }
    },
    {
      "cell_type": "code",
      "source": [
        "with torch.inference_mode():\n",
        "# inference_mode 會關掉 requires_grad=True 因為這邊用於簡單的顯示資料\n",
        "    y_preds = model_0(X_test)\n",
        "\n",
        "# 同效果\n",
        "with torch.no_grad():\n",
        "    y_preds = model_0(X_test)"
      ],
      "metadata": {
        "id": "WNabpcMOqdm4"
      },
      "execution_count": null,
      "outputs": []
    },
    {
      "cell_type": "markdown",
      "source": [
        "# Train model\n",
        "1. 訓練模型\n",
        "2. 減少loss\n",
        "3. info: https://pytorch.org/docs/stable/nn.html#loss-functions\n",
        "4. 選擇 loss function 損失函式 (需要依照問題選擇)\n",
        "5. 選擇 optimizer 優化器"
      ],
      "metadata": {
        "id": "6ygvwIShtjto"
      }
    },
    {
      "cell_type": "code",
      "source": [
        "# Setup loss function\n",
        "loss_fn = nn.L1Loss()\n",
        "loss_fn   # L1Loss()\n",
        "\n",
        "# Setup an optimizer (stochastic gradient descent)\n",
        "optimizer = torch.optim.SGD(params=model_0.parameters(),\n",
        "                # 要優化的參數 是之前的參數產生器\n",
        "                lr=0.01,\n",
        "                # learning rate\n",
        "                )"
      ],
      "metadata": {
        "id": "NgGIS9IftiRE"
      },
      "execution_count": null,
      "outputs": []
    },
    {
      "cell_type": "markdown",
      "source": [
        "# Building training loop and testing loop\n",
        "1. Training loop\n",
        "    1. Loop through the data\n",
        "    2. Forward pass\n",
        "    3. Calculate the loss\n",
        "    4. Optimizer zero grad\n",
        "    5. Loss backward\n",
        "    6. Optimizer step - use optimizer to adjust model's parameters and then try to improve the loss"
      ],
      "metadata": {
        "id": "KLEowrLKx5Ky"
      }
    },
    {
      "cell_type": "code",
      "source": [
        "# 1. Loop through the data\n",
        "# epochs how many loop through the data\n",
        "epochs = 201\n",
        "\n",
        "for epoch in range(epochs):\n",
        "    # Set the model to training mode\n",
        "    model_0.train()\n",
        "\n",
        "    # 2. Forward pass\n",
        "    y_pred = model_0(X_train)\n",
        "\n",
        "    # 3. Calculate the loss\n",
        "    loss = loss_fn(y_pred, y_train)\n",
        "\n",
        "    # 4. Optimizer zero grad\n",
        "    # 使用 optimizer.zero_grad() 將之前儲存的 gradient 歸零，避免累積的 gradient 影響 optimizer 更新參數的方向。\n",
        "    optimizer.zero_grad()\n",
        "\n",
        "    # 5. Perform backward base on the loss\n",
        "    loss.backward()\n",
        "\n",
        "    # 6. Step the optimizer (perform gradient descent)\n",
        "    # by default, how the optimizer change will acculumate through the loop\n",
        "    optimizer.step()\n",
        "\n",
        "    # TESTING !!!\n",
        "    model_0.eval()\n",
        "    with torch.inference_mode():\n",
        "        # 1. Forward pass\n",
        "        test_pred = model_0(X_test)\n",
        "\n",
        "        # 2. Calculate the loss\n",
        "        test_loss = loss_fn(test_pred, y_test)\n",
        "\n",
        "    if epoch % 20 == 0:\n",
        "        print(\"=\" * 50)\n",
        "        print(f\"Epoch: {epoch} | Loss: {loss} | Test_loss: {test_loss}\")\n",
        "        print(model_0.state_dict())\n",
        "\n",
        "\n",
        "# epoch 180 之後 停止下降 再繼續訓練可能會導致過擬合"
      ],
      "metadata": {
        "colab": {
          "base_uri": "https://localhost:8080/"
        },
        "id": "RIr3DFGkzy-N",
        "outputId": "d54482e6-f61b-44ef-a3d9-81d6d596a4ef"
      },
      "execution_count": null,
      "outputs": [
        {
          "output_type": "stream",
          "name": "stdout",
          "text": [
            "==================================================\n",
            "Epoch: 0 | Loss: 0.31288138031959534 | Test_loss: 0.48106518387794495\n",
            "OrderedDict([('weights', tensor([0.3406])), ('bias', tensor([0.1388]))])\n",
            "==================================================\n",
            "Epoch: 20 | Loss: 0.08908725529909134 | Test_loss: 0.21729660034179688\n",
            "OrderedDict([('weights', tensor([0.4184])), ('bias', tensor([0.3333]))])\n",
            "==================================================\n",
            "Epoch: 40 | Loss: 0.04543796554207802 | Test_loss: 0.11360953003168106\n",
            "OrderedDict([('weights', tensor([0.4748])), ('bias', tensor([0.3868]))])\n",
            "==================================================\n",
            "Epoch: 60 | Loss: 0.03818932920694351 | Test_loss: 0.08886633068323135\n",
            "OrderedDict([('weights', tensor([0.5116])), ('bias', tensor([0.3788]))])\n",
            "==================================================\n",
            "Epoch: 80 | Loss: 0.03132382780313492 | Test_loss: 0.07232122868299484\n",
            "OrderedDict([('weights', tensor([0.5459])), ('bias', tensor([0.3648]))])\n",
            "==================================================\n",
            "Epoch: 100 | Loss: 0.024458957836031914 | Test_loss: 0.05646304413676262\n",
            "OrderedDict([('weights', tensor([0.5800])), ('bias', tensor([0.3503]))])\n",
            "==================================================\n",
            "Epoch: 120 | Loss: 0.01758546568453312 | Test_loss: 0.04060482233762741\n",
            "OrderedDict([('weights', tensor([0.6141])), ('bias', tensor([0.3358]))])\n",
            "==================================================\n",
            "Epoch: 140 | Loss: 0.010716589167714119 | Test_loss: 0.024059748277068138\n",
            "OrderedDict([('weights', tensor([0.6485])), ('bias', tensor([0.3218]))])\n",
            "==================================================\n",
            "Epoch: 160 | Loss: 0.0038517764769494534 | Test_loss: 0.008201557211577892\n",
            "OrderedDict([('weights', tensor([0.6826])), ('bias', tensor([0.3073]))])\n",
            "==================================================\n",
            "Epoch: 180 | Loss: 0.008932482451200485 | Test_loss: 0.005023092031478882\n",
            "OrderedDict([('weights', tensor([0.6951])), ('bias', tensor([0.2993]))])\n",
            "==================================================\n",
            "Epoch: 200 | Loss: 0.008932482451200485 | Test_loss: 0.005023092031478882\n",
            "OrderedDict([('weights', tensor([0.6951])), ('bias', tensor([0.2993]))])\n"
          ]
        }
      ]
    },
    {
      "cell_type": "code",
      "source": [
        "model_0.state_dict()\n",
        "# 每run run 一次 epoch -> loss 就會減少\n",
        "# 原本 : # OrderedDict([('weights', tensor([0.3367])), ('bias', tensor([0.1288]))])\n",
        "# OrderedDict([('weights', tensor([0.3406])), ('bias', tensor([0.1388]))])\n",
        "# OrderedDict([('weights', tensor([0.3445])), ('bias', tensor([0.1488]))])\n",
        "# OrderedDict([('weights', tensor([0.3484])), ('bias', tensor([0.1588]))])\n",
        "# ...."
      ],
      "metadata": {
        "colab": {
          "base_uri": "https://localhost:8080/"
        },
        "id": "BZMCkTPQzy6x",
        "outputId": "0ce7fd6f-f3ea-4fb9-e50f-78f991b46c5f"
      },
      "execution_count": null,
      "outputs": [
        {
          "output_type": "execute_result",
          "data": {
            "text/plain": [
              "OrderedDict([('weights', tensor([0.6951])), ('bias', tensor([0.2993]))])"
            ]
          },
          "metadata": {},
          "execution_count": 9
        }
      ]
    },
    {
      "cell_type": "markdown",
      "source": [
        "# Save the model\n",
        "1. torch.save() - save Pytorch object\n",
        "2. torch.load() - load Pytorch object\n",
        "3. torch.nn.Module.load_state_dict() - load state_dict"
      ],
      "metadata": {
        "id": "Cv2hNKegDAD8"
      }
    },
    {
      "cell_type": "code",
      "source": [
        "# Saving\n",
        "from pathlib import Path\n",
        "\n",
        "# 1. Create directory\n",
        "MODEL_PATH = Path(\"model\")\n",
        "MODEL_PATH.mkdir(parents=True, exist_ok=True)\n",
        "\n",
        "# 2. Create model save path\n",
        "MODEL_NAME = \"01_pytorch_workflow_model_0.pt\"\n",
        "MODEL_SAVE_PATH = MODEL_PATH / MODEL_NAME\n",
        "\n",
        "# 3. Save the model state dict\n",
        "print(f\"Saving model to: {MODEL_SAVE_PATH}\")\n",
        "torch.save(obj=model_0.state_dict(),\n",
        "      f=MODEL_SAVE_PATH)"
      ],
      "metadata": {
        "colab": {
          "base_uri": "https://localhost:8080/"
        },
        "id": "qy_rHrBDxu7t",
        "outputId": "ea8c50f1-10e3-4989-fb52-8854afa89d92"
      },
      "execution_count": null,
      "outputs": [
        {
          "output_type": "stream",
          "name": "stdout",
          "text": [
            "Saving model to: model/01_pytorch_workflow_model_0.pt\n"
          ]
        }
      ]
    },
    {
      "cell_type": "code",
      "source": [
        "# Loading\n",
        "# 上方僅儲存 state_dict\n",
        "loaded_model_0 = LinerRegressionModel()\n",
        "\n",
        "loaded_model_0.load_state_dict(torch.load(f=MODEL_SAVE_PATH))"
      ],
      "metadata": {
        "colab": {
          "base_uri": "https://localhost:8080/"
        },
        "id": "2f3C69afFx3j",
        "outputId": "eff57de2-3b4a-4448-bdaa-878371386515"
      },
      "execution_count": null,
      "outputs": [
        {
          "output_type": "execute_result",
          "data": {
            "text/plain": [
              "<All keys matched successfully>"
            ]
          },
          "metadata": {},
          "execution_count": 11
        }
      ]
    },
    {
      "cell_type": "code",
      "source": [
        "loaded_model_0.state_dict()"
      ],
      "metadata": {
        "colab": {
          "base_uri": "https://localhost:8080/"
        },
        "id": "uO1kYnPZH82a",
        "outputId": "22f264cd-7df2-4a95-9faf-83707eb59813"
      },
      "execution_count": null,
      "outputs": [
        {
          "output_type": "execute_result",
          "data": {
            "text/plain": [
              "OrderedDict([('weights', tensor([0.6951])), ('bias', tensor([0.2993]))])"
            ]
          },
          "metadata": {},
          "execution_count": 12
        }
      ]
    },
    {
      "cell_type": "code",
      "source": [
        "# Predict again\n",
        "loaded_model_0.eval()\n",
        "\n",
        "with torch.inference_mode():\n",
        "    loaded_model_preds = loaded_model_0(X_test)\n",
        "\n",
        "loaded_model_preds"
      ],
      "metadata": {
        "colab": {
          "base_uri": "https://localhost:8080/"
        },
        "id": "U9qmZ6ZKISs5",
        "outputId": "92b533dc-e724-4840-ddaf-45a2d88d5c11"
      },
      "execution_count": null,
      "outputs": [
        {
          "output_type": "execute_result",
          "data": {
            "text/plain": [
              "tensor([[0.8554],\n",
              "        [0.8693],\n",
              "        [0.8832],\n",
              "        [0.8971],\n",
              "        [0.9110],\n",
              "        [0.9249],\n",
              "        [0.9388],\n",
              "        [0.9527],\n",
              "        [0.9666],\n",
              "        [0.9805]])"
            ]
          },
          "metadata": {},
          "execution_count": 13
        }
      ]
    }
  ]
}