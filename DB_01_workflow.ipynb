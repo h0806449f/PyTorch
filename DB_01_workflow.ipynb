{
  "nbformat": 4,
  "nbformat_minor": 0,
  "metadata": {
    "colab": {
      "provenance": [],
      "collapsed_sections": [
        "MGjv5rTf5rty",
        "5O6PlzN4TpAK",
        "oD4bXb-yrYQR",
        "6ygvwIShtjto",
        "Cv2hNKegDAD8"
      ],
      "gpuType": "T4",
      "authorship_tag": "ABX9TyN9Edhzw94xLKgfvuulkKq5",
      "include_colab_link": true
    },
    "kernelspec": {
      "name": "python3",
      "display_name": "Python 3"
    },
    "language_info": {
      "name": "python"
    },
    "accelerator": "GPU"
  },
  "cells": [
    {
      "cell_type": "markdown",
      "metadata": {
        "id": "view-in-github",
        "colab_type": "text"
      },
      "source": [
        "<a href=\"https://colab.research.google.com/github/h0806449f/PyTorch/blob/main/DB_01_workflow.ipynb\" target=\"_parent\"><img src=\"https://colab.research.google.com/assets/colab-badge.svg\" alt=\"Open In Colab\"/></a>"
      ]
    },
    {
      "cell_type": "markdown",
      "source": [
        "# Pytorch workflow\n",
        "\n",
        "1. Data preprocessing\n",
        "2. Build the model\n",
        "    2.1 Pick loss function & optimizer\n",
        "    2.2 Build training loop\n",
        "3. Fit model to data\n",
        "4. Make prediction\n",
        "5. Evaluate the model\n",
        "6. Improve the model (through experimentation)\n",
        "7. Save the model (for reload)\n"
      ],
      "metadata": {
        "id": "MGjv5rTf5rty"
      }
    },
    {
      "cell_type": "code",
      "source": [
        "import torch\n",
        "from torch import nn  # nn contains all of PyTorch's buinding blocksof CNN\n",
        "# https://pytorch.org/docs/stable/nn.html\n",
        "import matplotlib.pyplot as plt\n",
        "\n",
        "# check version\n",
        "torch.__version__"
      ],
      "metadata": {
        "colab": {
          "base_uri": "https://localhost:8080/",
          "height": 0
        },
        "id": "H3TKgbYM8sN8",
        "outputId": "262f94a8-c95e-4d6f-96d8-667704bbd34e"
      },
      "execution_count": 1,
      "outputs": [
        {
          "output_type": "execute_result",
          "data": {
            "text/plain": [
              "'2.0.1+cu118'"
            ],
            "application/vnd.google.colaboratory.intrinsic+json": {
              "type": "string"
            }
          },
          "metadata": {},
          "execution_count": 1
        }
      ]
    },
    {
      "cell_type": "markdown",
      "source": [
        "# Data (preparing and loading)"
      ],
      "metadata": {
        "id": "5O6PlzN4TpAK"
      }
    },
    {
      "cell_type": "code",
      "source": [
        "# Create known parameters\n",
        "weight = 0.7\n",
        "bias = 0.3\n",
        "\n",
        "# Create\n",
        "start = 0\n",
        "end = 1\n",
        "step = 0.02\n",
        "\n",
        "# Input\n",
        "X = torch.arange(start, end, step).unsqueeze(dim=1)\n",
        "# Output\n",
        "y = weight * X + bias\n",
        "\n",
        "# 取前 10 檢視\n",
        "X[:10], y[:10]"
      ],
      "metadata": {
        "colab": {
          "base_uri": "https://localhost:8080/"
        },
        "id": "yb4aA-erTrwd",
        "outputId": "d53eac80-4370-4fea-d5b6-22748ea477a7"
      },
      "execution_count": 2,
      "outputs": [
        {
          "output_type": "execute_result",
          "data": {
            "text/plain": [
              "(tensor([[0.0000],\n",
              "         [0.0200],\n",
              "         [0.0400],\n",
              "         [0.0600],\n",
              "         [0.0800],\n",
              "         [0.1000],\n",
              "         [0.1200],\n",
              "         [0.1400],\n",
              "         [0.1600],\n",
              "         [0.1800]]),\n",
              " tensor([[0.3000],\n",
              "         [0.3140],\n",
              "         [0.3280],\n",
              "         [0.3420],\n",
              "         [0.3560],\n",
              "         [0.3700],\n",
              "         [0.3840],\n",
              "         [0.3980],\n",
              "         [0.4120],\n",
              "         [0.4260]]))"
            ]
          },
          "metadata": {},
          "execution_count": 2
        }
      ]
    },
    {
      "cell_type": "markdown",
      "source": [
        "# Data preparing : splitting data into training, validation and test datasets\n",
        "1. training set (always)\n",
        "2. validation set (not always)\n",
        "3. test set (always)"
      ],
      "metadata": {
        "id": "b6oKdtnwWE8D"
      }
    },
    {
      "cell_type": "code",
      "source": [
        "len(X), len(y)"
      ],
      "metadata": {
        "colab": {
          "base_uri": "https://localhost:8080/"
        },
        "id": "c2faTyZyI_0_",
        "outputId": "c0f4c9aa-5e24-4e86-aed8-b3249780f5ec"
      },
      "execution_count": 3,
      "outputs": [
        {
          "output_type": "execute_result",
          "data": {
            "text/plain": [
              "(50, 50)"
            ]
          },
          "metadata": {},
          "execution_count": 3
        }
      ]
    },
    {
      "cell_type": "code",
      "source": [
        "# Create train & test split\n",
        "\n",
        "# training vs testing 的比例\n",
        "train_split = int(0.8 * len(X))\n",
        "\n",
        "# 切割\n",
        "X_train, y_train = X[:train_split], y[:train_split]\n",
        "X_test, y_test = X[train_split:], y[train_split:]\n",
        "\n",
        "# 檢查資料筆數\n",
        "X_train.shape, y_train.shape, X_test.shape, y_test.shape"
      ],
      "metadata": {
        "colab": {
          "base_uri": "https://localhost:8080/"
        },
        "id": "ANsCnyThV7PX",
        "outputId": "31bf796c-aa1e-403b-f9ef-cd0a5bf4a6dd"
      },
      "execution_count": 4,
      "outputs": [
        {
          "output_type": "execute_result",
          "data": {
            "text/plain": [
              "(torch.Size([40, 1]),\n",
              " torch.Size([40, 1]),\n",
              " torch.Size([10, 1]),\n",
              " torch.Size([10, 1]))"
            ]
          },
          "metadata": {},
          "execution_count": 4
        }
      ]
    },
    {
      "cell_type": "code",
      "source": [
        "def plot_prediction(train_data=X_train,\n",
        "                    train_labels=y_train,\n",
        "                    test_data=X_test,\n",
        "                    test_labels=y_test,\n",
        "                    predictions=None):\n",
        "    # Plots training data, testing data and compare with prediction\n",
        "    plt.figure(figsize=(10, 7))\n",
        "\n",
        "    # Plot training data in blue\n",
        "    plt.scatter(train_data, train_labels, c=\"b\", s=4, label=\"Training data\")\n",
        "\n",
        "    # Plot testing data in green\n",
        "    plt.scatter(test_data, test_labels, c=\"g\", s=4, label=\"Testing data\")\n",
        "\n",
        "    # Checking if there are predictions\n",
        "    if predictions is not None:\n",
        "        # Plot the prediction if exist\n",
        "        plt.scatter(test_data, predictions, c=\"r\", s=4, label=\"Predictions\")\n",
        "\n",
        "    # Show the legend\n",
        "    plt.legend(prop={\"size\":14});"
      ],
      "metadata": {
        "id": "1RX1WHfXKN-q"
      },
      "execution_count": 5,
      "outputs": []
    },
    {
      "cell_type": "code",
      "source": [
        "plot_prediction()"
      ],
      "metadata": {
        "colab": {
          "base_uri": "https://localhost:8080/",
          "height": 0
        },
        "id": "hf2MlEqbMRCM",
        "outputId": "eb727900-71e5-4af4-e4df-9683bde7fe67"
      },
      "execution_count": 6,
      "outputs": [
        {
          "output_type": "display_data",
          "data": {
            "text/plain": [
              "<Figure size 1000x700 with 1 Axes>"
            ],
            "image/png": "[encoded data removed]"
          },
          "metadata": {}
        }
      ]
    },
    {
      "cell_type": "markdown",
      "source": [
        "# Build model\n",
        "1. more info: https://pytorch.org/docs/stable/generated/torch.nn.Module.html\n",
        "2. Pytorch model 元素\n",
        "    1. torch.nn - contains all of the buildings for neural networl\n",
        "    2. torch.nn.Parameter - 模型要學習的參數 (通常模型會自動設置)\n",
        "    3. torch.nn.Module - 神經網絡基本款\n",
        "        if subclass it, should overwrite forward() 前向傳播過程\n",
        "    4. torch.optim - optimizers (用於優化梯度下降)\n",
        "    5. def forward() - All nn.Muodule subclass require to overwrite def forward() 前向傳播\n",
        "    6. Doc: https://pytorch.org/tutorials/beginner/ptcheat.html\n",
        "3. 模型\n",
        "    1. 初始 隨機 weights and bias\n",
        "    2. 參考 training data “逐步調整” weights and bias\n",
        "4. 模型如何 “逐步調整”\n",
        "    1. Gradient descent (梯度下降演算法)\n",
        "    2. Backpropagation (反向傳播演算法)"
      ],
      "metadata": {
        "id": "D8qBW0FXY-5r"
      }
    },
    {
      "cell_type": "code",
      "source": [
        "from torch import nn\n",
        "\n",
        "# Create liner regression model class\n",
        "class LinearRegressionModel(nn.Module):\n",
        "\n",
        "# subclass nn.Module\n",
        "    def __init__(self):\n",
        "\n",
        "        super().__init__()\n",
        "\n",
        "        # parameter for weight\n",
        "        self.weights = nn.Parameter(torch.randn(1,\n",
        "                                                requires_grad=True,\n",
        "                                                dtype=torch.float))\n",
        "\n",
        "        # parameter for bias\n",
        "        self.bias = nn.Parameter(torch.randn(1,\n",
        "                                             requires_grad=True,\n",
        "                                             dtype=torch.float))\n",
        "\n",
        "    # Forward method : Define the computation in the model\n",
        "    # 前向傳播\n",
        "    # 輸入項的資料型態須為 : Tensor\n",
        "    def forward(self, x: torch.Tensor) -> torch.Tensor:\n",
        "        # Linear regression formula\n",
        "        return self.weights * x + self.bias"
      ],
      "metadata": {
        "id": "FPhXbWP_XOaZ"
      },
      "execution_count": 7,
      "outputs": []
    },
    {
      "cell_type": "markdown",
      "source": [
        "# Check the contents of PyTorch model\n",
        "1. model.parameters()\n",
        "2. model.state_dict()"
      ],
      "metadata": {
        "id": "tCpVpkFjo6v9"
      }
    },
    {
      "cell_type": "code",
      "source": [
        "# Create random seed\n",
        "torch.manual_seed(42)\n",
        "\n",
        "# Create an nn.Module\n",
        "model_0 = LinearRegressionModel()\n",
        "\n",
        "print(model_0.parameters())\n",
        "print(model_0.state_dict())"
      ],
      "metadata": {
        "colab": {
          "base_uri": "https://localhost:8080/"
        },
        "id": "S4Zrs0J2WR4M",
        "outputId": "c974fc4e-d52c-4789-d0dd-c281ffcaae8b"
      },
      "execution_count": 8,
      "outputs": [
        {
          "output_type": "stream",
          "name": "stdout",
          "text": [
            "<generator object Module.parameters at 0x7f035536fdf0>\n",
            "OrderedDict([('weights', tensor([0.3367])), ('bias', tensor([0.1288]))])\n"
          ]
        }
      ]
    },
    {
      "cell_type": "code",
      "source": [
        "# Check the parameters in model\n",
        "print(\"清單形式: \\n\", list(model_0.parameters()), \"\\n\" )\n",
        "\n",
        "#\n",
        "print(\"名稱形式: \\n\", model_0.state_dict())\n",
        "\n",
        "\"\"\"\n",
        "隨機產生的 weights and bias, 之後模型會逐步調整,\n",
        "使兩參數越來越接近我們手動設定的 weights and bias\n",
        "\"\"\""
      ],
      "metadata": {
        "colab": {
          "base_uri": "https://localhost:8080/",
          "height": 0
        },
        "id": "e3rL0xi-mWjZ",
        "outputId": "237c4f90-39ed-4a52-c737-7adb6a428459"
      },
      "execution_count": 9,
      "outputs": [
        {
          "output_type": "stream",
          "name": "stdout",
          "text": [
            "清單形式: \n",
            " [Parameter containing:\n",
            "tensor([0.3367], requires_grad=True), Parameter containing:\n",
            "tensor([0.1288], requires_grad=True)] \n",
            "\n",
            "名稱形式: \n",
            " OrderedDict([('weights', tensor([0.3367])), ('bias', tensor([0.1288]))])\n"
          ]
        },
        {
          "output_type": "execute_result",
          "data": {
            "text/plain": [
              "'\\n隨機產生的 weights and bias, 之後模型會逐步調整,\\n使兩參數越來越接近我們手動設定的 weights and bias\\n'"
            ],
            "application/vnd.google.colaboratory.intrinsic+json": {
              "type": "string"
            }
          },
          "metadata": {},
          "execution_count": 9
        }
      ]
    },
    {
      "cell_type": "markdown",
      "source": [
        "# Make prediction\n",
        "僅用於測試模型是否能夠運作, 此時的模型還沒有訓練過\n",
        "-> Loss值會非常大\n",
        "1. `torch.inference_mode()`  -> preferred\n",
        "2. `torch.no_grad()`"
      ],
      "metadata": {
        "id": "oD4bXb-yrYQR"
      }
    },
    {
      "cell_type": "code",
      "source": [
        "# inference_mode 會關掉 requires_grad=True 因為這邊用於簡單的顯示資料\n",
        "with torch.inference_mode():\n",
        "    y_preds = model_0(X_test)\n",
        "\n",
        "# 同效果\n",
        "with torch.no_grad():\n",
        "    y_preds = model_0(X_test)\n",
        "\n",
        "print(\"預測值\", y_preds, \"\\n\")\n",
        "print(\"真實值\", y_test)"
      ],
      "metadata": {
        "id": "WNabpcMOqdm4",
        "colab": {
          "base_uri": "https://localhost:8080/"
        },
        "outputId": "618cfd0e-170d-4c83-f69f-4371e3f0e6dc"
      },
      "execution_count": 10,
      "outputs": [
        {
          "output_type": "stream",
          "name": "stdout",
          "text": [
            "預測值 tensor([[0.3982],\n",
            "        [0.4049],\n",
            "        [0.4116],\n",
            "        [0.4184],\n",
            "        [0.4251],\n",
            "        [0.4318],\n",
            "        [0.4386],\n",
            "        [0.4453],\n",
            "        [0.4520],\n",
            "        [0.4588]]) \n",
            "\n",
            "真實值 tensor([[0.8600],\n",
            "        [0.8740],\n",
            "        [0.8880],\n",
            "        [0.9020],\n",
            "        [0.9160],\n",
            "        [0.9300],\n",
            "        [0.9440],\n",
            "        [0.9580],\n",
            "        [0.9720],\n",
            "        [0.9860]])\n"
          ]
        }
      ]
    },
    {
      "cell_type": "code",
      "source": [
        "plot_prediction(predictions=y_preds)"
      ],
      "metadata": {
        "colab": {
          "base_uri": "https://localhost:8080/",
          "height": 0
        },
        "id": "8o_erYH9cFlc",
        "outputId": "7fba387d-b913-4e45-f73c-d6d63bd79c15"
      },
      "execution_count": 11,
      "outputs": [
        {
          "output_type": "display_data",
          "data": {
            "text/plain": [
              "<Figure size 1000x700 with 1 Axes>"
            ],
            "image/png": "[encoded data removed]"
          },
          "metadata": {}
        }
      ]
    },
    {
      "cell_type": "markdown",
      "source": [
        "# Train model\n",
        "1. 訓練模型  ->  減少loss\n",
        "    (loss function 列表 : https://pytorch.org/docs/stable/nn.html#loss-functions)\n",
        "2. 選擇 loss function 損失函式 (需要依照問題選擇)\n",
        "3. 選擇 optimizer 優化器"
      ],
      "metadata": {
        "id": "6ygvwIShtjto"
      }
    },
    {
      "cell_type": "code",
      "source": [
        "# Setup loss function\n",
        "loss_fn = nn.L1Loss()  # L1loss -> mean absolute error MAE\n",
        "print(\"loss function:\", loss_fn, \"\\n\")\n",
        "\n",
        "# Setup an optimizer\n",
        "# 優化標的 : 之前的參數產生器\n",
        "optimizer = torch.optim.Adam(params=model_0.parameters(),\n",
        "                            # learning rate\n",
        "                            lr=0.01)\n",
        "print(\"優化器\", optimizer)"
      ],
      "metadata": {
        "id": "NgGIS9IftiRE",
        "colab": {
          "base_uri": "https://localhost:8080/"
        },
        "outputId": "90bf8c27-74d5-4370-8c94-f624955ce4e8"
      },
      "execution_count": 12,
      "outputs": [
        {
          "output_type": "stream",
          "name": "stdout",
          "text": [
            "loss function: L1Loss() \n",
            "\n",
            "優化器 Adam (\n",
            "Parameter Group 0\n",
            "    amsgrad: False\n",
            "    betas: (0.9, 0.999)\n",
            "    capturable: False\n",
            "    differentiable: False\n",
            "    eps: 1e-08\n",
            "    foreach: None\n",
            "    fused: None\n",
            "    lr: 0.01\n",
            "    maximize: False\n",
            "    weight_decay: 0\n",
            ")\n"
          ]
        }
      ]
    },
    {
      "cell_type": "markdown",
      "source": [
        "# Building training loop and testing loop\n",
        "1. Training Loop\n",
        "    1. Loop through the data\n",
        "    2. Forward pass (**向前傳播**)\n",
        "    3. Calculate the loss\n",
        "    4. Optimizer zero grad\n",
        "    5. Loss backward (**向後傳播**)\n",
        "    6. Optimizer step - use optimizer to adjust model's parameters and then try to improve the loss (**梯度下降**)\n",
        "\n",
        "2. Testing Loop\n",
        "    1. Forward pass\n",
        "    2. Calculate the loss"
      ],
      "metadata": {
        "id": "KLEowrLKx5Ky"
      }
    },
    {
      "cell_type": "code",
      "source": [
        "# 1. Loop through the data\n",
        "# epochs how many loop through the data\n",
        "epochs = 301\n",
        "\n",
        "for epoch in range(epochs):\n",
        "    # Set the model to training mode\n",
        "    model_0.train()\n",
        "\n",
        "    # 2. Forward pass\n",
        "    # 向前傳播 : 將訓練資料帶入模型, 進行第一次預測\n",
        "    y_pred = model_0(X_train)\n",
        "\n",
        "    # 3. Calculate the loss\n",
        "    # 利用之前設定的損失函式, 計算此次預測的 : loss值\n",
        "    loss = loss_fn(y_pred, y_train)\n",
        "\n",
        "    # 4. Optimizer zero grad\n",
        "    # 使用 optimizer.zero_grad() 將之前儲存的 gradient 歸零，避免累積的 gradient 影響 optimizer 更新參數的方向。\n",
        "    optimizer.zero_grad()\n",
        "\n",
        "    # 5. Backward pass (base on the loss)\n",
        "    # 向後傳播 : 依據 loss值 調整超參數\n",
        "    loss.backward()\n",
        "\n",
        "    # 6. Step the optimizer (perform gradient descent)\n",
        "    # by default, how the optimizer change will acculumate through the loop\n",
        "    optimizer.step()\n",
        "\n",
        "    # TESTING !!!\n",
        "    model_0.eval()\n",
        "\n",
        "    with torch.inference_mode():  # turn off gradient tracking\n",
        "        # 1. Forward pass\n",
        "        test_pred = model_0(X_test)\n",
        "\n",
        "        # 2. Calculate the loss\n",
        "        test_loss = loss_fn(test_pred, y_test)\n",
        "\n",
        "    # Print result & state_dict\n",
        "    if epoch % 50 == 0:\n",
        "        print(\"=\" * 50)\n",
        "        print(f\"Epoch: {epoch} | Test_loss: {test_loss}\")\n",
        "        print(model_0.state_dict())"
      ],
      "metadata": {
        "colab": {
          "base_uri": "https://localhost:8080/"
        },
        "id": "RIr3DFGkzy-N",
        "outputId": "adadadb5-3862-4af7-9882-f4c82844eca3"
      },
      "execution_count": 13,
      "outputs": [
        {
          "output_type": "stream",
          "name": "stdout",
          "text": [
            "==================================================\n",
            "Epoch: 0 | Test_loss: 0.47563618421554565\n",
            "OrderedDict([('weights', tensor([0.3467])), ('bias', tensor([0.1388]))])\n",
            "==================================================\n",
            "Epoch: 50 | Test_loss: 0.0409594364464283\n",
            "OrderedDict([('weights', tensor([0.6223])), ('bias', tensor([0.3282]))])\n",
            "==================================================\n",
            "Epoch: 100 | Test_loss: 0.0017547726165503263\n",
            "OrderedDict([('weights', tensor([0.7035])), ('bias', tensor([0.2987]))])\n",
            "==================================================\n",
            "Epoch: 150 | Test_loss: 0.004743391182273626\n",
            "OrderedDict([('weights', tensor([0.7020])), ('bias', tensor([0.3030]))])\n",
            "==================================================\n",
            "Epoch: 200 | Test_loss: 0.0004741489829029888\n",
            "OrderedDict([('weights', tensor([0.7003])), ('bias', tensor([0.3002]))])\n",
            "==================================================\n",
            "Epoch: 250 | Test_loss: 0.0013927280670031905\n",
            "OrderedDict([('weights', tensor([0.6992])), ('bias', tensor([0.2994]))])\n",
            "==================================================\n",
            "Epoch: 300 | Test_loss: 0.0007162749534472823\n",
            "OrderedDict([('weights', tensor([0.7002])), ('bias', tensor([0.3005]))])\n"
          ]
        }
      ]
    },
    {
      "cell_type": "code",
      "source": [
        "model_0.state_dict()\n",
        "# 每run run 一次 epoch -> loss 就會減少\n",
        "# 原本 : # OrderedDict([('weights', tensor([0.3367])), ('bias', tensor([0.1288]))])\n",
        "# OrderedDict([('weights', tensor([0.3406])), ('bias', tensor([0.1388]))])\n",
        "# OrderedDict([('weights', tensor([0.3445])), ('bias', tensor([0.1488]))])\n",
        "# OrderedDict([('weights', tensor([0.3484])), ('bias', tensor([0.1588]))])\n",
        "# ...."
      ],
      "metadata": {
        "colab": {
          "base_uri": "https://localhost:8080/"
        },
        "id": "BZMCkTPQzy6x",
        "outputId": "03a4bfe3-2341-4b80-e922-6e91039fe7dc"
      },
      "execution_count": 14,
      "outputs": [
        {
          "output_type": "execute_result",
          "data": {
            "text/plain": [
              "OrderedDict([('weights', tensor([0.7002])), ('bias', tensor([0.3005]))])"
            ]
          },
          "metadata": {},
          "execution_count": 14
        }
      ]
    },
    {
      "cell_type": "code",
      "source": [
        "# 圖示\n",
        "plot_prediction(predictions=test_pred)"
      ],
      "metadata": {
        "colab": {
          "base_uri": "https://localhost:8080/",
          "height": 491
        },
        "id": "vf4J8a2n1T_e",
        "outputId": "ace6ac25-af29-4118-a28f-f0d46ef2db01"
      },
      "execution_count": 15,
      "outputs": [
        {
          "output_type": "display_data",
          "data": {
            "text/plain": [
              "<Figure size 1000x700 with 1 Axes>"
            ],
            "image/png": "[encoded data removed]"
          },
          "metadata": {}
        }
      ]
    },
    {
      "cell_type": "markdown",
      "source": [
        "# Save the model\n",
        "1. `torch.save()` - save Pytorch object\n",
        "2. `torch.load()` - load Pytorch object\n",
        "3. `torch.nn.Module.load_state_dict()` - load state_dict\n",
        "4. https://pytorch.org/tutorials/beginner/saving_loading_models.html"
      ],
      "metadata": {
        "id": "Cv2hNKegDAD8"
      }
    },
    {
      "cell_type": "code",
      "source": [
        "# Saving model\n",
        "from pathlib import Path\n",
        "\n",
        "# 1. 創立資料夾\n",
        "MODEL_PATH = Path(\"models\")\n",
        "MODEL_PATH.mkdir(parents=True, exist_ok=True)\n",
        "\n",
        "# 2. model name\n",
        "MODEL_NAME = \"workflow_model_0.pt\"  # (.pt or .pth 都可以)\n",
        "\n",
        "# 3. 儲存路徑\n",
        "MODEL_SAVE_PATH = MODEL_PATH / MODEL_NAME\n",
        "\n",
        "# 4. Save model's state_dict\n",
        "torch.save(obj=model_0.state_dict(),\n",
        "           f=MODEL_SAVE_PATH)"
      ],
      "metadata": {
        "id": "GC_AG0oH_cOz"
      },
      "execution_count": 16,
      "outputs": []
    },
    {
      "cell_type": "code",
      "source": [
        "# 5. Load model's state_dict\n",
        "\n",
        "# To load in a saved state_dict, we have to instantiate a new instance of our model class\n",
        "loaded_model_0 = LinearRegressionModel()\n",
        "\n",
        "# Load the saved state_dict of model_0\n",
        "# update the new instance with updated parameters\n",
        "print(\"Before loaded the model_0's state_dict\")\n",
        "print(loaded_model_0.state_dict())\n",
        "\n",
        "loaded_model_0.load_state_dict(torch.load(f=MODEL_SAVE_PATH))\n",
        "\n",
        "print(\"\\nAfter\")\n",
        "print(loaded_model_0.state_dict())"
      ],
      "metadata": {
        "colab": {
          "base_uri": "https://localhost:8080/"
        },
        "id": "5litERbjBxzV",
        "outputId": "50de13bc-c08e-4c30-83ab-3fa7a7150779"
      },
      "execution_count": 17,
      "outputs": [
        {
          "output_type": "stream",
          "name": "stdout",
          "text": [
            "Before loaded the model_0's state_dict\n",
            "OrderedDict([('weights', tensor([0.2345])), ('bias', tensor([0.2303]))])\n",
            "\n",
            "After\n",
            "OrderedDict([('weights', tensor([0.7002])), ('bias', tensor([0.3005]))])\n"
          ]
        }
      ]
    },
    {
      "cell_type": "code",
      "source": [
        "# 6. Use loaded_model_0 predict again\n",
        "loaded_model_0.eval()\n",
        "\n",
        "with torch.inference_mode():\n",
        "    latest_preds = loaded_model_0(X_test)"
      ],
      "metadata": {
        "id": "jF9HPGxRFYgc"
      },
      "execution_count": 18,
      "outputs": []
    },
    {
      "cell_type": "code",
      "source": [
        "# 檢查是否與原本模型預測內容一致\n",
        "print(test_pred == latest_preds)"
      ],
      "metadata": {
        "colab": {
          "base_uri": "https://localhost:8080/"
        },
        "id": "Lqyx0dD6GJaN",
        "outputId": "8cfdcda6-74e4-44c3-ebaf-ad8fc3b4585b"
      },
      "execution_count": 19,
      "outputs": [
        {
          "output_type": "stream",
          "name": "stdout",
          "text": [
            "tensor([[True],\n",
            "        [True],\n",
            "        [True],\n",
            "        [True],\n",
            "        [True],\n",
            "        [True],\n",
            "        [True],\n",
            "        [True],\n",
            "        [True],\n",
            "        [True]])\n"
          ]
        }
      ]
    },
    {
      "cell_type": "markdown",
      "source": [
        "# Recap"
      ],
      "metadata": {
        "id": "fbQSVc6xG9gz"
      }
    },
    {
      "cell_type": "code",
      "source": [
        "# Import\n",
        "import torch\n",
        "from torch import nn\n",
        "import matplotlib.pyplot as plt"
      ],
      "metadata": {
        "id": "AYVlnrSpHDcB"
      },
      "execution_count": 20,
      "outputs": []
    },
    {
      "cell_type": "code",
      "source": [
        "# Data\n",
        "weight = 0.8\n",
        "bias = 0.2\n",
        "\n",
        "start = 0\n",
        "end = 1\n",
        "step = 0.02\n",
        "\n",
        "X = torch.arange(start, end, step).unsqueeze(dim=1)\n",
        "y = weight*X + bias"
      ],
      "metadata": {
        "id": "VtUEZ8iZH19x"
      },
      "execution_count": 30,
      "outputs": []
    },
    {
      "cell_type": "code",
      "source": [
        "# Split data\n",
        "train_split = int(0.8 * len(X))\n",
        "\n",
        "X_train, y_train = X[:train_split], y[:train_split]\n",
        "X_test, y_test = X[train_split:], y[train_split:]"
      ],
      "metadata": {
        "id": "XkpPOQCwNmwj"
      },
      "execution_count": 31,
      "outputs": []
    },
    {
      "cell_type": "code",
      "source": [
        "# Build model (layer)\n",
        "class LinearRegressionModel_1(nn.Module):\n",
        "    def __init__(self):\n",
        "        super().__init__()\n",
        "\n",
        "        # use nn.Linear() creating parameters\n",
        "        # 1 feature in & 1 feature out\n",
        "        self.linear_layer = nn.Linear(in_features=1,\n",
        "                                      out_features=1)\n",
        "\n",
        "\n",
        "    def forward(self, x : torch.Tensor) -> torch.Tensor:\n",
        "        return self.linear_layer(x)\n",
        "\n",
        "model_1 = LinearRegressionModel_1()"
      ],
      "metadata": {
        "id": "cT6u9TpwHpAG"
      },
      "execution_count": 32,
      "outputs": []
    },
    {
      "cell_type": "code",
      "source": [
        "# Check mdoel\n",
        "model_1.state_dict()"
      ],
      "metadata": {
        "colab": {
          "base_uri": "https://localhost:8080/"
        },
        "id": "60Hpw-boSIDk",
        "outputId": "f975651b-f8f1-4a5e-e067-01cdff399ffc"
      },
      "execution_count": 33,
      "outputs": [
        {
          "output_type": "execute_result",
          "data": {
            "text/plain": [
              "OrderedDict([('linear_layer.weight', tensor([[0.8692]])),\n",
              "             ('linear_layer.bias', tensor([0.1872]))])"
            ]
          },
          "metadata": {},
          "execution_count": 33
        }
      ]
    },
    {
      "cell_type": "code",
      "source": [
        "# Set loss function\n",
        "loss_fn = nn.L1Loss()"
      ],
      "metadata": {
        "id": "KkiAnLZpJGjK"
      },
      "execution_count": 34,
      "outputs": []
    },
    {
      "cell_type": "code",
      "source": [
        "# Set optimizer\n",
        "optimizer = torch.optim.Adam(params=model_1.parameters(),\n",
        "                             lr=0.01)"
      ],
      "metadata": {
        "id": "AK81TCJXJKEK"
      },
      "execution_count": 35,
      "outputs": []
    },
    {
      "cell_type": "code",
      "source": [
        "# Build : training & testing loop\n",
        "epochs = 251\n",
        "\n",
        "for epoch in range(epochs):\n",
        "    model_1.train()\n",
        "\n",
        "    y_pred = model_1(X_train)\n",
        "\n",
        "    loss = loss_fn(y_pred, y_train)\n",
        "\n",
        "    optimizer.zero_grad()\n",
        "\n",
        "    loss.backward()\n",
        "\n",
        "    optimizer.step()\n",
        "\n",
        "    # TEST\n",
        "    model_1.eval()\n",
        "\n",
        "    with torch.inference_mode():\n",
        "        test_pred = model_1(X_test)\n",
        "\n",
        "        test_loss = loss_fn(test_pred, y_test)\n",
        "\n",
        "    if epoch % 50 == 0:\n",
        "        print(\"=\" * 50)\n",
        "        print(f\"Epoch: {epoch} | Test_loss: {test_loss}\")\n",
        "        print(model_1.state_dict())"
      ],
      "metadata": {
        "colab": {
          "base_uri": "https://localhost:8080/"
        },
        "id": "I3Q69KXVJTnF",
        "outputId": "f0b56a52-ed70-4bc4-a159-d1ee26ed6753"
      },
      "execution_count": 36,
      "outputs": [
        {
          "output_type": "stream",
          "name": "stdout",
          "text": [
            "==================================================\n",
            "Epoch: 0 | Test_loss: 0.029843907803297043\n",
            "OrderedDict([('linear_layer.weight', tensor([[0.8592]])), ('linear_layer.bias', tensor([0.1772]))])\n",
            "==================================================\n",
            "Epoch: 50 | Test_loss: 0.0001330196828348562\n",
            "OrderedDict([('linear_layer.weight', tensor([[0.8017]])), ('linear_layer.bias', tensor([0.1983]))])\n",
            "==================================================\n",
            "Epoch: 100 | Test_loss: 0.004145777318626642\n",
            "OrderedDict([('linear_layer.weight', tensor([[0.8040]])), ('linear_layer.bias', tensor([0.2006]))])\n",
            "==================================================\n",
            "Epoch: 150 | Test_loss: 0.0020293891429901123\n",
            "OrderedDict([('linear_layer.weight', tensor([[0.7994]])), ('linear_layer.bias', tensor([0.1985]))])\n",
            "==================================================\n",
            "Epoch: 200 | Test_loss: 0.0015530467499047518\n",
            "OrderedDict([('linear_layer.weight', tensor([[0.7997]])), ('linear_layer.bias', tensor([0.1987]))])\n",
            "==================================================\n",
            "Epoch: 250 | Test_loss: 0.0024042963050305843\n",
            "OrderedDict([('linear_layer.weight', tensor([[0.8018]])), ('linear_layer.bias', tensor([0.2008]))])\n"
          ]
        }
      ]
    },
    {
      "cell_type": "code",
      "source": [
        "plot_prediction(predictions=test_pred)"
      ],
      "metadata": {
        "colab": {
          "base_uri": "https://localhost:8080/",
          "height": 491
        },
        "id": "2J8MqnEfLXy9",
        "outputId": "1b5bdb43-4e66-48b5-d36d-e433eb396c7e"
      },
      "execution_count": 38,
      "outputs": [
        {
          "output_type": "display_data",
          "data": {
            "text/plain": [
              "<Figure size 1000x700 with 1 Axes>"
            ],
            "image/png": "[encoded data removed]"
          },
          "metadata": {}
        }
      ]
    }
  ]
}