{
  "nbformat": 4,
  "nbformat_minor": 0,
  "metadata": {
    "colab": {
      "provenance": [],
      "gpuType": "T4",
      "authorship_tag": "ABX9TyPXN0AA6fuxkExMiCpaucb/",
      "include_colab_link": true
    },
    "kernelspec": {
      "name": "python3",
      "display_name": "Python 3"
    },
    "language_info": {
      "name": "python"
    }
  },
  "cells": [
    {
      "cell_type": "markdown",
      "metadata": {
        "id": "view-in-github",
        "colab_type": "text"
      },
      "source": [
        "<a href=\"https://colab.research.google.com/github/h0806449f/PyTorch/blob/main/NLP_first_try.ipynb\" target=\"_parent\"><img src=\"https://colab.research.google.com/assets/colab-badge.svg\" alt=\"Open In Colab\"/></a>"
      ]
    },
    {
      "cell_type": "markdown",
      "source": [
        "# **==  0. HuggingFace ==**"
      ],
      "metadata": {
        "id": "D-LpNa7WnO8P"
      }
    },
    {
      "cell_type": "code",
      "source": [
        "!pip install datasets evaluate transformers[sentencepiece]\n",
        "\n",
        "from transformers import pipeline"
      ],
      "metadata": {
        "id": "yQOt9BfAjggT"
      },
      "execution_count": null,
      "outputs": []
    },
    {
      "cell_type": "code",
      "source": [
        "# 情緒分析\n",
        "classifier = pipeline(model = \"distilbert-base-uncased-finetuned-sst-2-english\", # Dfault model\n",
        "                      task = \"sentiment-analysis\")\n",
        "\n",
        "\n",
        "classifier(\"首次嘗試使用NLP相關模型, 模型來自於HuggingFace, 看起來有點厲害\")"
      ],
      "metadata": {
        "colab": {
          "base_uri": "https://localhost:8080/"
        },
        "id": "k1rgzdfTj4FH",
        "outputId": "9c05679c-e578-4d49-e912-156975be4123"
      },
      "execution_count": 5,
      "outputs": [
        {
          "output_type": "execute_result",
          "data": {
            "text/plain": [
              "[{'label': 'NEGATIVE', 'score': 0.970554769039154}]"
            ]
          },
          "metadata": {},
          "execution_count": 5
        }
      ]
    },
    {
      "cell_type": "code",
      "source": [
        "# 零樣本 - 文本分類\n",
        "classifier = pipeline(model = \"facebook/bart-large-mnli\", # Default model\n",
        "                      task = \"zero-shot-classification\")\n",
        "\n",
        "classifier(\"This is a course about the Transformers library\",\n",
        "           candidate_labels=[\"education\", \"politics\", \"business\"])"
      ],
      "metadata": {
        "colab": {
          "base_uri": "https://localhost:8080/"
        },
        "id": "eWEfGIA8l_LL",
        "outputId": "3e3ac061-c0ae-4488-9cce-ce2a5275a530"
      },
      "execution_count": 11,
      "outputs": [
        {
          "output_type": "execute_result",
          "data": {
            "text/plain": [
              "{'sequence': 'This is a course about the Transformers library',\n",
              " 'labels': ['education', 'business', 'politics'],\n",
              " 'scores': [0.8445989489555359, 0.11197412759065628, 0.04342695698142052]}"
            ]
          },
          "metadata": {},
          "execution_count": 11
        }
      ]
    },
    {
      "cell_type": "code",
      "source": [
        "# 文本生成\n",
        "generator = pipeline(model = \"gpt2\", # Default model\n",
        "                     task = \"text-generation\")\n",
        "\n",
        "generator(\"These are some steps for build risk forecast model\",\n",
        "          max_new_tokens = 50)"
      ],
      "metadata": {
        "colab": {
          "base_uri": "https://localhost:8080/"
        },
        "id": "7Yw8eATWnjok",
        "outputId": "d097a443-fa6c-4abc-bd93-86c31408b69f"
      },
      "execution_count": 12,
      "outputs": [
        {
          "output_type": "stream",
          "name": "stderr",
          "text": [
            "Setting `pad_token_id` to `eos_token_id`:50256 for open-end generation.\n"
          ]
        },
        {
          "output_type": "execute_result",
          "data": {
            "text/plain": [
              "[{'generated_text': 'These are some steps for build risk forecast model, such as using data with different forecast values.'}]"
            ]
          },
          "metadata": {},
          "execution_count": 12
        }
      ]
    },
    {
      "cell_type": "code",
      "source": [
        "# 文本生成\n",
        "generator = pipeline(\"text-generation\", model=\"distilgpt2\")\n",
        "\n",
        "generator(\n",
        "    \"These are some steps for build risk forecast model\",\n",
        "    max_length=30,\n",
        "    num_return_sequences=2,\n",
        ")"
      ],
      "metadata": {
        "colab": {
          "base_uri": "https://localhost:8080/"
        },
        "id": "JLCJXBWKsMJF",
        "outputId": "94454c2f-82fd-481a-90b5-9806a35089fb"
      },
      "execution_count": 14,
      "outputs": [
        {
          "output_type": "stream",
          "name": "stderr",
          "text": [
            "Setting `pad_token_id` to `eos_token_id`:50256 for open-end generation.\n"
          ]
        },
        {
          "output_type": "execute_result",
          "data": {
            "text/plain": [
              "[{'generated_text': 'These are some steps for build risk forecast model development with tools that can be useful and use cases for understanding how to use our current software to evaluate your'},\n",
              " {'generated_text': 'These are some steps for build risk forecast model (see below).\\n\\n\\n\\n\\nPrerequisites\\nLet’s begin in a short time'}]"
            ]
          },
          "metadata": {},
          "execution_count": 14
        }
      ]
    }
  ]
}