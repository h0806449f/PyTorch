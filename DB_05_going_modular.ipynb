{
  "nbformat": 4,
  "nbformat_minor": 0,
  "metadata": {
    "colab": {
      "provenance": [],
      "collapsed_sections": [
        "LmeMFXFXvFCB",
        "n5I6TOc8yRMP",
        "O_H3OJOE0AxB",
        "e5UeslIJ1-Cg",
        "B8SDlCXAC_tl",
        "miiWraMQVgAf",
        "Drf4_OXRTsUU",
        "WB7PvOlnUt4s",
        "jiktJGZTVN_X",
        "OVtGBAqpVr-H",
        "KqZKDgBRWgl1",
        "vlQbm-6mWh5Z",
        "0J8fk6PEnzLA",
        "MuOLDxzlojue",
        "dEiGxlIWohNe",
        "KDscxtyZovu_",
        "B3ipEbd7oyJa",
        "Ex_00t_R2Dze",
        "gOjTCqhN2Lmq",
        "v0Qdu65G2NgC",
        "qAlRQVrT2PYW"
      ],
      "toc_visible": true,
      "authorship_tag": "ABX9TyNdlOPMHBSEkQl8AP0HpG7W",
      "include_colab_link": true
    },
    "kernelspec": {
      "name": "python3",
      "display_name": "Python 3"
    },
    "language_info": {
      "name": "python"
    },
    "widgets": {
      "application/vnd.jupyter.widget-state+json": {
        "4393ed00091f49b7b22fdf45810d1c1c": {
          "model_module": "@jupyter-widgets/controls",
          "model_name": "HBoxModel",
          "model_module_version": "1.5.0",
          "state": {
            "_dom_classes": [],
            "_model_module": "@jupyter-widgets/controls",
            "_model_module_version": "1.5.0",
            "_model_name": "HBoxModel",
            "_view_count": null,
            "_view_module": "@jupyter-widgets/controls",
            "_view_module_version": "1.5.0",
            "_view_name": "HBoxView",
            "box_style": "",
            "children": [
              "IPY_MODEL_82c063b20adb44ef9b06611ff0e6dfb9",
              "IPY_MODEL_0ca0ab70204e427cb33abfe6e172902e",
              "IPY_MODEL_65d624d2bba748e1b6a6d9e70de6814f"
            ],
            "layout": "IPY_MODEL_ba37cdb09ac3426992d81b6f7b124dbe"
          }
        },
        "82c063b20adb44ef9b06611ff0e6dfb9": {
          "model_module": "@jupyter-widgets/controls",
          "model_name": "HTMLModel",
          "model_module_version": "1.5.0",
          "state": {
            "_dom_classes": [],
            "_model_module": "@jupyter-widgets/controls",
            "_model_module_version": "1.5.0",
            "_model_name": "HTMLModel",
            "_view_count": null,
            "_view_module": "@jupyter-widgets/controls",
            "_view_module_version": "1.5.0",
            "_view_name": "HTMLView",
            "description": "",
            "description_tooltip": null,
            "layout": "IPY_MODEL_67823386bf574e3ab02e88131c06abab",
            "placeholder": "​",
            "style": "IPY_MODEL_4883c7faaf644858be3cab8b382fdc0f",
            "value": "100%"
          }
        },
        "0ca0ab70204e427cb33abfe6e172902e": {
          "model_module": "@jupyter-widgets/controls",
          "model_name": "FloatProgressModel",
          "model_module_version": "1.5.0",
          "state": {
            "_dom_classes": [],
            "_model_module": "@jupyter-widgets/controls",
            "_model_module_version": "1.5.0",
            "_model_name": "FloatProgressModel",
            "_view_count": null,
            "_view_module": "@jupyter-widgets/controls",
            "_view_module_version": "1.5.0",
            "_view_name": "ProgressView",
            "bar_style": "success",
            "description": "",
            "description_tooltip": null,
            "layout": "IPY_MODEL_6e00ba70cbb84c5cb457c6d9012de825",
            "max": 5,
            "min": 0,
            "orientation": "horizontal",
            "style": "IPY_MODEL_34243e21a9914add948982058ef4f858",
            "value": 5
          }
        },
        "65d624d2bba748e1b6a6d9e70de6814f": {
          "model_module": "@jupyter-widgets/controls",
          "model_name": "HTMLModel",
          "model_module_version": "1.5.0",
          "state": {
            "_dom_classes": [],
            "_model_module": "@jupyter-widgets/controls",
            "_model_module_version": "1.5.0",
            "_model_name": "HTMLModel",
            "_view_count": null,
            "_view_module": "@jupyter-widgets/controls",
            "_view_module_version": "1.5.0",
            "_view_name": "HTMLView",
            "description": "",
            "description_tooltip": null,
            "layout": "IPY_MODEL_0e04749af0074ad0b57acb061abd4ea7",
            "placeholder": "​",
            "style": "IPY_MODEL_9cd84067ed54486b97aa05606c6917a2",
            "value": " 5/5 [15:00&lt;00:00, 181.09s/it]"
          }
        },
        "ba37cdb09ac3426992d81b6f7b124dbe": {
          "model_module": "@jupyter-widgets/base",
          "model_name": "LayoutModel",
          "model_module_version": "1.2.0",
          "state": {
            "_model_module": "@jupyter-widgets/base",
            "_model_module_version": "1.2.0",
            "_model_name": "LayoutModel",
            "_view_count": null,
            "_view_module": "@jupyter-widgets/base",
            "_view_module_version": "1.2.0",
            "_view_name": "LayoutView",
            "align_content": null,
            "align_items": null,
            "align_self": null,
            "border": null,
            "bottom": null,
            "display": null,
            "flex": null,
            "flex_flow": null,
            "grid_area": null,
            "grid_auto_columns": null,
            "grid_auto_flow": null,
            "grid_auto_rows": null,
            "grid_column": null,
            "grid_gap": null,
            "grid_row": null,
            "grid_template_areas": null,
            "grid_template_columns": null,
            "grid_template_rows": null,
            "height": null,
            "justify_content": null,
            "justify_items": null,
            "left": null,
            "margin": null,
            "max_height": null,
            "max_width": null,
            "min_height": null,
            "min_width": null,
            "object_fit": null,
            "object_position": null,
            "order": null,
            "overflow": null,
            "overflow_x": null,
            "overflow_y": null,
            "padding": null,
            "right": null,
            "top": null,
            "visibility": null,
            "width": null
          }
        },
        "67823386bf574e3ab02e88131c06abab": {
          "model_module": "@jupyter-widgets/base",
          "model_name": "LayoutModel",
          "model_module_version": "1.2.0",
          "state": {
            "_model_module": "@jupyter-widgets/base",
            "_model_module_version": "1.2.0",
            "_model_name": "LayoutModel",
            "_view_count": null,
            "_view_module": "@jupyter-widgets/base",
            "_view_module_version": "1.2.0",
            "_view_name": "LayoutView",
            "align_content": null,
            "align_items": null,
            "align_self": null,
            "border": null,
            "bottom": null,
            "display": null,
            "flex": null,
            "flex_flow": null,
            "grid_area": null,
            "grid_auto_columns": null,
            "grid_auto_flow": null,
            "grid_auto_rows": null,
            "grid_column": null,
            "grid_gap": null,
            "grid_row": null,
            "grid_template_areas": null,
            "grid_template_columns": null,
            "grid_template_rows": null,
            "height": null,
            "justify_content": null,
            "justify_items": null,
            "left": null,
            "margin": null,
            "max_height": null,
            "max_width": null,
            "min_height": null,
            "min_width": null,
            "object_fit": null,
            "object_position": null,
            "order": null,
            "overflow": null,
            "overflow_x": null,
            "overflow_y": null,
            "padding": null,
            "right": null,
            "top": null,
            "visibility": null,
            "width": null
          }
        },
        "4883c7faaf644858be3cab8b382fdc0f": {
          "model_module": "@jupyter-widgets/controls",
          "model_name": "DescriptionStyleModel",
          "model_module_version": "1.5.0",
          "state": {
            "_model_module": "@jupyter-widgets/controls",
            "_model_module_version": "1.5.0",
            "_model_name": "DescriptionStyleModel",
            "_view_count": null,
            "_view_module": "@jupyter-widgets/base",
            "_view_module_version": "1.2.0",
            "_view_name": "StyleView",
            "description_width": ""
          }
        },
        "6e00ba70cbb84c5cb457c6d9012de825": {
          "model_module": "@jupyter-widgets/base",
          "model_name": "LayoutModel",
          "model_module_version": "1.2.0",
          "state": {
            "_model_module": "@jupyter-widgets/base",
            "_model_module_version": "1.2.0",
            "_model_name": "LayoutModel",
            "_view_count": null,
            "_view_module": "@jupyter-widgets/base",
            "_view_module_version": "1.2.0",
            "_view_name": "LayoutView",
            "align_content": null,
            "align_items": null,
            "align_self": null,
            "border": null,
            "bottom": null,
            "display": null,
            "flex": null,
            "flex_flow": null,
            "grid_area": null,
            "grid_auto_columns": null,
            "grid_auto_flow": null,
            "grid_auto_rows": null,
            "grid_column": null,
            "grid_gap": null,
            "grid_row": null,
            "grid_template_areas": null,
            "grid_template_columns": null,
            "grid_template_rows": null,
            "height": null,
            "justify_content": null,
            "justify_items": null,
            "left": null,
            "margin": null,
            "max_height": null,
            "max_width": null,
            "min_height": null,
            "min_width": null,
            "object_fit": null,
            "object_position": null,
            "order": null,
            "overflow": null,
            "overflow_x": null,
            "overflow_y": null,
            "padding": null,
            "right": null,
            "top": null,
            "visibility": null,
            "width": null
          }
        },
        "34243e21a9914add948982058ef4f858": {
          "model_module": "@jupyter-widgets/controls",
          "model_name": "ProgressStyleModel",
          "model_module_version": "1.5.0",
          "state": {
            "_model_module": "@jupyter-widgets/controls",
            "_model_module_version": "1.5.0",
            "_model_name": "ProgressStyleModel",
            "_view_count": null,
            "_view_module": "@jupyter-widgets/base",
            "_view_module_version": "1.2.0",
            "_view_name": "StyleView",
            "bar_color": null,
            "description_width": ""
          }
        },
        "0e04749af0074ad0b57acb061abd4ea7": {
          "model_module": "@jupyter-widgets/base",
          "model_name": "LayoutModel",
          "model_module_version": "1.2.0",
          "state": {
            "_model_module": "@jupyter-widgets/base",
            "_model_module_version": "1.2.0",
            "_model_name": "LayoutModel",
            "_view_count": null,
            "_view_module": "@jupyter-widgets/base",
            "_view_module_version": "1.2.0",
            "_view_name": "LayoutView",
            "align_content": null,
            "align_items": null,
            "align_self": null,
            "border": null,
            "bottom": null,
            "display": null,
            "flex": null,
            "flex_flow": null,
            "grid_area": null,
            "grid_auto_columns": null,
            "grid_auto_flow": null,
            "grid_auto_rows": null,
            "grid_column": null,
            "grid_gap": null,
            "grid_row": null,
            "grid_template_areas": null,
            "grid_template_columns": null,
            "grid_template_rows": null,
            "height": null,
            "justify_content": null,
            "justify_items": null,
            "left": null,
            "margin": null,
            "max_height": null,
            "max_width": null,
            "min_height": null,
            "min_width": null,
            "object_fit": null,
            "object_position": null,
            "order": null,
            "overflow": null,
            "overflow_x": null,
            "overflow_y": null,
            "padding": null,
            "right": null,
            "top": null,
            "visibility": null,
            "width": null
          }
        },
        "9cd84067ed54486b97aa05606c6917a2": {
          "model_module": "@jupyter-widgets/controls",
          "model_name": "DescriptionStyleModel",
          "model_module_version": "1.5.0",
          "state": {
            "_model_module": "@jupyter-widgets/controls",
            "_model_module_version": "1.5.0",
            "_model_name": "DescriptionStyleModel",
            "_view_count": null,
            "_view_module": "@jupyter-widgets/base",
            "_view_module_version": "1.2.0",
            "_view_name": "StyleView",
            "description_width": ""
          }
        },
        "bf2bd21e179e4b0d81e4f55f0e7e8008": {
          "model_module": "@jupyter-widgets/controls",
          "model_name": "HBoxModel",
          "model_module_version": "1.5.0",
          "state": {
            "_dom_classes": [],
            "_model_module": "@jupyter-widgets/controls",
            "_model_module_version": "1.5.0",
            "_model_name": "HBoxModel",
            "_view_count": null,
            "_view_module": "@jupyter-widgets/controls",
            "_view_module_version": "1.5.0",
            "_view_name": "HBoxView",
            "box_style": "",
            "children": [
              "IPY_MODEL_f5be26fc2c124c1993fea94bd80fade4",
              "IPY_MODEL_c514326973974b8189f44dae73312c68",
              "IPY_MODEL_987697c9888c4d80a21180ec85dedfee"
            ],
            "layout": "IPY_MODEL_cddf712c80bf4d09a261f21bab1f99b9"
          }
        },
        "f5be26fc2c124c1993fea94bd80fade4": {
          "model_module": "@jupyter-widgets/controls",
          "model_name": "HTMLModel",
          "model_module_version": "1.5.0",
          "state": {
            "_dom_classes": [],
            "_model_module": "@jupyter-widgets/controls",
            "_model_module_version": "1.5.0",
            "_model_name": "HTMLModel",
            "_view_count": null,
            "_view_module": "@jupyter-widgets/controls",
            "_view_module_version": "1.5.0",
            "_view_name": "HTMLView",
            "description": "",
            "description_tooltip": null,
            "layout": "IPY_MODEL_99b1ff0f549d4891ad67c631be4d47cb",
            "placeholder": "​",
            "style": "IPY_MODEL_71457971f4ad472d8697ba2995186a24",
            "value": "100%"
          }
        },
        "c514326973974b8189f44dae73312c68": {
          "model_module": "@jupyter-widgets/controls",
          "model_name": "FloatProgressModel",
          "model_module_version": "1.5.0",
          "state": {
            "_dom_classes": [],
            "_model_module": "@jupyter-widgets/controls",
            "_model_module_version": "1.5.0",
            "_model_name": "FloatProgressModel",
            "_view_count": null,
            "_view_module": "@jupyter-widgets/controls",
            "_view_module_version": "1.5.0",
            "_view_name": "ProgressView",
            "bar_style": "success",
            "description": "",
            "description_tooltip": null,
            "layout": "IPY_MODEL_6fbcb64f9ead4005bb1f94a4b3975118",
            "max": 5,
            "min": 0,
            "orientation": "horizontal",
            "style": "IPY_MODEL_f024d07b4f37479e86889b63dae0ddda",
            "value": 5
          }
        },
        "987697c9888c4d80a21180ec85dedfee": {
          "model_module": "@jupyter-widgets/controls",
          "model_name": "HTMLModel",
          "model_module_version": "1.5.0",
          "state": {
            "_dom_classes": [],
            "_model_module": "@jupyter-widgets/controls",
            "_model_module_version": "1.5.0",
            "_model_name": "HTMLModel",
            "_view_count": null,
            "_view_module": "@jupyter-widgets/controls",
            "_view_module_version": "1.5.0",
            "_view_name": "HTMLView",
            "description": "",
            "description_tooltip": null,
            "layout": "IPY_MODEL_7f1218849bca4075ab95e1b1f78b4ba1",
            "placeholder": "​",
            "style": "IPY_MODEL_66fff017167546d9a5b08d7279f8b932",
            "value": " 5/5 [00:39&lt;00:00,  9.25s/it]"
          }
        },
        "cddf712c80bf4d09a261f21bab1f99b9": {
          "model_module": "@jupyter-widgets/base",
          "model_name": "LayoutModel",
          "model_module_version": "1.2.0",
          "state": {
            "_model_module": "@jupyter-widgets/base",
            "_model_module_version": "1.2.0",
            "_model_name": "LayoutModel",
            "_view_count": null,
            "_view_module": "@jupyter-widgets/base",
            "_view_module_version": "1.2.0",
            "_view_name": "LayoutView",
            "align_content": null,
            "align_items": null,
            "align_self": null,
            "border": null,
            "bottom": null,
            "display": null,
            "flex": null,
            "flex_flow": null,
            "grid_area": null,
            "grid_auto_columns": null,
            "grid_auto_flow": null,
            "grid_auto_rows": null,
            "grid_column": null,
            "grid_gap": null,
            "grid_row": null,
            "grid_template_areas": null,
            "grid_template_columns": null,
            "grid_template_rows": null,
            "height": null,
            "justify_content": null,
            "justify_items": null,
            "left": null,
            "margin": null,
            "max_height": null,
            "max_width": null,
            "min_height": null,
            "min_width": null,
            "object_fit": null,
            "object_position": null,
            "order": null,
            "overflow": null,
            "overflow_x": null,
            "overflow_y": null,
            "padding": null,
            "right": null,
            "top": null,
            "visibility": null,
            "width": null
          }
        },
        "99b1ff0f549d4891ad67c631be4d47cb": {
          "model_module": "@jupyter-widgets/base",
          "model_name": "LayoutModel",
          "model_module_version": "1.2.0",
          "state": {
            "_model_module": "@jupyter-widgets/base",
            "_model_module_version": "1.2.0",
            "_model_name": "LayoutModel",
            "_view_count": null,
            "_view_module": "@jupyter-widgets/base",
            "_view_module_version": "1.2.0",
            "_view_name": "LayoutView",
            "align_content": null,
            "align_items": null,
            "align_self": null,
            "border": null,
            "bottom": null,
            "display": null,
            "flex": null,
            "flex_flow": null,
            "grid_area": null,
            "grid_auto_columns": null,
            "grid_auto_flow": null,
            "grid_auto_rows": null,
            "grid_column": null,
            "grid_gap": null,
            "grid_row": null,
            "grid_template_areas": null,
            "grid_template_columns": null,
            "grid_template_rows": null,
            "height": null,
            "justify_content": null,
            "justify_items": null,
            "left": null,
            "margin": null,
            "max_height": null,
            "max_width": null,
            "min_height": null,
            "min_width": null,
            "object_fit": null,
            "object_position": null,
            "order": null,
            "overflow": null,
            "overflow_x": null,
            "overflow_y": null,
            "padding": null,
            "right": null,
            "top": null,
            "visibility": null,
            "width": null
          }
        },
        "71457971f4ad472d8697ba2995186a24": {
          "model_module": "@jupyter-widgets/controls",
          "model_name": "DescriptionStyleModel",
          "model_module_version": "1.5.0",
          "state": {
            "_model_module": "@jupyter-widgets/controls",
            "_model_module_version": "1.5.0",
            "_model_name": "DescriptionStyleModel",
            "_view_count": null,
            "_view_module": "@jupyter-widgets/base",
            "_view_module_version": "1.2.0",
            "_view_name": "StyleView",
            "description_width": ""
          }
        },
        "6fbcb64f9ead4005bb1f94a4b3975118": {
          "model_module": "@jupyter-widgets/base",
          "model_name": "LayoutModel",
          "model_module_version": "1.2.0",
          "state": {
            "_model_module": "@jupyter-widgets/base",
            "_model_module_version": "1.2.0",
            "_model_name": "LayoutModel",
            "_view_count": null,
            "_view_module": "@jupyter-widgets/base",
            "_view_module_version": "1.2.0",
            "_view_name": "LayoutView",
            "align_content": null,
            "align_items": null,
            "align_self": null,
            "border": null,
            "bottom": null,
            "display": null,
            "flex": null,
            "flex_flow": null,
            "grid_area": null,
            "grid_auto_columns": null,
            "grid_auto_flow": null,
            "grid_auto_rows": null,
            "grid_column": null,
            "grid_gap": null,
            "grid_row": null,
            "grid_template_areas": null,
            "grid_template_columns": null,
            "grid_template_rows": null,
            "height": null,
            "justify_content": null,
            "justify_items": null,
            "left": null,
            "margin": null,
            "max_height": null,
            "max_width": null,
            "min_height": null,
            "min_width": null,
            "object_fit": null,
            "object_position": null,
            "order": null,
            "overflow": null,
            "overflow_x": null,
            "overflow_y": null,
            "padding": null,
            "right": null,
            "top": null,
            "visibility": null,
            "width": null
          }
        },
        "f024d07b4f37479e86889b63dae0ddda": {
          "model_module": "@jupyter-widgets/controls",
          "model_name": "ProgressStyleModel",
          "model_module_version": "1.5.0",
          "state": {
            "_model_module": "@jupyter-widgets/controls",
            "_model_module_version": "1.5.0",
            "_model_name": "ProgressStyleModel",
            "_view_count": null,
            "_view_module": "@jupyter-widgets/base",
            "_view_module_version": "1.2.0",
            "_view_name": "StyleView",
            "bar_color": null,
            "description_width": ""
          }
        },
        "7f1218849bca4075ab95e1b1f78b4ba1": {
          "model_module": "@jupyter-widgets/base",
          "model_name": "LayoutModel",
          "model_module_version": "1.2.0",
          "state": {
            "_model_module": "@jupyter-widgets/base",
            "_model_module_version": "1.2.0",
            "_model_name": "LayoutModel",
            "_view_count": null,
            "_view_module": "@jupyter-widgets/base",
            "_view_module_version": "1.2.0",
            "_view_name": "LayoutView",
            "align_content": null,
            "align_items": null,
            "align_self": null,
            "border": null,
            "bottom": null,
            "display": null,
            "flex": null,
            "flex_flow": null,
            "grid_area": null,
            "grid_auto_columns": null,
            "grid_auto_flow": null,
            "grid_auto_rows": null,
            "grid_column": null,
            "grid_gap": null,
            "grid_row": null,
            "grid_template_areas": null,
            "grid_template_columns": null,
            "grid_template_rows": null,
            "height": null,
            "justify_content": null,
            "justify_items": null,
            "left": null,
            "margin": null,
            "max_height": null,
            "max_width": null,
            "min_height": null,
            "min_width": null,
            "object_fit": null,
            "object_position": null,
            "order": null,
            "overflow": null,
            "overflow_x": null,
            "overflow_y": null,
            "padding": null,
            "right": null,
            "top": null,
            "visibility": null,
            "width": null
          }
        },
        "66fff017167546d9a5b08d7279f8b932": {
          "model_module": "@jupyter-widgets/controls",
          "model_name": "DescriptionStyleModel",
          "model_module_version": "1.5.0",
          "state": {
            "_model_module": "@jupyter-widgets/controls",
            "_model_module_version": "1.5.0",
            "_model_name": "DescriptionStyleModel",
            "_view_count": null,
            "_view_module": "@jupyter-widgets/base",
            "_view_module_version": "1.2.0",
            "_view_name": "StyleView",
            "description_width": ""
          }
        }
      }
    }
  },
  "cells": [
    {
      "cell_type": "markdown",
      "metadata": {
        "id": "view-in-github",
        "colab_type": "text"
      },
      "source": [
        "<a href=\"https://colab.research.google.com/github/h0806449f/PyTorch/blob/main/DB_05_going_modular.ipynb\" target=\"_parent\"><img src=\"https://colab.research.google.com/assets/colab-badge.svg\" alt=\"Open In Colab\"/></a>"
      ]
    },
    {
      "cell_type": "markdown",
      "source": [
        "# **=== 0. 簡介 ===**\n",
        "1. Run from command line\n",
        "2. Final target structure\n",
        "3. Will create multiple python file for different functions and purpose and achieve target structure\n"
      ],
      "metadata": {
        "id": "LmeMFXFXvFCB"
      }
    },
    {
      "cell_type": "markdown",
      "source": [
        "## 0.1 Example for run python from command line\n",
        "\n",
        "\n"
      ],
      "metadata": {
        "id": "n5I6TOc8yRMP"
      }
    },
    {
      "cell_type": "code",
      "source": [
        "# python train.py --model MODEL_NAME --batch_size BATCH_SIZE --lr LEARNING_RATE --num_epochs NUM_EPOCHS"
      ],
      "metadata": {
        "id": "O-jo3Vnk01Xe"
      },
      "execution_count": 1,
      "outputs": []
    },
    {
      "cell_type": "code",
      "source": [
        "# python train.py --model model_1 --batch_size 100 --lr 0.001 --num_epochs 50"
      ],
      "metadata": {
        "id": "wE0sYgZJ06Lz"
      },
      "execution_count": 2,
      "outputs": []
    },
    {
      "cell_type": "markdown",
      "source": [
        "## 0.2 Final target structure"
      ],
      "metadata": {
        "id": "O_H3OJOE0AxB"
      }
    },
    {
      "cell_type": "code",
      "source": [
        "# going_modular/\n",
        "# ├── going_modular/\n",
        "# │   ├── data_setup.py\n",
        "# │   ├── engine.py\n",
        "# │   ├── model_builder.py\n",
        "# │   ├── train.py\n",
        "# │   └── utils.py\n",
        "# ├── models/\n",
        "# │   ├── 05_going_modular_cell_mode_tinyvgg_model.pth\n",
        "# │   └── 05_going_modular_script_mode_tinyvgg_model.pth\n",
        "# └── data/\n",
        "#     └── pizza_steak_sushi/\n",
        "#         ├── train/\n",
        "#         │   ├── pizza/\n",
        "#         │   │   ├── image01.jpeg\n",
        "#         │   │   └── ...\n",
        "#         │   ├── steak/\n",
        "#         │   └── sushi/\n",
        "#         └── test/\n",
        "#             ├── pizza/\n",
        "#             ├── steak/\n",
        "#             └── sushi/"
      ],
      "metadata": {
        "id": "rr4evJWTz-Gw"
      },
      "execution_count": 3,
      "outputs": []
    },
    {
      "cell_type": "markdown",
      "source": [
        "# **=== 1. Get data (download data) ===**\n",
        "Download the data and set into specific data dtructure"
      ],
      "metadata": {
        "id": "e5UeslIJ1-Cg"
      }
    },
    {
      "cell_type": "code",
      "source": [
        "# Import\n",
        "import requests             # HTTP request\n",
        "import zipfile              # zip & unzip\n",
        "import os                   #\n",
        "from pathlib import Path    #\n",
        "\n",
        "# 設置 data path 變數\n",
        "data_folder = Path(\"Data/\")\n",
        "image_folder = data_folder / \"Pizze_Steak_Sushi\"\n",
        "\n",
        "# 判斷是否已有資料夾 -> 無: 創造 / 有: 可重複接受\n",
        "if image_folder.is_dir():\n",
        "    print(f\"{image_folder} 資料夾已存在\")\n",
        "else:\n",
        "    print(f\"{image_folder} 未發現資料夾, 創造 ...\")\n",
        "    image_folder.mkdir(parents = True, exist_ok = True) # 無上層資料夾, 也會創造 image_folder 資料夾 / 已有資料夾, 不返回error\n",
        "\n",
        "# 下載\n",
        "with open(image_folder / \"pizza_steak_sushi.zip\", \"wb\") as f: # 名稱需一致 (pizza_steak_sushi.zip)\n",
        "    request = requests.get(\"https://github.com/mrdbourke/pytorch-deep-learning/raw/main/data/pizza_steak_sushi.zip\")\n",
        "    print(\"downloading ...\")\n",
        "    f.write(request.content)\n",
        "\n",
        "# 解壓縮\n",
        "with zipfile.ZipFile (image_folder / \"pizza_steak_sushi.zip\", \"r\") as zip_f:\n",
        "    print(\"unziping ...\")\n",
        "    zip_f.extractall(image_folder)\n",
        "\n",
        "# 移除 壓縮檔\n",
        "os.remove(image_folder / \"pizza_steak_sushi.zip\")"
      ],
      "metadata": {
        "colab": {
          "base_uri": "https://localhost:8080/"
        },
        "id": "PCFXGWiR0Ixg",
        "outputId": "17b6e9c5-8982-40b1-e450-03192e2fb0cf"
      },
      "execution_count": 1,
      "outputs": [
        {
          "output_type": "stream",
          "name": "stdout",
          "text": [
            "Data/Pizze_Steak_Sushi 未發現資料夾, 創造 ...\n",
            "downloading ...\n",
            "unziping ...\n"
          ]
        }
      ]
    },
    {
      "cell_type": "markdown",
      "source": [
        "# **=== 2. Data_setup.py ===**\n",
        "1. Wrtie -> functions in Data_setup.py\n",
        "2. Test\n",
        "2. Import"
      ],
      "metadata": {
        "id": "B8SDlCXAC_tl"
      }
    },
    {
      "cell_type": "markdown",
      "source": [
        "## 2.1 Func: create_dataloader() in **Data_setup.py**"
      ],
      "metadata": {
        "id": "miiWraMQVgAf"
      }
    },
    {
      "cell_type": "code",
      "source": [
        "# writefile 將以下內容, 寫入指定檔案中 (須去除前置# writefile 才會正常運作)\n",
        "# %%writefile going_modular/Data_setup.py\n",
        "\"\"\"將創造 Pytorch DataLoader 用於影像分類\"\"\"\n",
        "\n",
        "# Import\n",
        "import os\n",
        "from torchvision import datasets, transforms\n",
        "from torch.utils.data import DataLoader\n",
        "\n",
        "# Create function - create_dataloader()\n",
        "# 預先設置參數的資料型態: 日後易維護, IDE可能偵錯\n",
        "\n",
        "NUM_WORKERS = os.cpu_count()\n",
        "\n",
        "def create_dataloader(\n",
        "    train_dir: str,\n",
        "    test_dir: str,\n",
        "    transform: transforms.Compose,\n",
        "    batch_size: int,\n",
        "    num_workers: int=None):\n",
        "    # 解說\n",
        "    \"\"\"\n",
        "    創造:\n",
        "        train_dataloader, test_dataloader\n",
        "\n",
        "    變數:\n",
        "        train_dir: 訓練資料路徑\n",
        "        test_dir: 測試資料路徑\n",
        "        transform: Pytorch torchvision transforms\n",
        "        batch_size: 每批次資料數量\n",
        "        num_workers: workers per DataLoader\n",
        "\n",
        "    返還:\n",
        "        tuple(train_dataloader, test_dataloader, class_names)\n",
        "        class_names 為list 包含訓練資料的 classes\n",
        "\n",
        "    範例:\n",
        "        train_dataloader, test_dataloader, class_names = create_dataloaders(train_dir=path/to/train_dir,\n",
        "                                                                            test_dir=path/to/test_dir,\n",
        "                                                                            transform=some_transform,\n",
        "                                                                            batch_size=32,\n",
        "                                                                            num_workers=4)\n",
        "    \"\"\"\n",
        "\n",
        "    # NUM_WORKERS\n",
        "    if num_workers is None:\n",
        "        num_workers = NUM_WORKERS\n",
        "\n",
        "    # ImageFolder -> datasset\n",
        "    train_dataset = datasets.ImageFolder(train_dir, transform=transform)\n",
        "    test_dataset = datasets.ImageFolder(test_dir, transform=transform)\n",
        "\n",
        "    # Get train_dataset class\n",
        "    class_name = train_dataset.classes\n",
        "\n",
        "    # Dataset -> dataloader\n",
        "    train_dataloader = DataLoader(train_dataset,\n",
        "                                  batch_size=batch_size,\n",
        "                                  shuffle=True,\n",
        "                                  num_workers=num_workers,\n",
        "                                  pin_memory=True) # pin_memory 使用GPU時 可加快處理速度\n",
        "\n",
        "    test_dataloader = DataLoader(test_dataset,\n",
        "                                 batch_size=batch_size,\n",
        "                                 shuffle=False,\n",
        "                                 num_workers=num_workers,\n",
        "                                 pin_memory=True)\n",
        "\n",
        "    return train_dataloader, test_dataloader, class_name"
      ],
      "metadata": {
        "colab": {
          "base_uri": "https://localhost:8080/"
        },
        "id": "mNYg_o-LDHK7",
        "outputId": "5700c371-4df3-4225-fb5f-0f73dbddb212"
      },
      "execution_count": 2,
      "outputs": [
        {
          "output_type": "stream",
          "name": "stdout",
          "text": [
            "Writing going_modular/Data_setup.py\n"
          ]
        }
      ]
    },
    {
      "cell_type": "markdown",
      "source": [
        "## 2.2 Test"
      ],
      "metadata": {
        "id": "Drf4_OXRTsUU"
      }
    },
    {
      "cell_type": "code",
      "source": [
        "import torch\n",
        "from torchvision import transforms\n",
        "from torchvision.transforms import ToTensor\n",
        "\n",
        "train_path = \"/content/Data/Pizze_Steak_Sushi/train\"\n",
        "test_path = \"/content/Data/Pizze_Steak_Sushi/test\"\n",
        "\n",
        "transform = transforms.Compose([\n",
        "    ToTensor()\n",
        "])\n",
        "\n",
        "create_dataloader(train_dir=train_path,\n",
        "                  test_dir=test_path,\n",
        "                  transform=transform,\n",
        "                  batch_size=100)"
      ],
      "metadata": {
        "colab": {
          "base_uri": "https://localhost:8080/"
        },
        "id": "2qSZz1VXP28s",
        "outputId": "7cee3fbf-50ff-48cf-9f41-430ba24b4f1a"
      },
      "execution_count": 34,
      "outputs": [
        {
          "output_type": "execute_result",
          "data": {
            "text/plain": [
              "(<torch.utils.data.dataloader.DataLoader at 0x7f1708dc70d0>,\n",
              " <torch.utils.data.dataloader.DataLoader at 0x7f1641f752d0>,\n",
              " ['pizza', 'steak', 'sushi'])"
            ]
          },
          "metadata": {},
          "execution_count": 34
        }
      ]
    },
    {
      "cell_type": "markdown",
      "source": [
        "## 2.3 Import"
      ],
      "metadata": {
        "id": "WB7PvOlnUt4s"
      }
    },
    {
      "cell_type": "code",
      "source": [
        "from going_modular import Data_setup\n",
        "\n",
        "train_dataloader, test_dataloader, class_names = create_dataloader(train_dir=train_path,\n",
        "                                                                   test_dir=test_path,\n",
        "                                                                   transform=transform,\n",
        "                                                                   batch_size=100)"
      ],
      "metadata": {
        "id": "O4pqu8yzUx3Z"
      },
      "execution_count": 41,
      "outputs": []
    },
    {
      "cell_type": "markdown",
      "source": [
        "# **=== 3. Models.py ===**\n",
        "1. Write -> functions in Model.py\n",
        "2. Test\n",
        "3. Import"
      ],
      "metadata": {
        "id": "jiktJGZTVN_X"
      }
    },
    {
      "cell_type": "markdown",
      "source": [
        "## 3.1 Multiple models in **Models.py**"
      ],
      "metadata": {
        "id": "OVtGBAqpVr-H"
      }
    },
    {
      "cell_type": "code",
      "source": [
        "# writefile 將以下內容, 寫入指定檔案中 (須去除前置# writefile 才會正常運作)\n",
        "# %%writefile going_modular/Models.py\n",
        "\"\"\"將創造 tinyVGG 模型\"\"\"\n",
        "\n",
        "# Import\n",
        "import torch\n",
        "from torch import nn\n",
        "\n",
        "# Class\n",
        "class TinyVGG(nn.Module):\n",
        "    \"\"\"\n",
        "    原網址: https://poloclub.github.io/cnn-explainer/\n",
        "    原網址輸入圖片皆為 64*64*3\n",
        "\n",
        "    Args:\n",
        "        input_shape: number of input channels\n",
        "        hidden_units: number of hidden units\n",
        "        output_shape: number of output channels\n",
        "    \"\"\"\n",
        "\n",
        "    def __init__(self, input_shape: int, hidden_units: int, output_shape: int)->None:\n",
        "        super().__init__()\n",
        "\n",
        "        self.block1 = nn.Sequential(\n",
        "            nn.Conv2d(in_channels=input_shape,\n",
        "                      out_channels=hidden_units,\n",
        "                      kernel_size=3,\n",
        "                      stride=1,\n",
        "                      padding=1),\n",
        "            nn.ReLU(),\n",
        "            nn.Conv2d(in_channels=hidden_units,\n",
        "                      out_channels=hidden_units,\n",
        "                      kernel_size=3,\n",
        "                      stride=1,\n",
        "                      padding=1),\n",
        "            nn.ReLU(),\n",
        "            nn.MaxPool2d(kernel_size=2,\n",
        "                         stride=1))\n",
        "\n",
        "        self.block2 = nn.Sequential(\n",
        "            nn.Conv2d(hidden_units, hidden_units, kernel_size=3, stride=1, padding=1),\n",
        "            nn.ReLU(),\n",
        "            nn.Conv2d(hidden_units, hidden_units, kernel_size=3, stride=1, padding=1),\n",
        "            nn.ReLU(),\n",
        "            nn.MaxPool2d(kernel_size=2, stride=1))\n",
        "\n",
        "        self.classifier = nn.Sequential(\n",
        "            nn.Flatten(),\n",
        "            nn.Linear(38440, 1024),\n",
        "            nn.ReLU(),\n",
        "            nn.Dropout(p=0.3),\n",
        "            nn.Linear(1024, 128),\n",
        "            nn.ReLU(),\n",
        "            nn.Dropout(p=0.3),\n",
        "            nn.Linear(128, output_shape))\n",
        "\n",
        "    def forward(self, x: torch.Tensor):\n",
        "        x = self.block1(x)\n",
        "        x = self.block2(x)\n",
        "        x = self.classifier(x)\n",
        "        return x"
      ],
      "metadata": {
        "colab": {
          "base_uri": "https://localhost:8080/"
        },
        "id": "QMn9RQohW1iu",
        "outputId": "50649717-c553-46cb-c632-a102c898f16a"
      },
      "execution_count": 3,
      "outputs": [
        {
          "output_type": "stream",
          "name": "stdout",
          "text": [
            "Writing going_modular/Models.py\n"
          ]
        }
      ]
    },
    {
      "cell_type": "markdown",
      "source": [
        "## 3.2 Test"
      ],
      "metadata": {
        "id": "KqZKDgBRWgl1"
      }
    },
    {
      "cell_type": "code",
      "source": [
        "device = \"cuda\" if torch.cuda.is_available() else \"cpu\"\n",
        "\n",
        "\n",
        "model_1 = TinyVGG(64,10,len(class_names)).to(device)\n",
        "print(model_1)"
      ],
      "metadata": {
        "colab": {
          "base_uri": "https://localhost:8080/"
        },
        "id": "wx_aUpkejvnZ",
        "outputId": "e77ba7c6-7e3d-4628-e166-06cf997d6136"
      },
      "execution_count": 80,
      "outputs": [
        {
          "output_type": "stream",
          "name": "stdout",
          "text": [
            "TinyVGG(\n",
            "  (block1): Sequential(\n",
            "    (0): Conv2d(64, 10, kernel_size=(3, 3), stride=(1, 1), padding=(1, 1))\n",
            "    (1): ReLU()\n",
            "    (2): Conv2d(10, 10, kernel_size=(3, 3), stride=(1, 1), padding=(1, 1))\n",
            "    (3): ReLU()\n",
            "    (4): MaxPool2d(kernel_size=2, stride=1, padding=0, dilation=1, ceil_mode=False)\n",
            "  )\n",
            "  (block2): Sequential(\n",
            "    (0): Conv2d(10, 10, kernel_size=(3, 3), stride=(1, 1), padding=(1, 1))\n",
            "    (1): ReLU()\n",
            "    (2): Conv2d(10, 10, kernel_size=(3, 3), stride=(1, 1), padding=(1, 1))\n",
            "    (3): ReLU()\n",
            "    (4): MaxPool2d(kernel_size=2, stride=1, padding=0, dilation=1, ceil_mode=False)\n",
            "  )\n",
            "  (classifier): Sequential(\n",
            "    (0): Flatten(start_dim=1, end_dim=-1)\n",
            "    (1): Linear(in_features=38440, out_features=1024, bias=True)\n",
            "    (2): ReLU()\n",
            "    (3): Dropout(p=0.3, inplace=False)\n",
            "    (4): Linear(in_features=1024, out_features=128, bias=True)\n",
            "    (5): ReLU()\n",
            "    (6): Dropout(p=0.3, inplace=False)\n",
            "    (7): Linear(in_features=128, out_features=3, bias=True)\n",
            "  )\n",
            ")\n"
          ]
        }
      ]
    },
    {
      "cell_type": "markdown",
      "source": [
        "## 3.3 Import"
      ],
      "metadata": {
        "id": "vlQbm-6mWh5Z"
      }
    },
    {
      "cell_type": "code",
      "source": [
        "# Import\n",
        "from going_modular import Models\n",
        "import torch\n",
        "\n",
        "# Device\n",
        "device = \"cuda\" if torch.cuda.is_available() else \"cpu\"\n",
        "\n",
        "# Manual_seed\n",
        "torch.manual_seed(42)\n",
        "\n",
        "# 指定\n",
        "model_1 = TinyVGG(input_shape=3,\n",
        "                  hidden_units=10,\n",
        "                  output_shape=3).to(device)\n",
        "print(model_1)"
      ],
      "metadata": {
        "colab": {
          "base_uri": "https://localhost:8080/"
        },
        "id": "_vuxMQ-pku6W",
        "outputId": "3df5d5aa-0b07-4ba7-d101-a545a9def43a"
      },
      "execution_count": 87,
      "outputs": [
        {
          "output_type": "stream",
          "name": "stdout",
          "text": [
            "TinyVGG(\n",
            "  (block1): Sequential(\n",
            "    (0): Conv2d(3, 10, kernel_size=(3, 3), stride=(1, 1), padding=(1, 1))\n",
            "    (1): ReLU()\n",
            "    (2): Conv2d(10, 10, kernel_size=(3, 3), stride=(1, 1), padding=(1, 1))\n",
            "    (3): ReLU()\n",
            "    (4): MaxPool2d(kernel_size=2, stride=1, padding=0, dilation=1, ceil_mode=False)\n",
            "  )\n",
            "  (block2): Sequential(\n",
            "    (0): Conv2d(10, 10, kernel_size=(3, 3), stride=(1, 1), padding=(1, 1))\n",
            "    (1): ReLU()\n",
            "    (2): Conv2d(10, 10, kernel_size=(3, 3), stride=(1, 1), padding=(1, 1))\n",
            "    (3): ReLU()\n",
            "    (4): MaxPool2d(kernel_size=2, stride=1, padding=0, dilation=1, ceil_mode=False)\n",
            "  )\n",
            "  (classifier): Sequential(\n",
            "    (0): Flatten(start_dim=1, end_dim=-1)\n",
            "    (1): Linear(in_features=38440, out_features=1024, bias=True)\n",
            "    (2): ReLU()\n",
            "    (3): Dropout(p=0.3, inplace=False)\n",
            "    (4): Linear(in_features=1024, out_features=128, bias=True)\n",
            "    (5): ReLU()\n",
            "    (6): Dropout(p=0.3, inplace=False)\n",
            "    (7): Linear(in_features=128, out_features=3, bias=True)\n",
            "  )\n",
            ")\n"
          ]
        }
      ]
    },
    {
      "cell_type": "markdown",
      "source": [
        "# **=== 4. Engine.py ===**\n",
        "1. Write -> 3 functions in Engine.py\n",
        "2. Functions: train, test, train_test_loop\n",
        "3. Test\n",
        "4. Import"
      ],
      "metadata": {
        "id": "0J8fk6PEnzLA"
      }
    },
    {
      "cell_type": "markdown",
      "source": [
        "## 4.1 Func: train, test, train_test_loop in **Engine.py**"
      ],
      "metadata": {
        "id": "MuOLDxzlojue"
      }
    },
    {
      "cell_type": "code",
      "source": [
        "# %%writefile going_modular/Engine.py\n",
        "\"\"\"將創造 train(), test(), training_loop()\"\"\"\n",
        "\n",
        "# Import\n",
        "import torch\n",
        "from tqdm.auto import tqdm\n",
        "from typing import Dict, List, Tuple\n",
        "\n",
        "# Train\n",
        "def train(model: torch.nn.Module,\n",
        "          dataloader: torch.utils.data.DataLoader,\n",
        "          loss_fn: torch.nn.Module,\n",
        "          optimizer: torch.optim.Optimizer,\n",
        "          device: torch.device) -> Tuple[float, float]:\n",
        "    \"\"\"\n",
        "    Train 1 epoch\n",
        "\n",
        "    Args:\n",
        "        model: 欲訓練模型\n",
        "        dataloader: 該模型的 dataloader\n",
        "        loss_fn: 計算損失函數\n",
        "        optimizer: 優化損失函數\n",
        "        device: 運作在何種裝置上\n",
        "\n",
        "    Returns:\n",
        "        Tuple (train_loss, train_accuracy)\n",
        "    \"\"\"\n",
        "    model.to(device)\n",
        "    model.train()\n",
        "\n",
        "    train_loss, train_acc = 0, 0\n",
        "\n",
        "    for batch, (X_train, y_train) in enumerate(dataloader):\n",
        "        # To device\n",
        "        X_train, y_train = X_train.to(device), y_train.to(device)\n",
        "\n",
        "        # Forward pass\n",
        "        train_preds = model(X_train)\n",
        "\n",
        "        # Calculate & Accumulate the loss\n",
        "        loss = loss_fn(train_preds, y_train)\n",
        "        train_loss = train_loss + loss.item()\n",
        "\n",
        "        # Optimizer zero grad\n",
        "        optimizer.zero_grad()\n",
        "\n",
        "        # Loss back ward\n",
        "        loss.backward()\n",
        "\n",
        "        # Optimizer step\n",
        "        optimizer.step()\n",
        "\n",
        "        # Calculate the accuracy (y_preds is logits -> probs that sum=1 -> argmax for label)\n",
        "        train_preds_class = torch.argmax(torch.softmax(train_preds, dim=1), dim=1)\n",
        "        train_acc = train_acc + (train_preds_class == y_train).sum().item() / len(train_preds)\n",
        "\n",
        "    # Calculate average loss and accuracy for each batch\n",
        "    train_loss = train_loss / len(dataloader)\n",
        "    train_acc = train_acc / len(dataloader)\n",
        "\n",
        "    return train_loss, train_acc\n",
        "\n",
        "\n",
        "# Test\n",
        "def test(model: torch.nn.Module,\n",
        "         dataloader: torch.utils.data.DataLoader,\n",
        "         loss_fn: torch.nn.Module,\n",
        "         device: torch.device) -> Tuple[float, float]:\n",
        "    \"\"\"\n",
        "    Test 1 epoch\n",
        "\n",
        "    Args:\n",
        "        model: 欲訓練模型\n",
        "        dataloader: 該模型的 dataloader\n",
        "        loss_fn: 計算損失函數\n",
        "        device: 運作在何種裝置上\n",
        "\n",
        "    Returns:\n",
        "        Tuple (tesr_loss, test_accuracy)\n",
        "    \"\"\"\n",
        "    model.to(device)\n",
        "    model.eval()\n",
        "\n",
        "    test_loss, test_acc = 0, 0\n",
        "\n",
        "    with torch.inference_mode():\n",
        "        for batch, (X_test, y_test) in enumerate(dataloader):\n",
        "            # To device\n",
        "            X_test, y_test = X_test.to(device), y_test.to(device)\n",
        "\n",
        "            # Forward pass\n",
        "            test_preds = model(X_test)\n",
        "\n",
        "            # Calculate & accumulate the loss\n",
        "            loss = loss_fn(test_preds, y_test)\n",
        "            test_loss = test_loss + loss\n",
        "\n",
        "            # Calculate & accumulate the accuracy\n",
        "            test_preds_labels = torch.argmax(torch.softmax(test_preds, dim=1), dim=1)\n",
        "            test_acc = test_acc + (test_preds_labels == y_test).sum().item() / len(test_preds)\n",
        "\n",
        "        test_loss = test_loss / len(dataloader)\n",
        "        test_acc = test_acc / len(dataloader)\n",
        "\n",
        "        return test_loss, test_acc\n",
        "\n",
        "\n",
        "# Train_test_loop\n",
        "def train_test_loop(model: torch.nn.Module,\n",
        "                    train_dataloader: torch.utils.data.DataLoader,\n",
        "                    test_dataloader: torch.utils.data.DataLoader,\n",
        "                    loss_fn: torch.nn.Module,\n",
        "                    optimizer: torch.optim.Optimizer,\n",
        "                    epochs: int,\n",
        "                    device: torch.device) -> Dict[str, List]:\n",
        "    \"\"\"\n",
        "    Train & test for specific epochs\n",
        "\n",
        "    Args:\n",
        "        model: 欲訓練模型\n",
        "        dataloader: 該模型的 dataloader\n",
        "        loss_fn: 計算損失函數\n",
        "        optimizer: 優化損失函數\n",
        "        device: 運作在何種裝置上\n",
        "        epochs: 欲訓練次數\n",
        "\n",
        "    Returns:\n",
        "        Dict{train_loss: [ ... ],\n",
        "             train_acc: [ ... ],\n",
        "             test_loss: [ ... ],\n",
        "             test_acc: [ ... ]}\n",
        "    \"\"\"\n",
        "    # 空字典, 儲存結果\n",
        "    results = {\"train_loss\": [], \"train_acc\": [], \"test_loss\": [], \"test_acc\": []}\n",
        "\n",
        "    for epoch in tqdm(range(epochs)):\n",
        "        # Train\n",
        "        train_loss, train_acc = train(model=model,\n",
        "                                      dataloader=train_dataloader,\n",
        "                                      loss_fn=loss_fn,\n",
        "                                      optimizer=optimizer,\n",
        "                                      device=device)\n",
        "\n",
        "        # Test\n",
        "        test_loss, test_acc = test(model=model,\n",
        "                                   dataloader=test_dataloader,\n",
        "                                   loss_fn=loss_fn,\n",
        "                                   device=device)\n",
        "\n",
        "        # Print process\n",
        "        print(f\"Epochs: {epoch}\\n\"\n",
        "              f\"Train loss: {train_loss} | Train acc: {train_acc}\\n\"\n",
        "              f\"Test loss: {test_loss} | Test acc: {test_acc}\")\n",
        "\n",
        "        # Update result Dict\n",
        "        results[\"train_loss\"].append(train_loss)\n",
        "        results[\"train_acc\"].append(train_acc)\n",
        "        results[\"test_loss\"].append(test_loss)\n",
        "        results[\"test_acc\"].append(test_acc)\n",
        "\n",
        "    return results"
      ],
      "metadata": {
        "colab": {
          "base_uri": "https://localhost:8080/"
        },
        "id": "ay84rTuyny_C",
        "outputId": "0abb4365-653b-444a-821f-de6927f1f6a7"
      },
      "execution_count": 4,
      "outputs": [
        {
          "output_type": "stream",
          "name": "stdout",
          "text": [
            "Writing going_modular/Engine.py\n"
          ]
        }
      ]
    },
    {
      "cell_type": "markdown",
      "source": [
        "## 4.2 Test"
      ],
      "metadata": {
        "id": "dEiGxlIWohNe"
      }
    },
    {
      "cell_type": "code",
      "source": [
        "# Data path\n",
        "train_path = \"/content/Data/Pizze_Steak_Sushi/train\"\n",
        "test_path = \"/content/Data/Pizze_Steak_Sushi/test\"\n",
        "\n",
        "# Transform\n",
        "transform = transforms.Compose([\n",
        "    transforms.Resize((64, 64)),\n",
        "    transforms.ToTensor()\n",
        "])\n",
        "\n",
        "# Dataloader\n",
        "BATCH_SIZE = 1\n",
        "train_dataloader, test_dataloader, class_names = create_dataloader(train_dir=train_path,\n",
        "                                                                   test_dir=test_path,\n",
        "                                                                   transform=transform,\n",
        "                                                                   batch_size=BATCH_SIZE)\n",
        "\n",
        "#\n",
        "device = \"cuda\" if torch.cuda.is_available() else \"cpu\"\n",
        "loss_fn = nn.CrossEntropyLoss()\n",
        "optimizer = torch.optim.Adam(model_1.parameters(),\n",
        "                             lr=0.001)\n",
        "\n",
        "results_1 = train_test_loop(model=model_1,\n",
        "                            train_dataloader = train_dataloader,\n",
        "                            test_dataloader = test_dataloader,\n",
        "                            loss_fn = loss_fn,\n",
        "                            optimizer = optimizer,\n",
        "                            epochs=5,\n",
        "                            device = device)"
      ],
      "metadata": {
        "colab": {
          "base_uri": "https://localhost:8080/",
          "height": 309,
          "referenced_widgets": [
            "4393ed00091f49b7b22fdf45810d1c1c",
            "82c063b20adb44ef9b06611ff0e6dfb9",
            "0ca0ab70204e427cb33abfe6e172902e",
            "65d624d2bba748e1b6a6d9e70de6814f",
            "ba37cdb09ac3426992d81b6f7b124dbe",
            "67823386bf574e3ab02e88131c06abab",
            "4883c7faaf644858be3cab8b382fdc0f",
            "6e00ba70cbb84c5cb457c6d9012de825",
            "34243e21a9914add948982058ef4f858",
            "0e04749af0074ad0b57acb061abd4ea7",
            "9cd84067ed54486b97aa05606c6917a2"
          ]
        },
        "id": "fyYluXEkCWie",
        "outputId": "3b626da5-9067-446b-9e8d-f2d41a431dc0"
      },
      "execution_count": 114,
      "outputs": [
        {
          "output_type": "display_data",
          "data": {
            "text/plain": [
              "  0%|          | 0/5 [00:00<?, ?it/s]"
            ],
            "application/vnd.jupyter.widget-view+json": {
              "version_major": 2,
              "version_minor": 0,
              "model_id": "4393ed00091f49b7b22fdf45810d1c1c"
            }
          },
          "metadata": {}
        },
        {
          "output_type": "stream",
          "name": "stdout",
          "text": [
            "Epochs: 0\n",
            "Train loss: 1.0614273049960805 | Train acc: 0.47555555555555556\n",
            "Test loss: 1.0874457359313965 | Test acc: 0.38666666666666666\n",
            "Epochs: 1\n",
            "Train loss: 0.9243123758469503 | Train acc: 0.5688888888888889\n",
            "Test loss: 1.0457584857940674 | Test acc: 0.4666666666666667\n",
            "Epochs: 2\n",
            "Train loss: 0.9977163959723798 | Train acc: 0.5555555555555556\n",
            "Test loss: 1.0302966833114624 | Test acc: 0.4\n",
            "Epochs: 3\n",
            "Train loss: 0.931575952624755 | Train acc: 0.6222222222222222\n",
            "Test loss: 1.0164368152618408 | Test acc: 0.48\n",
            "Epochs: 4\n",
            "Train loss: 0.7529415562789573 | Train acc: 0.6622222222222223\n",
            "Test loss: 1.197981595993042 | Test acc: 0.5066666666666667\n"
          ]
        }
      ]
    },
    {
      "cell_type": "markdown",
      "source": [
        "## 4.3 Import"
      ],
      "metadata": {
        "id": "KDscxtyZovu_"
      }
    },
    {
      "cell_type": "code",
      "source": [
        "from going_modular import Engine\n",
        "import inspect\n",
        "\n",
        "functions = inspect.getmembers(Engine, inspect.isfunction)\n",
        "for name, info in functions:\n",
        "    print(f\"Function name: {name} -> info: {info}\\n\")"
      ],
      "metadata": {
        "colab": {
          "base_uri": "https://localhost:8080/"
        },
        "id": "XHlffFqrN9Xd",
        "outputId": "ee91e2fa-8a5e-45b2-b620-e8ee33b6fb01"
      },
      "execution_count": 122,
      "outputs": [
        {
          "output_type": "stream",
          "name": "stdout",
          "text": [
            "Function name: test -> info: <function test at 0x7f16400ed510>\n",
            "\n",
            "Function name: train -> info: <function train at 0x7f16400ee7a0>\n",
            "\n",
            "Function name: train_test_loop -> info: <function train_test_loop at 0x7f1631f1e3b0>\n",
            "\n"
          ]
        }
      ]
    },
    {
      "cell_type": "markdown",
      "source": [
        "# **=== 5. Utils.py ===**\n",
        "1. Func: save_model() in **Utils.py**\n",
        "2. Test\n",
        "4. Import"
      ],
      "metadata": {
        "id": "B3ipEbd7oyJa"
      }
    },
    {
      "cell_type": "markdown",
      "source": [
        "## 5.1 Func: save_model() in **Utils.py**"
      ],
      "metadata": {
        "id": "Ex_00t_R2Dze"
      }
    },
    {
      "cell_type": "code",
      "source": [
        "# %%writefile going_modular/Utils.py\n",
        "\"\"\"目前有: 儲存功能\"\"\"\n",
        "import torch\n",
        "from pathlib import Path\n",
        "\n",
        "def save_model(model: torch.nn.Module,\n",
        "               target_dir: str,\n",
        "               model_name: str):\n",
        "    \"\"\"\n",
        "    儲存模型至指定路徑資料夾\n",
        "\n",
        "    Args:\n",
        "        model: 模型名稱,\n",
        "        target_dir: 模型儲存路徑,\n",
        "        model_name: 儲存後模型名稱, ex. model.pt / model.pth\n",
        "\n",
        "    Ex:\n",
        "        save_model(model = model_1,\n",
        "                   target_dir = Data/Models,\n",
        "                   model_name = \"Model_1_TinyVGG.pt\")\n",
        "    \"\"\"\n",
        "    # Create target dir\n",
        "    target_dir_path = Path(target_dir)\n",
        "    target_dir_path.mkdir(parents = True, exist_ok = True)\n",
        "\n",
        "    # 判斷模型是否以特定字串結尾, 否則返回指定訊息\n",
        "    # Create model saved path\n",
        "    assert model_name.endswith(\".pth\") or model_name.endswith(\".pt\"), \"model_name should ends with '.pt' or '.pth'.\"\n",
        "    model_saved_path = target_dir_path / model_name\n",
        "\n",
        "    # 儲存模型\n",
        "    print(f\"[INFO] Saving model to {model_saved_path}\")\n",
        "    torch.save(obj = model.state_dict(),\n",
        "               f = model_saved_path)"
      ],
      "metadata": {
        "colab": {
          "base_uri": "https://localhost:8080/"
        },
        "id": "i4wu5hWa2LWy",
        "outputId": "74f700eb-88d0-4861-f05f-01b5fcdee123"
      },
      "execution_count": 5,
      "outputs": [
        {
          "output_type": "stream",
          "name": "stdout",
          "text": [
            "Writing going_modular/Utils.py\n"
          ]
        }
      ]
    },
    {
      "cell_type": "markdown",
      "source": [
        "## 5.2 Test"
      ],
      "metadata": {
        "id": "gOjTCqhN2Lmq"
      }
    },
    {
      "cell_type": "code",
      "source": [],
      "metadata": {
        "id": "vSIppPfa2NNy"
      },
      "execution_count": null,
      "outputs": []
    },
    {
      "cell_type": "markdown",
      "source": [
        "## 5.3 import"
      ],
      "metadata": {
        "id": "v0Qdu65G2NgC"
      }
    },
    {
      "cell_type": "code",
      "source": [
        "from going_modular import Utils\n",
        "import inspect\n",
        "\n",
        "functions = inspect.getmembers(Utils, inspect.isfunction)\n",
        "\n",
        "for name, info in functions:\n",
        "    print(f\"Function name: {name}\")\n",
        "    print(f\"Function info: {info}\")"
      ],
      "metadata": {
        "colab": {
          "base_uri": "https://localhost:8080/"
        },
        "id": "Hlc_OcL72O7r",
        "outputId": "f67b5286-a62e-43ab-bfb0-2228b3da7f6b"
      },
      "execution_count": 8,
      "outputs": [
        {
          "output_type": "stream",
          "name": "stdout",
          "text": [
            "Function name: save_model\n",
            "Function info: <function save_model at 0x7fae271b5480>\n"
          ]
        }
      ]
    },
    {
      "cell_type": "markdown",
      "source": [
        "# **=== 6. Train.py ===**\n",
        "1. 執行檔, 整合以上所有 functions\n",
        "2. 執行檔名稱通常為 train.py"
      ],
      "metadata": {
        "id": "qAlRQVrT2PYW"
      }
    },
    {
      "cell_type": "code",
      "source": [
        "# %%writefile going_modular/Train.py\n",
        "\"\"\"Train a Pytorch image classification model\"\"\"\n",
        "# Import\n",
        "import os\n",
        "from going_modular import Data_setup, Engine, Models, Utils\n",
        "import torch\n",
        "import torchvision\n",
        "from torchvision import transforms\n",
        "\n",
        "# Hyperparameters\n",
        "NUM_EPOCHS = 5\n",
        "BATCH_SIZE = 32\n",
        "HIDDEN_UNITS = 10\n",
        "LEARNING_RATE = 0.001\n",
        "\n",
        "# Set train, test dir\n",
        "train_dir = \"/content/Data/Pizze_Steak_Sushi/train\"\n",
        "test_dir = \"/content/Data/Pizze_Steak_Sushi/test\"\n",
        "\n",
        "# Set transforms\n",
        "transform = transforms.Compose([\n",
        "    transforms.Resize((64, 64)),\n",
        "    transforms.ToTensor()\n",
        "])\n",
        "\n",
        "# Set dataloader\n",
        "# By calling func: create_dataloader() from Data_setup.py\n",
        "train_dataloader, test_dataloader, class_names = Data_setup.create_dataloader(train_dir = train_dir,\n",
        "                                                                              test_dir = test_dir,\n",
        "                                                                              transform = transform,\n",
        "                                                                              batch_size = BATCH_SIZE)\n",
        "\n",
        "# Set device\n",
        "device = \"cuda\" if torch.cuda.is_available() else \"cpu\"\n",
        "\n",
        "# Set model\n",
        "# By calling Models.py\n",
        "model_2 = Models.TinyVGG(input_shape = 3,\n",
        "                         hidden_units = HIDDEN_UNITS,\n",
        "                         output_shape = len(class_names))\n",
        "\n",
        "# Set loss_fn & optimizer\n",
        "loss_fn = torch.nn.CrossEntropyLoss()\n",
        "optimizer = torch.optim.Adam(model_2.parameters(),\n",
        "                             lr = LEARNING_RATE)\n",
        "\n",
        "# !!! Start train !!!\n",
        "result_2 = Engine.train_test_loop(model = model_2,\n",
        "                                  train_dataloader = train_dataloader,\n",
        "                                  test_dataloader = test_dataloader,\n",
        "                                  loss_fn = loss_fn,\n",
        "                                  optimizer = optimizer,\n",
        "                                  device = device,\n",
        "                                  epochs = NUM_EPOCHS)\n",
        "\n",
        "# Save model_2\n",
        "# By calling save_model() from Utils.py\n",
        "Utils.save_model(model = model_2,\n",
        "                 target_dir = \"/content/going_modular\",\n",
        "                 model_name = \"Model_2_for_temptest.pt\")"
      ],
      "metadata": {
        "colab": {
          "base_uri": "https://localhost:8080/",
          "height": 327,
          "referenced_widgets": [
            "bf2bd21e179e4b0d81e4f55f0e7e8008",
            "f5be26fc2c124c1993fea94bd80fade4",
            "c514326973974b8189f44dae73312c68",
            "987697c9888c4d80a21180ec85dedfee",
            "cddf712c80bf4d09a261f21bab1f99b9",
            "99b1ff0f549d4891ad67c631be4d47cb",
            "71457971f4ad472d8697ba2995186a24",
            "6fbcb64f9ead4005bb1f94a4b3975118",
            "f024d07b4f37479e86889b63dae0ddda",
            "7f1218849bca4075ab95e1b1f78b4ba1",
            "66fff017167546d9a5b08d7279f8b932"
          ]
        },
        "id": "TqR-Cu659Sxx",
        "outputId": "ef7b5f78-28c4-4dc4-be64-ee580092351d"
      },
      "execution_count": 16,
      "outputs": [
        {
          "output_type": "display_data",
          "data": {
            "text/plain": [
              "  0%|          | 0/5 [00:00<?, ?it/s]"
            ],
            "application/vnd.jupyter.widget-view+json": {
              "version_major": 2,
              "version_minor": 0,
              "model_id": "bf2bd21e179e4b0d81e4f55f0e7e8008"
            }
          },
          "metadata": {}
        },
        {
          "output_type": "stream",
          "name": "stdout",
          "text": [
            "Epochs: 0\n",
            "Train loss: 1.1855529323220253 | Train acc: 0.41015625\n",
            "Test loss: 1.2640395164489746 | Test acc: 0.2604166666666667\n",
            "Epochs: 1\n",
            "Train loss: 1.1523059904575348 | Train acc: 0.37890625\n",
            "Test loss: 1.0996471643447876 | Test acc: 0.3125\n",
            "Epochs: 2\n",
            "Train loss: 1.0861448645591736 | Train acc: 0.40234375\n",
            "Test loss: 1.1283758878707886 | Test acc: 0.2604166666666667\n",
            "Epochs: 3\n",
            "Train loss: 1.1130668818950653 | Train acc: 0.3125\n",
            "Test loss: 1.09740149974823 | Test acc: 0.2604166666666667\n",
            "Epochs: 4\n",
            "Train loss: 1.0923727750778198 | Train acc: 0.4609375\n",
            "Test loss: 1.073072910308838 | Test acc: 0.47253787878787873\n",
            "[INFO] Saving model to /content/going_modular/Model_2_for_temptest.pt\n"
          ]
        }
      ]
    },
    {
      "cell_type": "markdown",
      "source": [
        "# **=== Footnote ===**"
      ],
      "metadata": {
        "id": "kWqkYk3NF46P"
      }
    },
    {
      "cell_type": "code",
      "source": [
        "# python train.py\n",
        "# 可以於檔案內設定超參數後, 執行 py檔案"
      ],
      "metadata": {
        "id": "KHGpCaU2GE2R"
      },
      "execution_count": null,
      "outputs": []
    },
    {
      "cell_type": "code",
      "source": [
        "# python train.py --model MODEL_NAME --batch_size BATCH_SIZE --lr LEARNING_RATE --num_epochs NUM_EPOCHS\n",
        "# 也可以於 command line 直接設定超參數後, 執行 py檔案"
      ],
      "metadata": {
        "id": "tmXbARS7GH8e"
      },
      "execution_count": null,
      "outputs": []
    },
    {
      "cell_type": "code",
      "source": [
        "# 練習 Visualize\n",
        "import matplotlib.pyplot as plt\n",
        "\n",
        "plt.figure(figsize = (12, 4))\n",
        "\n",
        "plt.subplot(1, 2, 1)\n",
        "plt.plot(result_2[\"train_loss\"], label = \"Train Loss\")\n",
        "plt.plot(result_2[\"test_loss\"], label = \"Test Loss\")\n",
        "plt.title(\"Loss\")\n",
        "plt.legend()\n",
        "\n",
        "plt.subplot(1, 2, 2)\n",
        "plt.plot(result_2[\"train_acc\"], label = \"Train Accuracy\")\n",
        "plt.plot(result_2[\"test_acc\"], label = \"Test Accuracy\")\n",
        "plt.title(\"Accuracy\")\n",
        "plt.legend()"
      ],
      "metadata": {
        "colab": {
          "base_uri": "https://localhost:8080/",
          "height": 408
        },
        "id": "OeR9FlroGaVi",
        "outputId": "871634ec-b1d0-4dbd-c386-9e05750a5253"
      },
      "execution_count": 22,
      "outputs": [
        {
          "output_type": "execute_result",
          "data": {
            "text/plain": [
              "<matplotlib.legend.Legend at 0x7fad5df78490>"
            ]
          },
          "metadata": {},
          "execution_count": 22
        },
        {
          "output_type": "display_data",
          "data": {
            "text/plain": [
              "<Figure size 1200x400 with 2 Axes>"
            ],
            "image/png": "[encoded data removed]"
          },
          "metadata": {}
        }
      ]
    }
  ]
}